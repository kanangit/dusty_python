{
 "cells": [
  {
   "cell_type": "markdown",
   "metadata": {},
   "source": [
    "# Frequencies Spectra for Individual Particles"
   ]
  },
  {
   "cell_type": "code",
   "execution_count": 1,
   "metadata": {},
   "outputs": [],
   "source": [
    "import numpy as np\n",
    "import math\n",
    "import pandas as pd\n",
    "import trackpy as tp\n",
    "import matplotlib.pyplot as plt\n",
    "from scipy.signal import savgol_filter\n",
    "from scipy import signal"
   ]
  },
  {
   "cell_type": "code",
   "execution_count": 2,
   "metadata": {},
   "outputs": [],
   "source": [
    "roi_size = 20.0\n",
    "roi_center_x = 776.0\n",
    "roi_center_y = 597.0\n",
    "fps = 99.0\n",
    "infname = r'\\position_103V_20230822NoTiff'\n",
    "outfname = r'\\spe_V103_'"
   ]
  },
  {
   "cell_type": "code",
   "execution_count": 3,
   "metadata": {},
   "outputs": [],
   "source": [
    "#folderPath = r'G:\\My Drive\\workAppState\\prj_shocks\\expData\\data_phonon_spectrum\\data_set1\\analyzed\\103Vbias\\20230727spectra\\04_an_frequenciesSpectra'\n",
    "#folderPath = r'g:\\My Drive\\workAppState\\prj_shocks\\expData\\data_phonon_spectrum\\data_set1\\analyzed\\103Vbias\\20230822spectra\\04_an_frequenciesSpectra'\n",
    "folderPath = r'G:\\My Drive\\workAppState\\prj_shocks\\expData\\data_phonon_spectrum\\data_set1\\analyzed\\103Vbias\\20230903spectra\\04_an_frequenciesSpectra'\n",
    "#folderPath = r'G:\\My Drive\\workAppState\\prj_shocks\\expData\\data_phonon_spectrum\\data_set1\\analyzed\\110Vbias\\20230822spectra\\04_an_frequenciesSpectra'\n",
    "#folderPath = r'G:\\My Drive\\workAppState\\prj_shocks\\expData\\data_phonon_spectrum\\data_set1\\analyzed\\120Vbias\\20230824spectra\\04_an_frequenciesSpectra'\n",
    "#folderPath = r'G:\\My Drive\\workAppState\\prj_shocks\\expData\\data_phonon_spectrum\\data_set1\\analyzed\\140Vbias\\20230827spectra\\04_an_frequenciesSpectra'"
   ]
  },
  {
   "cell_type": "code",
   "execution_count": 4,
   "metadata": {},
   "outputs": [],
   "source": [
    "#pos_filepath = folderPath + r'\\inputs' + r'\\position_noTiff.txt'\n",
    "#pos_filepath = folderPath + r'\\inputs' + r'\\position_103V_20230822NoTiff.txt'\n",
    "pos_filepath = folderPath + r'\\inputs' +  infname + r'.txt'\n",
    "#pos_filepath = folderPath + r'\\inputs' + r'\\position_110V_20230823NoTiff.txt'\n",
    "#pos_filepath = folderPath + r'\\inputs' + r'\\position_V120_20230824NoTiff.txt'\n",
    "#pos_filepath = folderPath + r'\\inputs' + r'\\position_V140_20230827noTiff.txt'\n"
   ]
  },
  {
   "cell_type": "code",
   "execution_count": 5,
   "metadata": {},
   "outputs": [],
   "source": [
    "col_names = [r'particle_notrack',r'frame',r'x',r'y']"
   ]
  },
  {
   "cell_type": "code",
   "execution_count": 6,
   "metadata": {},
   "outputs": [],
   "source": [
    "df_pos = pd.read_csv(pos_filepath, header = None, names = col_names)"
   ]
  },
  {
   "cell_type": "code",
   "execution_count": 7,
   "metadata": {},
   "outputs": [
    {
     "data": {
      "text/html": [
       "<div>\n",
       "<style scoped>\n",
       "    .dataframe tbody tr th:only-of-type {\n",
       "        vertical-align: middle;\n",
       "    }\n",
       "\n",
       "    .dataframe tbody tr th {\n",
       "        vertical-align: top;\n",
       "    }\n",
       "\n",
       "    .dataframe thead th {\n",
       "        text-align: right;\n",
       "    }\n",
       "</style>\n",
       "<table border=\"1\" class=\"dataframe\">\n",
       "  <thead>\n",
       "    <tr style=\"text-align: right;\">\n",
       "      <th></th>\n",
       "      <th>particle_notrack</th>\n",
       "      <th>frame</th>\n",
       "      <th>x</th>\n",
       "      <th>y</th>\n",
       "    </tr>\n",
       "  </thead>\n",
       "  <tbody>\n",
       "    <tr>\n",
       "      <th>0</th>\n",
       "      <td>1</td>\n",
       "      <td>0</td>\n",
       "      <td>780.188</td>\n",
       "      <td>379.837</td>\n",
       "    </tr>\n",
       "    <tr>\n",
       "      <th>1</th>\n",
       "      <td>2</td>\n",
       "      <td>0</td>\n",
       "      <td>896.715</td>\n",
       "      <td>381.002</td>\n",
       "    </tr>\n",
       "    <tr>\n",
       "      <th>2</th>\n",
       "      <td>3</td>\n",
       "      <td>0</td>\n",
       "      <td>872.771</td>\n",
       "      <td>382.088</td>\n",
       "    </tr>\n",
       "    <tr>\n",
       "      <th>3</th>\n",
       "      <td>4</td>\n",
       "      <td>0</td>\n",
       "      <td>848.078</td>\n",
       "      <td>387.114</td>\n",
       "    </tr>\n",
       "    <tr>\n",
       "      <th>4</th>\n",
       "      <td>5</td>\n",
       "      <td>0</td>\n",
       "      <td>636.090</td>\n",
       "      <td>393.319</td>\n",
       "    </tr>\n",
       "  </tbody>\n",
       "</table>\n",
       "</div>"
      ],
      "text/plain": [
       "   particle_notrack  frame        x        y\n",
       "0                 1      0  780.188  379.837\n",
       "1                 2      0  896.715  381.002\n",
       "2                 3      0  872.771  382.088\n",
       "3                 4      0  848.078  387.114\n",
       "4                 5      0  636.090  393.319"
      ]
     },
     "execution_count": 7,
     "metadata": {},
     "output_type": "execute_result"
    }
   ],
   "source": [
    "df_pos.head()"
   ]
  },
  {
   "cell_type": "code",
   "execution_count": 8,
   "metadata": {},
   "outputs": [],
   "source": [
    "#cacluate CM of particle cloud for each frame:"
   ]
  },
  {
   "cell_type": "code",
   "execution_count": 9,
   "metadata": {},
   "outputs": [],
   "source": [
    "df_cm = df_pos.groupby('frame')[['x','y']].mean().reset_index()\n",
    "df_cm.columns = ['frame', 'x_CM', 'y_CM']"
   ]
  },
  {
   "cell_type": "code",
   "execution_count": 10,
   "metadata": {},
   "outputs": [
    {
     "data": {
      "text/html": [
       "<div>\n",
       "<style scoped>\n",
       "    .dataframe tbody tr th:only-of-type {\n",
       "        vertical-align: middle;\n",
       "    }\n",
       "\n",
       "    .dataframe tbody tr th {\n",
       "        vertical-align: top;\n",
       "    }\n",
       "\n",
       "    .dataframe thead th {\n",
       "        text-align: right;\n",
       "    }\n",
       "</style>\n",
       "<table border=\"1\" class=\"dataframe\">\n",
       "  <thead>\n",
       "    <tr style=\"text-align: right;\">\n",
       "      <th></th>\n",
       "      <th>particle_notrack</th>\n",
       "      <th>frame</th>\n",
       "      <th>x</th>\n",
       "      <th>y</th>\n",
       "      <th>x_CM</th>\n",
       "      <th>y_CM</th>\n",
       "    </tr>\n",
       "  </thead>\n",
       "  <tbody>\n",
       "    <tr>\n",
       "      <th>0</th>\n",
       "      <td>1</td>\n",
       "      <td>0</td>\n",
       "      <td>780.188</td>\n",
       "      <td>379.837</td>\n",
       "      <td>811.211406</td>\n",
       "      <td>609.49428</td>\n",
       "    </tr>\n",
       "    <tr>\n",
       "      <th>1</th>\n",
       "      <td>2</td>\n",
       "      <td>0</td>\n",
       "      <td>896.715</td>\n",
       "      <td>381.002</td>\n",
       "      <td>811.211406</td>\n",
       "      <td>609.49428</td>\n",
       "    </tr>\n",
       "    <tr>\n",
       "      <th>2</th>\n",
       "      <td>3</td>\n",
       "      <td>0</td>\n",
       "      <td>872.771</td>\n",
       "      <td>382.088</td>\n",
       "      <td>811.211406</td>\n",
       "      <td>609.49428</td>\n",
       "    </tr>\n",
       "    <tr>\n",
       "      <th>3</th>\n",
       "      <td>4</td>\n",
       "      <td>0</td>\n",
       "      <td>848.078</td>\n",
       "      <td>387.114</td>\n",
       "      <td>811.211406</td>\n",
       "      <td>609.49428</td>\n",
       "    </tr>\n",
       "    <tr>\n",
       "      <th>4</th>\n",
       "      <td>5</td>\n",
       "      <td>0</td>\n",
       "      <td>636.090</td>\n",
       "      <td>393.319</td>\n",
       "      <td>811.211406</td>\n",
       "      <td>609.49428</td>\n",
       "    </tr>\n",
       "  </tbody>\n",
       "</table>\n",
       "</div>"
      ],
      "text/plain": [
       "   particle_notrack  frame        x        y        x_CM       y_CM\n",
       "0                 1      0  780.188  379.837  811.211406  609.49428\n",
       "1                 2      0  896.715  381.002  811.211406  609.49428\n",
       "2                 3      0  872.771  382.088  811.211406  609.49428\n",
       "3                 4      0  848.078  387.114  811.211406  609.49428\n",
       "4                 5      0  636.090  393.319  811.211406  609.49428"
      ]
     },
     "execution_count": 10,
     "metadata": {},
     "output_type": "execute_result"
    }
   ],
   "source": [
    "df_pos = df_pos.merge(df_cm, on = 'frame', how = 'left')\n",
    "df_pos.head()"
   ]
  },
  {
   "cell_type": "code",
   "execution_count": 11,
   "metadata": {},
   "outputs": [
    {
     "name": "stdout",
     "output_type": "stream",
     "text": [
      "Frame 971: 2285 trajectories present.\n"
     ]
    }
   ],
   "source": [
    "df_linked = tp.link(df_pos, 5.0, memory = 0)"
   ]
  },
  {
   "cell_type": "code",
   "execution_count": 12,
   "metadata": {},
   "outputs": [
    {
     "data": {
      "text/html": [
       "<div>\n",
       "<style scoped>\n",
       "    .dataframe tbody tr th:only-of-type {\n",
       "        vertical-align: middle;\n",
       "    }\n",
       "\n",
       "    .dataframe tbody tr th {\n",
       "        vertical-align: top;\n",
       "    }\n",
       "\n",
       "    .dataframe thead th {\n",
       "        text-align: right;\n",
       "    }\n",
       "</style>\n",
       "<table border=\"1\" class=\"dataframe\">\n",
       "  <thead>\n",
       "    <tr style=\"text-align: right;\">\n",
       "      <th></th>\n",
       "      <th>particle_notrack</th>\n",
       "      <th>frame</th>\n",
       "      <th>x</th>\n",
       "      <th>y</th>\n",
       "      <th>x_CM</th>\n",
       "      <th>y_CM</th>\n",
       "      <th>particle</th>\n",
       "    </tr>\n",
       "  </thead>\n",
       "  <tbody>\n",
       "    <tr>\n",
       "      <th>0</th>\n",
       "      <td>1</td>\n",
       "      <td>0</td>\n",
       "      <td>780.188</td>\n",
       "      <td>379.837</td>\n",
       "      <td>811.211406</td>\n",
       "      <td>609.49428</td>\n",
       "      <td>0</td>\n",
       "    </tr>\n",
       "    <tr>\n",
       "      <th>1532</th>\n",
       "      <td>1533</td>\n",
       "      <td>0</td>\n",
       "      <td>716.027</td>\n",
       "      <td>653.842</td>\n",
       "      <td>811.211406</td>\n",
       "      <td>609.49428</td>\n",
       "      <td>1</td>\n",
       "    </tr>\n",
       "    <tr>\n",
       "      <th>1533</th>\n",
       "      <td>1534</td>\n",
       "      <td>0</td>\n",
       "      <td>736.667</td>\n",
       "      <td>654.525</td>\n",
       "      <td>811.211406</td>\n",
       "      <td>609.49428</td>\n",
       "      <td>2</td>\n",
       "    </tr>\n",
       "    <tr>\n",
       "      <th>1534</th>\n",
       "      <td>1535</td>\n",
       "      <td>0</td>\n",
       "      <td>842.259</td>\n",
       "      <td>654.173</td>\n",
       "      <td>811.211406</td>\n",
       "      <td>609.49428</td>\n",
       "      <td>3</td>\n",
       "    </tr>\n",
       "    <tr>\n",
       "      <th>1535</th>\n",
       "      <td>1536</td>\n",
       "      <td>0</td>\n",
       "      <td>926.459</td>\n",
       "      <td>653.215</td>\n",
       "      <td>811.211406</td>\n",
       "      <td>609.49428</td>\n",
       "      <td>4</td>\n",
       "    </tr>\n",
       "  </tbody>\n",
       "</table>\n",
       "</div>"
      ],
      "text/plain": [
       "      particle_notrack  frame        x        y        x_CM       y_CM  \\\n",
       "0                    1      0  780.188  379.837  811.211406  609.49428   \n",
       "1532              1533      0  716.027  653.842  811.211406  609.49428   \n",
       "1533              1534      0  736.667  654.525  811.211406  609.49428   \n",
       "1534              1535      0  842.259  654.173  811.211406  609.49428   \n",
       "1535              1536      0  926.459  653.215  811.211406  609.49428   \n",
       "\n",
       "      particle  \n",
       "0            0  \n",
       "1532         1  \n",
       "1533         2  \n",
       "1534         3  \n",
       "1535         4  "
      ]
     },
     "execution_count": 12,
     "metadata": {},
     "output_type": "execute_result"
    }
   ],
   "source": [
    "df_linked.head()"
   ]
  },
  {
   "cell_type": "code",
   "execution_count": 13,
   "metadata": {},
   "outputs": [],
   "source": [
    "df_oneframe_check = df_pos[df_pos['frame'] == 333]"
   ]
  },
  {
   "cell_type": "code",
   "execution_count": 14,
   "metadata": {},
   "outputs": [
    {
     "data": {
      "text/plain": [
       "<matplotlib.collections.PathCollection at 0x1c684bad710>"
      ]
     },
     "execution_count": 14,
     "metadata": {},
     "output_type": "execute_result"
    },
    {
     "data": {
      "image/png": "[encoded data removed]",
      "text/plain": [
       "<Figure size 432x288 with 1 Axes>"
      ]
     },
     "metadata": {
      "needs_background": "light"
     },
     "output_type": "display_data"
    }
   ],
   "source": [
    "fig, ax = plt.subplots()\n",
    "ax.scatter(df_oneframe_check['x'], df_oneframe_check['y'])"
   ]
  },
  {
   "cell_type": "code",
   "execution_count": 15,
   "metadata": {},
   "outputs": [],
   "source": [
    "roi_condition = ((df_linked['x'] < roi_center_x + roi_size) &\n",
    "                 (df_linked['y'] < roi_center_y + roi_size) & \n",
    "                 (df_linked['y'] > roi_center_y - roi_size) & \n",
    "                 (df_linked['y'] > roi_center_y - roi_size))"
   ]
  },
  {
   "cell_type": "code",
   "execution_count": 16,
   "metadata": {},
   "outputs": [],
   "source": [
    "df_roi = df_linked[roi_condition]"
   ]
  },
  {
   "cell_type": "code",
   "execution_count": 17,
   "metadata": {},
   "outputs": [
    {
     "data": {
      "text/plain": [
       "1102381"
      ]
     },
     "execution_count": 17,
     "metadata": {},
     "output_type": "execute_result"
    }
   ],
   "source": [
    "df_roi.size"
   ]
  },
  {
   "cell_type": "code",
   "execution_count": 18,
   "metadata": {},
   "outputs": [
    {
     "data": {
      "text/plain": [
       "15712830"
      ]
     },
     "execution_count": 18,
     "metadata": {},
     "output_type": "execute_result"
    }
   ],
   "source": [
    "df_linked.size"
   ]
  },
  {
   "cell_type": "code",
   "execution_count": 19,
   "metadata": {},
   "outputs": [],
   "source": [
    "particles_listing = np.unique(df_roi['particle'])"
   ]
  },
  {
   "cell_type": "code",
   "execution_count": 20,
   "metadata": {},
   "outputs": [
    {
     "data": {
      "text/plain": [
       "numpy.ndarray"
      ]
     },
     "execution_count": 20,
     "metadata": {},
     "output_type": "execute_result"
    }
   ],
   "source": [
    "type(particles_listing)"
   ]
  },
  {
   "cell_type": "code",
   "execution_count": 21,
   "metadata": {},
   "outputs": [
    {
     "data": {
      "text/plain": [
       "array([   296,    307,    309, ..., 158059, 158061, 158065], dtype=int64)"
      ]
     },
     "execution_count": 21,
     "metadata": {},
     "output_type": "execute_result"
    }
   ],
   "source": [
    "particles_listing"
   ]
  },
  {
   "cell_type": "code",
   "execution_count": 22,
   "metadata": {},
   "outputs": [
    {
     "data": {
      "text/plain": [
       "5650"
      ]
     },
     "execution_count": 22,
     "metadata": {},
     "output_type": "execute_result"
    }
   ],
   "source": [
    "len(particles_listing)"
   ]
  },
  {
   "cell_type": "code",
   "execution_count": 23,
   "metadata": {},
   "outputs": [],
   "source": [
    "traj_test = df_roi[df_roi['particle'] == 113]"
   ]
  },
  {
   "cell_type": "code",
   "execution_count": 24,
   "metadata": {},
   "outputs": [
    {
     "data": {
      "text/plain": [
       "[<matplotlib.lines.Line2D at 0x1c684cc09b0>]"
      ]
     },
     "execution_count": 24,
     "metadata": {},
     "output_type": "execute_result"
    },
    {
     "data": {
      "image/png": "[encoded data removed]",
      "text/plain": [
       "<Figure size 432x288 with 1 Axes>"
      ]
     },
     "metadata": {
      "needs_background": "light"
     },
     "output_type": "display_data"
    }
   ],
   "source": [
    "fig, ax = plt.subplots()\n",
    "ax.plot(traj_test['x'], traj_test['y'])\n"
   ]
  },
  {
   "cell_type": "code",
   "execution_count": 25,
   "metadata": {},
   "outputs": [],
   "source": [
    "arr_traj_lengths = np.empty(len(particles_listing))"
   ]
  },
  {
   "cell_type": "code",
   "execution_count": 26,
   "metadata": {},
   "outputs": [],
   "source": [
    "for i in range(0, len(particles_listing)):\n",
    "    cur_len = len(df_roi[df_roi['particle'] == particles_listing[i]])\n",
    "    arr_traj_lengths[i] = cur_len\n",
    "               "
   ]
  },
  {
   "cell_type": "code",
   "execution_count": 27,
   "metadata": {},
   "outputs": [
    {
     "data": {
      "text/plain": [
       "972.0"
      ]
     },
     "execution_count": 27,
     "metadata": {},
     "output_type": "execute_result"
    }
   ],
   "source": [
    "m_t_len = np.max(arr_traj_lengths)\n",
    "m_t_len"
   ]
  },
  {
   "cell_type": "code",
   "execution_count": 28,
   "metadata": {},
   "outputs": [],
   "source": [
    "pd_traj_len = pd.DataFrame({'particle':particles_listing, 'tr_len':arr_traj_lengths})"
   ]
  },
  {
   "cell_type": "code",
   "execution_count": 29,
   "metadata": {},
   "outputs": [
    {
     "data": {
      "text/html": [
       "<div>\n",
       "<style scoped>\n",
       "    .dataframe tbody tr th:only-of-type {\n",
       "        vertical-align: middle;\n",
       "    }\n",
       "\n",
       "    .dataframe tbody tr th {\n",
       "        vertical-align: top;\n",
       "    }\n",
       "\n",
       "    .dataframe thead th {\n",
       "        text-align: right;\n",
       "    }\n",
       "</style>\n",
       "<table border=\"1\" class=\"dataframe\">\n",
       "  <thead>\n",
       "    <tr style=\"text-align: right;\">\n",
       "      <th></th>\n",
       "      <th>particle</th>\n",
       "      <th>tr_len</th>\n",
       "    </tr>\n",
       "  </thead>\n",
       "  <tbody>\n",
       "    <tr>\n",
       "      <th>0</th>\n",
       "      <td>296</td>\n",
       "      <td>194.0</td>\n",
       "    </tr>\n",
       "    <tr>\n",
       "      <th>1</th>\n",
       "      <td>307</td>\n",
       "      <td>9.0</td>\n",
       "    </tr>\n",
       "    <tr>\n",
       "      <th>2</th>\n",
       "      <td>309</td>\n",
       "      <td>43.0</td>\n",
       "    </tr>\n",
       "    <tr>\n",
       "      <th>3</th>\n",
       "      <td>333</td>\n",
       "      <td>89.0</td>\n",
       "    </tr>\n",
       "    <tr>\n",
       "      <th>4</th>\n",
       "      <td>334</td>\n",
       "      <td>377.0</td>\n",
       "    </tr>\n",
       "  </tbody>\n",
       "</table>\n",
       "</div>"
      ],
      "text/plain": [
       "   particle  tr_len\n",
       "0       296   194.0\n",
       "1       307     9.0\n",
       "2       309    43.0\n",
       "3       333    89.0\n",
       "4       334   377.0"
      ]
     },
     "execution_count": 29,
     "metadata": {},
     "output_type": "execute_result"
    }
   ],
   "source": [
    "pd_traj_len.head()"
   ]
  },
  {
   "cell_type": "code",
   "execution_count": 30,
   "metadata": {},
   "outputs": [],
   "source": [
    "pd_traj_len.sort_values(by = 'tr_len', ascending = False, inplace = True)"
   ]
  },
  {
   "cell_type": "code",
   "execution_count": 31,
   "metadata": {},
   "outputs": [
    {
     "data": {
      "text/html": [
       "<div>\n",
       "<style scoped>\n",
       "    .dataframe tbody tr th:only-of-type {\n",
       "        vertical-align: middle;\n",
       "    }\n",
       "\n",
       "    .dataframe tbody tr th {\n",
       "        vertical-align: top;\n",
       "    }\n",
       "\n",
       "    .dataframe thead th {\n",
       "        text-align: right;\n",
       "    }\n",
       "</style>\n",
       "<table border=\"1\" class=\"dataframe\">\n",
       "  <thead>\n",
       "    <tr style=\"text-align: right;\">\n",
       "      <th></th>\n",
       "      <th>particle</th>\n",
       "      <th>tr_len</th>\n",
       "    </tr>\n",
       "  </thead>\n",
       "  <tbody>\n",
       "    <tr>\n",
       "      <th>69</th>\n",
       "      <td>1799</td>\n",
       "      <td>972.0</td>\n",
       "    </tr>\n",
       "    <tr>\n",
       "      <th>42</th>\n",
       "      <td>1739</td>\n",
       "      <td>972.0</td>\n",
       "    </tr>\n",
       "    <tr>\n",
       "      <th>109</th>\n",
       "      <td>1900</td>\n",
       "      <td>972.0</td>\n",
       "    </tr>\n",
       "    <tr>\n",
       "      <th>145</th>\n",
       "      <td>1980</td>\n",
       "      <td>972.0</td>\n",
       "    </tr>\n",
       "    <tr>\n",
       "      <th>146</th>\n",
       "      <td>1981</td>\n",
       "      <td>972.0</td>\n",
       "    </tr>\n",
       "    <tr>\n",
       "      <th>89</th>\n",
       "      <td>1853</td>\n",
       "      <td>972.0</td>\n",
       "    </tr>\n",
       "    <tr>\n",
       "      <th>37</th>\n",
       "      <td>1730</td>\n",
       "      <td>972.0</td>\n",
       "    </tr>\n",
       "    <tr>\n",
       "      <th>38</th>\n",
       "      <td>1735</td>\n",
       "      <td>972.0</td>\n",
       "    </tr>\n",
       "    <tr>\n",
       "      <th>39</th>\n",
       "      <td>1736</td>\n",
       "      <td>972.0</td>\n",
       "    </tr>\n",
       "    <tr>\n",
       "      <th>40</th>\n",
       "      <td>1737</td>\n",
       "      <td>972.0</td>\n",
       "    </tr>\n",
       "    <tr>\n",
       "      <th>150</th>\n",
       "      <td>1991</td>\n",
       "      <td>972.0</td>\n",
       "    </tr>\n",
       "    <tr>\n",
       "      <th>83</th>\n",
       "      <td>1836</td>\n",
       "      <td>972.0</td>\n",
       "    </tr>\n",
       "    <tr>\n",
       "      <th>114</th>\n",
       "      <td>1906</td>\n",
       "      <td>972.0</td>\n",
       "    </tr>\n",
       "    <tr>\n",
       "      <th>82</th>\n",
       "      <td>1835</td>\n",
       "      <td>972.0</td>\n",
       "    </tr>\n",
       "    <tr>\n",
       "      <th>47</th>\n",
       "      <td>1744</td>\n",
       "      <td>972.0</td>\n",
       "    </tr>\n",
       "    <tr>\n",
       "      <th>80</th>\n",
       "      <td>1829</td>\n",
       "      <td>972.0</td>\n",
       "    </tr>\n",
       "    <tr>\n",
       "      <th>141</th>\n",
       "      <td>1972</td>\n",
       "      <td>972.0</td>\n",
       "    </tr>\n",
       "    <tr>\n",
       "      <th>155</th>\n",
       "      <td>1996</td>\n",
       "      <td>972.0</td>\n",
       "    </tr>\n",
       "    <tr>\n",
       "      <th>66</th>\n",
       "      <td>1792</td>\n",
       "      <td>972.0</td>\n",
       "    </tr>\n",
       "    <tr>\n",
       "      <th>64</th>\n",
       "      <td>1785</td>\n",
       "      <td>972.0</td>\n",
       "    </tr>\n",
       "  </tbody>\n",
       "</table>\n",
       "</div>"
      ],
      "text/plain": [
       "     particle  tr_len\n",
       "69       1799   972.0\n",
       "42       1739   972.0\n",
       "109      1900   972.0\n",
       "145      1980   972.0\n",
       "146      1981   972.0\n",
       "89       1853   972.0\n",
       "37       1730   972.0\n",
       "38       1735   972.0\n",
       "39       1736   972.0\n",
       "40       1737   972.0\n",
       "150      1991   972.0\n",
       "83       1836   972.0\n",
       "114      1906   972.0\n",
       "82       1835   972.0\n",
       "47       1744   972.0\n",
       "80       1829   972.0\n",
       "141      1972   972.0\n",
       "155      1996   972.0\n",
       "66       1792   972.0\n",
       "64       1785   972.0"
      ]
     },
     "execution_count": 31,
     "metadata": {},
     "output_type": "execute_result"
    }
   ],
   "source": [
    "pd_traj_len.head(20)"
   ]
  },
  {
   "cell_type": "code",
   "execution_count": 32,
   "metadata": {},
   "outputs": [],
   "source": [
    "traj_test = df_roi[df_roi['particle'] == 1799].copy()\n",
    "N = len(traj_test['x'])"
   ]
  },
  {
   "cell_type": "code",
   "execution_count": 33,
   "metadata": {},
   "outputs": [
    {
     "data": {
      "text/html": [
       "<div>\n",
       "<style scoped>\n",
       "    .dataframe tbody tr th:only-of-type {\n",
       "        vertical-align: middle;\n",
       "    }\n",
       "\n",
       "    .dataframe tbody tr th {\n",
       "        vertical-align: top;\n",
       "    }\n",
       "\n",
       "    .dataframe thead th {\n",
       "        text-align: right;\n",
       "    }\n",
       "</style>\n",
       "<table border=\"1\" class=\"dataframe\">\n",
       "  <thead>\n",
       "    <tr style=\"text-align: right;\">\n",
       "      <th></th>\n",
       "      <th>particle_notrack</th>\n",
       "      <th>frame</th>\n",
       "      <th>x</th>\n",
       "      <th>y</th>\n",
       "      <th>x_CM</th>\n",
       "      <th>y_CM</th>\n",
       "      <th>particle</th>\n",
       "      <th>x_rfcm</th>\n",
       "      <th>y_rfcm</th>\n",
       "    </tr>\n",
       "  </thead>\n",
       "  <tbody>\n",
       "    <tr>\n",
       "      <th>1006</th>\n",
       "      <td>1007</td>\n",
       "      <td>0</td>\n",
       "      <td>705.061</td>\n",
       "      <td>594.407</td>\n",
       "      <td>811.211406</td>\n",
       "      <td>609.494280</td>\n",
       "      <td>1799</td>\n",
       "      <td>-106.150406</td>\n",
       "      <td>-15.087280</td>\n",
       "    </tr>\n",
       "    <tr>\n",
       "      <th>3307</th>\n",
       "      <td>3308</td>\n",
       "      <td>1</td>\n",
       "      <td>704.768</td>\n",
       "      <td>593.997</td>\n",
       "      <td>813.529491</td>\n",
       "      <td>609.338894</td>\n",
       "      <td>1799</td>\n",
       "      <td>-108.761491</td>\n",
       "      <td>-15.341894</td>\n",
       "    </tr>\n",
       "    <tr>\n",
       "      <th>5651</th>\n",
       "      <td>5652</td>\n",
       "      <td>2</td>\n",
       "      <td>705.131</td>\n",
       "      <td>593.965</td>\n",
       "      <td>814.613029</td>\n",
       "      <td>608.388342</td>\n",
       "      <td>1799</td>\n",
       "      <td>-109.482029</td>\n",
       "      <td>-14.423342</td>\n",
       "    </tr>\n",
       "    <tr>\n",
       "      <th>7971</th>\n",
       "      <td>7972</td>\n",
       "      <td>3</td>\n",
       "      <td>705.153</td>\n",
       "      <td>594.001</td>\n",
       "      <td>812.149656</td>\n",
       "      <td>609.497798</td>\n",
       "      <td>1799</td>\n",
       "      <td>-106.996656</td>\n",
       "      <td>-15.496798</td>\n",
       "    </tr>\n",
       "    <tr>\n",
       "      <th>10257</th>\n",
       "      <td>10258</td>\n",
       "      <td>4</td>\n",
       "      <td>705.159</td>\n",
       "      <td>594.019</td>\n",
       "      <td>813.784709</td>\n",
       "      <td>610.149651</td>\n",
       "      <td>1799</td>\n",
       "      <td>-108.625709</td>\n",
       "      <td>-16.130651</td>\n",
       "    </tr>\n",
       "  </tbody>\n",
       "</table>\n",
       "</div>"
      ],
      "text/plain": [
       "       particle_notrack  frame        x        y        x_CM        y_CM  \\\n",
       "1006               1007      0  705.061  594.407  811.211406  609.494280   \n",
       "3307               3308      1  704.768  593.997  813.529491  609.338894   \n",
       "5651               5652      2  705.131  593.965  814.613029  608.388342   \n",
       "7971               7972      3  705.153  594.001  812.149656  609.497798   \n",
       "10257             10258      4  705.159  594.019  813.784709  610.149651   \n",
       "\n",
       "       particle      x_rfcm     y_rfcm  \n",
       "1006       1799 -106.150406 -15.087280  \n",
       "3307       1799 -108.761491 -15.341894  \n",
       "5651       1799 -109.482029 -14.423342  \n",
       "7971       1799 -106.996656 -15.496798  \n",
       "10257      1799 -108.625709 -16.130651  "
      ]
     },
     "execution_count": 33,
     "metadata": {},
     "output_type": "execute_result"
    }
   ],
   "source": [
    "traj_test['x_rfcm'] = traj_test['x'] - traj_test['x_CM'] \n",
    "traj_test['y_rfcm'] = traj_test['y'] - traj_test['y_CM'] \n",
    "traj_test.head()"
   ]
  },
  {
   "cell_type": "code",
   "execution_count": 34,
   "metadata": {},
   "outputs": [
    {
     "data": {
      "text/plain": [
       "[<matplotlib.lines.Line2D at 0x1c684d69320>]"
      ]
     },
     "execution_count": 34,
     "metadata": {},
     "output_type": "execute_result"
    },
    {
     "data": {
      "image/png": "[encoded data removed]",
      "text/plain": [
       "<Figure size 432x288 with 1 Axes>"
      ]
     },
     "metadata": {
      "needs_background": "light"
     },
     "output_type": "display_data"
    }
   ],
   "source": [
    "\n",
    "fig, ax = plt.subplots()\n",
    "ax.plot(traj_test['x_rfcm'], traj_test['y_rfcm'])"
   ]
  },
  {
   "cell_type": "code",
   "execution_count": 35,
   "metadata": {},
   "outputs": [],
   "source": [
    "times_test = np.arange(0,N,1) / fps\n",
    "coord_test = np.array(traj_test['x_rfcm'])"
   ]
  },
  {
   "cell_type": "code",
   "execution_count": null,
   "metadata": {},
   "outputs": [],
   "source": [
    "fig, ax = plt.subplots()\n",
    "ax.plot(times_test, coord_test )"
   ]
  },
  {
   "cell_type": "code",
   "execution_count": null,
   "metadata": {},
   "outputs": [],
   "source": [
    "a, b, c = np.polyfit(times_test,np.array(traj_test['x_rfcm']), 2)\n",
    "coord_test_diff = coord_test - c - b * times_test - a * times_test * times_test\n",
    "fig, ax = plt.subplots()\n",
    "ax.plot(times_test, coord_test_diff)"
   ]
  },
  {
   "cell_type": "code",
   "execution_count": null,
   "metadata": {},
   "outputs": [],
   "source": [
    "#Defining butterworth highpass filter\n",
    "def butter_highpass(cutoff, fs, order=2):\n",
    "    nyq = 0.5 * fs\n",
    "    normal_cutoff = cutoff / nyq\n",
    "    b, a = signal.butter(order, normal_cutoff, btype='high', analog=False)\n",
    "    return b, a\n",
    "\n",
    "#Function to apply highpass filter\n",
    "def butter_highpass_filter(data, cutoff, fs, order=2):\n",
    "    b, a = butter_highpass(cutoff, fs, order=order)\n",
    "    y = signal.filtfilt(b, a, data)\n",
    "    return y"
   ]
  },
  {
   "cell_type": "code",
   "execution_count": null,
   "metadata": {},
   "outputs": [],
   "source": [
    "def get_spectrum_drift(arr_t, arr_sig):\n",
    "    #slope, intercept = np.polyfit(arr_t, arr_sig, 1)\n",
    "    a, b, c = np.polyfit(arr_t, arr_sig, 2)\n",
    "    #a, b, c, d = np.polyfit(arr_t, arr_sig, 3)\n",
    "    arr_sig_nodrift = arr_sig - (a * arr_t * arr_t + b * arr_t + c)\n",
    "    #arr_sig_nodrift = arr_sig - (a * arr_t * arr_t * arr_t + b * arr_t * arr_t + c * arr_t + d)\n",
    "    arr_intens = np.fft.fft(arr_sig_nodrift)\n",
    "    dt = arr_t[1] - arr_t[0]\n",
    "    N = len(arr_t)\n",
    "    #print(N)\n",
    "    arr_freqs = np.fft.fftfreq(N, dt)[:N//2]    \n",
    "    return arr_freqs, arr_intens"
   ]
  },
  {
   "cell_type": "code",
   "execution_count": null,
   "metadata": {},
   "outputs": [],
   "source": [
    "def get_spectrum_PSD(arr_t, arr_sig):\n",
    "    #slope, intercept = np.polyfit(arr_t, arr_sig, 1)\n",
    "    a, b, c = np.polyfit(arr_t, arr_sig, 2)\n",
    "    #a, b, c, d = np.polyfit(arr_t, arr_sig, 3)\n",
    "    arr_sig_nodrift = arr_sig - (a * arr_t * arr_t + b * arr_t + c)\n",
    "    #arr_sig_nodrift = arr_sig - (a * arr_t * arr_t * arr_t + b * arr_t * arr_t + c * arr_t + d)\n",
    "    dt = arr_t[1] - arr_t[0]\n",
    "    fs = 1.0 / dt\n",
    "    arr_freqs, arr_PSD = signal.welch(arr_sig, fs, nperseg = 500)\n",
    "    return arr_freqs, arr_PSD"
   ]
  },
  {
   "cell_type": "code",
   "execution_count": null,
   "metadata": {},
   "outputs": [],
   "source": [
    "def get_spectrum(arr_t, arr_sig):\n",
    "    arr_sig_nomean = arr_sig - np.mean(arr_sig)\n",
    "    arr_intens = np.fft.fft(arr_sig_nomean)\n",
    "    dt = arr_t[1] - arr_t[0]\n",
    "    N = len(arr_t)\n",
    "    arr_freqs = np.fft.fftfreq(N, dt)[:N//2]    \n",
    "    return arr_freqs, arr_intens"
   ]
  },
  {
   "cell_type": "code",
   "execution_count": null,
   "metadata": {},
   "outputs": [],
   "source": [
    "def get_spectrum_connor(arr_t, arr_sig):\n",
    "    arr_sig_nomean = arr_sig - np.mean(arr_sig)\n",
    "    dt = arr_t[1] - arr_t[0]\n",
    "    fps = 1.0 / dt\n",
    "    arr_filtered = butter_highpass_filter(arr_sig_nomean,5.0,fps)\n",
    "    arr_intens = np.fft.fft(arr_filtered)\n",
    "    arr_freqs = np.fft.fftfreq(N, dt)[:N//2]\n",
    "    return arr_freqs, arr_intens    "
   ]
  },
  {
   "cell_type": "code",
   "execution_count": null,
   "metadata": {},
   "outputs": [],
   "source": [
    "def get_spectrum_connor_exact(arr_t, arr_sig):\n",
    "    arr_sig_nomean = arr_sig - np.mean(arr_sig)\n",
    "    dt = arr_t[1] - arr_t[0]\n",
    "    fps = 1.0 / dt\n",
    "    arr_filtered = butter_highpass_filter(arr_sig_nomean,5.0,fps)\n",
    "    arr_intens = np.fft.fft(arr_filtered)\n",
    "    arr_intens = np.fft.fftshift(arr_intens)\n",
    "    #arr_freqs = np.fft.fftfreq(N, dt)[:N//2]\n",
    "    arr_freqs = np.arange(-fps/2,fps/2,1/(dt * len(arr_sig)))\n",
    "    return arr_freqs, arr_intens    "
   ]
  },
  {
   "cell_type": "code",
   "execution_count": null,
   "metadata": {},
   "outputs": [],
   "source": [
    "def get_spectrum_drift_connor(arr_t, arr_sig):\n",
    "    #slope, intercept = np.polyfit(arr_t, arr_sig, 1)\n",
    "    a, b, c = np.polyfit(arr_t, arr_sig, 2)\n",
    "    #a, b, c, d = np.polyfit(arr_t, arr_sig, 3)\n",
    "    arr_sig_nodrift = arr_sig - (a * arr_t * arr_t + b * arr_t + c)\n",
    "    dt = arr_t[1] - arr_t[0]\n",
    "    fps = 1.0 / dt\n",
    "    arr_filtered = butter_highpass_filter(arr_sig_nodrift,5.0,fps)\n",
    "    arr_intens = np.fft.fft(arr_filtered)\n",
    "    arr_freqs = np.fft.fftfreq(N, dt)[:N//2]\n",
    "    return arr_freqs, arr_intens    "
   ]
  },
  {
   "cell_type": "code",
   "execution_count": null,
   "metadata": {},
   "outputs": [],
   "source": [
    "df_long_traj = pd_traj_len[pd_traj_len['tr_len'] == m_t_len]\n",
    "arr_p = np.array(df_long_traj['particle'])\n",
    "med_spectrum = np.zeros(math.floor(m_t_len / 2))\n"
   ]
  },
  {
   "cell_type": "code",
   "execution_count": null,
   "metadata": {},
   "outputs": [],
   "source": [
    "len(arr_p)"
   ]
  },
  {
   "cell_type": "code",
   "execution_count": null,
   "metadata": {},
   "outputs": [],
   "source": [
    "maxpn = min([36, len(arr_p)])"
   ]
  },
  {
   "cell_type": "code",
   "execution_count": null,
   "metadata": {},
   "outputs": [],
   "source": [
    "for i in range(0,maxpn):\n",
    "    pname_i = arr_p[i]\n",
    "    traj_i = df_roi[df_roi['particle'] == arr_p[i]].copy()\n",
    "    N = len(traj_i['x'])\n",
    "    traj_i['x_rfcm'] = traj_i['x'] - traj_i['x_CM']\n",
    "    traj_i['y_rfcm'] = traj_i['y'] - traj_i['y_CM']\n",
    "    arr_time_i = np.linspace(0.0, 1.0 / fps * N, N)\n",
    "    arr_freqs_i, arr_intens_i = get_spectrum_connor(arr_time_i, traj_i['x_rfcm'])\n",
    "    fig_i, ax_i = plt.subplots()\n",
    "    ax_i.set_xlim(0, 50)\n",
    "    arr_abs_intens = 2.0 / N * np.abs(arr_intens_i[0:N//2])\n",
    "    med_spectrum += arr_abs_intens\n",
    "    #arr_norm_intens = ((arr_abs_intens - np.min(arr_abs_intens)) / \n",
    "    #                  (np.max(arr_abs_intens) - np.min(arr_abs_intens)))\n",
    "    #arr_savg = savgol_filter(arr_abs_intens, 3, 2)    \n",
    "    #ax_i.plot(arr_freqs_i, arr_norm_intens)\n",
    "    ax_i.plot(arr_freqs_i, med_spectrum)\n",
    "    df_spectrum_i = pd.DataFrame({'freq':arr_freqs_i, 'intens': arr_abs_intens})\n",
    "    fname_i = folderPath + r'\\outputs'  + outfname + r'x_graph_' + str(i) + r'_p' + str(pname_i)\n",
    "    fname_csv_i = fname_i + r'.csv'\n",
    "    fname_png_i = fname_i + r'.png'\n",
    "    df_spectrum_i.to_csv(fname_csv_i, index = False)\n",
    "    fig_i.savefig(fname_png_i)"
   ]
  },
  {
   "cell_type": "code",
   "execution_count": null,
   "metadata": {},
   "outputs": [],
   "source": [
    "fname_sum = folderPath + r'\\outputs'  + outfname + r'x_graph_' + 'sum_36_particles'\n",
    "fname_csv_i = fname_i + r'.csv'\n",
    "fname_png_i = fname_i + r'.png'\n",
    "df_spectrum_sum = pd.DataFrame({'freq':arr_freqs_i, 'sum_intens': med_spectrum})"
   ]
  }
 ],
 "metadata": {
  "kernelspec": {
   "display_name": "Python 3",
   "language": "python",
   "name": "python3"
  },
  "language_info": {
   "codemirror_mode": {
    "name": "ipython",
    "version": 3
   },
   "file_extension": ".py",
   "mimetype": "text/x-python",
   "name": "python",
   "nbconvert_exporter": "python",
   "pygments_lexer": "ipython3",
   "version": "3.7.1"
  }
 },
 "nbformat": 4,
 "nbformat_minor": 2
}
