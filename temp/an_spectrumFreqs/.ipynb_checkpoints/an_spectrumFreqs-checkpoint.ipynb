{
 "cells": [
  {
   "cell_type": "markdown",
   "metadata": {},
   "source": [
    "# Frequencies Spectra for Individual Particles"
   ]
  },
  {
   "cell_type": "code",
   "execution_count": null,
   "metadata": {},
   "outputs": [],
   "source": [
    "import numpy as np\n",
    "import math\n",
    "import pandas as pd\n",
    "import trackpy as tp\n",
    "import matplotlib.pyplot as plt\n",
    "from scipy.signal import savgol_filter\n",
    "from scipy import signal"
   ]
  },
  {
   "cell_type": "code",
   "execution_count": null,
   "metadata": {},
   "outputs": [],
   "source": [
    "roi_size = 20.0\n",
    "roi_center_x = 776.0\n",
    "roi_center_y = 597.0\n",
    "fps = 99.0\n",
    "#infname = r'position_103V_20230822NoTiff.txt'\n",
    "#infname = r'\\position_110V_20230823NoTiff'\n",
    "#infname = r'\\position_V120_20230824NoTiff'\n",
    "infname = r'\\position_V140_20230827noTiff'\n",
    "#outfname = r'\\spe_V103_'\n",
    "#outfname = r'\\spe_V110_'\n",
    "#outfname = r'\\spe_V120_'\n",
    "outfname = r'\\spe_V140_'"
   ]
  },
  {
   "cell_type": "code",
   "execution_count": null,
   "metadata": {},
   "outputs": [],
   "source": [
    "#folderPath = r'G:\\My Drive\\workAppState\\prj_shocks\\expData\\data_phonon_spectrum\\data_set1\\analyzed\\103Vbias\\20230727spectra\\04_an_frequenciesSpectra'\n",
    "#folderPath = r'g:\\My Drive\\workAppState\\prj_shocks\\expData\\data_phonon_spectrum\\data_set1\\analyzed\\103Vbias\\20230822spectra\\04_an_frequenciesSpectra'\n",
    "#folderPath = r'G:\\My Drive\\workAppState\\prj_shocks\\expData\\data_phonon_spectrum\\data_set1\\analyzed\\103Vbias\\20230903spectra\\04_an_frequenciesSpectra'\n",
    "#folderPath = r'G:\\My Drive\\workAppState\\prj_shocks\\expData\\data_phonon_spectrum\\data_set1\\analyzed\\110Vbias\\20230822spectra\\04_an_frequenciesSpectra'\n",
    "#folderPath = r'G:\\My Drive\\workAppState\\prj_shocks\\expData\\data_phonon_spectrum\\data_set1\\analyzed\\120Vbias\\20230824spectra\\04_an_frequenciesSpectra'\n",
    "folderPath = r'G:\\My Drive\\workAppState\\prj_shocks\\expData\\data_phonon_spectrum\\data_set1\\analyzed\\140Vbias\\20230827spectra\\04_an_frequenciesSpectra'"
   ]
  },
  {
   "cell_type": "code",
   "execution_count": null,
   "metadata": {},
   "outputs": [],
   "source": [
    "#pos_filepath = folderPath + r'\\inputs' + r'\\position_noTiff.txt'\n",
    "#pos_filepath = folderPath + r'\\inputs' + r'\\position_103V_20230822NoTiff.txt'\n",
    "pos_filepath = folderPath + r'\\inputs' +  infname + r'.txt'\n",
    "#pos_filepath = folderPath + r'\\inputs' + r'\\position_110V_20230823NoTiff.txt'\n",
    "#pos_filepath = folderPath + r'\\inputs' + r'\\position_V120_20230824NoTiff.txt'\n",
    "#pos_filepath = folderPath + r'\\inputs' + r'\\position_V140_20230827noTiff.txt'\n"
   ]
  },
  {
   "cell_type": "code",
   "execution_count": null,
   "metadata": {},
   "outputs": [],
   "source": [
    "col_names = [r'particle_notrack',r'frame',r'x',r'y']"
   ]
  },
  {
   "cell_type": "code",
   "execution_count": null,
   "metadata": {},
   "outputs": [],
   "source": [
    "df_pos = pd.read_csv(pos_filepath, header = None, names = col_names)"
   ]
  },
  {
   "cell_type": "code",
   "execution_count": null,
   "metadata": {},
   "outputs": [],
   "source": [
    "df_pos.head()"
   ]
  },
  {
   "cell_type": "code",
   "execution_count": null,
   "metadata": {},
   "outputs": [],
   "source": [
    "#cacluate CM of particle cloud for each frame:"
   ]
  },
  {
   "cell_type": "code",
   "execution_count": null,
   "metadata": {},
   "outputs": [],
   "source": [
    "df_cm = df_pos.groupby('frame')[['x','y']].mean().reset_index()\n",
    "df_cm.columns = ['frame', 'x_CM', 'y_CM']"
   ]
  },
  {
   "cell_type": "code",
   "execution_count": null,
   "metadata": {},
   "outputs": [],
   "source": [
    "df_pos = df_pos.merge(df_cm, on = 'frame', how = 'left')\n",
    "df_pos.head()"
   ]
  },
  {
   "cell_type": "code",
   "execution_count": null,
   "metadata": {},
   "outputs": [],
   "source": [
    "df_linked = tp.link(df_pos, 5.0, memory = 0)"
   ]
  },
  {
   "cell_type": "code",
   "execution_count": null,
   "metadata": {},
   "outputs": [],
   "source": [
    "df_linked.head()"
   ]
  },
  {
   "cell_type": "code",
   "execution_count": null,
   "metadata": {},
   "outputs": [],
   "source": [
    "df_oneframe_check = df_pos[df_pos['frame'] == 333]"
   ]
  },
  {
   "cell_type": "code",
   "execution_count": null,
   "metadata": {},
   "outputs": [],
   "source": [
    "fig, ax = plt.subplots()\n",
    "ax.scatter(df_oneframe_check['x'], df_oneframe_check['y'])"
   ]
  },
  {
   "cell_type": "code",
   "execution_count": null,
   "metadata": {},
   "outputs": [],
   "source": [
    "roi_condition = ((df_linked['x'] < roi_center_x + roi_size) &\n",
    "                 (df_linked['y'] < roi_center_y + roi_size) & \n",
    "                 (df_linked['y'] > roi_center_y - roi_size) & \n",
    "                 (df_linked['y'] > roi_center_y - roi_size))"
   ]
  },
  {
   "cell_type": "code",
   "execution_count": null,
   "metadata": {},
   "outputs": [],
   "source": [
    "df_roi = df_linked[roi_condition]"
   ]
  },
  {
   "cell_type": "code",
   "execution_count": null,
   "metadata": {},
   "outputs": [],
   "source": [
    "df_roi.size"
   ]
  },
  {
   "cell_type": "code",
   "execution_count": null,
   "metadata": {},
   "outputs": [],
   "source": [
    "df_linked.size"
   ]
  },
  {
   "cell_type": "code",
   "execution_count": null,
   "metadata": {},
   "outputs": [],
   "source": [
    "particles_listing = np.unique(df_roi['particle'])"
   ]
  },
  {
   "cell_type": "code",
   "execution_count": null,
   "metadata": {},
   "outputs": [],
   "source": [
    "type(particles_listing)"
   ]
  },
  {
   "cell_type": "code",
   "execution_count": null,
   "metadata": {},
   "outputs": [],
   "source": [
    "particles_listing"
   ]
  },
  {
   "cell_type": "code",
   "execution_count": null,
   "metadata": {},
   "outputs": [],
   "source": [
    "len(particles_listing)"
   ]
  },
  {
   "cell_type": "code",
   "execution_count": null,
   "metadata": {},
   "outputs": [],
   "source": [
    "traj_test = df_roi[df_roi['particle'] == 113]"
   ]
  },
  {
   "cell_type": "code",
   "execution_count": null,
   "metadata": {},
   "outputs": [],
   "source": [
    "fig, ax = plt.subplots()\n",
    "ax.plot(traj_test['x'], traj_test['y'])\n"
   ]
  },
  {
   "cell_type": "code",
   "execution_count": null,
   "metadata": {},
   "outputs": [],
   "source": [
    "arr_traj_lengths = np.empty(len(particles_listing))"
   ]
  },
  {
   "cell_type": "code",
   "execution_count": null,
   "metadata": {},
   "outputs": [],
   "source": [
    "for i in range(0, len(particles_listing)):\n",
    "    cur_len = len(df_roi[df_roi['particle'] == particles_listing[i]])\n",
    "    arr_traj_lengths[i] = cur_len\n",
    "               "
   ]
  },
  {
   "cell_type": "code",
   "execution_count": null,
   "metadata": {},
   "outputs": [],
   "source": [
    "m_t_len = np.max(arr_traj_lengths)\n",
    "m_t_len"
   ]
  },
  {
   "cell_type": "code",
   "execution_count": null,
   "metadata": {},
   "outputs": [],
   "source": [
    "pd_traj_len = pd.DataFrame({'particle':particles_listing, 'tr_len':arr_traj_lengths})"
   ]
  },
  {
   "cell_type": "code",
   "execution_count": null,
   "metadata": {},
   "outputs": [],
   "source": [
    "pd_traj_len.head()"
   ]
  },
  {
   "cell_type": "code",
   "execution_count": null,
   "metadata": {},
   "outputs": [],
   "source": [
    "pd_traj_len.sort_values(by = 'tr_len', ascending = False, inplace = True)"
   ]
  },
  {
   "cell_type": "code",
   "execution_count": null,
   "metadata": {},
   "outputs": [],
   "source": [
    "pd_traj_len.head(20)"
   ]
  },
  {
   "cell_type": "code",
   "execution_count": null,
   "metadata": {},
   "outputs": [],
   "source": [
    "traj_test = df_roi[df_roi['particle'] == 1799].copy()\n",
    "N = len(traj_test['x'])"
   ]
  },
  {
   "cell_type": "code",
   "execution_count": null,
   "metadata": {},
   "outputs": [],
   "source": [
    "#Defining butterworth highpass filter\n",
    "def butter_highpass(cutoff, fs, order=2):\n",
    "    nyq = 0.5 * fs\n",
    "    normal_cutoff = cutoff / nyq\n",
    "    b, a = signal.butter(order, normal_cutoff, btype='high', analog=False)\n",
    "    return b, a\n",
    "\n",
    "#Function to apply highpass filter\n",
    "def butter_highpass_filter(data, cutoff, fs, order=2):\n",
    "    b, a = butter_highpass(cutoff, fs, order=order)\n",
    "    y = signal.filtfilt(b, a, data)\n",
    "    return y"
   ]
  },
  {
   "cell_type": "code",
   "execution_count": null,
   "metadata": {},
   "outputs": [],
   "source": [
    "def get_spectrum_drift(arr_t, arr_sig):\n",
    "    #slope, intercept = np.polyfit(arr_t, arr_sig, 1)\n",
    "    a, b, c = np.polyfit(arr_t, arr_sig, 2)\n",
    "    #a, b, c, d = np.polyfit(arr_t, arr_sig, 3)\n",
    "    arr_sig_nodrift = arr_sig - (a * arr_t * arr_t + b * arr_t + c)\n",
    "    #arr_sig_nodrift = arr_sig - (a * arr_t * arr_t * arr_t + b * arr_t * arr_t + c * arr_t + d)\n",
    "    arr_intens = np.fft.fft(arr_sig_nodrift)\n",
    "    dt = arr_t[1] - arr_t[0]\n",
    "    N = len(arr_t)\n",
    "    #print(N)\n",
    "    arr_freqs = np.fft.fftfreq(N, dt)[:N//2]    \n",
    "    return arr_freqs, arr_intens"
   ]
  },
  {
   "cell_type": "code",
   "execution_count": null,
   "metadata": {},
   "outputs": [],
   "source": [
    "def get_spectrum_PSD(arr_t, arr_sig):\n",
    "    #slope, intercept = np.polyfit(arr_t, arr_sig, 1)\n",
    "    a, b, c = np.polyfit(arr_t, arr_sig, 2)\n",
    "    #a, b, c, d = np.polyfit(arr_t, arr_sig, 3)\n",
    "    arr_sig_nodrift = arr_sig - (a * arr_t * arr_t + b * arr_t + c)\n",
    "    #arr_sig_nodrift = arr_sig - (a * arr_t * arr_t * arr_t + b * arr_t * arr_t + c * arr_t + d)\n",
    "    dt = arr_t[1] - arr_t[0]\n",
    "    fs = 1.0 / dt\n",
    "    arr_freqs, arr_PSD = signal.welch(arr_sig, fs, nperseg = 500)\n",
    "    return arr_freqs, arr_PSD"
   ]
  },
  {
   "cell_type": "code",
   "execution_count": null,
   "metadata": {},
   "outputs": [],
   "source": [
    "def get_spectrum(arr_t, arr_sig):\n",
    "    arr_sig_nomean = arr_sig - np.mean(arr_sig)\n",
    "    arr_intens = np.fft.fft(arr_sig_nomean)\n",
    "    dt = arr_t[1] - arr_t[0]\n",
    "    N = len(arr_t)\n",
    "    arr_freqs = np.fft.fftfreq(N, dt)[:N//2]    \n",
    "    return arr_freqs, arr_intens"
   ]
  },
  {
   "cell_type": "code",
   "execution_count": null,
   "metadata": {},
   "outputs": [],
   "source": [
    "def get_spectrum_connor(arr_t, arr_sig):\n",
    "    arr_sig_nomean = arr_sig - np.mean(arr_sig)\n",
    "    dt = arr_t[1] - arr_t[0]\n",
    "    fps = 1.0 / dt\n",
    "    arr_filtered = butter_highpass_filter(arr_sig_nomean,5.0,fps)\n",
    "    arr_intens = np.fft.fft(arr_filtered)\n",
    "    arr_freqs = np.fft.fftfreq(N, dt)[:N//2]\n",
    "    return arr_freqs, arr_intens    "
   ]
  },
  {
   "cell_type": "code",
   "execution_count": null,
   "metadata": {},
   "outputs": [],
   "source": [
    "def get_spectrum_connor_exact(arr_t, arr_sig):\n",
    "    arr_sig_nomean = arr_sig - np.mean(arr_sig)\n",
    "    dt = arr_t[1] - arr_t[0]\n",
    "    fps = 1.0 / dt\n",
    "    arr_filtered = butter_highpass_filter(arr_sig_nomean,5.0,fps)\n",
    "    arr_intens = np.fft.fft(arr_filtered)\n",
    "    arr_intens = np.fft.fftshift(arr_intens)\n",
    "    #arr_freqs = np.fft.fftfreq(N, dt)[:N//2]\n",
    "    arr_freqs = np.arange(-fps/2,fps/2,1/(dt * len(arr_sig)))\n",
    "    return arr_freqs, arr_intens    "
   ]
  },
  {
   "cell_type": "code",
   "execution_count": null,
   "metadata": {},
   "outputs": [],
   "source": [
    "def get_spectrum_drift_connor(arr_t, arr_sig):\n",
    "    #slope, intercept = np.polyfit(arr_t, arr_sig, 1)\n",
    "    a, b, c = np.polyfit(arr_t, arr_sig, 2)\n",
    "    #a, b, c, d = np.polyfit(arr_t, arr_sig, 3)\n",
    "    arr_sig_nodrift = arr_sig - (a * arr_t * arr_t + b * arr_t + c)\n",
    "    dt = arr_t[1] - arr_t[0]\n",
    "    fps = 1.0 / dt\n",
    "    arr_filtered = butter_highpass_filter(arr_sig_nodrift,5.0,fps)\n",
    "    arr_intens = np.fft.fft(arr_filtered)\n",
    "    arr_freqs = np.fft.fftfreq(N, dt)[:N//2]\n",
    "    return arr_freqs, arr_intens    "
   ]
  },
  {
   "cell_type": "code",
   "execution_count": null,
   "metadata": {},
   "outputs": [],
   "source": [
    "df_long_traj = pd_traj_len[pd_traj_len['tr_len'] == m_t_len]\n",
    "arr_p = np.array(df_long_traj['particle'])\n",
    "med_spectrum = np.zeros(math.floor(m_t_len / 2))\n"
   ]
  },
  {
   "cell_type": "code",
   "execution_count": null,
   "metadata": {},
   "outputs": [],
   "source": [
    "len(arr_p)"
   ]
  },
  {
   "cell_type": "code",
   "execution_count": null,
   "metadata": {},
   "outputs": [],
   "source": [
    "maxpn = min([36, len(arr_p)])"
   ]
  },
  {
   "cell_type": "code",
   "execution_count": null,
   "metadata": {},
   "outputs": [],
   "source": [
    "for i in range(0,maxpn):\n",
    "    pname_i = arr_p[i]\n",
    "    traj_i = df_roi[df_roi['particle'] == arr_p[i]].copy()\n",
    "    N = len(traj_i['x'])\n",
    "    traj_i['x_rfcm'] = traj_i['x'] - traj_i['x_CM']\n",
    "    traj_i['y_rfcm'] = traj_i['y'] - traj_i['y_CM']\n",
    "    arr_time_i = np.linspace(0.0, 1.0 / fps * N, N)\n",
    "    arr_freqs_i, arr_intens_i = get_spectrum_connor(arr_time_i, traj_i['x_rfcm'])\n",
    "    fig_i, ax_i = plt.subplots()\n",
    "    ax_i.set_xlim(0, 50)\n",
    "    arr_abs_intens = 2.0 / N * np.abs(arr_intens_i[0:N//2])\n",
    "    med_spectrum += arr_abs_intens\n",
    "    #arr_norm_intens = ((arr_abs_intens - np.min(arr_abs_intens)) / \n",
    "    #                  (np.max(arr_abs_intens) - np.min(arr_abs_intens)))\n",
    "    #arr_savg = savgol_filter(arr_abs_intens, 3, 2)    \n",
    "    #ax_i.plot(arr_freqs_i, arr_norm_intens)\n",
    "    ax_i.plot(arr_freqs_i, med_spectrum)\n",
    "    df_spectrum_i = pd.DataFrame({'freq':arr_freqs_i, 'intens': arr_abs_intens})\n",
    "    fname_i = folderPath + r'\\outputs'  + outfname + r'x_graph_' + str(i) + r'_p' + str(pname_i)\n",
    "    fname_csv_i = fname_i + r'.csv'\n",
    "    fname_png_i = fname_i + r'.png'\n",
    "    df_spectrum_i.to_csv(fname_csv_i, index = False)\n",
    "    fig_i.savefig(fname_png_i)"
   ]
  },
  {
   "cell_type": "code",
   "execution_count": null,
   "metadata": {},
   "outputs": [],
   "source": [
    "fname_sum = folderPath + r'\\outputs'  + outfname + r'x_graph_' + 'sum_36_particles'\n",
    "fname_csv_sum = fname_sum + r'.csv'\n",
    "fname_png_sum = fname_sum + r'.png'\n",
    "df_spectrum_sum = pd.DataFrame({'freq':arr_freqs_i, 'sum_intens': med_spectrum})\n",
    "df_spectrum_sum.to_csv(fname_csv_sum, index = False)"
   ]
  },
  {
   "cell_type": "code",
   "execution_count": null,
   "metadata": {},
   "outputs": [],
   "source": []
  }
 ],
 "metadata": {
  "kernelspec": {
   "display_name": "Python 3",
   "language": "python",
   "name": "python3"
  },
  "language_info": {
   "codemirror_mode": {
    "name": "ipython",
    "version": 3
   },
   "file_extension": ".py",
   "mimetype": "text/x-python",
   "name": "python",
   "nbconvert_exporter": "python",
   "pygments_lexer": "ipython3",
   "version": "3.7.1"
  }
 },
 "nbformat": 4,
 "nbformat_minor": 2
}
