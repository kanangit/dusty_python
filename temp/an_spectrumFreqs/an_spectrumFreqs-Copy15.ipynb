{
 "cells": [
  {
   "cell_type": "markdown",
   "metadata": {},
   "source": [
    "# Frequencies Spectra for Individual Particles"
   ]
  },
  {
   "cell_type": "code",
   "execution_count": 1,
   "metadata": {},
   "outputs": [],
   "source": [
    "import numpy as np\n",
    "import math\n",
    "import pandas as pd\n",
    "import trackpy as tp\n",
    "import matplotlib.pyplot as plt"
   ]
  },
  {
   "cell_type": "code",
   "execution_count": 2,
   "metadata": {},
   "outputs": [],
   "source": [
    "roi_size = 20.0\n",
    "roi_center_x = 776.0\n",
    "roi_center_y = 597.0\n",
    "fps = 99.0"
   ]
  },
  {
   "cell_type": "code",
   "execution_count": 4,
   "metadata": {},
   "outputs": [],
   "source": [
    "folderPath = r'G:\\My Drive\\workAppState\\prj_shocks\\expData\\data_phonon_spectrum\\data_set1\\analyzed\\103Vbias\\20230727spectra\\04_an_frequenciesSpectra'"
   ]
  },
  {
   "cell_type": "code",
   "execution_count": 5,
   "metadata": {},
   "outputs": [],
   "source": [
    "pos_filepath = folderPath + r'\\inputs' + r'\\position_noTiff.txt'"
   ]
  },
  {
   "cell_type": "code",
   "execution_count": 6,
   "metadata": {},
   "outputs": [],
   "source": [
    "col_names = [r'particle_notrack',r'frame',r'x',r'y']"
   ]
  },
  {
   "cell_type": "code",
   "execution_count": 7,
   "metadata": {},
   "outputs": [],
   "source": [
    "df_pos = pd.read_csv(pos_filepath, header = None, names = col_names)"
   ]
  },
  {
   "cell_type": "code",
   "execution_count": 8,
   "metadata": {},
   "outputs": [
    {
     "data": {
      "text/html": [
       "<div>\n",
       "<style scoped>\n",
       "    .dataframe tbody tr th:only-of-type {\n",
       "        vertical-align: middle;\n",
       "    }\n",
       "\n",
       "    .dataframe tbody tr th {\n",
       "        vertical-align: top;\n",
       "    }\n",
       "\n",
       "    .dataframe thead th {\n",
       "        text-align: right;\n",
       "    }\n",
       "</style>\n",
       "<table border=\"1\" class=\"dataframe\">\n",
       "  <thead>\n",
       "    <tr style=\"text-align: right;\">\n",
       "      <th></th>\n",
       "      <th>particle_notrack</th>\n",
       "      <th>frame</th>\n",
       "      <th>x</th>\n",
       "      <th>y</th>\n",
       "    </tr>\n",
       "  </thead>\n",
       "  <tbody>\n",
       "    <tr>\n",
       "      <th>0</th>\n",
       "      <td>1</td>\n",
       "      <td>0</td>\n",
       "      <td>741.606</td>\n",
       "      <td>421.285</td>\n",
       "    </tr>\n",
       "    <tr>\n",
       "      <th>1</th>\n",
       "      <td>2</td>\n",
       "      <td>0</td>\n",
       "      <td>746.121</td>\n",
       "      <td>429.531</td>\n",
       "    </tr>\n",
       "    <tr>\n",
       "      <th>2</th>\n",
       "      <td>3</td>\n",
       "      <td>0</td>\n",
       "      <td>763.478</td>\n",
       "      <td>442.788</td>\n",
       "    </tr>\n",
       "    <tr>\n",
       "      <th>3</th>\n",
       "      <td>4</td>\n",
       "      <td>0</td>\n",
       "      <td>840.229</td>\n",
       "      <td>455.421</td>\n",
       "    </tr>\n",
       "    <tr>\n",
       "      <th>4</th>\n",
       "      <td>5</td>\n",
       "      <td>0</td>\n",
       "      <td>872.425</td>\n",
       "      <td>455.960</td>\n",
       "    </tr>\n",
       "  </tbody>\n",
       "</table>\n",
       "</div>"
      ],
      "text/plain": [
       "   particle_notrack  frame        x        y\n",
       "0                 1      0  741.606  421.285\n",
       "1                 2      0  746.121  429.531\n",
       "2                 3      0  763.478  442.788\n",
       "3                 4      0  840.229  455.421\n",
       "4                 5      0  872.425  455.960"
      ]
     },
     "execution_count": 8,
     "metadata": {},
     "output_type": "execute_result"
    }
   ],
   "source": [
    "df_pos.head()"
   ]
  },
  {
   "cell_type": "code",
   "execution_count": 9,
   "metadata": {},
   "outputs": [],
   "source": [
    "#cacluate CM of particle cloud for each frame:"
   ]
  },
  {
   "cell_type": "code",
   "execution_count": 10,
   "metadata": {},
   "outputs": [],
   "source": [
    "df_cm = df_pos.groupby('frame')[['x','y']].mean().reset_index()\n",
    "df_cm.columns = ['frame', 'x_CM', 'y_CM']"
   ]
  },
  {
   "cell_type": "code",
   "execution_count": 11,
   "metadata": {},
   "outputs": [
    {
     "data": {
      "text/html": [
       "<div>\n",
       "<style scoped>\n",
       "    .dataframe tbody tr th:only-of-type {\n",
       "        vertical-align: middle;\n",
       "    }\n",
       "\n",
       "    .dataframe tbody tr th {\n",
       "        vertical-align: top;\n",
       "    }\n",
       "\n",
       "    .dataframe thead th {\n",
       "        text-align: right;\n",
       "    }\n",
       "</style>\n",
       "<table border=\"1\" class=\"dataframe\">\n",
       "  <thead>\n",
       "    <tr style=\"text-align: right;\">\n",
       "      <th></th>\n",
       "      <th>particle_notrack</th>\n",
       "      <th>frame</th>\n",
       "      <th>x</th>\n",
       "      <th>y</th>\n",
       "      <th>x_CM</th>\n",
       "      <th>y_CM</th>\n",
       "    </tr>\n",
       "  </thead>\n",
       "  <tbody>\n",
       "    <tr>\n",
       "      <th>0</th>\n",
       "      <td>1</td>\n",
       "      <td>0</td>\n",
       "      <td>741.606</td>\n",
       "      <td>421.285</td>\n",
       "      <td>802.520682</td>\n",
       "      <td>614.408015</td>\n",
       "    </tr>\n",
       "    <tr>\n",
       "      <th>1</th>\n",
       "      <td>2</td>\n",
       "      <td>0</td>\n",
       "      <td>746.121</td>\n",
       "      <td>429.531</td>\n",
       "      <td>802.520682</td>\n",
       "      <td>614.408015</td>\n",
       "    </tr>\n",
       "    <tr>\n",
       "      <th>2</th>\n",
       "      <td>3</td>\n",
       "      <td>0</td>\n",
       "      <td>763.478</td>\n",
       "      <td>442.788</td>\n",
       "      <td>802.520682</td>\n",
       "      <td>614.408015</td>\n",
       "    </tr>\n",
       "    <tr>\n",
       "      <th>3</th>\n",
       "      <td>4</td>\n",
       "      <td>0</td>\n",
       "      <td>840.229</td>\n",
       "      <td>455.421</td>\n",
       "      <td>802.520682</td>\n",
       "      <td>614.408015</td>\n",
       "    </tr>\n",
       "    <tr>\n",
       "      <th>4</th>\n",
       "      <td>5</td>\n",
       "      <td>0</td>\n",
       "      <td>872.425</td>\n",
       "      <td>455.960</td>\n",
       "      <td>802.520682</td>\n",
       "      <td>614.408015</td>\n",
       "    </tr>\n",
       "  </tbody>\n",
       "</table>\n",
       "</div>"
      ],
      "text/plain": [
       "   particle_notrack  frame        x        y        x_CM        y_CM\n",
       "0                 1      0  741.606  421.285  802.520682  614.408015\n",
       "1                 2      0  746.121  429.531  802.520682  614.408015\n",
       "2                 3      0  763.478  442.788  802.520682  614.408015\n",
       "3                 4      0  840.229  455.421  802.520682  614.408015\n",
       "4                 5      0  872.425  455.960  802.520682  614.408015"
      ]
     },
     "execution_count": 11,
     "metadata": {},
     "output_type": "execute_result"
    }
   ],
   "source": [
    "df_pos = df_pos.merge(df_cm, on = 'frame', how = 'left')\n",
    "df_pos.head()"
   ]
  },
  {
   "cell_type": "code",
   "execution_count": 12,
   "metadata": {},
   "outputs": [
    {
     "name": "stdout",
     "output_type": "stream",
     "text": [
      "Frame 971: 698 trajectories present.\n"
     ]
    }
   ],
   "source": [
    "df_linked = tp.link(df_pos, 7.0, memory = 0)"
   ]
  },
  {
   "cell_type": "code",
   "execution_count": 13,
   "metadata": {},
   "outputs": [
    {
     "data": {
      "text/html": [
       "<div>\n",
       "<style scoped>\n",
       "    .dataframe tbody tr th:only-of-type {\n",
       "        vertical-align: middle;\n",
       "    }\n",
       "\n",
       "    .dataframe tbody tr th {\n",
       "        vertical-align: top;\n",
       "    }\n",
       "\n",
       "    .dataframe thead th {\n",
       "        text-align: right;\n",
       "    }\n",
       "</style>\n",
       "<table border=\"1\" class=\"dataframe\">\n",
       "  <thead>\n",
       "    <tr style=\"text-align: right;\">\n",
       "      <th></th>\n",
       "      <th>particle_notrack</th>\n",
       "      <th>frame</th>\n",
       "      <th>x</th>\n",
       "      <th>y</th>\n",
       "      <th>x_CM</th>\n",
       "      <th>y_CM</th>\n",
       "      <th>particle</th>\n",
       "    </tr>\n",
       "  </thead>\n",
       "  <tbody>\n",
       "    <tr>\n",
       "      <th>0</th>\n",
       "      <td>1</td>\n",
       "      <td>0</td>\n",
       "      <td>741.606</td>\n",
       "      <td>421.285</td>\n",
       "      <td>802.520682</td>\n",
       "      <td>614.408015</td>\n",
       "      <td>0</td>\n",
       "    </tr>\n",
       "    <tr>\n",
       "      <th>475</th>\n",
       "      <td>476</td>\n",
       "      <td>0</td>\n",
       "      <td>934.621</td>\n",
       "      <td>669.123</td>\n",
       "      <td>802.520682</td>\n",
       "      <td>614.408015</td>\n",
       "      <td>1</td>\n",
       "    </tr>\n",
       "    <tr>\n",
       "      <th>476</th>\n",
       "      <td>477</td>\n",
       "      <td>0</td>\n",
       "      <td>969.010</td>\n",
       "      <td>669.361</td>\n",
       "      <td>802.520682</td>\n",
       "      <td>614.408015</td>\n",
       "      <td>2</td>\n",
       "    </tr>\n",
       "    <tr>\n",
       "      <th>477</th>\n",
       "      <td>478</td>\n",
       "      <td>0</td>\n",
       "      <td>864.212</td>\n",
       "      <td>670.870</td>\n",
       "      <td>802.520682</td>\n",
       "      <td>614.408015</td>\n",
       "      <td>3</td>\n",
       "    </tr>\n",
       "    <tr>\n",
       "      <th>478</th>\n",
       "      <td>479</td>\n",
       "      <td>0</td>\n",
       "      <td>629.403</td>\n",
       "      <td>670.738</td>\n",
       "      <td>802.520682</td>\n",
       "      <td>614.408015</td>\n",
       "      <td>4</td>\n",
       "    </tr>\n",
       "  </tbody>\n",
       "</table>\n",
       "</div>"
      ],
      "text/plain": [
       "     particle_notrack  frame        x        y        x_CM        y_CM  \\\n",
       "0                   1      0  741.606  421.285  802.520682  614.408015   \n",
       "475               476      0  934.621  669.123  802.520682  614.408015   \n",
       "476               477      0  969.010  669.361  802.520682  614.408015   \n",
       "477               478      0  864.212  670.870  802.520682  614.408015   \n",
       "478               479      0  629.403  670.738  802.520682  614.408015   \n",
       "\n",
       "     particle  \n",
       "0           0  \n",
       "475         1  \n",
       "476         2  \n",
       "477         3  \n",
       "478         4  "
      ]
     },
     "execution_count": 13,
     "metadata": {},
     "output_type": "execute_result"
    }
   ],
   "source": [
    "df_linked.head()"
   ]
  },
  {
   "cell_type": "code",
   "execution_count": 14,
   "metadata": {},
   "outputs": [],
   "source": [
    "roi_condition = ((df_linked['x'] < roi_center_x + roi_size) &\n",
    "                 (df_linked['y'] < roi_center_y + roi_size) & \n",
    "                 (df_linked['y'] > roi_center_y - roi_size) & \n",
    "                 (df_linked['y'] > roi_center_y - roi_size))"
   ]
  },
  {
   "cell_type": "code",
   "execution_count": 15,
   "metadata": {},
   "outputs": [],
   "source": [
    "df_roi = df_linked[roi_condition]"
   ]
  },
  {
   "cell_type": "code",
   "execution_count": 16,
   "metadata": {},
   "outputs": [
    {
     "data": {
      "text/plain": [
       "111538"
      ]
     },
     "execution_count": 16,
     "metadata": {},
     "output_type": "execute_result"
    }
   ],
   "source": [
    "df_roi.size"
   ]
  },
  {
   "cell_type": "code",
   "execution_count": 17,
   "metadata": {},
   "outputs": [
    {
     "data": {
      "text/plain": [
       "4890354"
      ]
     },
     "execution_count": 17,
     "metadata": {},
     "output_type": "execute_result"
    }
   ],
   "source": [
    "df_linked.size"
   ]
  },
  {
   "cell_type": "code",
   "execution_count": 18,
   "metadata": {},
   "outputs": [],
   "source": [
    "particles_listing = np.unique(df_roi['particle'])"
   ]
  },
  {
   "cell_type": "code",
   "execution_count": 19,
   "metadata": {},
   "outputs": [
    {
     "data": {
      "text/plain": [
       "numpy.ndarray"
      ]
     },
     "execution_count": 19,
     "metadata": {},
     "output_type": "execute_result"
    }
   ],
   "source": [
    "type(particles_listing)"
   ]
  },
  {
   "cell_type": "code",
   "execution_count": 20,
   "metadata": {},
   "outputs": [
    {
     "data": {
      "text/plain": [
       "array([   113,    116,    360, ..., 164277, 164286, 164289], dtype=int64)"
      ]
     },
     "execution_count": 20,
     "metadata": {},
     "output_type": "execute_result"
    }
   ],
   "source": [
    "particles_listing"
   ]
  },
  {
   "cell_type": "code",
   "execution_count": 21,
   "metadata": {},
   "outputs": [
    {
     "data": {
      "text/plain": [
       "3390"
      ]
     },
     "execution_count": 21,
     "metadata": {},
     "output_type": "execute_result"
    }
   ],
   "source": [
    "len(particles_listing)"
   ]
  },
  {
   "cell_type": "code",
   "execution_count": 22,
   "metadata": {},
   "outputs": [],
   "source": [
    "traj_113 = df_roi[df_roi['particle'] == 113]"
   ]
  },
  {
   "cell_type": "code",
   "execution_count": 23,
   "metadata": {},
   "outputs": [
    {
     "data": {
      "text/plain": [
       "[<matplotlib.lines.Line2D at 0x16f8b1e9358>]"
      ]
     },
     "execution_count": 23,
     "metadata": {},
     "output_type": "execute_result"
    },
    {
     "data": {
      "image/png": "[encoded data removed]",
      "text/plain": [
       "<Figure size 432x288 with 1 Axes>"
      ]
     },
     "metadata": {
      "needs_background": "light"
     },
     "output_type": "display_data"
    }
   ],
   "source": [
    "fig, ax = plt.subplots()\n",
    "ax.plot(traj_113['x'], traj_113['y'])\n"
   ]
  },
  {
   "cell_type": "code",
   "execution_count": 24,
   "metadata": {},
   "outputs": [],
   "source": [
    "arr_traj_lengths = np.empty(len(particles_listing))"
   ]
  },
  {
   "cell_type": "code",
   "execution_count": 25,
   "metadata": {},
   "outputs": [],
   "source": [
    "for i in range(0, len(particles_listing)):\n",
    "    cur_len = len(df_roi[df_roi['particle'] == particles_listing[i]])\n",
    "    arr_traj_lengths[i] = cur_len\n",
    "               "
   ]
  },
  {
   "cell_type": "code",
   "execution_count": 26,
   "metadata": {},
   "outputs": [
    {
     "data": {
      "text/plain": [
       "742.0"
      ]
     },
     "execution_count": 26,
     "metadata": {},
     "output_type": "execute_result"
    }
   ],
   "source": [
    "np.max(arr_traj_lengths)"
   ]
  },
  {
   "cell_type": "code",
   "execution_count": 27,
   "metadata": {},
   "outputs": [],
   "source": [
    "pd_traj_len = pd.DataFrame({'particle':particles_listing, 'tr_len':arr_traj_lengths})"
   ]
  },
  {
   "cell_type": "code",
   "execution_count": 28,
   "metadata": {},
   "outputs": [
    {
     "data": {
      "text/html": [
       "<div>\n",
       "<style scoped>\n",
       "    .dataframe tbody tr th:only-of-type {\n",
       "        vertical-align: middle;\n",
       "    }\n",
       "\n",
       "    .dataframe tbody tr th {\n",
       "        vertical-align: top;\n",
       "    }\n",
       "\n",
       "    .dataframe thead th {\n",
       "        text-align: right;\n",
       "    }\n",
       "</style>\n",
       "<table border=\"1\" class=\"dataframe\">\n",
       "  <thead>\n",
       "    <tr style=\"text-align: right;\">\n",
       "      <th></th>\n",
       "      <th>particle</th>\n",
       "      <th>tr_len</th>\n",
       "    </tr>\n",
       "  </thead>\n",
       "  <tbody>\n",
       "    <tr>\n",
       "      <th>0</th>\n",
       "      <td>113</td>\n",
       "      <td>3.0</td>\n",
       "    </tr>\n",
       "    <tr>\n",
       "      <th>1</th>\n",
       "      <td>116</td>\n",
       "      <td>15.0</td>\n",
       "    </tr>\n",
       "    <tr>\n",
       "      <th>2</th>\n",
       "      <td>360</td>\n",
       "      <td>2.0</td>\n",
       "    </tr>\n",
       "    <tr>\n",
       "      <th>3</th>\n",
       "      <td>381</td>\n",
       "      <td>3.0</td>\n",
       "    </tr>\n",
       "    <tr>\n",
       "      <th>4</th>\n",
       "      <td>542</td>\n",
       "      <td>7.0</td>\n",
       "    </tr>\n",
       "  </tbody>\n",
       "</table>\n",
       "</div>"
      ],
      "text/plain": [
       "   particle  tr_len\n",
       "0       113     3.0\n",
       "1       116    15.0\n",
       "2       360     2.0\n",
       "3       381     3.0\n",
       "4       542     7.0"
      ]
     },
     "execution_count": 28,
     "metadata": {},
     "output_type": "execute_result"
    }
   ],
   "source": [
    "pd_traj_len.head()"
   ]
  },
  {
   "cell_type": "code",
   "execution_count": 29,
   "metadata": {},
   "outputs": [],
   "source": [
    "pd_traj_len.sort_values(by = 'tr_len', ascending = False, inplace = True)"
   ]
  },
  {
   "cell_type": "code",
   "execution_count": 30,
   "metadata": {},
   "outputs": [
    {
     "data": {
      "text/html": [
       "<div>\n",
       "<style scoped>\n",
       "    .dataframe tbody tr th:only-of-type {\n",
       "        vertical-align: middle;\n",
       "    }\n",
       "\n",
       "    .dataframe tbody tr th {\n",
       "        vertical-align: top;\n",
       "    }\n",
       "\n",
       "    .dataframe thead th {\n",
       "        text-align: right;\n",
       "    }\n",
       "</style>\n",
       "<table border=\"1\" class=\"dataframe\">\n",
       "  <thead>\n",
       "    <tr style=\"text-align: right;\">\n",
       "      <th></th>\n",
       "      <th>particle</th>\n",
       "      <th>tr_len</th>\n",
       "    </tr>\n",
       "  </thead>\n",
       "  <tbody>\n",
       "    <tr>\n",
       "      <th>11</th>\n",
       "      <td>579</td>\n",
       "      <td>742.0</td>\n",
       "    </tr>\n",
       "    <tr>\n",
       "      <th>18</th>\n",
       "      <td>626</td>\n",
       "      <td>467.0</td>\n",
       "    </tr>\n",
       "    <tr>\n",
       "      <th>1709</th>\n",
       "      <td>79028</td>\n",
       "      <td>406.0</td>\n",
       "    </tr>\n",
       "    <tr>\n",
       "      <th>2205</th>\n",
       "      <td>101818</td>\n",
       "      <td>371.0</td>\n",
       "    </tr>\n",
       "    <tr>\n",
       "      <th>15</th>\n",
       "      <td>605</td>\n",
       "      <td>200.0</td>\n",
       "    </tr>\n",
       "    <tr>\n",
       "      <th>594</th>\n",
       "      <td>26191</td>\n",
       "      <td>192.0</td>\n",
       "    </tr>\n",
       "    <tr>\n",
       "      <th>664</th>\n",
       "      <td>29889</td>\n",
       "      <td>165.0</td>\n",
       "    </tr>\n",
       "    <tr>\n",
       "      <th>7</th>\n",
       "      <td>559</td>\n",
       "      <td>151.0</td>\n",
       "    </tr>\n",
       "    <tr>\n",
       "      <th>13</th>\n",
       "      <td>593</td>\n",
       "      <td>138.0</td>\n",
       "    </tr>\n",
       "    <tr>\n",
       "      <th>1438</th>\n",
       "      <td>65787</td>\n",
       "      <td>124.0</td>\n",
       "    </tr>\n",
       "    <tr>\n",
       "      <th>1288</th>\n",
       "      <td>58515</td>\n",
       "      <td>113.0</td>\n",
       "    </tr>\n",
       "    <tr>\n",
       "      <th>3098</th>\n",
       "      <td>148401</td>\n",
       "      <td>97.0</td>\n",
       "    </tr>\n",
       "    <tr>\n",
       "      <th>1851</th>\n",
       "      <td>85466</td>\n",
       "      <td>91.0</td>\n",
       "    </tr>\n",
       "    <tr>\n",
       "      <th>989</th>\n",
       "      <td>44045</td>\n",
       "      <td>79.0</td>\n",
       "    </tr>\n",
       "    <tr>\n",
       "      <th>2076</th>\n",
       "      <td>95934</td>\n",
       "      <td>77.0</td>\n",
       "    </tr>\n",
       "    <tr>\n",
       "      <th>2398</th>\n",
       "      <td>111013</td>\n",
       "      <td>76.0</td>\n",
       "    </tr>\n",
       "    <tr>\n",
       "      <th>1580</th>\n",
       "      <td>72597</td>\n",
       "      <td>73.0</td>\n",
       "    </tr>\n",
       "    <tr>\n",
       "      <th>1181</th>\n",
       "      <td>53735</td>\n",
       "      <td>72.0</td>\n",
       "    </tr>\n",
       "    <tr>\n",
       "      <th>2446</th>\n",
       "      <td>113619</td>\n",
       "      <td>72.0</td>\n",
       "    </tr>\n",
       "    <tr>\n",
       "      <th>896</th>\n",
       "      <td>39340</td>\n",
       "      <td>69.0</td>\n",
       "    </tr>\n",
       "  </tbody>\n",
       "</table>\n",
       "</div>"
      ],
      "text/plain": [
       "      particle  tr_len\n",
       "11         579   742.0\n",
       "18         626   467.0\n",
       "1709     79028   406.0\n",
       "2205    101818   371.0\n",
       "15         605   200.0\n",
       "594      26191   192.0\n",
       "664      29889   165.0\n",
       "7          559   151.0\n",
       "13         593   138.0\n",
       "1438     65787   124.0\n",
       "1288     58515   113.0\n",
       "3098    148401    97.0\n",
       "1851     85466    91.0\n",
       "989      44045    79.0\n",
       "2076     95934    77.0\n",
       "2398    111013    76.0\n",
       "1580     72597    73.0\n",
       "1181     53735    72.0\n",
       "2446    113619    72.0\n",
       "896      39340    69.0"
      ]
     },
     "execution_count": 30,
     "metadata": {},
     "output_type": "execute_result"
    }
   ],
   "source": [
    "pd_traj_len.head(20)"
   ]
  },
  {
   "cell_type": "code",
   "execution_count": 71,
   "metadata": {},
   "outputs": [],
   "source": [
    "traj_579 = df_roi[df_roi['particle'] == 579].copy()\n",
    "N = len(traj_579['x'])"
   ]
  },
  {
   "cell_type": "code",
   "execution_count": 74,
   "metadata": {},
   "outputs": [
    {
     "data": {
      "text/html": [
       "<div>\n",
       "<style scoped>\n",
       "    .dataframe tbody tr th:only-of-type {\n",
       "        vertical-align: middle;\n",
       "    }\n",
       "\n",
       "    .dataframe tbody tr th {\n",
       "        vertical-align: top;\n",
       "    }\n",
       "\n",
       "    .dataframe thead th {\n",
       "        text-align: right;\n",
       "    }\n",
       "</style>\n",
       "<table border=\"1\" class=\"dataframe\">\n",
       "  <thead>\n",
       "    <tr style=\"text-align: right;\">\n",
       "      <th></th>\n",
       "      <th>particle_notrack</th>\n",
       "      <th>frame</th>\n",
       "      <th>x</th>\n",
       "      <th>y</th>\n",
       "      <th>x_CM</th>\n",
       "      <th>y_CM</th>\n",
       "      <th>particle</th>\n",
       "      <th>x_rfcm</th>\n",
       "      <th>y_rfcm</th>\n",
       "    </tr>\n",
       "  </thead>\n",
       "  <tbody>\n",
       "    <tr>\n",
       "      <th>287</th>\n",
       "      <td>288</td>\n",
       "      <td>0</td>\n",
       "      <td>598.857</td>\n",
       "      <td>579.715</td>\n",
       "      <td>802.520682</td>\n",
       "      <td>614.408015</td>\n",
       "      <td>579</td>\n",
       "      <td>-203.663682</td>\n",
       "      <td>-34.693015</td>\n",
       "    </tr>\n",
       "    <tr>\n",
       "      <th>992</th>\n",
       "      <td>993</td>\n",
       "      <td>1</td>\n",
       "      <td>599.066</td>\n",
       "      <td>578.889</td>\n",
       "      <td>800.723103</td>\n",
       "      <td>619.268583</td>\n",
       "      <td>579</td>\n",
       "      <td>-201.657103</td>\n",
       "      <td>-40.379583</td>\n",
       "    </tr>\n",
       "    <tr>\n",
       "      <th>1726</th>\n",
       "      <td>1727</td>\n",
       "      <td>2</td>\n",
       "      <td>598.730</td>\n",
       "      <td>578.718</td>\n",
       "      <td>804.586371</td>\n",
       "      <td>614.085143</td>\n",
       "      <td>579</td>\n",
       "      <td>-205.856371</td>\n",
       "      <td>-35.367143</td>\n",
       "    </tr>\n",
       "    <tr>\n",
       "      <th>2427</th>\n",
       "      <td>2428</td>\n",
       "      <td>3</td>\n",
       "      <td>598.778</td>\n",
       "      <td>578.837</td>\n",
       "      <td>809.676655</td>\n",
       "      <td>617.720266</td>\n",
       "      <td>579</td>\n",
       "      <td>-210.898655</td>\n",
       "      <td>-38.883266</td>\n",
       "    </tr>\n",
       "    <tr>\n",
       "      <th>3147</th>\n",
       "      <td>3148</td>\n",
       "      <td>4</td>\n",
       "      <td>599.044</td>\n",
       "      <td>578.882</td>\n",
       "      <td>801.769397</td>\n",
       "      <td>616.903430</td>\n",
       "      <td>579</td>\n",
       "      <td>-202.725397</td>\n",
       "      <td>-38.021430</td>\n",
       "    </tr>\n",
       "  </tbody>\n",
       "</table>\n",
       "</div>"
      ],
      "text/plain": [
       "      particle_notrack  frame        x        y        x_CM        y_CM  \\\n",
       "287                288      0  598.857  579.715  802.520682  614.408015   \n",
       "992                993      1  599.066  578.889  800.723103  619.268583   \n",
       "1726              1727      2  598.730  578.718  804.586371  614.085143   \n",
       "2427              2428      3  598.778  578.837  809.676655  617.720266   \n",
       "3147              3148      4  599.044  578.882  801.769397  616.903430   \n",
       "\n",
       "      particle      x_rfcm     y_rfcm  \n",
       "287        579 -203.663682 -34.693015  \n",
       "992        579 -201.657103 -40.379583  \n",
       "1726       579 -205.856371 -35.367143  \n",
       "2427       579 -210.898655 -38.883266  \n",
       "3147       579 -202.725397 -38.021430  "
      ]
     },
     "execution_count": 74,
     "metadata": {},
     "output_type": "execute_result"
    }
   ],
   "source": [
    "traj_579['x_rfcm'] = traj_579['x'] - traj_579['x_CM'] \n",
    "traj_579['y_rfcm'] = traj_579['y'] - traj_579['y_CM'] \n",
    "traj_579.head()"
   ]
  },
  {
   "cell_type": "code",
   "execution_count": 76,
   "metadata": {},
   "outputs": [
    {
     "data": {
      "text/plain": [
       "[<matplotlib.lines.Line2D at 0x16f8c456eb8>]"
      ]
     },
     "execution_count": 76,
     "metadata": {},
     "output_type": "execute_result"
    },
    {
     "data": {
      "image/png": "[encoded data removed]",
      "text/plain": [
       "<Figure size 432x288 with 1 Axes>"
      ]
     },
     "metadata": {
      "needs_background": "light"
     },
     "output_type": "display_data"
    }
   ],
   "source": [
    "\n",
    "fig, ax = plt.subplots()\n",
    "ax.plot(traj_579['x_rfcm'], traj_579['y_rfcm'])"
   ]
  },
  {
   "cell_type": "code",
   "execution_count": 77,
   "metadata": {},
   "outputs": [],
   "source": [
    "arr_time_579 = np.linspace(0.0, 1.0 / fps * len(traj_579['x']), len(traj_579['x']))"
   ]
  },
  {
   "cell_type": "code",
   "execution_count": 78,
   "metadata": {},
   "outputs": [
    {
     "data": {
      "text/plain": [
       "742"
      ]
     },
     "execution_count": 78,
     "metadata": {},
     "output_type": "execute_result"
    }
   ],
   "source": [
    "N"
   ]
  },
  {
   "cell_type": "code",
   "execution_count": 85,
   "metadata": {},
   "outputs": [],
   "source": [
    "def get_spectrum_drift(arr_t, arr_sig):\n",
    "    slope, intercept = np.polyfit(arr_t, arr_sig, 1)\n",
    "    arr_sig_nodrift = arr_sig - (slope * arr_t + intercept)\n",
    "    arr_intens = np.fft.fft(arr_sig_nodrift)\n",
    "    dt = arr_t[1] - arr_t[0]\n",
    "    N = len(arr_t)\n",
    "    print(N)\n",
    "    arr_freqs = np.fft.fftfreq(N, dt)[:N//2]    \n",
    "    return arr_freqs, arr_intens"
   ]
  },
  {
   "cell_type": "code",
   "execution_count": 86,
   "metadata": {},
   "outputs": [],
   "source": [
    "def get_spectrum(arr_t, arr_sig):\n",
    "    arr_sig_nomean = arr_sig - np.mean(arr_sig)\n",
    "    arr_intens = np.fft.fft(arr_sig_nomean)\n",
    "    dt = arr_t[1] - arr_t[0]\n",
    "    N = len(arr_t)\n",
    "    print(N)\n",
    "    arr_freqs = np.fft.fftfreq(N, dt)[:N//2]    \n",
    "    return arr_freqs, arr_intens"
   ]
  },
  {
   "cell_type": "code",
   "execution_count": 87,
   "metadata": {},
   "outputs": [
    {
     "name": "stdout",
     "output_type": "stream",
     "text": [
      "742\n"
     ]
    }
   ],
   "source": [
    "test_arr_freqs, test_arr_intens = get_spectrum(arr_time_579, traj_579['x_rfcm'])"
   ]
  },
  {
   "cell_type": "code",
   "execution_count": 90,
   "metadata": {},
   "outputs": [
    {
     "data": {
      "text/plain": [
       "[<matplotlib.lines.Line2D at 0x16f8f5eb4e0>]"
      ]
     },
     "execution_count": 90,
     "metadata": {},
     "output_type": "execute_result"
    },
    {
     "data": {
      "image/png": "[encoded data removed]",
      "text/plain": [
       "<Figure size 432x288 with 1 Axes>"
      ]
     },
     "metadata": {
      "needs_background": "light"
     },
     "output_type": "display_data"
    }
   ],
   "source": [
    "fig, ax = plt.subplots()\n",
    "ax.set_xlim(0, 50)\n",
    "ax.plot(test_arr_freqs, 2.0 / N * np.abs(test_arr_intens[0:N//2]))"
   ]
  },
  {
   "cell_type": "code",
   "execution_count": 45,
   "metadata": {},
   "outputs": [],
   "source": [
    "t_time = np.arange(0, 10, 0.0001)+ 50.0"
   ]
  },
  {
   "cell_type": "code",
   "execution_count": 46,
   "metadata": {},
   "outputs": [],
   "source": [
    "t_sig = 10.0 * np.sin(math.pi * 2.0 * t_time * 1) + 100"
   ]
  },
  {
   "cell_type": "code",
   "execution_count": 47,
   "metadata": {},
   "outputs": [
    {
     "name": "stdout",
     "output_type": "stream",
     "text": [
      "100000\n"
     ]
    }
   ],
   "source": [
    "t_f, t_int = get_spectrum(t_time, t_sig)"
   ]
  },
  {
   "cell_type": "code",
   "execution_count": 48,
   "metadata": {},
   "outputs": [
    {
     "data": {
      "text/plain": [
       "[<matplotlib.lines.Line2D at 0x16f8c3d6828>]"
      ]
     },
     "execution_count": 48,
     "metadata": {},
     "output_type": "execute_result"
    },
    {
     "data": {
      "image/png": "[encoded data removed]",
      "text/plain": [
       "<Figure size 432x288 with 1 Axes>"
      ]
     },
     "metadata": {
      "needs_background": "light"
     },
     "output_type": "display_data"
    }
   ],
   "source": [
    "fig, ax = plt.subplots()\n",
    "ax.set_xlim(0, 5)\n",
    "ax.plot(t_f, 2.0 / len(t_f) * np.abs(t_int)[0:len(t_int)//2])"
   ]
  },
  {
   "cell_type": "code",
   "execution_count": 49,
   "metadata": {},
   "outputs": [
    {
     "data": {
      "text/plain": [
       "50000"
      ]
     },
     "execution_count": 49,
     "metadata": {},
     "output_type": "execute_result"
    }
   ],
   "source": [
    "len(2.0 / len(t_f) * np.abs(t_int)[0:len(t_int)//2])"
   ]
  },
  {
   "cell_type": "code",
   "execution_count": 50,
   "metadata": {},
   "outputs": [
    {
     "data": {
      "text/plain": [
       "50000"
      ]
     },
     "execution_count": 50,
     "metadata": {},
     "output_type": "execute_result"
    }
   ],
   "source": [
    "len(t_f)"
   ]
  },
  {
   "cell_type": "code",
   "execution_count": 51,
   "metadata": {
    "scrolled": true
   },
   "outputs": [
    {
     "name": "stdout",
     "output_type": "stream",
     "text": [
      "742\n"
     ]
    },
    {
     "data": {
      "text/plain": [
       "[<matplotlib.lines.Line2D at 0x16f8c41c898>]"
      ]
     },
     "execution_count": 51,
     "metadata": {},
     "output_type": "execute_result"
    },
    {
     "data": {
      "image/png": "[encoded data removed]",
      "text/plain": [
       "<Figure size 432x288 with 1 Axes>"
      ]
     },
     "metadata": {
      "needs_background": "light"
     },
     "output_type": "display_data"
    }
   ],
   "source": [
    "t_f, t_int = get_spectrum(arr_time, np.array(traj_579['y']))\n",
    "fig, ax = plt.subplots()\n",
    "ax.set_xlim(0, 50)\n",
    "#ax.set_ylim(0, 0.1)\n",
    "ax.plot(t_f, 2.0 / len(t_f) * np.abs(t_int)[0:len(t_int)//2])"
   ]
  },
  {
   "cell_type": "code",
   "execution_count": 52,
   "metadata": {},
   "outputs": [
    {
     "name": "stdout",
     "output_type": "stream",
     "text": [
      "742\n"
     ]
    },
    {
     "data": {
      "text/plain": [
       "[<matplotlib.lines.Line2D at 0x16f8c4560b8>]"
      ]
     },
     "execution_count": 52,
     "metadata": {},
     "output_type": "execute_result"
    },
    {
     "data": {
      "image/png": "[encoded data removed]",
      "text/plain": [
       "<Figure size 432x288 with 1 Axes>"
      ]
     },
     "metadata": {
      "needs_background": "light"
     },
     "output_type": "display_data"
    }
   ],
   "source": [
    "t_f, t_int = get_spectrum(arr_time, np.array(traj_579['y']))\n",
    "fig, ax = plt.subplots()\n",
    "ax.set_xlim(17, 30)\n",
    "ax.set_ylim(0, 0.1)\n",
    "ax.plot(t_f, 2.0 / len(t_f) * np.abs(t_int)[0:len(t_int)//2])"
   ]
  },
  {
   "cell_type": "code",
   "execution_count": 53,
   "metadata": {},
   "outputs": [
    {
     "name": "stdout",
     "output_type": "stream",
     "text": [
      "742\n",
      "579   0.6662168249286184\n",
      "467\n",
      "626   0.6346124747236219\n",
      "406\n",
      "79028   0.2432417675750443\n",
      "371\n",
      "101818   0.5322541975138222\n",
      "200\n",
      "605   1.9701\n",
      "192\n",
      "26191   1.02587890625\n",
      "165\n",
      "29889   0.5963636363636364\n",
      "151\n",
      "559   0.6512872242445507\n",
      "138\n",
      "593   1.4243856332703213\n",
      "124\n",
      "65787   0.7919484911550467\n",
      "113\n",
      "58515   2.6050591275745947\n",
      "97\n",
      "148401   8.08077372728239\n",
      "91\n",
      "85466   1.075957010022944\n",
      "79\n",
      "44045   37.11905143406505\n",
      "77\n",
      "95934   1.2690166975881263\n",
      "76\n",
      "111013   1.2854916897506923\n",
      "73\n",
      "72597   6.687933946331393\n",
      "72\n",
      "53735   6.779513888888888\n",
      "72\n",
      "113619   1.3559027777777777\n",
      "69\n",
      "39340   4.241965973534971\n",
      "64\n",
      "91256   1.522705078125\n",
      "63\n",
      "124969   3.09297052154195\n",
      "62\n",
      "73716   3.1420395421436003\n",
      "59\n",
      "154871   3.2990519965527145\n",
      "58\n",
      "151550   1.6774673008323422\n",
      "57\n",
      "128478   3.4127423822714684\n",
      "57\n",
      "120800   3.4127423822714684\n",
      "56\n",
      "93837   6.945153061224489\n",
      "55\n",
      "592   7.069090909090908\n",
      "54\n",
      "21204   3.5987654320987654\n",
      "53\n",
      "70951   1.832680669277323\n",
      "52\n",
      "63848   1.867233727810651\n",
      "52\n",
      "156060   3.734467455621302\n",
      "49\n",
      "150678   3.9583506872136605\n",
      "49\n",
      "102172   1.9791753436068302\n",
      "47\n",
      "10479   37.10819375282932\n",
      "46\n",
      "142632   6.316162570888467\n",
      "46\n",
      "77387   4.210775047258978\n",
      "45\n",
      "31742   6.453333333333333\n",
      "44\n",
      "53393   2.1988636363636362\n",
      "43\n",
      "62827   2.2487831260140614\n",
      "43\n",
      "66623   4.497566252028123\n",
      "42\n",
      "81985   2.3010204081632653\n",
      "39\n",
      "149655   2.4733727810650885\n",
      "39\n",
      "18380   2.4733727810650885\n",
      "39\n",
      "42033   2.4733727810650885\n",
      "38\n",
      "141891   5.073407202216067\n",
      "37\n",
      "148406   5.2067202337472605\n",
      "36\n",
      "139822   5.347222222222222\n",
      "36\n",
      "55666   16.041666666666668\n",
      "36\n",
      "109287   2.673611111111111\n",
      "35\n",
      "125460   5.495510204081632\n",
      "35\n",
      "36424   8.243265306122447\n",
      "35\n",
      "57698   5.495510204081632\n",
      "34\n",
      "68934   36.739619377162626\n",
      "34\n",
      "131180   36.739619377162626\n",
      "34\n",
      "23984   5.6522491349480966\n",
      "34\n",
      "74871   22.608996539792386\n",
      "34\n",
      "150164   2.8261245674740483\n",
      "33\n",
      "103345   5.8181818181818175\n",
      "33\n",
      "59178   11.636363636363635\n",
      "33\n",
      "146247   5.8181818181818175\n",
      "32\n",
      "49243   2.9970703124999996\n",
      "32\n",
      "104679   2.9970703124999996\n",
      "31\n",
      "16397   6.181061394380852\n",
      "31\n",
      "73854   6.181061394380852\n",
      "31\n",
      "76036   15.45265348595213\n",
      "30\n",
      "48189   6.38\n",
      "30\n",
      "157209   3.19\n",
      "30\n",
      "57700   3.19\n",
      "30\n",
      "121846   28.71\n",
      "29\n",
      "51093   3.2960760998810943\n",
      "29\n",
      "141226   13.184304399524377\n",
      "29\n",
      "5053   6.592152199762189\n",
      "29\n",
      "106720   6.592152199762189\n",
      "28\n",
      "86683   6.8188775510204085\n",
      "28\n",
      "152028   3.4094387755102042\n",
      "28\n",
      "146378   3.4094387755102042\n",
      "28\n",
      "34422   13.637755102040817\n",
      "27\n",
      "7597   7.061728395061727\n",
      "27\n",
      "107950   3.5308641975308634\n",
      "27\n",
      "60817   3.5308641975308634\n",
      "26\n",
      "141571   10.983727810650885\n",
      "26\n",
      "124800   7.32248520710059\n",
      "26\n",
      "10474   3.661242603550295\n",
      "26\n",
      "160278   7.32248520710059\n",
      "25\n",
      "135026   7.603199999999999\n",
      "25\n",
      "71096   7.603199999999999\n",
      "25\n",
      "606   7.603199999999999\n",
      "25\n",
      "61507   3.8015999999999996\n",
      "25\n",
      "91266   3.8015999999999996\n",
      "25\n",
      "131348   7.603199999999999\n",
      "24\n",
      "152682   31.625000000000004\n",
      "24\n",
      "146556   3.9531250000000004\n",
      "24\n",
      "118374   3.9531250000000004\n",
      "24\n",
      "92473   3.9531250000000004\n",
      "24\n",
      "136898   3.9531250000000004\n",
      "24\n",
      "91609   11.859375000000002\n",
      "24\n",
      "78106   3.9531250000000004\n",
      "24\n",
      "111861   7.906250000000001\n"
     ]
    }
   ],
   "source": [
    "arr_longs = np.array(pd_traj_len['particle'])\n",
    "for i in range(0, 100):\n",
    "    cur_particle = arr_longs[i]\n",
    "    df_cur_traj = df_roi[df_roi['particle'] == cur_particle]\n",
    "    arr_time = np.linspace(0.0, 1.0 / fps * len(df_cur_traj['x']), len(df_cur_traj['x']))\n",
    "    arr_signal = np.array(df_cur_traj['x'])\n",
    "    arr_f, arr_intens = get_spectrum(arr_time, arr_signal)\n",
    "    ind_max = np.argmax(np.abs(arr_intens[0:len(arr_intens)//2]))\n",
    "    max_f = arr_f[ind_max]\n",
    "    print(cur_particle, ' ', max_f)\n",
    "    \n",
    "    \n",
    "    "
   ]
  },
  {
   "cell_type": "code",
   "execution_count": 54,
   "metadata": {},
   "outputs": [
    {
     "data": {
      "text/plain": [
       "array([   579,    626,  79028, ...,  67101,  67107, 164289], dtype=int64)"
      ]
     },
     "execution_count": 54,
     "metadata": {},
     "output_type": "execute_result"
    }
   ],
   "source": [
    "arr_longs"
   ]
  },
  {
   "cell_type": "code",
   "execution_count": 55,
   "metadata": {},
   "outputs": [
    {
     "data": {
      "text/plain": [
       "74871"
      ]
     },
     "execution_count": 55,
     "metadata": {},
     "output_type": "execute_result"
    }
   ],
   "source": [
    "74871"
   ]
  },
  {
   "cell_type": "code",
   "execution_count": 56,
   "metadata": {},
   "outputs": [],
   "source": [
    "traj_74871 = df_roi[df_roi['particle'] == 74871]\n",
    "N = len(traj_74871['x'])\n",
    "arr_time = np.linspace(0.0, 1.0 / fps * N, N)"
   ]
  },
  {
   "cell_type": "code",
   "execution_count": 57,
   "metadata": {
    "scrolled": true
   },
   "outputs": [
    {
     "data": {
      "text/plain": [
       "array([0.        , 0.0104071 , 0.0208142 , 0.0312213 , 0.04162841,\n",
       "       0.05203551, 0.06244261, 0.07284971, 0.08325681, 0.09366391,\n",
       "       0.10407101, 0.11447811, 0.12488522, 0.13529232, 0.14569942,\n",
       "       0.15610652, 0.16651362, 0.17692072, 0.18732782, 0.19773493,\n",
       "       0.20814203, 0.21854913, 0.22895623, 0.23936333, 0.24977043,\n",
       "       0.26017753, 0.27058463, 0.28099174, 0.29139884, 0.30180594,\n",
       "       0.31221304, 0.32262014, 0.33302724, 0.34343434])"
      ]
     },
     "execution_count": 57,
     "metadata": {},
     "output_type": "execute_result"
    }
   ],
   "source": [
    "arr_time"
   ]
  },
  {
   "cell_type": "code",
   "execution_count": 58,
   "metadata": {},
   "outputs": [
    {
     "name": "stdout",
     "output_type": "stream",
     "text": [
      "34\n"
     ]
    },
    {
     "data": {
      "text/plain": [
       "[<matplotlib.lines.Line2D at 0x16f8c51f748>]"
      ]
     },
     "execution_count": 58,
     "metadata": {},
     "output_type": "execute_result"
    },
    {
     "data": {
      "image/png": "[encoded data removed]",
      "text/plain": [
       "<Figure size 432x288 with 1 Axes>"
      ]
     },
     "metadata": {
      "needs_background": "light"
     },
     "output_type": "display_data"
    }
   ],
   "source": [
    "t_f, t_int = get_spectrum(arr_time, traj_74871['x'])\n",
    "fig, ax = plt.subplots()\n",
    "#ax.set_xlim(0, 50)\n",
    "#ax.set_ylim(0, 0.1)\n",
    "ax.plot(t_f, np.array(2.0 / len(t_f) * np.abs(t_int)[0:len(t_int)//2]))"
   ]
  },
  {
   "cell_type": "code",
   "execution_count": null,
   "metadata": {},
   "outputs": [],
   "source": [
    "len(t_f)"
   ]
  },
  {
   "cell_type": "code",
   "execution_count": null,
   "metadata": {},
   "outputs": [],
   "source": [
    "len(t_int)"
   ]
  },
  {
   "cell_type": "code",
   "execution_count": null,
   "metadata": {},
   "outputs": [],
   "source": [
    "len(2.0 / len(t_f) * np.abs(t_int)[0:len(t_int)//2])"
   ]
  },
  {
   "cell_type": "code",
   "execution_count": null,
   "metadata": {},
   "outputs": [],
   "source": [
    "len(np.array(2.0 / len(t_f) * np.abs(t_int)[0:len(t_int)//2]))"
   ]
  },
  {
   "cell_type": "code",
   "execution_count": null,
   "metadata": {},
   "outputs": [],
   "source": [
    "len(t_f)"
   ]
  },
  {
   "cell_type": "code",
   "execution_count": null,
   "metadata": {},
   "outputs": [],
   "source": [
    "N = len(traj_74871['x'])\n",
    "N"
   ]
  },
  {
   "cell_type": "code",
   "execution_count": null,
   "metadata": {},
   "outputs": [],
   "source": []
  }
 ],
 "metadata": {
  "kernelspec": {
   "display_name": "Python 3",
   "language": "python",
   "name": "python3"
  },
  "language_info": {
   "codemirror_mode": {
    "name": "ipython",
    "version": 3
   },
   "file_extension": ".py",
   "mimetype": "text/x-python",
   "name": "python",
   "nbconvert_exporter": "python",
   "pygments_lexer": "ipython3",
   "version": "3.7.1"
  }
 },
 "nbformat": 4,
 "nbformat_minor": 2
}
