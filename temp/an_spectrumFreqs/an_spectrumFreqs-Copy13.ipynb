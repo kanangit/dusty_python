{
 "cells": [
  {
   "cell_type": "markdown",
   "metadata": {},
   "source": [
    "# Frequencies Spectra for Individual Particles"
   ]
  },
  {
   "cell_type": "code",
   "execution_count": 1,
   "metadata": {},
   "outputs": [],
   "source": [
    "import numpy as np\n",
    "import math\n",
    "import pandas as pd\n",
    "import trackpy as tp\n",
    "import matplotlib.pyplot as plt"
   ]
  },
  {
   "cell_type": "code",
   "execution_count": 2,
   "metadata": {},
   "outputs": [],
   "source": [
    "roi_size = 20.0\n",
    "roi_center_x = 776.0\n",
    "roi_center_y = 597.0\n",
    "fps = 99.0"
   ]
  },
  {
   "cell_type": "code",
   "execution_count": 3,
   "metadata": {},
   "outputs": [],
   "source": [
    "folderPath = r'G:\\My Drive\\workAppState\\prj_shocks\\expData\\data_phonon_spectrum\\data_set1\\analyzed\\103Vbias\\20230727spectra\\04_an_frequenciesSpectra'"
   ]
  },
  {
   "cell_type": "code",
   "execution_count": 4,
   "metadata": {},
   "outputs": [],
   "source": [
    "pos_filepath = folderPath + r'\\inputs' + r'\\position_noTiff.txt'"
   ]
  },
  {
   "cell_type": "code",
   "execution_count": 5,
   "metadata": {},
   "outputs": [],
   "source": [
    "col_names = [r'particle_notrack',r'frame',r'x',r'y']"
   ]
  },
  {
   "cell_type": "code",
   "execution_count": 6,
   "metadata": {},
   "outputs": [],
   "source": [
    "df_pos = pd.read_csv(pos_filepath, header = None, names = col_names)"
   ]
  },
  {
   "cell_type": "code",
   "execution_count": 7,
   "metadata": {},
   "outputs": [
    {
     "data": {
      "text/html": [
       "<div>\n",
       "<style scoped>\n",
       "    .dataframe tbody tr th:only-of-type {\n",
       "        vertical-align: middle;\n",
       "    }\n",
       "\n",
       "    .dataframe tbody tr th {\n",
       "        vertical-align: top;\n",
       "    }\n",
       "\n",
       "    .dataframe thead th {\n",
       "        text-align: right;\n",
       "    }\n",
       "</style>\n",
       "<table border=\"1\" class=\"dataframe\">\n",
       "  <thead>\n",
       "    <tr style=\"text-align: right;\">\n",
       "      <th></th>\n",
       "      <th>particle_notrack</th>\n",
       "      <th>frame</th>\n",
       "      <th>x</th>\n",
       "      <th>y</th>\n",
       "    </tr>\n",
       "  </thead>\n",
       "  <tbody>\n",
       "    <tr>\n",
       "      <th>0</th>\n",
       "      <td>1</td>\n",
       "      <td>0</td>\n",
       "      <td>741.606</td>\n",
       "      <td>421.285</td>\n",
       "    </tr>\n",
       "    <tr>\n",
       "      <th>1</th>\n",
       "      <td>2</td>\n",
       "      <td>0</td>\n",
       "      <td>746.121</td>\n",
       "      <td>429.531</td>\n",
       "    </tr>\n",
       "    <tr>\n",
       "      <th>2</th>\n",
       "      <td>3</td>\n",
       "      <td>0</td>\n",
       "      <td>763.478</td>\n",
       "      <td>442.788</td>\n",
       "    </tr>\n",
       "    <tr>\n",
       "      <th>3</th>\n",
       "      <td>4</td>\n",
       "      <td>0</td>\n",
       "      <td>840.229</td>\n",
       "      <td>455.421</td>\n",
       "    </tr>\n",
       "    <tr>\n",
       "      <th>4</th>\n",
       "      <td>5</td>\n",
       "      <td>0</td>\n",
       "      <td>872.425</td>\n",
       "      <td>455.960</td>\n",
       "    </tr>\n",
       "  </tbody>\n",
       "</table>\n",
       "</div>"
      ],
      "text/plain": [
       "   particle_notrack  frame        x        y\n",
       "0                 1      0  741.606  421.285\n",
       "1                 2      0  746.121  429.531\n",
       "2                 3      0  763.478  442.788\n",
       "3                 4      0  840.229  455.421\n",
       "4                 5      0  872.425  455.960"
      ]
     },
     "execution_count": 7,
     "metadata": {},
     "output_type": "execute_result"
    }
   ],
   "source": [
    "df_pos.head()"
   ]
  },
  {
   "cell_type": "code",
   "execution_count": 8,
   "metadata": {},
   "outputs": [
    {
     "name": "stdout",
     "output_type": "stream",
     "text": [
      "Frame 971: 698 trajectories present.\n"
     ]
    }
   ],
   "source": [
    "df_linked = tp.link(df_pos, 7.0, memory = 0)"
   ]
  },
  {
   "cell_type": "code",
   "execution_count": 9,
   "metadata": {},
   "outputs": [
    {
     "data": {
      "text/html": [
       "<div>\n",
       "<style scoped>\n",
       "    .dataframe tbody tr th:only-of-type {\n",
       "        vertical-align: middle;\n",
       "    }\n",
       "\n",
       "    .dataframe tbody tr th {\n",
       "        vertical-align: top;\n",
       "    }\n",
       "\n",
       "    .dataframe thead th {\n",
       "        text-align: right;\n",
       "    }\n",
       "</style>\n",
       "<table border=\"1\" class=\"dataframe\">\n",
       "  <thead>\n",
       "    <tr style=\"text-align: right;\">\n",
       "      <th></th>\n",
       "      <th>particle_notrack</th>\n",
       "      <th>frame</th>\n",
       "      <th>x</th>\n",
       "      <th>y</th>\n",
       "      <th>particle</th>\n",
       "    </tr>\n",
       "  </thead>\n",
       "  <tbody>\n",
       "    <tr>\n",
       "      <th>0</th>\n",
       "      <td>1</td>\n",
       "      <td>0</td>\n",
       "      <td>741.606</td>\n",
       "      <td>421.285</td>\n",
       "      <td>0</td>\n",
       "    </tr>\n",
       "    <tr>\n",
       "      <th>475</th>\n",
       "      <td>476</td>\n",
       "      <td>0</td>\n",
       "      <td>934.621</td>\n",
       "      <td>669.123</td>\n",
       "      <td>1</td>\n",
       "    </tr>\n",
       "    <tr>\n",
       "      <th>476</th>\n",
       "      <td>477</td>\n",
       "      <td>0</td>\n",
       "      <td>969.010</td>\n",
       "      <td>669.361</td>\n",
       "      <td>2</td>\n",
       "    </tr>\n",
       "    <tr>\n",
       "      <th>477</th>\n",
       "      <td>478</td>\n",
       "      <td>0</td>\n",
       "      <td>864.212</td>\n",
       "      <td>670.870</td>\n",
       "      <td>3</td>\n",
       "    </tr>\n",
       "    <tr>\n",
       "      <th>478</th>\n",
       "      <td>479</td>\n",
       "      <td>0</td>\n",
       "      <td>629.403</td>\n",
       "      <td>670.738</td>\n",
       "      <td>4</td>\n",
       "    </tr>\n",
       "  </tbody>\n",
       "</table>\n",
       "</div>"
      ],
      "text/plain": [
       "     particle_notrack  frame        x        y  particle\n",
       "0                   1      0  741.606  421.285         0\n",
       "475               476      0  934.621  669.123         1\n",
       "476               477      0  969.010  669.361         2\n",
       "477               478      0  864.212  670.870         3\n",
       "478               479      0  629.403  670.738         4"
      ]
     },
     "execution_count": 9,
     "metadata": {},
     "output_type": "execute_result"
    }
   ],
   "source": [
    "df_linked.head()"
   ]
  },
  {
   "cell_type": "code",
   "execution_count": 10,
   "metadata": {},
   "outputs": [],
   "source": [
    "roi_condition = ((df_linked['x'] < roi_center_x + roi_size) &\n",
    "                 (df_linked['y'] < roi_center_y + roi_size) & \n",
    "                 (df_linked['y'] > roi_center_y - roi_size) & \n",
    "                 (df_linked['y'] > roi_center_y - roi_size))"
   ]
  },
  {
   "cell_type": "code",
   "execution_count": 11,
   "metadata": {},
   "outputs": [],
   "source": [
    "df_roi = df_linked[roi_condition]"
   ]
  },
  {
   "cell_type": "code",
   "execution_count": 12,
   "metadata": {},
   "outputs": [
    {
     "data": {
      "text/plain": [
       "79670"
      ]
     },
     "execution_count": 12,
     "metadata": {},
     "output_type": "execute_result"
    }
   ],
   "source": [
    "df_roi.size"
   ]
  },
  {
   "cell_type": "code",
   "execution_count": 13,
   "metadata": {},
   "outputs": [
    {
     "data": {
      "text/plain": [
       "3493110"
      ]
     },
     "execution_count": 13,
     "metadata": {},
     "output_type": "execute_result"
    }
   ],
   "source": [
    "df_linked.size"
   ]
  },
  {
   "cell_type": "code",
   "execution_count": 14,
   "metadata": {},
   "outputs": [],
   "source": [
    "particles_listing = np.unique(df_roi['particle'])"
   ]
  },
  {
   "cell_type": "code",
   "execution_count": 15,
   "metadata": {},
   "outputs": [
    {
     "data": {
      "text/plain": [
       "numpy.ndarray"
      ]
     },
     "execution_count": 15,
     "metadata": {},
     "output_type": "execute_result"
    }
   ],
   "source": [
    "type(particles_listing)"
   ]
  },
  {
   "cell_type": "code",
   "execution_count": 16,
   "metadata": {},
   "outputs": [
    {
     "data": {
      "text/plain": [
       "array([   113,    116,    360, ..., 164277, 164286, 164289], dtype=int64)"
      ]
     },
     "execution_count": 16,
     "metadata": {},
     "output_type": "execute_result"
    }
   ],
   "source": [
    "particles_listing"
   ]
  },
  {
   "cell_type": "code",
   "execution_count": 17,
   "metadata": {},
   "outputs": [
    {
     "data": {
      "text/plain": [
       "3390"
      ]
     },
     "execution_count": 17,
     "metadata": {},
     "output_type": "execute_result"
    }
   ],
   "source": [
    "len(particles_listing)"
   ]
  },
  {
   "cell_type": "code",
   "execution_count": 18,
   "metadata": {},
   "outputs": [],
   "source": [
    "traj_113 = df_roi[df_roi['particle'] == 113]"
   ]
  },
  {
   "cell_type": "code",
   "execution_count": 19,
   "metadata": {},
   "outputs": [
    {
     "data": {
      "text/plain": [
       "[<matplotlib.lines.Line2D at 0x1e4752f32b0>]"
      ]
     },
     "execution_count": 19,
     "metadata": {},
     "output_type": "execute_result"
    },
    {
     "data": {
      "image/png": "[encoded data removed]",
      "text/plain": [
       "<Figure size 432x288 with 1 Axes>"
      ]
     },
     "metadata": {
      "needs_background": "light"
     },
     "output_type": "display_data"
    }
   ],
   "source": [
    "fig, ax = plt.subplots()\n",
    "ax.plot(traj_113['x'], traj_113['y'])\n"
   ]
  },
  {
   "cell_type": "code",
   "execution_count": 20,
   "metadata": {},
   "outputs": [],
   "source": [
    "arr_traj_lengths = np.empty(len(particles_listing))"
   ]
  },
  {
   "cell_type": "code",
   "execution_count": 21,
   "metadata": {},
   "outputs": [],
   "source": [
    "for i in range(0, len(particles_listing)):\n",
    "    cur_len = len(df_roi[df_roi['particle'] == particles_listing[i]])\n",
    "    arr_traj_lengths[i] = cur_len\n",
    "               "
   ]
  },
  {
   "cell_type": "code",
   "execution_count": 22,
   "metadata": {},
   "outputs": [
    {
     "data": {
      "text/plain": [
       "742.0"
      ]
     },
     "execution_count": 22,
     "metadata": {},
     "output_type": "execute_result"
    }
   ],
   "source": [
    "np.max(arr_traj_lengths)"
   ]
  },
  {
   "cell_type": "code",
   "execution_count": 23,
   "metadata": {},
   "outputs": [],
   "source": [
    "pd_traj_len = pd.DataFrame({'particle':particles_listing, 'tr_len':arr_traj_lengths})"
   ]
  },
  {
   "cell_type": "code",
   "execution_count": 24,
   "metadata": {},
   "outputs": [
    {
     "data": {
      "text/html": [
       "<div>\n",
       "<style scoped>\n",
       "    .dataframe tbody tr th:only-of-type {\n",
       "        vertical-align: middle;\n",
       "    }\n",
       "\n",
       "    .dataframe tbody tr th {\n",
       "        vertical-align: top;\n",
       "    }\n",
       "\n",
       "    .dataframe thead th {\n",
       "        text-align: right;\n",
       "    }\n",
       "</style>\n",
       "<table border=\"1\" class=\"dataframe\">\n",
       "  <thead>\n",
       "    <tr style=\"text-align: right;\">\n",
       "      <th></th>\n",
       "      <th>particle</th>\n",
       "      <th>tr_len</th>\n",
       "    </tr>\n",
       "  </thead>\n",
       "  <tbody>\n",
       "    <tr>\n",
       "      <th>0</th>\n",
       "      <td>113</td>\n",
       "      <td>3.0</td>\n",
       "    </tr>\n",
       "    <tr>\n",
       "      <th>1</th>\n",
       "      <td>116</td>\n",
       "      <td>15.0</td>\n",
       "    </tr>\n",
       "    <tr>\n",
       "      <th>2</th>\n",
       "      <td>360</td>\n",
       "      <td>2.0</td>\n",
       "    </tr>\n",
       "    <tr>\n",
       "      <th>3</th>\n",
       "      <td>381</td>\n",
       "      <td>3.0</td>\n",
       "    </tr>\n",
       "    <tr>\n",
       "      <th>4</th>\n",
       "      <td>542</td>\n",
       "      <td>7.0</td>\n",
       "    </tr>\n",
       "  </tbody>\n",
       "</table>\n",
       "</div>"
      ],
      "text/plain": [
       "   particle  tr_len\n",
       "0       113     3.0\n",
       "1       116    15.0\n",
       "2       360     2.0\n",
       "3       381     3.0\n",
       "4       542     7.0"
      ]
     },
     "execution_count": 24,
     "metadata": {},
     "output_type": "execute_result"
    }
   ],
   "source": [
    "pd_traj_len.head()"
   ]
  },
  {
   "cell_type": "code",
   "execution_count": 25,
   "metadata": {},
   "outputs": [],
   "source": [
    "pd_traj_len.sort_values(by = 'tr_len', ascending = False, inplace = True)"
   ]
  },
  {
   "cell_type": "code",
   "execution_count": 26,
   "metadata": {},
   "outputs": [
    {
     "data": {
      "text/html": [
       "<div>\n",
       "<style scoped>\n",
       "    .dataframe tbody tr th:only-of-type {\n",
       "        vertical-align: middle;\n",
       "    }\n",
       "\n",
       "    .dataframe tbody tr th {\n",
       "        vertical-align: top;\n",
       "    }\n",
       "\n",
       "    .dataframe thead th {\n",
       "        text-align: right;\n",
       "    }\n",
       "</style>\n",
       "<table border=\"1\" class=\"dataframe\">\n",
       "  <thead>\n",
       "    <tr style=\"text-align: right;\">\n",
       "      <th></th>\n",
       "      <th>particle</th>\n",
       "      <th>tr_len</th>\n",
       "    </tr>\n",
       "  </thead>\n",
       "  <tbody>\n",
       "    <tr>\n",
       "      <th>11</th>\n",
       "      <td>579</td>\n",
       "      <td>742.0</td>\n",
       "    </tr>\n",
       "    <tr>\n",
       "      <th>18</th>\n",
       "      <td>626</td>\n",
       "      <td>467.0</td>\n",
       "    </tr>\n",
       "    <tr>\n",
       "      <th>1709</th>\n",
       "      <td>79028</td>\n",
       "      <td>406.0</td>\n",
       "    </tr>\n",
       "    <tr>\n",
       "      <th>2205</th>\n",
       "      <td>101818</td>\n",
       "      <td>371.0</td>\n",
       "    </tr>\n",
       "    <tr>\n",
       "      <th>15</th>\n",
       "      <td>605</td>\n",
       "      <td>200.0</td>\n",
       "    </tr>\n",
       "    <tr>\n",
       "      <th>594</th>\n",
       "      <td>26191</td>\n",
       "      <td>192.0</td>\n",
       "    </tr>\n",
       "    <tr>\n",
       "      <th>664</th>\n",
       "      <td>29889</td>\n",
       "      <td>165.0</td>\n",
       "    </tr>\n",
       "    <tr>\n",
       "      <th>7</th>\n",
       "      <td>559</td>\n",
       "      <td>151.0</td>\n",
       "    </tr>\n",
       "    <tr>\n",
       "      <th>13</th>\n",
       "      <td>593</td>\n",
       "      <td>138.0</td>\n",
       "    </tr>\n",
       "    <tr>\n",
       "      <th>1438</th>\n",
       "      <td>65787</td>\n",
       "      <td>124.0</td>\n",
       "    </tr>\n",
       "    <tr>\n",
       "      <th>1288</th>\n",
       "      <td>58515</td>\n",
       "      <td>113.0</td>\n",
       "    </tr>\n",
       "    <tr>\n",
       "      <th>3098</th>\n",
       "      <td>148401</td>\n",
       "      <td>97.0</td>\n",
       "    </tr>\n",
       "    <tr>\n",
       "      <th>1851</th>\n",
       "      <td>85466</td>\n",
       "      <td>91.0</td>\n",
       "    </tr>\n",
       "    <tr>\n",
       "      <th>989</th>\n",
       "      <td>44045</td>\n",
       "      <td>79.0</td>\n",
       "    </tr>\n",
       "    <tr>\n",
       "      <th>2076</th>\n",
       "      <td>95934</td>\n",
       "      <td>77.0</td>\n",
       "    </tr>\n",
       "    <tr>\n",
       "      <th>2398</th>\n",
       "      <td>111013</td>\n",
       "      <td>76.0</td>\n",
       "    </tr>\n",
       "    <tr>\n",
       "      <th>1580</th>\n",
       "      <td>72597</td>\n",
       "      <td>73.0</td>\n",
       "    </tr>\n",
       "    <tr>\n",
       "      <th>1181</th>\n",
       "      <td>53735</td>\n",
       "      <td>72.0</td>\n",
       "    </tr>\n",
       "    <tr>\n",
       "      <th>2446</th>\n",
       "      <td>113619</td>\n",
       "      <td>72.0</td>\n",
       "    </tr>\n",
       "    <tr>\n",
       "      <th>896</th>\n",
       "      <td>39340</td>\n",
       "      <td>69.0</td>\n",
       "    </tr>\n",
       "  </tbody>\n",
       "</table>\n",
       "</div>"
      ],
      "text/plain": [
       "      particle  tr_len\n",
       "11         579   742.0\n",
       "18         626   467.0\n",
       "1709     79028   406.0\n",
       "2205    101818   371.0\n",
       "15         605   200.0\n",
       "594      26191   192.0\n",
       "664      29889   165.0\n",
       "7          559   151.0\n",
       "13         593   138.0\n",
       "1438     65787   124.0\n",
       "1288     58515   113.0\n",
       "3098    148401    97.0\n",
       "1851     85466    91.0\n",
       "989      44045    79.0\n",
       "2076     95934    77.0\n",
       "2398    111013    76.0\n",
       "1580     72597    73.0\n",
       "1181     53735    72.0\n",
       "2446    113619    72.0\n",
       "896      39340    69.0"
      ]
     },
     "execution_count": 26,
     "metadata": {},
     "output_type": "execute_result"
    }
   ],
   "source": [
    "pd_traj_len.head(20)"
   ]
  },
  {
   "cell_type": "code",
   "execution_count": 27,
   "metadata": {},
   "outputs": [],
   "source": [
    "traj_579 = df_roi[df_roi['particle'] == 579]\n",
    "N = len(traj_579['x'])"
   ]
  },
  {
   "cell_type": "code",
   "execution_count": 28,
   "metadata": {},
   "outputs": [
    {
     "data": {
      "text/plain": [
       "[<matplotlib.lines.Line2D at 0x1e4753dbf60>]"
      ]
     },
     "execution_count": 28,
     "metadata": {},
     "output_type": "execute_result"
    },
    {
     "data": {
      "image/png": "[encoded data removed]",
      "text/plain": [
       "<Figure size 432x288 with 1 Axes>"
      ]
     },
     "metadata": {
      "needs_background": "light"
     },
     "output_type": "display_data"
    }
   ],
   "source": [
    "\n",
    "fig, ax = plt.subplots()\n",
    "ax.plot(traj_579['x'], traj_579['y'])"
   ]
  },
  {
   "cell_type": "code",
   "execution_count": 29,
   "metadata": {},
   "outputs": [
    {
     "data": {
      "text/plain": [
       "array([0.        , 0.01011464, 0.02022928, 0.03034393, 0.04045857,\n",
       "       0.05057321, 0.06068785, 0.07080249, 0.08091713, 0.09103178,\n",
       "       0.10114642, 0.11126106, 0.1213757 , 0.13149034, 0.14160498,\n",
       "       0.15171963, 0.16183427, 0.17194891, 0.18206355, 0.19217819,\n",
       "       0.20229283, 0.21240748, 0.22252212, 0.23263676, 0.2427514 ,\n",
       "       0.25286604, 0.26298068, 0.27309533, 0.28320997, 0.29332461,\n",
       "       0.30343925, 0.31355389, 0.32366853, 0.33378318, 0.34389782,\n",
       "       0.35401246, 0.3641271 , 0.37424174, 0.38435638, 0.39447103,\n",
       "       0.40458567, 0.41470031, 0.42481495, 0.43492959, 0.44504423,\n",
       "       0.45515888, 0.46527352, 0.47538816, 0.4855028 , 0.49561744,\n",
       "       0.50573208, 0.51584673, 0.52596137, 0.53607601, 0.54619065,\n",
       "       0.55630529, 0.56641993, 0.57653458, 0.58664922, 0.59676386,\n",
       "       0.6068785 , 0.61699314, 0.62710779, 0.63722243, 0.64733707,\n",
       "       0.65745171, 0.66756635, 0.67768099, 0.68779564, 0.69791028,\n",
       "       0.70802492, 0.71813956, 0.7282542 , 0.73836884, 0.74848349,\n",
       "       0.75859813, 0.76871277, 0.77882741, 0.78894205, 0.79905669,\n",
       "       0.80917134, 0.81928598, 0.82940062, 0.83951526, 0.8496299 ,\n",
       "       0.85974454, 0.86985919, 0.87997383, 0.89008847, 0.90020311,\n",
       "       0.91031775, 0.92043239, 0.93054704, 0.94066168, 0.95077632,\n",
       "       0.96089096, 0.9710056 , 0.98112024, 0.99123489, 1.00134953,\n",
       "       1.01146417, 1.02157881, 1.03169345, 1.04180809, 1.05192274,\n",
       "       1.06203738, 1.07215202, 1.08226666, 1.0923813 , 1.10249594,\n",
       "       1.11261059, 1.12272523, 1.13283987, 1.14295451, 1.15306915,\n",
       "       1.16318379, 1.17329844, 1.18341308, 1.19352772, 1.20364236,\n",
       "       1.213757  , 1.22387164, 1.23398629, 1.24410093, 1.25421557,\n",
       "       1.26433021, 1.27444485, 1.2845595 , 1.29467414, 1.30478878,\n",
       "       1.31490342, 1.32501806, 1.3351327 , 1.34524735, 1.35536199,\n",
       "       1.36547663, 1.37559127, 1.38570591, 1.39582055, 1.4059352 ,\n",
       "       1.41604984, 1.42616448, 1.43627912, 1.44639376, 1.4565084 ,\n",
       "       1.46662305, 1.47673769, 1.48685233, 1.49696697, 1.50708161,\n",
       "       1.51719625, 1.5273109 , 1.53742554, 1.54754018, 1.55765482,\n",
       "       1.56776946, 1.5778841 , 1.58799875, 1.59811339, 1.60822803,\n",
       "       1.61834267, 1.62845731, 1.63857195, 1.6486866 , 1.65880124,\n",
       "       1.66891588, 1.67903052, 1.68914516, 1.6992598 , 1.70937445,\n",
       "       1.71948909, 1.72960373, 1.73971837, 1.74983301, 1.75994765,\n",
       "       1.7700623 , 1.78017694, 1.79029158, 1.80040622, 1.81052086,\n",
       "       1.8206355 , 1.83075015, 1.84086479, 1.85097943, 1.86109407,\n",
       "       1.87120871, 1.88132336, 1.891438  , 1.90155264, 1.91166728,\n",
       "       1.92178192, 1.93189656, 1.94201121, 1.95212585, 1.96224049,\n",
       "       1.97235513, 1.98246977, 1.99258441, 2.00269906, 2.0128137 ,\n",
       "       2.02292834, 2.03304298, 2.04315762, 2.05327226, 2.06338691,\n",
       "       2.07350155, 2.08361619, 2.09373083, 2.10384547, 2.11396011,\n",
       "       2.12407476, 2.1341894 , 2.14430404, 2.15441868, 2.16453332,\n",
       "       2.17464796, 2.18476261, 2.19487725, 2.20499189, 2.21510653,\n",
       "       2.22522117, 2.23533581, 2.24545046, 2.2555651 , 2.26567974,\n",
       "       2.27579438, 2.28590902, 2.29602366, 2.30613831, 2.31625295,\n",
       "       2.32636759, 2.33648223, 2.34659687, 2.35671151, 2.36682616,\n",
       "       2.3769408 , 2.38705544, 2.39717008, 2.40728472, 2.41739936,\n",
       "       2.42751401, 2.43762865, 2.44774329, 2.45785793, 2.46797257,\n",
       "       2.47808721, 2.48820186, 2.4983165 , 2.50843114, 2.51854578,\n",
       "       2.52866042, 2.53877507, 2.54888971, 2.55900435, 2.56911899,\n",
       "       2.57923363, 2.58934827, 2.59946292, 2.60957756, 2.6196922 ,\n",
       "       2.62980684, 2.63992148, 2.65003612, 2.66015077, 2.67026541,\n",
       "       2.68038005, 2.69049469, 2.70060933, 2.71072397, 2.72083862,\n",
       "       2.73095326, 2.7410679 , 2.75118254, 2.76129718, 2.77141182,\n",
       "       2.78152647, 2.79164111, 2.80175575, 2.81187039, 2.82198503,\n",
       "       2.83209967, 2.84221432, 2.85232896, 2.8624436 , 2.87255824,\n",
       "       2.88267288, 2.89278752, 2.90290217, 2.91301681, 2.92313145,\n",
       "       2.93324609, 2.94336073, 2.95347537, 2.96359002, 2.97370466,\n",
       "       2.9838193 , 2.99393394, 3.00404858, 3.01416322, 3.02427787,\n",
       "       3.03439251, 3.04450715, 3.05462179, 3.06473643, 3.07485107,\n",
       "       3.08496572, 3.09508036, 3.105195  , 3.11530964, 3.12542428,\n",
       "       3.13553893, 3.14565357, 3.15576821, 3.16588285, 3.17599749,\n",
       "       3.18611213, 3.19622678, 3.20634142, 3.21645606, 3.2265707 ,\n",
       "       3.23668534, 3.24679998, 3.25691463, 3.26702927, 3.27714391,\n",
       "       3.28725855, 3.29737319, 3.30748783, 3.31760248, 3.32771712,\n",
       "       3.33783176, 3.3479464 , 3.35806104, 3.36817568, 3.37829033,\n",
       "       3.38840497, 3.39851961, 3.40863425, 3.41874889, 3.42886353,\n",
       "       3.43897818, 3.44909282, 3.45920746, 3.4693221 , 3.47943674,\n",
       "       3.48955138, 3.49966603, 3.50978067, 3.51989531, 3.53000995,\n",
       "       3.54012459, 3.55023923, 3.56035388, 3.57046852, 3.58058316,\n",
       "       3.5906978 , 3.60081244, 3.61092708, 3.62104173, 3.63115637,\n",
       "       3.64127101, 3.65138565, 3.66150029, 3.67161493, 3.68172958,\n",
       "       3.69184422, 3.70195886, 3.7120735 , 3.72218814, 3.73230278,\n",
       "       3.74241743, 3.75253207, 3.76264671, 3.77276135, 3.78287599,\n",
       "       3.79299064, 3.80310528, 3.81321992, 3.82333456, 3.8334492 ,\n",
       "       3.84356384, 3.85367849, 3.86379313, 3.87390777, 3.88402241,\n",
       "       3.89413705, 3.90425169, 3.91436634, 3.92448098, 3.93459562,\n",
       "       3.94471026, 3.9548249 , 3.96493954, 3.97505419, 3.98516883,\n",
       "       3.99528347, 4.00539811, 4.01551275, 4.02562739, 4.03574204,\n",
       "       4.04585668, 4.05597132, 4.06608596, 4.0762006 , 4.08631524,\n",
       "       4.09642989, 4.10654453, 4.11665917, 4.12677381, 4.13688845,\n",
       "       4.14700309, 4.15711774, 4.16723238, 4.17734702, 4.18746166,\n",
       "       4.1975763 , 4.20769094, 4.21780559, 4.22792023, 4.23803487,\n",
       "       4.24814951, 4.25826415, 4.26837879, 4.27849344, 4.28860808,\n",
       "       4.29872272, 4.30883736, 4.318952  , 4.32906664, 4.33918129,\n",
       "       4.34929593, 4.35941057, 4.36952521, 4.37963985, 4.3897545 ,\n",
       "       4.39986914, 4.40998378, 4.42009842, 4.43021306, 4.4403277 ,\n",
       "       4.45044235, 4.46055699, 4.47067163, 4.48078627, 4.49090091,\n",
       "       4.50101555, 4.5111302 , 4.52124484, 4.53135948, 4.54147412,\n",
       "       4.55158876, 4.5617034 , 4.57181805, 4.58193269, 4.59204733,\n",
       "       4.60216197, 4.61227661, 4.62239125, 4.6325059 , 4.64262054,\n",
       "       4.65273518, 4.66284982, 4.67296446, 4.6830791 , 4.69319375,\n",
       "       4.70330839, 4.71342303, 4.72353767, 4.73365231, 4.74376695,\n",
       "       4.7538816 , 4.76399624, 4.77411088, 4.78422552, 4.79434016,\n",
       "       4.8044548 , 4.81456945, 4.82468409, 4.83479873, 4.84491337,\n",
       "       4.85502801, 4.86514265, 4.8752573 , 4.88537194, 4.89548658,\n",
       "       4.90560122, 4.91571586, 4.9258305 , 4.93594515, 4.94605979,\n",
       "       4.95617443, 4.96628907, 4.97640371, 4.98651835, 4.996633  ,\n",
       "       5.00674764, 5.01686228, 5.02697692, 5.03709156, 5.04720621,\n",
       "       5.05732085, 5.06743549, 5.07755013, 5.08766477, 5.09777941,\n",
       "       5.10789406, 5.1180087 , 5.12812334, 5.13823798, 5.14835262,\n",
       "       5.15846726, 5.16858191, 5.17869655, 5.18881119, 5.19892583,\n",
       "       5.20904047, 5.21915511, 5.22926976, 5.2393844 , 5.24949904,\n",
       "       5.25961368, 5.26972832, 5.27984296, 5.28995761, 5.30007225,\n",
       "       5.31018689, 5.32030153, 5.33041617, 5.34053081, 5.35064546,\n",
       "       5.3607601 , 5.37087474, 5.38098938, 5.39110402, 5.40121866,\n",
       "       5.41133331, 5.42144795, 5.43156259, 5.44167723, 5.45179187,\n",
       "       5.46190651, 5.47202116, 5.4821358 , 5.49225044, 5.50236508,\n",
       "       5.51247972, 5.52259436, 5.53270901, 5.54282365, 5.55293829,\n",
       "       5.56305293, 5.57316757, 5.58328221, 5.59339686, 5.6035115 ,\n",
       "       5.61362614, 5.62374078, 5.63385542, 5.64397007, 5.65408471,\n",
       "       5.66419935, 5.67431399, 5.68442863, 5.69454327, 5.70465792,\n",
       "       5.71477256, 5.7248872 , 5.73500184, 5.74511648, 5.75523112,\n",
       "       5.76534577, 5.77546041, 5.78557505, 5.79568969, 5.80580433,\n",
       "       5.81591897, 5.82603362, 5.83614826, 5.8462629 , 5.85637754,\n",
       "       5.86649218, 5.87660682, 5.88672147, 5.89683611, 5.90695075,\n",
       "       5.91706539, 5.92718003, 5.93729467, 5.94740932, 5.95752396,\n",
       "       5.9676386 , 5.97775324, 5.98786788, 5.99798252, 6.00809717,\n",
       "       6.01821181, 6.02832645, 6.03844109, 6.04855573, 6.05867037,\n",
       "       6.06878502, 6.07889966, 6.0890143 , 6.09912894, 6.10924358,\n",
       "       6.11935822, 6.12947287, 6.13958751, 6.14970215, 6.15981679,\n",
       "       6.16993143, 6.18004607, 6.19016072, 6.20027536, 6.21039   ,\n",
       "       6.22050464, 6.23061928, 6.24073392, 6.25084857, 6.26096321,\n",
       "       6.27107785, 6.28119249, 6.29130713, 6.30142178, 6.31153642,\n",
       "       6.32165106, 6.3317657 , 6.34188034, 6.35199498, 6.36210963,\n",
       "       6.37222427, 6.38233891, 6.39245355, 6.40256819, 6.41268283,\n",
       "       6.42279748, 6.43291212, 6.44302676, 6.4531414 , 6.46325604,\n",
       "       6.47337068, 6.48348533, 6.49359997, 6.50371461, 6.51382925,\n",
       "       6.52394389, 6.53405853, 6.54417318, 6.55428782, 6.56440246,\n",
       "       6.5745171 , 6.58463174, 6.59474638, 6.60486103, 6.61497567,\n",
       "       6.62509031, 6.63520495, 6.64531959, 6.65543423, 6.66554888,\n",
       "       6.67566352, 6.68577816, 6.6958928 , 6.70600744, 6.71612208,\n",
       "       6.72623673, 6.73635137, 6.74646601, 6.75658065, 6.76669529,\n",
       "       6.77680993, 6.78692458, 6.79703922, 6.80715386, 6.8172685 ,\n",
       "       6.82738314, 6.83749778, 6.84761243, 6.85772707, 6.86784171,\n",
       "       6.87795635, 6.88807099, 6.89818564, 6.90830028, 6.91841492,\n",
       "       6.92852956, 6.9386442 , 6.94875884, 6.95887349, 6.96898813,\n",
       "       6.97910277, 6.98921741, 6.99933205, 7.00944669, 7.01956134,\n",
       "       7.02967598, 7.03979062, 7.04990526, 7.0600199 , 7.07013454,\n",
       "       7.08024919, 7.09036383, 7.10047847, 7.11059311, 7.12070775,\n",
       "       7.13082239, 7.14093704, 7.15105168, 7.16116632, 7.17128096,\n",
       "       7.1813956 , 7.19151024, 7.20162489, 7.21173953, 7.22185417,\n",
       "       7.23196881, 7.24208345, 7.25219809, 7.26231274, 7.27242738,\n",
       "       7.28254202, 7.29265666, 7.3027713 , 7.31288594, 7.32300059,\n",
       "       7.33311523, 7.34322987, 7.35334451, 7.36345915, 7.37357379,\n",
       "       7.38368844, 7.39380308, 7.40391772, 7.41403236, 7.424147  ,\n",
       "       7.43426164, 7.44437629, 7.45449093, 7.46460557, 7.47472021,\n",
       "       7.48483485, 7.49494949])"
      ]
     },
     "execution_count": 29,
     "metadata": {},
     "output_type": "execute_result"
    }
   ],
   "source": [
    "arr_time = np.linspace(0.0, 1.0 / fps * len(traj_579['x']), len(traj_579['x']))\n",
    "arr_time"
   ]
  },
  {
   "cell_type": "code",
   "execution_count": 30,
   "metadata": {},
   "outputs": [],
   "source": [
    "intensities = np.fft.fft(traj_579['x'])"
   ]
  },
  {
   "cell_type": "code",
   "execution_count": 31,
   "metadata": {},
   "outputs": [],
   "source": [
    "freqs = np.fft.fftfreq(len(traj_579['x']), 1.0 / fps)[:N//2]"
   ]
  },
  {
   "cell_type": "code",
   "execution_count": 32,
   "metadata": {},
   "outputs": [
    {
     "data": {
      "text/plain": [
       "[<matplotlib.lines.Line2D at 0x1e472cf70b8>]"
      ]
     },
     "execution_count": 32,
     "metadata": {},
     "output_type": "execute_result"
    },
    {
     "data": {
      "image/png": "[encoded data removed]",
      "text/plain": [
       "<Figure size 432x288 with 1 Axes>"
      ]
     },
     "metadata": {
      "needs_background": "light"
     },
     "output_type": "display_data"
    }
   ],
   "source": [
    "fig, ax = plt.subplots()\n",
    "ax.plot(freqs, 2.0 / N * np.abs(intensities[0:N//2]))"
   ]
  },
  {
   "cell_type": "code",
   "execution_count": 33,
   "metadata": {},
   "outputs": [
    {
     "data": {
      "text/plain": [
       "742"
      ]
     },
     "execution_count": 33,
     "metadata": {},
     "output_type": "execute_result"
    }
   ],
   "source": [
    "N"
   ]
  },
  {
   "cell_type": "code",
   "execution_count": 34,
   "metadata": {},
   "outputs": [],
   "source": [
    "slope, intercept = np.polyfit(arr_time, traj_579['x'], 1)"
   ]
  },
  {
   "cell_type": "code",
   "execution_count": 35,
   "metadata": {},
   "outputs": [],
   "source": [
    "arr_x_nodrift = traj_579['x'] - (slope * arr_time + intercept)"
   ]
  },
  {
   "cell_type": "code",
   "execution_count": 36,
   "metadata": {},
   "outputs": [],
   "source": [
    "intensities = np.fft.fft(arr_x_nodrift)\n",
    "freqs = np.fft.fftfreq(len(arr_x_nodrift), 1.0 / fps)[:N//2]"
   ]
  },
  {
   "cell_type": "code",
   "execution_count": 37,
   "metadata": {},
   "outputs": [
    {
     "data": {
      "text/plain": [
       "[<matplotlib.lines.Line2D at 0x1e47532f080>]"
      ]
     },
     "execution_count": 37,
     "metadata": {},
     "output_type": "execute_result"
    },
    {
     "data": {
      "image/png": "[encoded data removed]",
      "text/plain": [
       "<Figure size 432x288 with 1 Axes>"
      ]
     },
     "metadata": {
      "needs_background": "light"
     },
     "output_type": "display_data"
    }
   ],
   "source": [
    "fig, ax = plt.subplots()\n",
    "ax.set_xlim(0, 30)\n",
    "ax.plot(freqs, 2.0 / N * np.abs(intensities[0:N//2]))"
   ]
  },
  {
   "cell_type": "code",
   "execution_count": 60,
   "metadata": {},
   "outputs": [],
   "source": [
    "def get_spectrum(arr_t, arr_sig):\n",
    "    slope, intercept = np.polyfit(arr_t, arr_sig, 1)\n",
    "    arr_sig_nodrift = arr_sig - (slope * arr_t + intercept)\n",
    "    arr_intens = np.fft.fft(arr_sig_nodrift)\n",
    "    dt = arr_t[1] - arr_t[0]\n",
    "    N = len(arr_t)\n",
    "    print(N)\n",
    "    arr_freqs = np.fft.fftfreq(N, dt)[:N//2]    \n",
    "    return arr_freqs, arr_intens"
   ]
  },
  {
   "cell_type": "code",
   "execution_count": 39,
   "metadata": {},
   "outputs": [],
   "source": [
    "test_arr_freqs, test_arr_intens = get_spectrum(arr_time, traj_579['x'])"
   ]
  },
  {
   "cell_type": "code",
   "execution_count": 40,
   "metadata": {},
   "outputs": [
    {
     "data": {
      "text/plain": [
       "[<matplotlib.lines.Line2D at 0x1e4774cc3c8>]"
      ]
     },
     "execution_count": 40,
     "metadata": {},
     "output_type": "execute_result"
    },
    {
     "data": {
      "image/png": "[encoded data removed]",
      "text/plain": [
       "<Figure size 432x288 with 1 Axes>"
      ]
     },
     "metadata": {
      "needs_background": "light"
     },
     "output_type": "display_data"
    }
   ],
   "source": [
    "fig, ax = plt.subplots()\n",
    "ax.set_xlim(0, 50)\n",
    "ax.plot(test_arr_freqs, 2.0 / N * np.abs(test_arr_intens[0:N//2]))"
   ]
  },
  {
   "cell_type": "code",
   "execution_count": 41,
   "metadata": {},
   "outputs": [],
   "source": [
    "t_time = np.arange(0, 10, 0.0001)+ 50.0"
   ]
  },
  {
   "cell_type": "code",
   "execution_count": 42,
   "metadata": {},
   "outputs": [],
   "source": [
    "t_sig = 10.0 * np.sin(math.pi * 2.0 * t_time * 1) + 100"
   ]
  },
  {
   "cell_type": "code",
   "execution_count": 43,
   "metadata": {},
   "outputs": [],
   "source": [
    "t_f, t_int = get_spectrum(t_time, t_sig)"
   ]
  },
  {
   "cell_type": "code",
   "execution_count": 44,
   "metadata": {},
   "outputs": [
    {
     "data": {
      "text/plain": [
       "[<matplotlib.lines.Line2D at 0x1e477485c18>]"
      ]
     },
     "execution_count": 44,
     "metadata": {},
     "output_type": "execute_result"
    },
    {
     "data": {
      "image/png": "[encoded data removed]",
      "text/plain": [
       "<Figure size 432x288 with 1 Axes>"
      ]
     },
     "metadata": {
      "needs_background": "light"
     },
     "output_type": "display_data"
    }
   ],
   "source": [
    "fig, ax = plt.subplots()\n",
    "ax.set_xlim(0, 5)\n",
    "ax.plot(t_f, 2.0 / len(t_f) * np.abs(t_int)[0:len(t_int)//2])"
   ]
  },
  {
   "cell_type": "code",
   "execution_count": 45,
   "metadata": {},
   "outputs": [
    {
     "data": {
      "text/plain": [
       "50000"
      ]
     },
     "execution_count": 45,
     "metadata": {},
     "output_type": "execute_result"
    }
   ],
   "source": [
    "len(2.0 / len(t_f) * np.abs(t_int)[0:len(t_int)//2])"
   ]
  },
  {
   "cell_type": "code",
   "execution_count": 46,
   "metadata": {},
   "outputs": [
    {
     "data": {
      "text/plain": [
       "50000"
      ]
     },
     "execution_count": 46,
     "metadata": {},
     "output_type": "execute_result"
    }
   ],
   "source": [
    "len(t_f)"
   ]
  },
  {
   "cell_type": "code",
   "execution_count": 54,
   "metadata": {},
   "outputs": [
    {
     "data": {
      "text/plain": [
       "[<matplotlib.lines.Line2D at 0x1e471532518>]"
      ]
     },
     "execution_count": 54,
     "metadata": {},
     "output_type": "execute_result"
    },
    {
     "data": {
      "image/png": "[encoded data removed]",
      "text/plain": [
       "<Figure size 432x288 with 1 Axes>"
      ]
     },
     "metadata": {
      "needs_background": "light"
     },
     "output_type": "display_data"
    }
   ],
   "source": [
    "t_f, t_int = get_spectrum(arr_time, traj_579['y'])\n",
    "fig, ax = plt.subplots()\n",
    "ax.set_xlim(0, 50)\n",
    "#ax.set_ylim(0, 0.1)\n",
    "ax.plot(t_f, 2.0 / len(t_f) * np.abs(t_int)[0:len(t_int)//2])"
   ]
  },
  {
   "cell_type": "code",
   "execution_count": 48,
   "metadata": {},
   "outputs": [
    {
     "name": "stdout",
     "output_type": "stream",
     "text": [
      "579   0.6662168249286184\n",
      "626   0.6346124747236219\n",
      "79028   0.2432417675750443\n",
      "101818   0.5322541975138222\n",
      "605   1.9701\n",
      "26191   1.02587890625\n",
      "29889   0.5963636363636364\n",
      "559   0.6512872242445507\n",
      "593   1.4243856332703213\n",
      "65787   0.7919484911550467\n",
      "58515   2.6050591275745947\n",
      "148401   8.08077372728239\n",
      "85466   1.075957010022944\n",
      "44045   37.11905143406505\n",
      "95934   1.2690166975881263\n",
      "111013   1.2854916897506923\n",
      "72597   6.687933946331393\n",
      "53735   6.779513888888888\n",
      "113619   1.3559027777777777\n",
      "39340   4.241965973534971\n",
      "91256   1.522705078125\n",
      "124969   3.09297052154195\n",
      "73716   3.1420395421436003\n",
      "154871   3.2990519965527145\n",
      "151550   1.6774673008323422\n",
      "128478   3.4127423822714684\n",
      "120800   3.4127423822714684\n",
      "93837   6.945153061224489\n",
      "592   7.069090909090908\n",
      "21204   3.5987654320987654\n",
      "70951   1.832680669277323\n",
      "63848   1.867233727810651\n",
      "156060   3.734467455621302\n",
      "150678   3.9583506872136605\n",
      "102172   1.9791753436068302\n",
      "10479   37.10819375282932\n",
      "142632   6.316162570888467\n",
      "77387   4.210775047258978\n",
      "31742   6.453333333333333\n",
      "53393   2.1988636363636362\n",
      "62827   2.2487831260140614\n",
      "66623   4.497566252028123\n",
      "81985   2.3010204081632653\n",
      "149655   2.4733727810650885\n",
      "18380   2.4733727810650885\n",
      "42033   2.4733727810650885\n",
      "141891   5.073407202216067\n",
      "148406   5.2067202337472605\n",
      "139822   5.347222222222222\n",
      "55666   16.041666666666668\n",
      "109287   2.673611111111111\n",
      "125460   5.495510204081632\n",
      "36424   8.243265306122447\n",
      "57698   5.495510204081632\n",
      "68934   36.739619377162626\n",
      "131180   36.739619377162626\n",
      "23984   5.6522491349480966\n",
      "74871   22.608996539792386\n",
      "150164   2.8261245674740483\n",
      "103345   5.8181818181818175\n",
      "59178   11.636363636363635\n",
      "146247   5.8181818181818175\n",
      "49243   2.9970703124999996\n",
      "104679   2.9970703124999996\n",
      "16397   6.181061394380852\n",
      "73854   6.181061394380852\n",
      "76036   15.45265348595213\n",
      "48189   6.38\n",
      "157209   3.19\n",
      "57700   3.19\n",
      "121846   28.71\n",
      "51093   3.2960760998810943\n",
      "141226   13.184304399524377\n",
      "5053   6.592152199762189\n",
      "106720   6.592152199762189\n",
      "86683   6.8188775510204085\n",
      "152028   3.4094387755102042\n",
      "146378   3.4094387755102042\n",
      "34422   13.637755102040817\n",
      "7597   7.061728395061727\n",
      "107950   3.5308641975308634\n",
      "60817   3.5308641975308634\n",
      "141571   10.983727810650885\n",
      "124800   7.32248520710059\n",
      "10474   3.661242603550295\n",
      "160278   7.32248520710059\n",
      "135026   7.603199999999999\n",
      "71096   7.603199999999999\n",
      "606   7.603199999999999\n",
      "61507   3.8015999999999996\n",
      "91266   3.8015999999999996\n",
      "131348   7.603199999999999\n",
      "152682   31.625000000000004\n",
      "146556   3.9531250000000004\n",
      "118374   3.9531250000000004\n",
      "92473   3.9531250000000004\n",
      "136898   3.9531250000000004\n",
      "91609   11.859375000000002\n",
      "78106   3.9531250000000004\n",
      "111861   7.906250000000001\n"
     ]
    }
   ],
   "source": [
    "arr_longs = np.array(pd_traj_len['particle'])\n",
    "for i in range(0, 100):\n",
    "    cur_particle = arr_longs[i]\n",
    "    df_cur_traj = df_roi[df_roi['particle'] == cur_particle]\n",
    "    arr_time = np.linspace(0.0, 1.0 / fps * len(df_cur_traj['x']), len(df_cur_traj['x']))\n",
    "    arr_signal = np.array(df_cur_traj['x'])\n",
    "    arr_f, arr_intens = get_spectrum(arr_time, arr_signal)\n",
    "    ind_max = np.argmax(np.abs(arr_intens[0:len(arr_intens)//2]))\n",
    "    max_f = arr_f[ind_max]\n",
    "    print(cur_particle, ' ', max_f)\n",
    "    \n",
    "    \n",
    "    "
   ]
  },
  {
   "cell_type": "code",
   "execution_count": 49,
   "metadata": {},
   "outputs": [
    {
     "data": {
      "text/plain": [
       "array([   579,    626,  79028, ...,  67101,  67107, 164289], dtype=int64)"
      ]
     },
     "execution_count": 49,
     "metadata": {},
     "output_type": "execute_result"
    }
   ],
   "source": [
    "arr_longs"
   ]
  },
  {
   "cell_type": "code",
   "execution_count": 50,
   "metadata": {},
   "outputs": [
    {
     "data": {
      "text/plain": [
       "74871"
      ]
     },
     "execution_count": 50,
     "metadata": {},
     "output_type": "execute_result"
    }
   ],
   "source": [
    "74871"
   ]
  },
  {
   "cell_type": "code",
   "execution_count": 63,
   "metadata": {},
   "outputs": [],
   "source": [
    "traj_74871 = df_roi[df_roi['particle'] == 74871]\n",
    "N = len(traj_74871['x'])\n",
    "arr_time = np.linspace(0.0, 1.0 / fps * N, N)"
   ]
  },
  {
   "cell_type": "code",
   "execution_count": 64,
   "metadata": {
    "scrolled": true
   },
   "outputs": [
    {
     "data": {
      "text/plain": [
       "array([0.        , 0.0104071 , 0.0208142 , 0.0312213 , 0.04162841,\n",
       "       0.05203551, 0.06244261, 0.07284971, 0.08325681, 0.09366391,\n",
       "       0.10407101, 0.11447811, 0.12488522, 0.13529232, 0.14569942,\n",
       "       0.15610652, 0.16651362, 0.17692072, 0.18732782, 0.19773493,\n",
       "       0.20814203, 0.21854913, 0.22895623, 0.23936333, 0.24977043,\n",
       "       0.26017753, 0.27058463, 0.28099174, 0.29139884, 0.30180594,\n",
       "       0.31221304, 0.32262014, 0.33302724, 0.34343434])"
      ]
     },
     "execution_count": 64,
     "metadata": {},
     "output_type": "execute_result"
    }
   ],
   "source": [
    "arr_time"
   ]
  },
  {
   "cell_type": "code",
   "execution_count": 66,
   "metadata": {},
   "outputs": [
    {
     "name": "stdout",
     "output_type": "stream",
     "text": [
      "34\n"
     ]
    },
    {
     "data": {
      "text/plain": [
       "[<matplotlib.lines.Line2D at 0x1e47158ff28>]"
      ]
     },
     "execution_count": 66,
     "metadata": {},
     "output_type": "execute_result"
    },
    {
     "data": {
      "image/png": "[encoded data removed]",
      "text/plain": [
       "<Figure size 432x288 with 1 Axes>"
      ]
     },
     "metadata": {
      "needs_background": "light"
     },
     "output_type": "display_data"
    }
   ],
   "source": [
    "t_f, t_int = get_spectrum(arr_time, traj_74871['x'])\n",
    "fig, ax = plt.subplots()\n",
    "#ax.set_xlim(0, 50)\n",
    "#ax.set_ylim(0, 0.1)\n",
    "ax.plot(t_f, np.array(2.0 / len(t_f) * np.abs(t_int)[0:len(t_int)//2]))"
   ]
  },
  {
   "cell_type": "code",
   "execution_count": null,
   "metadata": {},
   "outputs": [],
   "source": [
    "len(t_f)"
   ]
  },
  {
   "cell_type": "code",
   "execution_count": null,
   "metadata": {},
   "outputs": [],
   "source": [
    "len(t_int)"
   ]
  },
  {
   "cell_type": "code",
   "execution_count": null,
   "metadata": {},
   "outputs": [],
   "source": [
    "len(2.0 / len(t_f) * np.abs(t_int)[0:len(t_int)//2])"
   ]
  },
  {
   "cell_type": "code",
   "execution_count": null,
   "metadata": {},
   "outputs": [],
   "source": [
    "len(np.array(2.0 / len(t_f) * np.abs(t_int)[0:len(t_int)//2]))"
   ]
  },
  {
   "cell_type": "code",
   "execution_count": null,
   "metadata": {},
   "outputs": [],
   "source": [
    "len(t_f)"
   ]
  },
  {
   "cell_type": "code",
   "execution_count": 59,
   "metadata": {},
   "outputs": [
    {
     "data": {
      "text/plain": [
       "34"
      ]
     },
     "execution_count": 59,
     "metadata": {},
     "output_type": "execute_result"
    }
   ],
   "source": [
    "N = len(traj_74871['x'])\n",
    "N"
   ]
  },
  {
   "cell_type": "code",
   "execution_count": null,
   "metadata": {},
   "outputs": [],
   "source": []
  }
 ],
 "metadata": {
  "kernelspec": {
   "display_name": "Python 3",
   "language": "python",
   "name": "python3"
  },
  "language_info": {
   "codemirror_mode": {
    "name": "ipython",
    "version": 3
   },
   "file_extension": ".py",
   "mimetype": "text/x-python",
   "name": "python",
   "nbconvert_exporter": "python",
   "pygments_lexer": "ipython3",
   "version": "3.7.1"
  }
 },
 "nbformat": 4,
 "nbformat_minor": 2
}
