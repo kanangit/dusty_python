{
 "cells": [
  {
   "cell_type": "code",
   "execution_count": 1,
   "metadata": {},
   "outputs": [],
   "source": [
    "import math as m\n",
    "import numpy as np\n",
    "from IPython.display import clear_output\n",
    "from time import sleep"
   ]
  },
  {
   "cell_type": "code",
   "execution_count": 2,
   "metadata": {},
   "outputs": [
    {
     "data": {
      "text/plain": [
       "array([ 135.,  165.,  195.,  225.,  255.,  285.,  315.,  345.,  375.,\n",
       "        405.,  435.,  465.,  495.,  525.,  555.,  585.,  615.,  645.,\n",
       "        675.,  705.,  735.,  765.,  795.,  825.,  855.,  885.,  915.,\n",
       "        945.,  975., 1005., 1035., 1065., 1095., 1125., 1155., 1185.,\n",
       "       1215., 1245., 1275., 1305., 1335., 1365., 1395.])"
      ]
     },
     "execution_count": 2,
     "metadata": {},
     "output_type": "execute_result"
    }
   ],
   "source": [
    "#select ROI and range of frames of interest:\n",
    "curDate=r'20230220' #current date\n",
    "framesSkip = 10\n",
    "#define borders of the region of interest\n",
    "leftBorder = 56.0\n",
    "rightBorder= 440.0\n",
    "yMin = 120.0\n",
    "yMax = 1412.0\n",
    "#start and and frames\n",
    "iBegin = 180\n",
    "iEnd =  1168\n",
    "dY = 30.0 # width of a bin in the histogram\n",
    "nB = m.floor((yMax - yMin)/dY)\n",
    "yBins = np.arange(nB) * dY + yMin + dY/2.0\n",
    "yBins # bins values for the histogram"
   ]
  },
  {
   "cell_type": "code",
   "execution_count": null,
   "metadata": {},
   "outputs": [],
   "source": []
  },
  {
   "cell_type": "code",
   "execution_count": 3,
   "metadata": {},
   "outputs": [],
   "source": [
    "# using the cloud-in-cell method, python version:\n",
    "\"\"\"\n",
    "see line 218 for example_cic()\n",
    "Note: x value must lie within [0,NX>, i.e. NX = max(x)\n",
    "# changed by xun: transpose axes, now consistent with input\n",
    "\"\"\"\n",
    "\n",
    "def standarlize_x(x, nx, xmax=None, xmin=None):\n",
    "    \"\"\"\n",
    "    move x value to [0,nx]\n",
    "    \"\"\"\n",
    "    if xmax==None: xmax = x.max()\n",
    "    if xmin==None: xmin = x.min()\n",
    "    x = (x - xmin) /  (xmax - xmin) * nx\n",
    "    return x\n",
    "\n",
    "def cic(value, x, nx, y=None, ny=1, z=None, nz=1,\n",
    "        wraparound=False, average=True):\n",
    "    \"\"\" Interpolate an irregularly sampled field using Cloud in Cell\n",
    "    method.\n",
    "    This function interpolates an irregularly sampled field to a\n",
    "    regular grid using Cloud In Cell (nearest grid point gets weight\n",
    "    1-dngp, point on other side gets weight dngp, where dngp is the\n",
    "    distance to the nearest grid point in units of the cell size).\n",
    "    \n",
    "    Inputs\n",
    "    ------\n",
    "    value: array, shape (N,)\n",
    "        Sample weights (field values). For a temperature field this\n",
    "        would be the temperature and the keyword average should be\n",
    "        True. For a density field this could be either the particle\n",
    "        mass (average should be False) or the density (average should\n",
    "        be True).\n",
    "    x: array, shape (N,)\n",
    "        X coordinates of field samples, unit indices: [0,NX>.\n",
    "    nx: int\n",
    "        Number of grid points in X-direction.\n",
    "    y: array, shape (N,), optional\n",
    "        Y coordinates of field samples, unit indices: [0,NY>.\n",
    "    ny: int, optional\n",
    "        Number of grid points in Y-direction.\n",
    "    z: array, shape (N,), optional\n",
    "        Z coordinates of field samples, unit indices: [0,NZ>.\n",
    "    nz: int, optional\n",
    "        Number of grid points in Z-direction.\n",
    "    wraparound: bool (False)\n",
    "        If True, then values past the first or last grid point can\n",
    "        wrap around and contribute to the grid point on the opposite\n",
    "        side (see the Notes section below).\n",
    "    average: bool (False)\n",
    "        If True, average the contributions of each value to a grid\n",
    "        point instead of summing them.\n",
    "    Returns\n",
    "    -------\n",
    "    dens: ndarray, shape (nx, ny, nz)\n",
    "        The grid point values.\n",
    "    Notes\n",
    "    -----\n",
    "    Example of default allocation of nearest grid points: nx = 4, * = gridpoint.\n",
    "      0   1   2   3     Index of gridpoints\n",
    "      *   *   *   *     Grid points\n",
    "    |---|---|---|---|   Range allocated to gridpoints ([0.0,1.0> -> 0, etc.)\n",
    "    0   1   2   3   4   posx\n",
    "    Example of ngp allocation for wraparound=True: nx = 4, * = gridpoint.\n",
    "      0   1   2   3        Index of gridpoints\n",
    "      *   *   *   *        Grid points\n",
    "    |---|---|---|---|--    Range allocated to gridpoints ([0.5,1.5> -> 1, etc.)\n",
    "      0   1   2   3   4=0  posx\n",
    "    References\n",
    "    ----------\n",
    "    R.W. Hockney and J.W. Eastwood, Computer Simulations Using Particles\n",
    "        (New York: McGraw-Hill, 1981).\n",
    "    Modification History\n",
    "    --------------------\n",
    "    IDL code written by Joop Schaye, Feb 1999.\n",
    "    Avoid integer overflow for large dimensions P.Riley/W.Landsman Dec. 1999\n",
    "    Translated to Python by Neil Crighton, July 2009.\n",
    "    \n",
    "    Examples\n",
    "    --------\n",
    "    >>> nx = 20\n",
    "    >>> ny = 10\n",
    "    >>> posx = np.random.rand(size=1000)\n",
    "    >>> posy = np.random.rand(size=1000)\n",
    "    >>> value = posx**2 + posy**2\n",
    "    >>> field = cic(value, posx*nx, nx, posy*ny, ny)\n",
    "    # plot surface\n",
    "    \"\"\"\n",
    "\n",
    "    def findweights(pos, ngrid):\n",
    "        \"\"\" Calculate CIC weights.\n",
    "        \n",
    "        Coordinates of nearest grid point (ngp) to each value. \"\"\"\n",
    "\n",
    "        if wraparound:\n",
    "            # grid points at integer values\n",
    "            ngp = np.fix(pos + 0.5)\n",
    "        else:\n",
    "            # grid points are at half-integer values, starting at 0.5,\n",
    "            # ending at len(grid) - 0.5\n",
    "            ngp = np.fix(pos) + 0.5\n",
    "\n",
    "        # Distance from sample to ngp.\n",
    "        distngp = ngp - pos\n",
    "\n",
    "        # weight for higher (right, w2) and lower (left, w1) ngp\n",
    "        weight2 = np.abs(distngp)\n",
    "        weight1 = 1.0 - weight2\n",
    "\n",
    "        # indices of the nearest grid points\n",
    "        if wraparound:\n",
    "            ind1 = ngp\n",
    "        else:\n",
    "            ind1 = ngp - 0.5\n",
    "        ind1 = ind1.astype(int)\n",
    "\n",
    "        ind2 = ind1 - 1\n",
    "        # Correct points where ngp < pos (ngp to the left).\n",
    "        ind2[distngp < 0] += 2\n",
    "\n",
    "        # Note that ind2 can be both -1 and ngrid at this point,\n",
    "        # regardless of wraparound. This is because distngp can be\n",
    "        # exactly zero.\n",
    "        bad = (ind2 == -1)\n",
    "        ind2[bad] = ngrid - 1\n",
    "        if not wraparound:\n",
    "            weight2[bad] = 0.\n",
    "        bad = (ind2 == ngrid)\n",
    "        ind2[bad] = 0\n",
    "        if not wraparound:\n",
    "            weight2[bad] = 0.\n",
    "\n",
    "        if wraparound:\n",
    "            ind1[ind1 == ngrid] = 0\n",
    "\n",
    "        return dict(weight=weight1, ind=ind1), dict(weight=weight2, ind=ind2)\n",
    "\n",
    "\n",
    "    def update_field_vals(field, totalweight, a, b, c, value, debug=True):\n",
    "        \"\"\" This updates the field array (and the totweight array if\n",
    "        average is True).\n",
    "        The elements to update and their values are inferred from\n",
    "        a,b,c and value.\n",
    "        \"\"\"\n",
    "        print('Updating field vals')\n",
    "        print(a)\n",
    "\t\t# indices for field - doesn't include all combinations\n",
    "        indices = a['ind'] + b['ind'] * nx + c['ind'] * nxny\n",
    "        # weight per coordinate\n",
    "        weights = a['weight'] * b['weight'] * c['weight']\n",
    "        # Don't modify the input value array, just rebind the name.\n",
    "        value = weights * value \n",
    "        if average:\n",
    "            for i,ind in enumerate(indices):\n",
    "                field[ind] += value[i]\n",
    "                totalweight[ind] += weights[i]\n",
    "        else:\n",
    "            for i,ind in enumerate(indices):\n",
    "                field[ind] += value[i]\n",
    "            #if debug: print ind, weights[i], value[i], field[ind]\n",
    "\n",
    "\n",
    "    nx, ny, nz = (int(i) for i in (nx, ny, nz))\n",
    "    nxny = nx * ny\n",
    "    value = np.asarray(value)\n",
    "\n",
    "    print('Resampling %i values to a %i by %i by %i grid' % (\n",
    "        len(value), nx, ny, nz))\n",
    "\n",
    "    # normalise data such that grid points are at integer positions.\n",
    "    #x = (x - x.min()) / x.ptp() * nx\n",
    "    #y = (y - y.min()) / y.ptp() * ny\n",
    "    #z = (z - z.min()) / z.ptp() * nz\n",
    "\n",
    "    x1, x2 = findweights(np.asarray(x), nx)\n",
    "    y1 = z1 = dict(weight=1., ind=0)\n",
    "    if y is not None:\n",
    "        y1, y2 = findweights(np.asarray(y), ny)\n",
    "        if z is not None:\n",
    "            z1, z2 = findweights(np.asarray(z), nz)\n",
    "\n",
    "    # float32 to save memory for big arrays (e.g. 256**3)\n",
    "    field = np.zeros(nx * ny * nz, np.float32)\n",
    "\n",
    "    if average:\n",
    "        totalweight = np.zeros(nx * ny * nz, np.float32)\n",
    "    else:\n",
    "        totalweight = None\n",
    "\n",
    "    update_field_vals(field, totalweight, x1, y1, z1, value)\n",
    "    update_field_vals(field, totalweight, x2, y1, z1, value)\n",
    "    if y is not None:\n",
    "        update_field_vals(field, totalweight, x1, y2, z1, value)\n",
    "        update_field_vals(field, totalweight, x2, y2, z1, value)\n",
    "        if z is not None:\n",
    "            update_field_vals(field, totalweight, x1, y1, z2, value)\n",
    "            update_field_vals(field, totalweight, x2, y1, z2, value)\n",
    "            update_field_vals(field, totalweight, x1, y2, z2, value)\n",
    "            update_field_vals(field, totalweight, x2, y2, z2, value)\n",
    "\n",
    "    if average:\n",
    "        good = totalweight > 0\n",
    "        field[good] /= totalweight[good]\n",
    "\n",
    "    return field.reshape((nx, ny, nz)).squeeze().transpose()"
   ]
  },
  {
   "cell_type": "code",
   "execution_count": 4,
   "metadata": {},
   "outputs": [],
   "source": [
    "from __future__ import division, unicode_literals, print_function  # for compatibility with Python 2 and 3"
   ]
  },
  {
   "cell_type": "code",
   "execution_count": null,
   "metadata": {},
   "outputs": [],
   "source": [
    "import matplotlib as mpl\n",
    "import matplotlib.pyplot as plt"
   ]
  },
  {
   "cell_type": "code",
   "execution_count": null,
   "metadata": {},
   "outputs": [],
   "source": [
    "# change the following to %matplotlib notebook for interactive plotting\n",
    "%matplotlib inline"
   ]
  },
  {
   "cell_type": "code",
   "execution_count": 5,
   "metadata": {},
   "outputs": [],
   "source": [
    "import pandas as pd\n",
    "from pandas import DataFrame, Series  # for convenience"
   ]
  },
  {
   "cell_type": "code",
   "execution_count": null,
   "metadata": {},
   "outputs": [],
   "source": [
    "mpl.rc('figure',  figsize=(10, 10.0*1412.0/520.0))\n",
    "mpl.rc('image', cmap='gray')"
   ]
  },
  {
   "cell_type": "code",
   "execution_count": 6,
   "metadata": {},
   "outputs": [],
   "source": [
    "import pims"
   ]
  },
  {
   "cell_type": "code",
   "execution_count": 7,
   "metadata": {},
   "outputs": [],
   "source": [
    "import trackpy as tp"
   ]
  },
  {
   "cell_type": "code",
   "execution_count": 8,
   "metadata": {},
   "outputs": [
    {
     "data": {
      "text/plain": [
       "<Frames>\n",
       "Source: g:\\My Drive\\workAppState\\prj_shocks\\expData\\data20230207\\soliton_240fps_73\\analysis\\20230220histogPython\\02_an_WorkflowTrackPy\\inputs\\*.tif\n",
       "Length: 601 frames\n",
       "Frame Shape: (1412, 520)\n",
       "Pixel Datatype: uint8"
      ]
     },
     "execution_count": 8,
     "metadata": {},
     "output_type": "execute_result"
    }
   ],
   "source": [
    "frames = pims.open(r'g:\\My Drive\\workAppState\\prj_shocks\\expData\\data20230207\\soliton_240fps_73\\analysis\\20230220histogPython\\02_an_WorkflowTrackPy\\inputs\\*.tif')\n",
    "frames"
   ]
  },
  {
   "cell_type": "code",
   "execution_count": 9,
   "metadata": {},
   "outputs": [
    {
     "data": {
      "text/plain": [
       "pims.image_sequence.ImageSequence"
      ]
     },
     "execution_count": 9,
     "metadata": {},
     "output_type": "execute_result"
    }
   ],
   "source": [
    "type(frames)"
   ]
  },
  {
   "cell_type": "code",
   "execution_count": 10,
   "metadata": {},
   "outputs": [
    {
     "data": {
      "text/plain": [
       "pims.frame.Frame"
      ]
     },
     "execution_count": 10,
     "metadata": {},
     "output_type": "execute_result"
    }
   ],
   "source": [
    "type(frames[0])"
   ]
  },
  {
   "cell_type": "code",
   "execution_count": null,
   "metadata": {},
   "outputs": [],
   "source": [
    "fig, ax = plt.subplots()\n",
    "ax = plt.imshow(frames[0])"
   ]
  },
  {
   "cell_type": "code",
   "execution_count": null,
   "metadata": {},
   "outputs": [],
   "source": [
    "f = tp.locate(frames[0], 3)"
   ]
  },
  {
   "cell_type": "code",
   "execution_count": null,
   "metadata": {},
   "outputs": [],
   "source": [
    "tp.annotate(f, frames[0])"
   ]
  },
  {
   "cell_type": "code",
   "execution_count": null,
   "metadata": {},
   "outputs": [],
   "source": [
    "f.head(20)"
   ]
  },
  {
   "cell_type": "code",
   "execution_count": null,
   "metadata": {},
   "outputs": [],
   "source": [
    "f = tp.locate(frames[233], 7, minmass = 100, separation = 2, threshold = 5)\n",
    "tp.annotate(f, frames[233])"
   ]
  },
  {
   "cell_type": "code",
   "execution_count": null,
   "metadata": {},
   "outputs": [],
   "source": [
    "f.head()"
   ]
  },
  {
   "cell_type": "code",
   "execution_count": null,
   "metadata": {},
   "outputs": [],
   "source": [
    "f.tail()"
   ]
  },
  {
   "cell_type": "code",
   "execution_count": 11,
   "metadata": {},
   "outputs": [
    {
     "name": "stdout",
     "output_type": "stream",
     "text": [
      "Frame 600: 1855 features\n"
     ]
    }
   ],
   "source": [
    "f_all = tp.batch(frames[:], 7, minmass = 100, separation = 2, threshold = 5)"
   ]
  },
  {
   "cell_type": "code",
   "execution_count": 12,
   "metadata": {},
   "outputs": [],
   "source": [
    "def f_check_limited(x, y, frame, frame_begin, frame_end, left, right, maxY, minY):\n",
    "    if (x <= right and x >= left and y <= maxY and y >= minY \n",
    "        and frame >= frame_begin and frame <= frame_end):\n",
    "        return True\n",
    "    else:\n",
    "        return False\n",
    "    "
   ]
  },
  {
   "cell_type": "code",
   "execution_count": 13,
   "metadata": {},
   "outputs": [],
   "source": [
    "#vectorize the function f_check_limited, so can apply to arrays:\n",
    "f_check_if_ROI = np.vectorize(f_check_limited)"
   ]
  },
  {
   "cell_type": "code",
   "execution_count": 14,
   "metadata": {},
   "outputs": [],
   "source": [
    "ind = f_check_if_ROI(f_all['x'], f_all['y'], f_all['frame'], iBegin, iEnd, leftBorder, rightBorder, yMax, yMin)"
   ]
  },
  {
   "cell_type": "code",
   "execution_count": 15,
   "metadata": {},
   "outputs": [],
   "source": [
    "f_ROI = f_all[ind]"
   ]
  },
  {
   "cell_type": "code",
   "execution_count": 16,
   "metadata": {},
   "outputs": [
    {
     "data": {
      "text/html": [
       "<div>\n",
       "<style scoped>\n",
       "    .dataframe tbody tr th:only-of-type {\n",
       "        vertical-align: middle;\n",
       "    }\n",
       "\n",
       "    .dataframe tbody tr th {\n",
       "        vertical-align: top;\n",
       "    }\n",
       "\n",
       "    .dataframe thead th {\n",
       "        text-align: right;\n",
       "    }\n",
       "</style>\n",
       "<table border=\"1\" class=\"dataframe\">\n",
       "  <thead>\n",
       "    <tr style=\"text-align: right;\">\n",
       "      <th></th>\n",
       "      <th>y</th>\n",
       "      <th>x</th>\n",
       "      <th>mass</th>\n",
       "      <th>size</th>\n",
       "      <th>ecc</th>\n",
       "      <th>signal</th>\n",
       "      <th>raw_mass</th>\n",
       "      <th>ep</th>\n",
       "      <th>frame</th>\n",
       "    </tr>\n",
       "  </thead>\n",
       "  <tbody>\n",
       "    <tr>\n",
       "      <th>1108759</th>\n",
       "      <td>1405.501453</td>\n",
       "      <td>491.062500</td>\n",
       "      <td>263.576939</td>\n",
       "      <td>1.344671</td>\n",
       "      <td>0.136805</td>\n",
       "      <td>39.076814</td>\n",
       "      <td>751.0</td>\n",
       "      <td>0.093950</td>\n",
       "      <td>600</td>\n",
       "    </tr>\n",
       "    <tr>\n",
       "      <th>1108760</th>\n",
       "      <td>1407.045872</td>\n",
       "      <td>45.414373</td>\n",
       "      <td>501.102668</td>\n",
       "      <td>1.385265</td>\n",
       "      <td>0.189344</td>\n",
       "      <td>75.854991</td>\n",
       "      <td>1264.0</td>\n",
       "      <td>0.050389</td>\n",
       "      <td>600</td>\n",
       "    </tr>\n",
       "    <tr>\n",
       "      <th>1108761</th>\n",
       "      <td>1408.121406</td>\n",
       "      <td>287.354633</td>\n",
       "      <td>119.912183</td>\n",
       "      <td>1.367117</td>\n",
       "      <td>0.237953</td>\n",
       "      <td>16.473559</td>\n",
       "      <td>581.0</td>\n",
       "      <td>0.131672</td>\n",
       "      <td>600</td>\n",
       "    </tr>\n",
       "    <tr>\n",
       "      <th>1108762</th>\n",
       "      <td>1406.368421</td>\n",
       "      <td>295.422172</td>\n",
       "      <td>342.113672</td>\n",
       "      <td>1.379339</td>\n",
       "      <td>0.209813</td>\n",
       "      <td>53.251736</td>\n",
       "      <td>946.0</td>\n",
       "      <td>0.070713</td>\n",
       "      <td>600</td>\n",
       "    </tr>\n",
       "    <tr>\n",
       "      <th>1108763</th>\n",
       "      <td>1407.862745</td>\n",
       "      <td>319.526961</td>\n",
       "      <td>156.307254</td>\n",
       "      <td>1.467791</td>\n",
       "      <td>0.240148</td>\n",
       "      <td>19.921513</td>\n",
       "      <td>663.0</td>\n",
       "      <td>0.110308</td>\n",
       "      <td>600</td>\n",
       "    </tr>\n",
       "  </tbody>\n",
       "</table>\n",
       "</div>"
      ],
      "text/plain": [
       "                   y           x        mass      size       ecc     signal  \\\n",
       "1108759  1405.501453  491.062500  263.576939  1.344671  0.136805  39.076814   \n",
       "1108760  1407.045872   45.414373  501.102668  1.385265  0.189344  75.854991   \n",
       "1108761  1408.121406  287.354633  119.912183  1.367117  0.237953  16.473559   \n",
       "1108762  1406.368421  295.422172  342.113672  1.379339  0.209813  53.251736   \n",
       "1108763  1407.862745  319.526961  156.307254  1.467791  0.240148  19.921513   \n",
       "\n",
       "         raw_mass        ep  frame  \n",
       "1108759     751.0  0.093950    600  \n",
       "1108760    1264.0  0.050389    600  \n",
       "1108761     581.0  0.131672    600  \n",
       "1108762     946.0  0.070713    600  \n",
       "1108763     663.0  0.110308    600  "
      ]
     },
     "execution_count": 16,
     "metadata": {},
     "output_type": "execute_result"
    }
   ],
   "source": [
    "f_all.tail()"
   ]
  },
  {
   "cell_type": "code",
   "execution_count": 17,
   "metadata": {},
   "outputs": [
    {
     "data": {
      "text/html": [
       "<div>\n",
       "<style scoped>\n",
       "    .dataframe tbody tr th:only-of-type {\n",
       "        vertical-align: middle;\n",
       "    }\n",
       "\n",
       "    .dataframe tbody tr th {\n",
       "        vertical-align: top;\n",
       "    }\n",
       "\n",
       "    .dataframe thead th {\n",
       "        text-align: right;\n",
       "    }\n",
       "</style>\n",
       "<table border=\"1\" class=\"dataframe\">\n",
       "  <thead>\n",
       "    <tr style=\"text-align: right;\">\n",
       "      <th></th>\n",
       "      <th>y</th>\n",
       "      <th>x</th>\n",
       "      <th>mass</th>\n",
       "      <th>size</th>\n",
       "      <th>ecc</th>\n",
       "      <th>signal</th>\n",
       "      <th>raw_mass</th>\n",
       "      <th>ep</th>\n",
       "      <th>frame</th>\n",
       "    </tr>\n",
       "  </thead>\n",
       "  <tbody>\n",
       "    <tr>\n",
       "      <th>1108757</th>\n",
       "      <td>1404.636899</td>\n",
       "      <td>164.244357</td>\n",
       "      <td>390.385030</td>\n",
       "      <td>1.307861</td>\n",
       "      <td>0.103090</td>\n",
       "      <td>64.361811</td>\n",
       "      <td>1135.0</td>\n",
       "      <td>0.057039</td>\n",
       "      <td>600</td>\n",
       "    </tr>\n",
       "    <tr>\n",
       "      <th>1108758</th>\n",
       "      <td>1405.405295</td>\n",
       "      <td>233.892057</td>\n",
       "      <td>188.105054</td>\n",
       "      <td>1.567880</td>\n",
       "      <td>0.305076</td>\n",
       "      <td>32.947117</td>\n",
       "      <td>722.0</td>\n",
       "      <td>0.098777</td>\n",
       "      <td>600</td>\n",
       "    </tr>\n",
       "    <tr>\n",
       "      <th>1108761</th>\n",
       "      <td>1408.121406</td>\n",
       "      <td>287.354633</td>\n",
       "      <td>119.912183</td>\n",
       "      <td>1.367117</td>\n",
       "      <td>0.237953</td>\n",
       "      <td>16.473559</td>\n",
       "      <td>581.0</td>\n",
       "      <td>0.131672</td>\n",
       "      <td>600</td>\n",
       "    </tr>\n",
       "    <tr>\n",
       "      <th>1108762</th>\n",
       "      <td>1406.368421</td>\n",
       "      <td>295.422172</td>\n",
       "      <td>342.113672</td>\n",
       "      <td>1.379339</td>\n",
       "      <td>0.209813</td>\n",
       "      <td>53.251736</td>\n",
       "      <td>946.0</td>\n",
       "      <td>0.070713</td>\n",
       "      <td>600</td>\n",
       "    </tr>\n",
       "    <tr>\n",
       "      <th>1108763</th>\n",
       "      <td>1407.862745</td>\n",
       "      <td>319.526961</td>\n",
       "      <td>156.307254</td>\n",
       "      <td>1.467791</td>\n",
       "      <td>0.240148</td>\n",
       "      <td>19.921513</td>\n",
       "      <td>663.0</td>\n",
       "      <td>0.110308</td>\n",
       "      <td>600</td>\n",
       "    </tr>\n",
       "  </tbody>\n",
       "</table>\n",
       "</div>"
      ],
      "text/plain": [
       "                   y           x        mass      size       ecc     signal  \\\n",
       "1108757  1404.636899  164.244357  390.385030  1.307861  0.103090  64.361811   \n",
       "1108758  1405.405295  233.892057  188.105054  1.567880  0.305076  32.947117   \n",
       "1108761  1408.121406  287.354633  119.912183  1.367117  0.237953  16.473559   \n",
       "1108762  1406.368421  295.422172  342.113672  1.379339  0.209813  53.251736   \n",
       "1108763  1407.862745  319.526961  156.307254  1.467791  0.240148  19.921513   \n",
       "\n",
       "         raw_mass        ep  frame  \n",
       "1108757    1135.0  0.057039    600  \n",
       "1108758     722.0  0.098777    600  \n",
       "1108761     581.0  0.131672    600  \n",
       "1108762     946.0  0.070713    600  \n",
       "1108763     663.0  0.110308    600  "
      ]
     },
     "execution_count": 17,
     "metadata": {},
     "output_type": "execute_result"
    }
   ],
   "source": [
    "f_ROI.tail()"
   ]
  },
  {
   "cell_type": "code",
   "execution_count": null,
   "metadata": {},
   "outputs": [],
   "source": [
    "#visual control if we correctly determined ROI:\n",
    "tp.annotate(f_ROI[f_ROI['frame'] == 233], frames[233])"
   ]
  },
  {
   "cell_type": "code",
   "execution_count": null,
   "metadata": {},
   "outputs": [],
   "source": []
  },
  {
   "cell_type": "code",
   "execution_count": null,
   "metadata": {},
   "outputs": [],
   "source": [
    "    \n",
    "\n",
    "\n",
    "    weighNumDens = DBLARR(N_ELEMENTS(YforHist))+1 ; weights for the number density\n",
    "    histNumDens = CIC(weighNumDens, YforHist, nB, /ISOLATED) / dy / (rightBorder - leftBorder)\n",
    "    maxDen_i=MAX(histNumDens, max_pos_ind_i);\n",
    "    maxDen = [maxDen,maxDen_i]\n",
    "    max_pos_i = YBins[max_pos_ind_i]\n",
    "    max_pos = [max_Pos,max_pos_i]\n",
    "    timeT = [timeT,i]\n",
    "\n",
    "\n",
    "    seconds = STRING(SYSTIME(/seconds),FORMAT='(I18)')\n",
    "    filename = STRCOMPRESS(STRING(i,FORMAT='(I04)') + '.csv', /REMOVE_ALL)\n",
    "    z=print2arrays(filename,yBins, histNumDens)\n",
    "    ; also save the particles positions in the frame:\n",
    "    pixIDLx = Y\n",
    "    pixIDLy = Xroim[indf]\n",
    "\n",
    "    ;   thead=STRCOMPRESS('Frame ' + STRING(i,FORMAT='(I04)') + 'particle coordinates in orientation when shock propagates along X axis from left to right')\n",
    "    ;   colhead = ['pixIDLx','pixIDLy']\n",
    "    ;   fnamCSV = STRCOMPRESS('partPosPixels_frame'+ STRING(i,FORMAT='(I04)')+ '_' + seconds + '.csv', /REMOVE_ALL)\n",
    "    ;   WRITE_CSV, fnamCSV, pixIDLx, pixIDLy, HEADER = colhead, TABLE_HEADER = thead\n",
    "\n",
    "  ENDFOR"
   ]
  },
  {
   "cell_type": "code",
   "execution_count": null,
   "metadata": {},
   "outputs": [],
   "source": [
    "mpl.rc('figure',  figsize=(6, 4))\n",
    "import matplotlib.pyplot as plt\n",
    "%matplotlib inline\n",
    "fig, ax = plt.subplots()"
   ]
  },
  {
   "cell_type": "code",
   "execution_count": null,
   "metadata": {},
   "outputs": [],
   "source": [
    "for i in range(iBegin, iEnd, framesSkip):\n",
    "    print('frame ', i)\n",
    "    #building histogram using cloud-in-cell (cic):\n",
    "    indf = f_ROI['frame'] == i\n",
    "    f_ROI_i = f_ROI[indf]\n",
    "    YforHist = (np.array(f_ROI_i['y']) - yMin)/(yMax-yMin + 1.0E-8) * np.double(nB)\n",
    "    weighNumDens = np.full(len(YforHist), np.double(1), dtype = np.double)\n",
    "    histNumDens = cic(weighNumDens, YforHist, nB) / dY / (rightBorder - leftBorder)\n",
    "    clear_output(wait = True)\n",
    "    ax.cla()\n",
    "    ax.scatter(yBins, histNumDens)\n",
    "    sleep(2)\n",
    "    \n",
    "    "
   ]
  },
  {
   "cell_type": "code",
   "execution_count": null,
   "metadata": {},
   "outputs": [],
   "source": [
    "weighNumDens = np.full(len(YforHist) + 1, np.double(1), dtype = np.double)"
   ]
  },
  {
   "cell_type": "code",
   "execution_count": null,
   "metadata": {},
   "outputs": [],
   "source": [
    "print(weighNumDens)"
   ]
  },
  {
   "cell_type": "code",
   "execution_count": 22,
   "metadata": {},
   "outputs": [
    {
     "name": "stdout",
     "output_type": "stream",
     "text": [
      "Resampling 1442 values to a 43 by 1 by 1 grid\n",
      "Updating field vals\n",
      "{'weight': array([0.80263158, 0.78195983, 0.51758519, ..., 0.68420421, 0.65848445,\n",
      "       0.6538395 ]), 'ind': array([ 2,  5,  6, ..., 42, 42, 42])}\n",
      "Updating field vals\n",
      "{'weight': array([0.19736842, 0.21804017, 0.48241481, ..., 0.        , 0.        ,\n",
      "       0.        ]), 'ind': array([1, 4, 5, ..., 0, 0, 0])}\n"
     ]
    }
   ],
   "source": [
    "indf = f_ROI['frame'] == 233\n",
    "f_ROI_i = f_ROI[indf]\n",
    "YforHist = (np.array(f_ROI_i['y']) - yMin)/(yMax-yMin + 1.0E-8) * np.double(nB)\n",
    "weighNumDens = np.full(len(YforHist), np.double(1), dtype = np.double)\n",
    "histNumDens = cic(weighNumDens, YforHist, nB) / dY / (rightBorder - leftBorder)\n",
    "clear_output(wait = True)\n"
   ]
  },
  {
   "cell_type": "code",
   "execution_count": 23,
   "metadata": {},
   "outputs": [
    {
     "name": "stdout",
     "output_type": "stream",
     "text": [
      "[0.000000e+00 8.680556e-05 8.680556e-05 0.000000e+00 8.680556e-05\n",
      " 8.680556e-05 8.680556e-05 8.680556e-05 8.680556e-05 8.680556e-05\n",
      " 8.680556e-05 8.680556e-05 8.680556e-05 8.680556e-05 8.680556e-05\n",
      " 8.680556e-05 8.680556e-05 8.680556e-05 8.680556e-05 8.680556e-05\n",
      " 8.680556e-05 8.680556e-05 8.680556e-05 8.680556e-05 8.680556e-05\n",
      " 8.680556e-05 8.680556e-05 8.680556e-05 8.680556e-05 8.680556e-05\n",
      " 8.680556e-05 8.680556e-05 8.680556e-05 8.680556e-05 8.680556e-05\n",
      " 8.680556e-05 8.680556e-05 8.680556e-05 8.680556e-05 8.680556e-05\n",
      " 8.680556e-05 8.680556e-05 8.680556e-05]\n"
     ]
    }
   ],
   "source": [
    "print(histNumDens)"
   ]
  },
  {
   "cell_type": "code",
   "execution_count": 25,
   "metadata": {},
   "outputs": [
    {
     "name": "stdout",
     "output_type": "stream",
     "text": [
      "[1. 1. 1. ... 1. 1. 1.]\n"
     ]
    }
   ],
   "source": [
    "print(weighNumDens)"
   ]
  },
  {
   "cell_type": "code",
   "execution_count": 29,
   "metadata": {},
   "outputs": [
    {
     "name": "stdout",
     "output_type": "stream",
     "text": [
      "Resampling 10000 values to a 10 by 1 by 1 grid\n",
      "Updating field vals\n",
      "{'weight': array([0.59510652, 0.89758394, 0.90977539, ..., 0.71765801, 0.99161881,\n",
      "       0.60878167]), 'ind': array([5, 1, 4, ..., 8, 2, 1])}\n",
      "Updating field vals\n",
      "{'weight': array([0.40489348, 0.10241606, 0.09022461, ..., 0.28234199, 0.00838119,\n",
      "       0.39121833]), 'ind': array([4, 2, 3, ..., 9, 3, 0])}\n"
     ]
    },
    {
     "data": {
      "text/plain": [
       "[<matplotlib.lines.Line2D at 0x282c5dc6240>]"
      ]
     },
     "execution_count": 29,
     "metadata": {},
     "output_type": "execute_result"
    },
    {
     "data": {
      "image/png": "[encoded data removed]",
      "text/plain": [
       "<Figure size 432x288 with 1 Axes>"
      ]
     },
     "metadata": {
      "needs_background": "light"
     },
     "output_type": "display_data"
    }
   ],
   "source": [
    "    #from astro.gimic import cic\n",
    "    # 1d\n",
    "    import pylab as pl\n",
    "    x = np.random.rand(10000)*10\n",
    "    vals = x**2\n",
    "    pl.figure()\n",
    "    pl.plot(x, vals, '.')\n",
    "    field = cic(vals, x, 10)\n",
    "    pl.plot(np.arange(10), field, ls='steps-post')"
   ]
  },
  {
   "cell_type": "code",
   "execution_count": 28,
   "metadata": {},
   "outputs": [
    {
     "ename": "NameError",
     "evalue": "name 'field' is not defined",
     "output_type": "error",
     "traceback": [
      "\u001b[1;31m---------------------------------------------------------------------------\u001b[0m",
      "\u001b[1;31mNameError\u001b[0m                                 Traceback (most recent call last)",
      "\u001b[1;32m<ipython-input-28-1f2fbfed86c5>\u001b[0m in \u001b[0;36m<module>\u001b[1;34m\u001b[0m\n\u001b[1;32m----> 1\u001b[1;33m \u001b[0mprint\u001b[0m\u001b[1;33m(\u001b[0m\u001b[0mfield\u001b[0m\u001b[1;33m)\u001b[0m\u001b[1;33m\u001b[0m\u001b[1;33m\u001b[0m\u001b[0m\n\u001b[0m",
      "\u001b[1;31mNameError\u001b[0m: name 'field' is not defined"
     ]
    }
   ],
   "source": [
    "print(field)"
   ]
  },
  {
   "cell_type": "code",
   "execution_count": null,
   "metadata": {},
   "outputs": [],
   "source": []
  }
 ],
 "metadata": {
  "kernelspec": {
   "display_name": "Python 3",
   "language": "python",
   "name": "python3"
  },
  "language_info": {
   "codemirror_mode": {
    "name": "ipython",
    "version": 3
   },
   "file_extension": ".py",
   "mimetype": "text/x-python",
   "name": "python",
   "nbconvert_exporter": "python",
   "pygments_lexer": "ipython3",
   "version": "3.7.1"
  }
 },
 "nbformat": 4,
 "nbformat_minor": 2
}
