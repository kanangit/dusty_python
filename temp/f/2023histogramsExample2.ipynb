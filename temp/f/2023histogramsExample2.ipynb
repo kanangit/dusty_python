{
 "cells": [
  {
   "cell_type": "markdown",
   "id": "279ad6e7",
   "metadata": {},
   "source": [
    "# Plotting histograms, Part II"
   ]
  },
  {
   "cell_type": "markdown",
   "id": "fdafce7f",
   "metadata": {},
   "source": [
    "## From the previous episodes:"
   ]
  },
  {
   "cell_type": "code",
   "execution_count": 1,
   "id": "cc36598f",
   "metadata": {},
   "outputs": [],
   "source": [
    "import pandas as pd\n",
    "import numpy as np\n",
    "import math\n",
    "import matplotlib.pyplot as plt"
   ]
  },
  {
   "cell_type": "code",
   "execution_count": 2,
   "id": "29ce1446",
   "metadata": {},
   "outputs": [
    {
     "data": {
      "text/plain": [
       "array([ 7.3, 10.6,  8. , 10.4, 11.9, 14.3, 11.8, 10.7, 11.4, 11.3, 13. ,\n",
       "       10.1,  8.4, 10.7, 10.5, 10.2, 10.4,  9.2, 11.6, 11. , 10.5, 10.7,\n",
       "       10.6,  8.7,  8.2, 11.8,  7.9, 10.7,  7.9, 15.1, 10.5, 10.9, 10.7,\n",
       "       10.9,  9.4, 11.4,  8.6,  9.2,  8.1,  6.8, 11.1, 11.7,  8. , 10.4,\n",
       "        5.3, 12. , 11. ,  9.7,  8.6,  8.8,  9.2,  9.5, 10. , 11.7,  8.5,\n",
       "       11.9, 13.5, 10.3,  9.1, 13. , 13.3, 11. , 11.9,  7. ,  5.7,  9.8,\n",
       "       12.8, 13.8, 10.6, 13. ,  6.1, 12.2,  9.3,  9.7,  6.5,  9.9,  9.8,\n",
       "       12.4,  9.7,  5.8, 12.7, 10.1,  7.6, 10.3, 11.1, 11.2,  9.9, 12.6,\n",
       "       12.3, 11.7, 13.5,  6.8,  9.2,  9.6, 11.1, 10.7, 10.6, 10.9, 10.5,\n",
       "       10.1,  9. ])"
      ]
     },
     "execution_count": 2,
     "metadata": {},
     "output_type": "execute_result"
    }
   ],
   "source": [
    "V_arr = np.array([7.3,10.6,8.0,10.4,11.9,14.3,11.8,10.7,11.4,11.3,13.0,10.1,8.4,10.7,10.5,10.2,10.4,9.2,11.6,11.0,10.5,10.7,10.6,8.7,8.2,11.8,7.9,10.7,7.9,15.1,10.5,10.9,10.7,10.9,9.4,11.4,8.6,9.2,8.1,6.8,11.1,11.7,8.0,10.4,5.3,12.0,11.0,9.7,8.6,8.8,9.2,9.5,10.0,11.7,8.5,11.9,13.5,10.3,9.1,13.0,13.3,11.0,11.9,7.0,5.7,9.8,12.8,13.8,10.6,13.0,6.1,12.2,9.3,9.7,6.5,9.9,9.8,12.4,9.7,5.8,12.7,10.1,7.6,10.3,11.1,11.2,9.9,12.6,12.3,11.7,13.5,6.8,9.2,9.6,11.1,10.7,10.6,10.9,10.5,10.1,9.0])\n",
    "V_arr"
   ]
  },
  {
   "cell_type": "code",
   "execution_count": 3,
   "id": "0ea1c2d5",
   "metadata": {},
   "outputs": [
    {
     "data": {
      "text/plain": [
       "Text(0, 0.5, 'counts')"
      ]
     },
     "execution_count": 3,
     "metadata": {},
     "output_type": "execute_result"
    },
    {
     "data": {
      "image/png": "[encoded data removed]",
      "text/plain": [
       "<Figure size 640x480 with 1 Axes>"
      ]
     },
     "metadata": {},
     "output_type": "display_data"
    }
   ],
   "source": [
    "fig, ax = plt.subplots() #prepare to plot\n",
    "ax.hist(V_arr, bins = 9) # plot histogram\n",
    "ax.set_xlabel('Resistance, Ohm')\n",
    "ax.set_ylabel('counts')"
   ]
  },
  {
   "cell_type": "markdown",
   "id": "6ef380f5",
   "metadata": {},
   "source": [
    "# Problem: Instead of the Data, We Are supplied with Bins and Counts"
   ]
  },
  {
   "cell_type": "code",
   "execution_count": 4,
   "id": "dd31a377",
   "metadata": {
    "scrolled": true
   },
   "outputs": [
    {
     "data": {
      "text/html": [
       "<div>\n",
       "<style scoped>\n",
       "    .dataframe tbody tr th:only-of-type {\n",
       "        vertical-align: middle;\n",
       "    }\n",
       "\n",
       "    .dataframe tbody tr th {\n",
       "        vertical-align: top;\n",
       "    }\n",
       "\n",
       "    .dataframe thead th {\n",
       "        text-align: right;\n",
       "    }\n",
       "</style>\n",
       "<table border=\"1\" class=\"dataframe\">\n",
       "  <thead>\n",
       "    <tr style=\"text-align: right;\">\n",
       "      <th></th>\n",
       "      <th>t_left</th>\n",
       "      <th>t_right</th>\n",
       "      <th>N</th>\n",
       "    </tr>\n",
       "  </thead>\n",
       "  <tbody>\n",
       "    <tr>\n",
       "      <th>0</th>\n",
       "      <td>6</td>\n",
       "      <td>7</td>\n",
       "      <td>4</td>\n",
       "    </tr>\n",
       "    <tr>\n",
       "      <th>1</th>\n",
       "      <td>7</td>\n",
       "      <td>8</td>\n",
       "      <td>5</td>\n",
       "    </tr>\n",
       "    <tr>\n",
       "      <th>2</th>\n",
       "      <td>8</td>\n",
       "      <td>9</td>\n",
       "      <td>10</td>\n",
       "    </tr>\n",
       "    <tr>\n",
       "      <th>3</th>\n",
       "      <td>9</td>\n",
       "      <td>10</td>\n",
       "      <td>17</td>\n",
       "    </tr>\n",
       "    <tr>\n",
       "      <th>4</th>\n",
       "      <td>10</td>\n",
       "      <td>11</td>\n",
       "      <td>27</td>\n",
       "    </tr>\n",
       "    <tr>\n",
       "      <th>5</th>\n",
       "      <td>11</td>\n",
       "      <td>12</td>\n",
       "      <td>19</td>\n",
       "    </tr>\n",
       "    <tr>\n",
       "      <th>6</th>\n",
       "      <td>12</td>\n",
       "      <td>13</td>\n",
       "      <td>7</td>\n",
       "    </tr>\n",
       "    <tr>\n",
       "      <th>7</th>\n",
       "      <td>13</td>\n",
       "      <td>14</td>\n",
       "      <td>7</td>\n",
       "    </tr>\n",
       "    <tr>\n",
       "      <th>8</th>\n",
       "      <td>14</td>\n",
       "      <td>15</td>\n",
       "      <td>1</td>\n",
       "    </tr>\n",
       "  </tbody>\n",
       "</table>\n",
       "</div>"
      ],
      "text/plain": [
       "   t_left  t_right   N\n",
       "0       6        7   4\n",
       "1       7        8   5\n",
       "2       8        9  10\n",
       "3       9       10  17\n",
       "4      10       11  27\n",
       "5      11       12  19\n",
       "6      12       13   7\n",
       "7      13       14   7\n",
       "8      14       15   1"
      ]
     },
     "execution_count": 4,
     "metadata": {},
     "output_type": "execute_result"
    }
   ],
   "source": [
    "data = {'t_left':[6, 7, 8, 9, 10, 11, 12, 13, 14],\n",
    "        't_right':[7, 8, 9, 10, 11, 12, 13, 14, 15],\n",
    "        'N':[4, 5, 10, 17, 27, 19, 7, 7, 1]}\n",
    "df = pd.DataFrame(data)\n",
    "df.head(10)"
   ]
  },
  {
   "cell_type": "markdown",
   "id": "46b03278",
   "metadata": {},
   "source": [
    "# Solution 1: \"Manufacturing\" Data"
   ]
  },
  {
   "cell_type": "code",
   "execution_count": 5,
   "id": "40c09b50",
   "metadata": {},
   "outputs": [],
   "source": [
    "# find bin centers:"
   ]
  },
  {
   "cell_type": "code",
   "execution_count": 6,
   "id": "1e41643d",
   "metadata": {},
   "outputs": [
    {
     "data": {
      "text/plain": [
       "array([ 6.5,  7.5,  8.5,  9.5, 10.5, 11.5, 12.5, 13.5, 14.5])"
      ]
     },
     "execution_count": 6,
     "metadata": {},
     "output_type": "execute_result"
    }
   ],
   "source": [
    "t_arr = 0.5 * (np.array(df['t_left'], dtype = float) + np.array(df['t_right'], dtype = float))\n",
    "t_arr"
   ]
  },
  {
   "cell_type": "code",
   "execution_count": 7,
   "id": "0a40c1d0",
   "metadata": {},
   "outputs": [],
   "source": [
    "# Manufacture the data by assuming that all counts happen exactly at the time t = bin center:"
   ]
  },
  {
   "cell_type": "code",
   "execution_count": 8,
   "id": "7008fd74",
   "metadata": {},
   "outputs": [
    {
     "name": "stdout",
     "output_type": "stream",
     "text": [
      "[6.5 6.5 6.5 6.5]\n",
      "[6.5 6.5 6.5 6.5 7.5 7.5 7.5 7.5 7.5]\n",
      "[6.5 6.5 6.5 6.5 7.5 7.5 7.5 7.5 7.5 8.5 8.5 8.5 8.5 8.5 8.5 8.5 8.5 8.5\n",
      " 8.5]\n",
      "[6.5 6.5 6.5 6.5 7.5 7.5 7.5 7.5 7.5 8.5 8.5 8.5 8.5 8.5 8.5 8.5 8.5 8.5\n",
      " 8.5 9.5 9.5 9.5 9.5 9.5 9.5 9.5 9.5 9.5 9.5 9.5 9.5 9.5 9.5 9.5 9.5 9.5]\n",
      "[ 6.5  6.5  6.5  6.5  7.5  7.5  7.5  7.5  7.5  8.5  8.5  8.5  8.5  8.5\n",
      "  8.5  8.5  8.5  8.5  8.5  9.5  9.5  9.5  9.5  9.5  9.5  9.5  9.5  9.5\n",
      "  9.5  9.5  9.5  9.5  9.5  9.5  9.5  9.5 10.5 10.5 10.5 10.5 10.5 10.5\n",
      " 10.5 10.5 10.5 10.5 10.5 10.5 10.5 10.5 10.5 10.5 10.5 10.5 10.5 10.5\n",
      " 10.5 10.5 10.5 10.5 10.5 10.5 10.5]\n",
      "[ 6.5  6.5  6.5  6.5  7.5  7.5  7.5  7.5  7.5  8.5  8.5  8.5  8.5  8.5\n",
      "  8.5  8.5  8.5  8.5  8.5  9.5  9.5  9.5  9.5  9.5  9.5  9.5  9.5  9.5\n",
      "  9.5  9.5  9.5  9.5  9.5  9.5  9.5  9.5 10.5 10.5 10.5 10.5 10.5 10.5\n",
      " 10.5 10.5 10.5 10.5 10.5 10.5 10.5 10.5 10.5 10.5 10.5 10.5 10.5 10.5\n",
      " 10.5 10.5 10.5 10.5 10.5 10.5 10.5 11.5 11.5 11.5 11.5 11.5 11.5 11.5\n",
      " 11.5 11.5 11.5 11.5 11.5 11.5 11.5 11.5 11.5 11.5 11.5 11.5]\n",
      "[ 6.5  6.5  6.5  6.5  7.5  7.5  7.5  7.5  7.5  8.5  8.5  8.5  8.5  8.5\n",
      "  8.5  8.5  8.5  8.5  8.5  9.5  9.5  9.5  9.5  9.5  9.5  9.5  9.5  9.5\n",
      "  9.5  9.5  9.5  9.5  9.5  9.5  9.5  9.5 10.5 10.5 10.5 10.5 10.5 10.5\n",
      " 10.5 10.5 10.5 10.5 10.5 10.5 10.5 10.5 10.5 10.5 10.5 10.5 10.5 10.5\n",
      " 10.5 10.5 10.5 10.5 10.5 10.5 10.5 11.5 11.5 11.5 11.5 11.5 11.5 11.5\n",
      " 11.5 11.5 11.5 11.5 11.5 11.5 11.5 11.5 11.5 11.5 11.5 11.5 12.5 12.5\n",
      " 12.5 12.5 12.5 12.5 12.5]\n",
      "[ 6.5  6.5  6.5  6.5  7.5  7.5  7.5  7.5  7.5  8.5  8.5  8.5  8.5  8.5\n",
      "  8.5  8.5  8.5  8.5  8.5  9.5  9.5  9.5  9.5  9.5  9.5  9.5  9.5  9.5\n",
      "  9.5  9.5  9.5  9.5  9.5  9.5  9.5  9.5 10.5 10.5 10.5 10.5 10.5 10.5\n",
      " 10.5 10.5 10.5 10.5 10.5 10.5 10.5 10.5 10.5 10.5 10.5 10.5 10.5 10.5\n",
      " 10.5 10.5 10.5 10.5 10.5 10.5 10.5 11.5 11.5 11.5 11.5 11.5 11.5 11.5\n",
      " 11.5 11.5 11.5 11.5 11.5 11.5 11.5 11.5 11.5 11.5 11.5 11.5 12.5 12.5\n",
      " 12.5 12.5 12.5 12.5 12.5 13.5 13.5 13.5 13.5 13.5 13.5 13.5]\n",
      "[ 6.5  6.5  6.5  6.5  7.5  7.5  7.5  7.5  7.5  8.5  8.5  8.5  8.5  8.5\n",
      "  8.5  8.5  8.5  8.5  8.5  9.5  9.5  9.5  9.5  9.5  9.5  9.5  9.5  9.5\n",
      "  9.5  9.5  9.5  9.5  9.5  9.5  9.5  9.5 10.5 10.5 10.5 10.5 10.5 10.5\n",
      " 10.5 10.5 10.5 10.5 10.5 10.5 10.5 10.5 10.5 10.5 10.5 10.5 10.5 10.5\n",
      " 10.5 10.5 10.5 10.5 10.5 10.5 10.5 11.5 11.5 11.5 11.5 11.5 11.5 11.5\n",
      " 11.5 11.5 11.5 11.5 11.5 11.5 11.5 11.5 11.5 11.5 11.5 11.5 12.5 12.5\n",
      " 12.5 12.5 12.5 12.5 12.5 13.5 13.5 13.5 13.5 13.5 13.5 13.5 14.5]\n"
     ]
    }
   ],
   "source": [
    "counts_arr = np.array(df['N'])\n",
    "n_arr = np.array([])\n",
    "length = counts_arr.size\n",
    "for i in range(0, length):\n",
    "    cur_time = t_arr[i]\n",
    "    cur_counts = np.zeros(int(counts_arr[i])) + cur_time\n",
    "    n_arr = np.append(n_arr, cur_counts)\n",
    "    print(n_arr)"
   ]
  },
  {
   "cell_type": "code",
   "execution_count": 9,
   "id": "c0b757ef",
   "metadata": {},
   "outputs": [
    {
     "data": {
      "text/html": [
       "<div>\n",
       "<style scoped>\n",
       "    .dataframe tbody tr th:only-of-type {\n",
       "        vertical-align: middle;\n",
       "    }\n",
       "\n",
       "    .dataframe tbody tr th {\n",
       "        vertical-align: top;\n",
       "    }\n",
       "\n",
       "    .dataframe thead th {\n",
       "        text-align: right;\n",
       "    }\n",
       "</style>\n",
       "<table border=\"1\" class=\"dataframe\">\n",
       "  <thead>\n",
       "    <tr style=\"text-align: right;\">\n",
       "      <th></th>\n",
       "      <th>t_left</th>\n",
       "      <th>t_right</th>\n",
       "      <th>N</th>\n",
       "    </tr>\n",
       "  </thead>\n",
       "  <tbody>\n",
       "    <tr>\n",
       "      <th>0</th>\n",
       "      <td>6</td>\n",
       "      <td>7</td>\n",
       "      <td>4</td>\n",
       "    </tr>\n",
       "    <tr>\n",
       "      <th>1</th>\n",
       "      <td>7</td>\n",
       "      <td>8</td>\n",
       "      <td>5</td>\n",
       "    </tr>\n",
       "    <tr>\n",
       "      <th>2</th>\n",
       "      <td>8</td>\n",
       "      <td>9</td>\n",
       "      <td>10</td>\n",
       "    </tr>\n",
       "    <tr>\n",
       "      <th>3</th>\n",
       "      <td>9</td>\n",
       "      <td>10</td>\n",
       "      <td>17</td>\n",
       "    </tr>\n",
       "    <tr>\n",
       "      <th>4</th>\n",
       "      <td>10</td>\n",
       "      <td>11</td>\n",
       "      <td>27</td>\n",
       "    </tr>\n",
       "    <tr>\n",
       "      <th>5</th>\n",
       "      <td>11</td>\n",
       "      <td>12</td>\n",
       "      <td>19</td>\n",
       "    </tr>\n",
       "    <tr>\n",
       "      <th>6</th>\n",
       "      <td>12</td>\n",
       "      <td>13</td>\n",
       "      <td>7</td>\n",
       "    </tr>\n",
       "    <tr>\n",
       "      <th>7</th>\n",
       "      <td>13</td>\n",
       "      <td>14</td>\n",
       "      <td>7</td>\n",
       "    </tr>\n",
       "    <tr>\n",
       "      <th>8</th>\n",
       "      <td>14</td>\n",
       "      <td>15</td>\n",
       "      <td>1</td>\n",
       "    </tr>\n",
       "  </tbody>\n",
       "</table>\n",
       "</div>"
      ],
      "text/plain": [
       "   t_left  t_right   N\n",
       "0       6        7   4\n",
       "1       7        8   5\n",
       "2       8        9  10\n",
       "3       9       10  17\n",
       "4      10       11  27\n",
       "5      11       12  19\n",
       "6      12       13   7\n",
       "7      13       14   7\n",
       "8      14       15   1"
      ]
     },
     "execution_count": 9,
     "metadata": {},
     "output_type": "execute_result"
    }
   ],
   "source": [
    "df.head(10)"
   ]
  },
  {
   "cell_type": "markdown",
   "id": "049b3fee",
   "metadata": {},
   "source": [
    "Instead of giving thte number of bins, we can give to the hist() function bin borders explicitly. t_arr won't work as bins for the hist(function), due to the pecularities of it. For bins,\n",
    "it needs an array of left borders of data, and the *last element* is the *right boundary* of the last bin"
   ]
  },
  {
   "cell_type": "code",
   "execution_count": 10,
   "id": "f49a9253",
   "metadata": {},
   "outputs": [
    {
     "data": {
      "text/plain": [
       "array([ 6.,  7.,  8.,  9., 10., 11., 12., 13., 14., 15.])"
      ]
     },
     "execution_count": 10,
     "metadata": {},
     "output_type": "execute_result"
    }
   ],
   "source": [
    "bins_for_hist = np.array(df['t_left'], dtype = float)\n",
    "arr_right_borders = np.array(df['t_right'], dtype = float)\n",
    "right_bound_of_the_last_bin = arr_right_borders[-1]\n",
    "bins_for_hist = np.append(bins_for_hist, right_bound_of_the_last_bin)\n",
    "bins_for_hist"
   ]
  },
  {
   "cell_type": "code",
   "execution_count": 11,
   "id": "dc4f494d",
   "metadata": {},
   "outputs": [
    {
     "data": {
      "text/plain": [
       "Text(0, 0.5, 'Counts')"
      ]
     },
     "execution_count": 11,
     "metadata": {},
     "output_type": "execute_result"
    },
    {
     "data": {
      "image/png": "[encoded data removed]",
      "text/plain": [
       "<Figure size 640x480 with 1 Axes>"
      ]
     },
     "metadata": {},
     "output_type": "display_data"
    }
   ],
   "source": [
    "fig2, ax2 = plt.subplots()\n",
    "ax2.hist(n_arr, bins = bins_for_hist, density = False)\n",
    "ax2.set_xlabel(\"time (min)\")\n",
    "ax2.set_ylabel(\"Counts\")"
   ]
  },
  {
   "cell_type": "markdown",
   "id": "d153d002",
   "metadata": {},
   "source": [
    "## Forget about the solution 1. Never manufacture your data"
   ]
  },
  {
   "cell_type": "markdown",
   "id": "af2db938",
   "metadata": {},
   "source": [
    "# Solution 2 (recommended): Make a Histogram Using Bar Plot"
   ]
  },
  {
   "cell_type": "code",
   "execution_count": 12,
   "id": "7c1bb0e3",
   "metadata": {},
   "outputs": [
    {
     "data": {
      "text/plain": [
       "array([ 4.,  5., 10., 17., 27., 19.,  7.,  7.,  1.])"
      ]
     },
     "execution_count": 12,
     "metadata": {},
     "output_type": "execute_result"
    }
   ],
   "source": [
    "counts_arr = np.array(df['N'], dtype = float)\n",
    "counts_arr"
   ]
  },
  {
   "cell_type": "code",
   "execution_count": 13,
   "id": "07485ce8",
   "metadata": {},
   "outputs": [
    {
     "data": {
      "text/plain": [
       "array([ 6.5,  7.5,  8.5,  9.5, 10.5, 11.5, 12.5, 13.5, 14.5])"
      ]
     },
     "execution_count": 13,
     "metadata": {},
     "output_type": "execute_result"
    }
   ],
   "source": [
    "t_arr = 0.5 * (np.array(df['t_left'], dtype = float) + np.array(df['t_right'], dtype = float))\n",
    "t_arr"
   ]
  },
  {
   "cell_type": "code",
   "execution_count": 14,
   "id": "be6695b0",
   "metadata": {},
   "outputs": [
    {
     "data": {
      "text/plain": [
       "<BarContainer object of 9 artists>"
      ]
     },
     "execution_count": 14,
     "metadata": {},
     "output_type": "execute_result"
    },
    {
     "data": {
      "image/png": "[encoded data removed]",
      "text/plain": [
       "<Figure size 640x480 with 1 Axes>"
      ]
     },
     "metadata": {},
     "output_type": "display_data"
    }
   ],
   "source": [
    "fig_bar, ax_bar = plt.subplots()\n",
    "ax_bar.bar(t_arr, counts_arr, align = 'center', width = 1)"
   ]
  },
  {
   "cell_type": "markdown",
   "id": "cc7e3537",
   "metadata": {},
   "source": [
    "### hist() function of the PyPlot module is just bar() and histogram() from Numpy put together"
   ]
  },
  {
   "cell_type": "markdown",
   "id": "6746994e",
   "metadata": {},
   "source": [
    "#### I recommend using combination of histogram() and bar() instead of hist(), because of better control and for the sake of better understanding how it works:"
   ]
  },
  {
   "cell_type": "code",
   "execution_count": 15,
   "id": "dd999db7",
   "metadata": {},
   "outputs": [
    {
     "data": {
      "text/plain": [
       "array([ 7.3, 10.6,  8. , 10.4, 11.9, 14.3, 11.8, 10.7, 11.4, 11.3, 13. ,\n",
       "       10.1,  8.4, 10.7, 10.5, 10.2, 10.4,  9.2, 11.6, 11. , 10.5, 10.7,\n",
       "       10.6,  8.7,  8.2, 11.8,  7.9, 10.7,  7.9, 15.1, 10.5, 10.9, 10.7,\n",
       "       10.9,  9.4, 11.4,  8.6,  9.2,  8.1,  6.8, 11.1, 11.7,  8. , 10.4,\n",
       "        5.3, 12. , 11. ,  9.7,  8.6,  8.8,  9.2,  9.5, 10. , 11.7,  8.5,\n",
       "       11.9, 13.5, 10.3,  9.1, 13. , 13.3, 11. , 11.9,  7. ,  5.7,  9.8,\n",
       "       12.8, 13.8, 10.6, 13. ,  6.1, 12.2,  9.3,  9.7,  6.5,  9.9,  9.8,\n",
       "       12.4,  9.7,  5.8, 12.7, 10.1,  7.6, 10.3, 11.1, 11.2,  9.9, 12.6,\n",
       "       12.3, 11.7, 13.5,  6.8,  9.2,  9.6, 11.1, 10.7, 10.6, 10.9, 10.5,\n",
       "       10.1,  9. ])"
      ]
     },
     "execution_count": 15,
     "metadata": {},
     "output_type": "execute_result"
    }
   ],
   "source": [
    "V_arr"
   ]
  },
  {
   "cell_type": "code",
   "execution_count": 16,
   "id": "6c46ea40",
   "metadata": {},
   "outputs": [
    {
     "data": {
      "text/html": [
       "<div>\n",
       "<style scoped>\n",
       "    .dataframe tbody tr th:only-of-type {\n",
       "        vertical-align: middle;\n",
       "    }\n",
       "\n",
       "    .dataframe tbody tr th {\n",
       "        vertical-align: top;\n",
       "    }\n",
       "\n",
       "    .dataframe thead th {\n",
       "        text-align: right;\n",
       "    }\n",
       "</style>\n",
       "<table border=\"1\" class=\"dataframe\">\n",
       "  <thead>\n",
       "    <tr style=\"text-align: right;\">\n",
       "      <th></th>\n",
       "      <th>t_left</th>\n",
       "      <th>t_right</th>\n",
       "      <th>N</th>\n",
       "    </tr>\n",
       "  </thead>\n",
       "  <tbody>\n",
       "    <tr>\n",
       "      <th>0</th>\n",
       "      <td>6</td>\n",
       "      <td>7</td>\n",
       "      <td>4</td>\n",
       "    </tr>\n",
       "    <tr>\n",
       "      <th>1</th>\n",
       "      <td>7</td>\n",
       "      <td>8</td>\n",
       "      <td>5</td>\n",
       "    </tr>\n",
       "    <tr>\n",
       "      <th>2</th>\n",
       "      <td>8</td>\n",
       "      <td>9</td>\n",
       "      <td>10</td>\n",
       "    </tr>\n",
       "    <tr>\n",
       "      <th>3</th>\n",
       "      <td>9</td>\n",
       "      <td>10</td>\n",
       "      <td>17</td>\n",
       "    </tr>\n",
       "    <tr>\n",
       "      <th>4</th>\n",
       "      <td>10</td>\n",
       "      <td>11</td>\n",
       "      <td>27</td>\n",
       "    </tr>\n",
       "    <tr>\n",
       "      <th>5</th>\n",
       "      <td>11</td>\n",
       "      <td>12</td>\n",
       "      <td>19</td>\n",
       "    </tr>\n",
       "    <tr>\n",
       "      <th>6</th>\n",
       "      <td>12</td>\n",
       "      <td>13</td>\n",
       "      <td>7</td>\n",
       "    </tr>\n",
       "    <tr>\n",
       "      <th>7</th>\n",
       "      <td>13</td>\n",
       "      <td>14</td>\n",
       "      <td>7</td>\n",
       "    </tr>\n",
       "    <tr>\n",
       "      <th>8</th>\n",
       "      <td>14</td>\n",
       "      <td>15</td>\n",
       "      <td>1</td>\n",
       "    </tr>\n",
       "  </tbody>\n",
       "</table>\n",
       "</div>"
      ],
      "text/plain": [
       "   t_left  t_right   N\n",
       "0       6        7   4\n",
       "1       7        8   5\n",
       "2       8        9  10\n",
       "3       9       10  17\n",
       "4      10       11  27\n",
       "5      11       12  19\n",
       "6      12       13   7\n",
       "7      13       14   7\n",
       "8      14       15   1"
      ]
     },
     "execution_count": 16,
     "metadata": {},
     "output_type": "execute_result"
    }
   ],
   "source": [
    "df.head(10)"
   ]
  },
  {
   "cell_type": "code",
   "execution_count": 17,
   "id": "2f676e65",
   "metadata": {},
   "outputs": [],
   "source": [
    "counts, bins = np.histogram(V_arr, 9)"
   ]
  },
  {
   "cell_type": "code",
   "execution_count": 18,
   "id": "1a51dc02",
   "metadata": {},
   "outputs": [
    {
     "data": {
      "text/plain": [
       "array([ 4,  5,  9, 14, 31, 19, 10,  7,  2], dtype=int64)"
      ]
     },
     "execution_count": 18,
     "metadata": {},
     "output_type": "execute_result"
    }
   ],
   "source": [
    "counts"
   ]
  },
  {
   "cell_type": "code",
   "execution_count": 19,
   "id": "0203d8d6",
   "metadata": {},
   "outputs": [
    {
     "data": {
      "text/plain": [
       "array([ 5.3       ,  6.38888889,  7.47777778,  8.56666667,  9.65555556,\n",
       "       10.74444444, 11.83333333, 12.92222222, 14.01111111, 15.1       ])"
      ]
     },
     "execution_count": 19,
     "metadata": {},
     "output_type": "execute_result"
    }
   ],
   "source": [
    "bins"
   ]
  },
  {
   "cell_type": "code",
   "execution_count": 20,
   "id": "0a7e48e5",
   "metadata": {},
   "outputs": [],
   "source": [
    "# not very \"beautiful\" bins boundaries by default. Come up with our own:"
   ]
  },
  {
   "cell_type": "code",
   "execution_count": 21,
   "id": "b3c93512",
   "metadata": {},
   "outputs": [
    {
     "data": {
      "text/plain": [
       "array([ 6,  7,  8,  9, 10, 11, 12, 13, 14, 15])"
      ]
     },
     "execution_count": 21,
     "metadata": {},
     "output_type": "execute_result"
    }
   ],
   "source": [
    "my_bins = np.array([6, 7, 8, 9, 10, 11, 12, 13, 14, 15])\n",
    "my_bins"
   ]
  },
  {
   "cell_type": "code",
   "execution_count": 22,
   "id": "01c45bde",
   "metadata": {},
   "outputs": [],
   "source": [
    "counts, bins = np.histogram(V_arr, my_bins)"
   ]
  },
  {
   "cell_type": "markdown",
   "id": "b9ef8470",
   "metadata": {},
   "source": [
    "### If you try to use bins in bar() as they were given by np.histogram(), you'll get an error that your abscissa array and ordinate array have different length:"
   ]
  },
  {
   "cell_type": "code",
   "execution_count": 23,
   "id": "45aad551",
   "metadata": {},
   "outputs": [
    {
     "ename": "ValueError",
     "evalue": "shape mismatch: objects cannot be broadcast to a single shape",
     "output_type": "error",
     "traceback": [
      "\u001b[1;31m---------------------------------------------------------------------------\u001b[0m",
      "\u001b[1;31mValueError\u001b[0m                                Traceback (most recent call last)",
      "\u001b[1;32m~\\AppData\\Local\\Temp\\ipykernel_12016\\2172909110.py\u001b[0m in \u001b[0;36m<module>\u001b[1;34m\u001b[0m\n\u001b[0;32m      1\u001b[0m \u001b[0mfig_r\u001b[0m\u001b[1;33m,\u001b[0m \u001b[0max_r\u001b[0m \u001b[1;33m=\u001b[0m \u001b[0mplt\u001b[0m\u001b[1;33m.\u001b[0m\u001b[0msubplots\u001b[0m\u001b[1;33m(\u001b[0m\u001b[1;33m)\u001b[0m\u001b[1;33m\u001b[0m\u001b[1;33m\u001b[0m\u001b[0m\n\u001b[1;32m----> 2\u001b[1;33m \u001b[0max_r\u001b[0m\u001b[1;33m.\u001b[0m\u001b[0mbar\u001b[0m\u001b[1;33m(\u001b[0m\u001b[0mbins\u001b[0m\u001b[1;33m,\u001b[0m \u001b[0mcounts\u001b[0m\u001b[1;33m,\u001b[0m \u001b[0mwidth\u001b[0m \u001b[1;33m=\u001b[0m \u001b[1;36m1\u001b[0m\u001b[1;33m)\u001b[0m\u001b[1;33m\u001b[0m\u001b[1;33m\u001b[0m\u001b[0m\n\u001b[0m",
      "\u001b[1;32mC:\\ProgramData\\Anaconda3\\lib\\site-packages\\matplotlib\\__init__.py\u001b[0m in \u001b[0;36minner\u001b[1;34m(ax, data, *args, **kwargs)\u001b[0m\n\u001b[0;32m   1410\u001b[0m     \u001b[1;32mdef\u001b[0m \u001b[0minner\u001b[0m\u001b[1;33m(\u001b[0m\u001b[0max\u001b[0m\u001b[1;33m,\u001b[0m \u001b[1;33m*\u001b[0m\u001b[0margs\u001b[0m\u001b[1;33m,\u001b[0m \u001b[0mdata\u001b[0m\u001b[1;33m=\u001b[0m\u001b[1;32mNone\u001b[0m\u001b[1;33m,\u001b[0m \u001b[1;33m**\u001b[0m\u001b[0mkwargs\u001b[0m\u001b[1;33m)\u001b[0m\u001b[1;33m:\u001b[0m\u001b[1;33m\u001b[0m\u001b[1;33m\u001b[0m\u001b[0m\n\u001b[0;32m   1411\u001b[0m         \u001b[1;32mif\u001b[0m \u001b[0mdata\u001b[0m \u001b[1;32mis\u001b[0m \u001b[1;32mNone\u001b[0m\u001b[1;33m:\u001b[0m\u001b[1;33m\u001b[0m\u001b[1;33m\u001b[0m\u001b[0m\n\u001b[1;32m-> 1412\u001b[1;33m             \u001b[1;32mreturn\u001b[0m \u001b[0mfunc\u001b[0m\u001b[1;33m(\u001b[0m\u001b[0max\u001b[0m\u001b[1;33m,\u001b[0m \u001b[1;33m*\u001b[0m\u001b[0mmap\u001b[0m\u001b[1;33m(\u001b[0m\u001b[0msanitize_sequence\u001b[0m\u001b[1;33m,\u001b[0m \u001b[0margs\u001b[0m\u001b[1;33m)\u001b[0m\u001b[1;33m,\u001b[0m \u001b[1;33m**\u001b[0m\u001b[0mkwargs\u001b[0m\u001b[1;33m)\u001b[0m\u001b[1;33m\u001b[0m\u001b[1;33m\u001b[0m\u001b[0m\n\u001b[0m\u001b[0;32m   1413\u001b[0m \u001b[1;33m\u001b[0m\u001b[0m\n\u001b[0;32m   1414\u001b[0m         \u001b[0mbound\u001b[0m \u001b[1;33m=\u001b[0m \u001b[0mnew_sig\u001b[0m\u001b[1;33m.\u001b[0m\u001b[0mbind\u001b[0m\u001b[1;33m(\u001b[0m\u001b[0max\u001b[0m\u001b[1;33m,\u001b[0m \u001b[1;33m*\u001b[0m\u001b[0margs\u001b[0m\u001b[1;33m,\u001b[0m \u001b[1;33m**\u001b[0m\u001b[0mkwargs\u001b[0m\u001b[1;33m)\u001b[0m\u001b[1;33m\u001b[0m\u001b[1;33m\u001b[0m\u001b[0m\n",
      "\u001b[1;32mC:\\ProgramData\\Anaconda3\\lib\\site-packages\\matplotlib\\axes\\_axes.py\u001b[0m in \u001b[0;36mbar\u001b[1;34m(self, x, height, width, bottom, align, **kwargs)\u001b[0m\n\u001b[0;32m   2340\u001b[0m                 \u001b[0myerr\u001b[0m \u001b[1;33m=\u001b[0m \u001b[0mself\u001b[0m\u001b[1;33m.\u001b[0m\u001b[0m_convert_dx\u001b[0m\u001b[1;33m(\u001b[0m\u001b[0myerr\u001b[0m\u001b[1;33m,\u001b[0m \u001b[0my0\u001b[0m\u001b[1;33m,\u001b[0m \u001b[0my\u001b[0m\u001b[1;33m,\u001b[0m \u001b[0mself\u001b[0m\u001b[1;33m.\u001b[0m\u001b[0mconvert_yunits\u001b[0m\u001b[1;33m)\u001b[0m\u001b[1;33m\u001b[0m\u001b[1;33m\u001b[0m\u001b[0m\n\u001b[0;32m   2341\u001b[0m \u001b[1;33m\u001b[0m\u001b[0m\n\u001b[1;32m-> 2342\u001b[1;33m         x, height, width, y, linewidth, hatch = np.broadcast_arrays(\n\u001b[0m\u001b[0;32m   2343\u001b[0m             \u001b[1;31m# Make args iterable too.\u001b[0m\u001b[1;33m\u001b[0m\u001b[1;33m\u001b[0m\u001b[0m\n\u001b[0;32m   2344\u001b[0m             np.atleast_1d(x), height, width, y, linewidth, hatch)\n",
      "\u001b[1;32m<__array_function__ internals>\u001b[0m in \u001b[0;36mbroadcast_arrays\u001b[1;34m(*args, **kwargs)\u001b[0m\n",
      "\u001b[1;32mC:\\ProgramData\\Anaconda3\\lib\\site-packages\\numpy\\lib\\stride_tricks.py\u001b[0m in \u001b[0;36mbroadcast_arrays\u001b[1;34m(subok, *args)\u001b[0m\n\u001b[0;32m    536\u001b[0m     \u001b[0margs\u001b[0m \u001b[1;33m=\u001b[0m \u001b[1;33m[\u001b[0m\u001b[0mnp\u001b[0m\u001b[1;33m.\u001b[0m\u001b[0marray\u001b[0m\u001b[1;33m(\u001b[0m\u001b[0m_m\u001b[0m\u001b[1;33m,\u001b[0m \u001b[0mcopy\u001b[0m\u001b[1;33m=\u001b[0m\u001b[1;32mFalse\u001b[0m\u001b[1;33m,\u001b[0m \u001b[0msubok\u001b[0m\u001b[1;33m=\u001b[0m\u001b[0msubok\u001b[0m\u001b[1;33m)\u001b[0m \u001b[1;32mfor\u001b[0m \u001b[0m_m\u001b[0m \u001b[1;32min\u001b[0m \u001b[0margs\u001b[0m\u001b[1;33m]\u001b[0m\u001b[1;33m\u001b[0m\u001b[1;33m\u001b[0m\u001b[0m\n\u001b[0;32m    537\u001b[0m \u001b[1;33m\u001b[0m\u001b[0m\n\u001b[1;32m--> 538\u001b[1;33m     \u001b[0mshape\u001b[0m \u001b[1;33m=\u001b[0m \u001b[0m_broadcast_shape\u001b[0m\u001b[1;33m(\u001b[0m\u001b[1;33m*\u001b[0m\u001b[0margs\u001b[0m\u001b[1;33m)\u001b[0m\u001b[1;33m\u001b[0m\u001b[1;33m\u001b[0m\u001b[0m\n\u001b[0m\u001b[0;32m    539\u001b[0m \u001b[1;33m\u001b[0m\u001b[0m\n\u001b[0;32m    540\u001b[0m     \u001b[1;32mif\u001b[0m \u001b[0mall\u001b[0m\u001b[1;33m(\u001b[0m\u001b[0marray\u001b[0m\u001b[1;33m.\u001b[0m\u001b[0mshape\u001b[0m \u001b[1;33m==\u001b[0m \u001b[0mshape\u001b[0m \u001b[1;32mfor\u001b[0m \u001b[0marray\u001b[0m \u001b[1;32min\u001b[0m \u001b[0margs\u001b[0m\u001b[1;33m)\u001b[0m\u001b[1;33m:\u001b[0m\u001b[1;33m\u001b[0m\u001b[1;33m\u001b[0m\u001b[0m\n",
      "\u001b[1;32mC:\\ProgramData\\Anaconda3\\lib\\site-packages\\numpy\\lib\\stride_tricks.py\u001b[0m in \u001b[0;36m_broadcast_shape\u001b[1;34m(*args)\u001b[0m\n\u001b[0;32m    418\u001b[0m     \u001b[1;31m# use the old-iterator because np.nditer does not handle size 0 arrays\u001b[0m\u001b[1;33m\u001b[0m\u001b[1;33m\u001b[0m\u001b[0m\n\u001b[0;32m    419\u001b[0m     \u001b[1;31m# consistently\u001b[0m\u001b[1;33m\u001b[0m\u001b[1;33m\u001b[0m\u001b[0m\n\u001b[1;32m--> 420\u001b[1;33m     \u001b[0mb\u001b[0m \u001b[1;33m=\u001b[0m \u001b[0mnp\u001b[0m\u001b[1;33m.\u001b[0m\u001b[0mbroadcast\u001b[0m\u001b[1;33m(\u001b[0m\u001b[1;33m*\u001b[0m\u001b[0margs\u001b[0m\u001b[1;33m[\u001b[0m\u001b[1;33m:\u001b[0m\u001b[1;36m32\u001b[0m\u001b[1;33m]\u001b[0m\u001b[1;33m)\u001b[0m\u001b[1;33m\u001b[0m\u001b[1;33m\u001b[0m\u001b[0m\n\u001b[0m\u001b[0;32m    421\u001b[0m     \u001b[1;31m# unfortunately, it cannot handle 32 or more arguments directly\u001b[0m\u001b[1;33m\u001b[0m\u001b[1;33m\u001b[0m\u001b[0m\n\u001b[0;32m    422\u001b[0m     \u001b[1;32mfor\u001b[0m \u001b[0mpos\u001b[0m \u001b[1;32min\u001b[0m \u001b[0mrange\u001b[0m\u001b[1;33m(\u001b[0m\u001b[1;36m32\u001b[0m\u001b[1;33m,\u001b[0m \u001b[0mlen\u001b[0m\u001b[1;33m(\u001b[0m\u001b[0margs\u001b[0m\u001b[1;33m)\u001b[0m\u001b[1;33m,\u001b[0m \u001b[1;36m31\u001b[0m\u001b[1;33m)\u001b[0m\u001b[1;33m:\u001b[0m\u001b[1;33m\u001b[0m\u001b[1;33m\u001b[0m\u001b[0m\n",
      "\u001b[1;31mValueError\u001b[0m: shape mismatch: objects cannot be broadcast to a single shape"
     ]
    },
    {
     "data": {
      "image/png": "[encoded data removed]",
      "text/plain": [
       "<Figure size 640x480 with 1 Axes>"
      ]
     },
     "metadata": {},
     "output_type": "display_data"
    }
   ],
   "source": [
    "fig_r, ax_r = plt.subplots()\n",
    "ax_r.bar(bins, counts, width = 1)"
   ]
  },
  {
   "cell_type": "markdown",
   "id": "135f02e1",
   "metadata": {},
   "source": [
    "### That happens because histogram outputs the boundaries for bins in the format used by both histogram and hist(): as an array of left boudnaries of all bins PLUS the right boundary of the last bin. So, if the number of bins is N, then the length of the bins array will be N + 1:"
   ]
  },
  {
   "cell_type": "code",
   "execution_count": 24,
   "id": "5461a6ff",
   "metadata": {},
   "outputs": [
    {
     "data": {
      "text/plain": [
       "array([ 6,  7,  8,  9, 10, 11, 12, 13, 14, 15])"
      ]
     },
     "execution_count": 24,
     "metadata": {},
     "output_type": "execute_result"
    }
   ],
   "source": [
    "bins"
   ]
  },
  {
   "cell_type": "code",
   "execution_count": 25,
   "id": "99057704",
   "metadata": {},
   "outputs": [
    {
     "data": {
      "text/plain": [
       "array([ 4,  5, 10, 17, 27, 19,  7,  7,  1], dtype=int64)"
      ]
     },
     "execution_count": 25,
     "metadata": {},
     "output_type": "execute_result"
    }
   ],
   "source": [
    "counts"
   ]
  },
  {
   "cell_type": "code",
   "execution_count": 26,
   "id": "ad2544a8",
   "metadata": {},
   "outputs": [
    {
     "data": {
      "text/plain": [
       "10"
      ]
     },
     "execution_count": 26,
     "metadata": {},
     "output_type": "execute_result"
    }
   ],
   "source": [
    "len(bins)"
   ]
  },
  {
   "cell_type": "code",
   "execution_count": 27,
   "id": "aed16307",
   "metadata": {},
   "outputs": [
    {
     "data": {
      "text/plain": [
       "9"
      ]
     },
     "execution_count": 27,
     "metadata": {},
     "output_type": "execute_result"
    }
   ],
   "source": [
    "len(counts)"
   ]
  },
  {
   "cell_type": "markdown",
   "id": "655a9837",
   "metadata": {},
   "source": [
    "### Instead, let's create an array containing CENTERS of all bins. The length of that array will be N, and not N+1:"
   ]
  },
  {
   "cell_type": "code",
   "execution_count": 31,
   "id": "32a145ec",
   "metadata": {},
   "outputs": [],
   "source": [
    "arr_bins_centers = 0.5 * (bins[1:] + bins[:-1])"
   ]
  },
  {
   "cell_type": "code",
   "execution_count": 32,
   "id": "fe042f5f",
   "metadata": {},
   "outputs": [
    {
     "data": {
      "text/plain": [
       "array([ 6.5,  7.5,  8.5,  9.5, 10.5, 11.5, 12.5, 13.5, 14.5])"
      ]
     },
     "execution_count": 32,
     "metadata": {},
     "output_type": "execute_result"
    }
   ],
   "source": [
    "arr_bins_centers"
   ]
  },
  {
   "cell_type": "code",
   "execution_count": 33,
   "id": "452cbfe7",
   "metadata": {},
   "outputs": [
    {
     "data": {
      "text/plain": [
       "9"
      ]
     },
     "execution_count": 33,
     "metadata": {},
     "output_type": "execute_result"
    }
   ],
   "source": [
    "len(arr_bins_centers)"
   ]
  },
  {
   "cell_type": "markdown",
   "id": "c6f653f6",
   "metadata": {},
   "source": [
    "### Now we can use bar() function for plotting our histogram:"
   ]
  },
  {
   "cell_type": "code",
   "execution_count": 30,
   "id": "3c9a1310",
   "metadata": {},
   "outputs": [
    {
     "data": {
      "text/plain": [
       "<BarContainer object of 9 artists>"
      ]
     },
     "execution_count": 30,
     "metadata": {},
     "output_type": "execute_result"
    },
    {
     "data": {
      "image/png": "[encoded data removed]",
      "text/plain": [
       "<Figure size 640x480 with 1 Axes>"
      ]
     },
     "metadata": {},
     "output_type": "display_data"
    }
   ],
   "source": [
    "fig_r2, ax_r2 = plt.subplots()\n",
    "ax_r2.bar(arr_bins_centers, counts, width = 1)"
   ]
  },
  {
   "cell_type": "code",
   "execution_count": null,
   "id": "71ea1ae9",
   "metadata": {},
   "outputs": [],
   "source": []
  }
 ],
 "metadata": {
  "kernelspec": {
   "display_name": "Python 3 (ipykernel)",
   "language": "python",
   "name": "python3"
  },
  "language_info": {
   "codemirror_mode": {
    "name": "ipython",
    "version": 3
   },
   "file_extension": ".py",
   "mimetype": "text/x-python",
   "name": "python",
   "nbconvert_exporter": "python",
   "pygments_lexer": "ipython3",
   "version": "3.10.9"
  }
 },
 "nbformat": 4,
 "nbformat_minor": 5
}
