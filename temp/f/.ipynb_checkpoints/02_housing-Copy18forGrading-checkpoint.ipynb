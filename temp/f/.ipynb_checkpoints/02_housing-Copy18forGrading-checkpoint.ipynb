{
 "cells": [
  {
   "cell_type": "code",
   "execution_count": 1,
   "id": "11428675",
   "metadata": {},
   "outputs": [],
   "source": [
    "import numpy as np\n",
    "import pandas as pd\n",
    "from matplotlib import pyplot as plt\n",
    "from scipy.special import erf\n",
    "from scipy.optimize import fsolve\n",
    "import math\n",
    "import scipy.stats as sts"
   ]
  },
  {
   "cell_type": "markdown",
   "id": "8730094b",
   "metadata": {},
   "source": [
    "(5 pt.) Import that file into a pandas dataframe. Call the dataframe df_raw."
   ]
  },
  {
   "cell_type": "code",
   "execution_count": 2,
   "id": "666b7799",
   "metadata": {},
   "outputs": [
    {
     "name": "stderr",
     "output_type": "stream",
     "text": [
      "C:\\ProgramData\\Anaconda3\\lib\\site-packages\\IPython\\core\\interactiveshell.py:2785: DtypeWarning: Columns (0,1) have mixed types. Specify dtype option on import or set low_memory=False.\n",
      "  interactivity=interactivity, compiler=compiler, result=result)\n"
     ]
    }
   ],
   "source": [
    "df_raw = pd.read_csv(\"RDC_Inventory_Core_Metrics_Zip.csv\")"
   ]
  },
  {
   "cell_type": "markdown",
   "id": "7043db7b",
   "metadata": {},
   "source": [
    "3. (5 pt.) Display the first 5 rows of the dataframe."
   ]
  },
  {
   "cell_type": "code",
   "execution_count": 3,
   "id": "3fc4133f",
   "metadata": {
    "scrolled": true
   },
   "outputs": [
    {
     "data": {
      "text/html": [
       "<div>\n",
       "<style scoped>\n",
       "    .dataframe tbody tr th:only-of-type {\n",
       "        vertical-align: middle;\n",
       "    }\n",
       "\n",
       "    .dataframe tbody tr th {\n",
       "        vertical-align: top;\n",
       "    }\n",
       "\n",
       "    .dataframe thead th {\n",
       "        text-align: right;\n",
       "    }\n",
       "</style>\n",
       "<table border=\"1\" class=\"dataframe\">\n",
       "  <thead>\n",
       "    <tr style=\"text-align: right;\">\n",
       "      <th></th>\n",
       "      <th>month_date_yyyymm</th>\n",
       "      <th>postal_code</th>\n",
       "      <th>zip_name</th>\n",
       "      <th>median_listing_price</th>\n",
       "      <th>median_listing_price_mm</th>\n",
       "      <th>median_listing_price_yy</th>\n",
       "      <th>active_listing_count</th>\n",
       "      <th>active_listing_count_mm</th>\n",
       "      <th>active_listing_count_yy</th>\n",
       "      <th>median_days_on_market</th>\n",
       "      <th>...</th>\n",
       "      <th>average_listing_price</th>\n",
       "      <th>average_listing_price_mm</th>\n",
       "      <th>average_listing_price_yy</th>\n",
       "      <th>total_listing_count</th>\n",
       "      <th>total_listing_count_mm</th>\n",
       "      <th>total_listing_count_yy</th>\n",
       "      <th>pending_ratio</th>\n",
       "      <th>pending_ratio_mm</th>\n",
       "      <th>pending_ratio_yy</th>\n",
       "      <th>quality_flag</th>\n",
       "    </tr>\n",
       "  </thead>\n",
       "  <tbody>\n",
       "    <tr>\n",
       "      <th>0</th>\n",
       "      <td>202302</td>\n",
       "      <td>97754</td>\n",
       "      <td>prineville, or</td>\n",
       "      <td>458748.0</td>\n",
       "      <td>-0.0254</td>\n",
       "      <td>-0.1061</td>\n",
       "      <td>105.0</td>\n",
       "      <td>0.0048</td>\n",
       "      <td>1.0792</td>\n",
       "      <td>102.0</td>\n",
       "      <td>...</td>\n",
       "      <td>541867.0</td>\n",
       "      <td>-0.0382</td>\n",
       "      <td>-0.1571</td>\n",
       "      <td>135.0</td>\n",
       "      <td>-0.0288</td>\n",
       "      <td>0.2273</td>\n",
       "      <td>0.2952</td>\n",
       "      <td>-0.0349</td>\n",
       "      <td>-0.9226</td>\n",
       "      <td>1.0</td>\n",
       "    </tr>\n",
       "    <tr>\n",
       "      <th>1</th>\n",
       "      <td>202302</td>\n",
       "      <td>60064</td>\n",
       "      <td>north chicago, il</td>\n",
       "      <td>178987.0</td>\n",
       "      <td>0.0378</td>\n",
       "      <td>0.2792</td>\n",
       "      <td>10.0</td>\n",
       "      <td>-0.3939</td>\n",
       "      <td>-0.0476</td>\n",
       "      <td>80.0</td>\n",
       "      <td>...</td>\n",
       "      <td>174225.0</td>\n",
       "      <td>-0.0087</td>\n",
       "      <td>0.1925</td>\n",
       "      <td>31.0</td>\n",
       "      <td>-0.0758</td>\n",
       "      <td>0.0517</td>\n",
       "      <td>2.0000</td>\n",
       "      <td>1.0606</td>\n",
       "      <td>0.2857</td>\n",
       "      <td>0.0</td>\n",
       "    </tr>\n",
       "    <tr>\n",
       "      <th>2</th>\n",
       "      <td>202302</td>\n",
       "      <td>68413</td>\n",
       "      <td>nehawka, ne</td>\n",
       "      <td>184975.0</td>\n",
       "      <td>-0.4308</td>\n",
       "      <td>NaN</td>\n",
       "      <td>2.0</td>\n",
       "      <td>0.5000</td>\n",
       "      <td>NaN</td>\n",
       "      <td>19.0</td>\n",
       "      <td>...</td>\n",
       "      <td>184975.0</td>\n",
       "      <td>-0.4308</td>\n",
       "      <td>NaN</td>\n",
       "      <td>3.0</td>\n",
       "      <td>0.5000</td>\n",
       "      <td>0.5000</td>\n",
       "      <td>1.0000</td>\n",
       "      <td>0.0000</td>\n",
       "      <td>NaN</td>\n",
       "      <td>0.0</td>\n",
       "    </tr>\n",
       "    <tr>\n",
       "      <th>3</th>\n",
       "      <td>202302</td>\n",
       "      <td>13402</td>\n",
       "      <td>madison, ny</td>\n",
       "      <td>170000.0</td>\n",
       "      <td>0.0000</td>\n",
       "      <td>NaN</td>\n",
       "      <td>1.0</td>\n",
       "      <td>-0.5000</td>\n",
       "      <td>NaN</td>\n",
       "      <td>87.0</td>\n",
       "      <td>...</td>\n",
       "      <td>170000.0</td>\n",
       "      <td>0.0000</td>\n",
       "      <td>NaN</td>\n",
       "      <td>1.0</td>\n",
       "      <td>-0.5000</td>\n",
       "      <td>0.0000</td>\n",
       "      <td>2.0000</td>\n",
       "      <td>1.0000</td>\n",
       "      <td>NaN</td>\n",
       "      <td>0.0</td>\n",
       "    </tr>\n",
       "    <tr>\n",
       "      <th>4</th>\n",
       "      <td>202302</td>\n",
       "      <td>87710</td>\n",
       "      <td>angel fire, nm</td>\n",
       "      <td>599000.0</td>\n",
       "      <td>-0.0622</td>\n",
       "      <td>-0.0481</td>\n",
       "      <td>56.0</td>\n",
       "      <td>-0.0177</td>\n",
       "      <td>0.5000</td>\n",
       "      <td>176.0</td>\n",
       "      <td>...</td>\n",
       "      <td>777226.0</td>\n",
       "      <td>0.0631</td>\n",
       "      <td>-0.1291</td>\n",
       "      <td>78.0</td>\n",
       "      <td>0.0839</td>\n",
       "      <td>0.0764</td>\n",
       "      <td>0.4144</td>\n",
       "      <td>0.1312</td>\n",
       "      <td>-0.5721</td>\n",
       "      <td>0.0</td>\n",
       "    </tr>\n",
       "  </tbody>\n",
       "</table>\n",
       "<p>5 rows × 40 columns</p>\n",
       "</div>"
      ],
      "text/plain": [
       "  month_date_yyyymm postal_code           zip_name  median_listing_price  \\\n",
       "0            202302       97754     prineville, or              458748.0   \n",
       "1            202302       60064  north chicago, il              178987.0   \n",
       "2            202302       68413        nehawka, ne              184975.0   \n",
       "3            202302       13402        madison, ny              170000.0   \n",
       "4            202302       87710     angel fire, nm              599000.0   \n",
       "\n",
       "   median_listing_price_mm  median_listing_price_yy  active_listing_count  \\\n",
       "0                  -0.0254                  -0.1061                 105.0   \n",
       "1                   0.0378                   0.2792                  10.0   \n",
       "2                  -0.4308                      NaN                   2.0   \n",
       "3                   0.0000                      NaN                   1.0   \n",
       "4                  -0.0622                  -0.0481                  56.0   \n",
       "\n",
       "   active_listing_count_mm  active_listing_count_yy  median_days_on_market  \\\n",
       "0                   0.0048                   1.0792                  102.0   \n",
       "1                  -0.3939                  -0.0476                   80.0   \n",
       "2                   0.5000                      NaN                   19.0   \n",
       "3                  -0.5000                      NaN                   87.0   \n",
       "4                  -0.0177                   0.5000                  176.0   \n",
       "\n",
       "       ...       average_listing_price  average_listing_price_mm  \\\n",
       "0      ...                    541867.0                   -0.0382   \n",
       "1      ...                    174225.0                   -0.0087   \n",
       "2      ...                    184975.0                   -0.4308   \n",
       "3      ...                    170000.0                    0.0000   \n",
       "4      ...                    777226.0                    0.0631   \n",
       "\n",
       "   average_listing_price_yy  total_listing_count  total_listing_count_mm  \\\n",
       "0                   -0.1571                135.0                 -0.0288   \n",
       "1                    0.1925                 31.0                 -0.0758   \n",
       "2                       NaN                  3.0                  0.5000   \n",
       "3                       NaN                  1.0                 -0.5000   \n",
       "4                   -0.1291                 78.0                  0.0839   \n",
       "\n",
       "   total_listing_count_yy  pending_ratio  pending_ratio_mm  pending_ratio_yy  \\\n",
       "0                  0.2273         0.2952           -0.0349           -0.9226   \n",
       "1                  0.0517         2.0000            1.0606            0.2857   \n",
       "2                  0.5000         1.0000            0.0000               NaN   \n",
       "3                  0.0000         2.0000            1.0000               NaN   \n",
       "4                  0.0764         0.4144            0.1312           -0.5721   \n",
       "\n",
       "   quality_flag  \n",
       "0           1.0  \n",
       "1           0.0  \n",
       "2           0.0  \n",
       "3           0.0  \n",
       "4           0.0  \n",
       "\n",
       "[5 rows x 40 columns]"
      ]
     },
     "execution_count": 3,
     "metadata": {},
     "output_type": "execute_result"
    }
   ],
   "source": [
    "df_raw.head(5)"
   ]
  },
  {
   "cell_type": "markdown",
   "id": "332415f4",
   "metadata": {},
   "source": [
    "4. (5 pt.) Display the last 20 rows of the dataframe."
   ]
  },
  {
   "cell_type": "code",
   "execution_count": 4,
   "id": "abd48863",
   "metadata": {
    "scrolled": true
   },
   "outputs": [
    {
     "data": {
      "text/html": [
       "<div>\n",
       "<style scoped>\n",
       "    .dataframe tbody tr th:only-of-type {\n",
       "        vertical-align: middle;\n",
       "    }\n",
       "\n",
       "    .dataframe tbody tr th {\n",
       "        vertical-align: top;\n",
       "    }\n",
       "\n",
       "    .dataframe thead th {\n",
       "        text-align: right;\n",
       "    }\n",
       "</style>\n",
       "<table border=\"1\" class=\"dataframe\">\n",
       "  <thead>\n",
       "    <tr style=\"text-align: right;\">\n",
       "      <th></th>\n",
       "      <th>month_date_yyyymm</th>\n",
       "      <th>postal_code</th>\n",
       "      <th>zip_name</th>\n",
       "      <th>median_listing_price</th>\n",
       "      <th>median_listing_price_mm</th>\n",
       "      <th>median_listing_price_yy</th>\n",
       "      <th>active_listing_count</th>\n",
       "      <th>active_listing_count_mm</th>\n",
       "      <th>active_listing_count_yy</th>\n",
       "      <th>median_days_on_market</th>\n",
       "      <th>...</th>\n",
       "      <th>average_listing_price</th>\n",
       "      <th>average_listing_price_mm</th>\n",
       "      <th>average_listing_price_yy</th>\n",
       "      <th>total_listing_count</th>\n",
       "      <th>total_listing_count_mm</th>\n",
       "      <th>total_listing_count_yy</th>\n",
       "      <th>pending_ratio</th>\n",
       "      <th>pending_ratio_mm</th>\n",
       "      <th>pending_ratio_yy</th>\n",
       "      <th>quality_flag</th>\n",
       "    </tr>\n",
       "  </thead>\n",
       "  <tbody>\n",
       "    <tr>\n",
       "      <th>27051</th>\n",
       "      <td>202302</td>\n",
       "      <td>62627</td>\n",
       "      <td>chandlerville, il</td>\n",
       "      <td>25000.0</td>\n",
       "      <td>-0.6549</td>\n",
       "      <td>0.1123</td>\n",
       "      <td>1.0</td>\n",
       "      <td>-0.5000</td>\n",
       "      <td>0.0000</td>\n",
       "      <td>574.0</td>\n",
       "      <td>...</td>\n",
       "      <td>25000.0</td>\n",
       "      <td>-0.6549</td>\n",
       "      <td>0.1123</td>\n",
       "      <td>2.0</td>\n",
       "      <td>0.0000</td>\n",
       "      <td>1.0000</td>\n",
       "      <td>1.0000</td>\n",
       "      <td>NaN</td>\n",
       "      <td>NaN</td>\n",
       "      <td>1.0</td>\n",
       "    </tr>\n",
       "    <tr>\n",
       "      <th>27052</th>\n",
       "      <td>202302</td>\n",
       "      <td>4238</td>\n",
       "      <td>hebron, me</td>\n",
       "      <td>450000.0</td>\n",
       "      <td>-0.0481</td>\n",
       "      <td>0.0331</td>\n",
       "      <td>1.0</td>\n",
       "      <td>0.0000</td>\n",
       "      <td>-0.5000</td>\n",
       "      <td>10.0</td>\n",
       "      <td>...</td>\n",
       "      <td>450000.0</td>\n",
       "      <td>-0.0481</td>\n",
       "      <td>-0.0032</td>\n",
       "      <td>2.0</td>\n",
       "      <td>0.5000</td>\n",
       "      <td>-0.2500</td>\n",
       "      <td>1.0000</td>\n",
       "      <td>NaN</td>\n",
       "      <td>NaN</td>\n",
       "      <td>1.0</td>\n",
       "    </tr>\n",
       "    <tr>\n",
       "      <th>27053</th>\n",
       "      <td>202302</td>\n",
       "      <td>50624</td>\n",
       "      <td>dike, ia</td>\n",
       "      <td>215000.0</td>\n",
       "      <td>0.0000</td>\n",
       "      <td>NaN</td>\n",
       "      <td>1.0</td>\n",
       "      <td>0.0000</td>\n",
       "      <td>NaN</td>\n",
       "      <td>150.0</td>\n",
       "      <td>...</td>\n",
       "      <td>215000.0</td>\n",
       "      <td>0.0000</td>\n",
       "      <td>NaN</td>\n",
       "      <td>1.0</td>\n",
       "      <td>-0.3333</td>\n",
       "      <td>NaN</td>\n",
       "      <td>1.0000</td>\n",
       "      <td>0.0000</td>\n",
       "      <td>NaN</td>\n",
       "      <td>0.0</td>\n",
       "    </tr>\n",
       "    <tr>\n",
       "      <th>27054</th>\n",
       "      <td>202302</td>\n",
       "      <td>56218</td>\n",
       "      <td>boyd, mn</td>\n",
       "      <td>279900.0</td>\n",
       "      <td>-0.0667</td>\n",
       "      <td>2.3521</td>\n",
       "      <td>1.0</td>\n",
       "      <td>0.0000</td>\n",
       "      <td>0.0000</td>\n",
       "      <td>50.0</td>\n",
       "      <td>...</td>\n",
       "      <td>279900.0</td>\n",
       "      <td>-0.0667</td>\n",
       "      <td>2.3521</td>\n",
       "      <td>1.0</td>\n",
       "      <td>0.0000</td>\n",
       "      <td>0.0000</td>\n",
       "      <td>1.0000</td>\n",
       "      <td>NaN</td>\n",
       "      <td>NaN</td>\n",
       "      <td>1.0</td>\n",
       "    </tr>\n",
       "    <tr>\n",
       "      <th>27055</th>\n",
       "      <td>202302</td>\n",
       "      <td>62284</td>\n",
       "      <td>smithboro, il</td>\n",
       "      <td>77000.0</td>\n",
       "      <td>0.0000</td>\n",
       "      <td>NaN</td>\n",
       "      <td>1.0</td>\n",
       "      <td>0.0000</td>\n",
       "      <td>NaN</td>\n",
       "      <td>144.0</td>\n",
       "      <td>...</td>\n",
       "      <td>77000.0</td>\n",
       "      <td>0.0000</td>\n",
       "      <td>NaN</td>\n",
       "      <td>1.0</td>\n",
       "      <td>0.0000</td>\n",
       "      <td>NaN</td>\n",
       "      <td>1.0000</td>\n",
       "      <td>NaN</td>\n",
       "      <td>NaN</td>\n",
       "      <td>0.0</td>\n",
       "    </tr>\n",
       "    <tr>\n",
       "      <th>27056</th>\n",
       "      <td>202302</td>\n",
       "      <td>64482</td>\n",
       "      <td>rock port, mo</td>\n",
       "      <td>102500.0</td>\n",
       "      <td>-0.5728</td>\n",
       "      <td>-0.4345</td>\n",
       "      <td>6.0</td>\n",
       "      <td>0.5000</td>\n",
       "      <td>0.7143</td>\n",
       "      <td>40.0</td>\n",
       "      <td>...</td>\n",
       "      <td>182233.0</td>\n",
       "      <td>-0.2418</td>\n",
       "      <td>-0.1833</td>\n",
       "      <td>6.0</td>\n",
       "      <td>0.0909</td>\n",
       "      <td>0.7143</td>\n",
       "      <td>0.1667</td>\n",
       "      <td>-0.2083</td>\n",
       "      <td>NaN</td>\n",
       "      <td>1.0</td>\n",
       "    </tr>\n",
       "    <tr>\n",
       "      <th>27057</th>\n",
       "      <td>202302</td>\n",
       "      <td>39854</td>\n",
       "      <td>georgetown, ga</td>\n",
       "      <td>249700.0</td>\n",
       "      <td>0.0409</td>\n",
       "      <td>-0.2956</td>\n",
       "      <td>8.0</td>\n",
       "      <td>0.1429</td>\n",
       "      <td>0.6000</td>\n",
       "      <td>117.0</td>\n",
       "      <td>...</td>\n",
       "      <td>333725.0</td>\n",
       "      <td>-0.0318</td>\n",
       "      <td>-0.2430</td>\n",
       "      <td>9.0</td>\n",
       "      <td>0.0625</td>\n",
       "      <td>0.7000</td>\n",
       "      <td>0.1250</td>\n",
       "      <td>-0.0179</td>\n",
       "      <td>NaN</td>\n",
       "      <td>1.0</td>\n",
       "    </tr>\n",
       "    <tr>\n",
       "      <th>27058</th>\n",
       "      <td>202302</td>\n",
       "      <td>50062</td>\n",
       "      <td>melcher dallas, ia</td>\n",
       "      <td>138100.0</td>\n",
       "      <td>-0.0620</td>\n",
       "      <td>-0.4442</td>\n",
       "      <td>4.0</td>\n",
       "      <td>-0.1250</td>\n",
       "      <td>0.7500</td>\n",
       "      <td>53.0</td>\n",
       "      <td>...</td>\n",
       "      <td>197675.0</td>\n",
       "      <td>-0.1288</td>\n",
       "      <td>-0.2044</td>\n",
       "      <td>6.0</td>\n",
       "      <td>0.2000</td>\n",
       "      <td>2.0000</td>\n",
       "      <td>0.8571</td>\n",
       "      <td>0.3571</td>\n",
       "      <td>NaN</td>\n",
       "      <td>1.0</td>\n",
       "    </tr>\n",
       "    <tr>\n",
       "      <th>27059</th>\n",
       "      <td>202302</td>\n",
       "      <td>62466</td>\n",
       "      <td>sumner, il</td>\n",
       "      <td>224900.0</td>\n",
       "      <td>-0.2249</td>\n",
       "      <td>-0.0895</td>\n",
       "      <td>1.0</td>\n",
       "      <td>-0.5000</td>\n",
       "      <td>-0.7500</td>\n",
       "      <td>164.0</td>\n",
       "      <td>...</td>\n",
       "      <td>224900.0</td>\n",
       "      <td>-0.2249</td>\n",
       "      <td>-0.0392</td>\n",
       "      <td>1.0</td>\n",
       "      <td>-0.6667</td>\n",
       "      <td>-0.7500</td>\n",
       "      <td>0.5000</td>\n",
       "      <td>0.0000</td>\n",
       "      <td>NaN</td>\n",
       "      <td>1.0</td>\n",
       "    </tr>\n",
       "    <tr>\n",
       "      <th>27060</th>\n",
       "      <td>202302</td>\n",
       "      <td>24957</td>\n",
       "      <td>maxwelton, wv</td>\n",
       "      <td>399500.0</td>\n",
       "      <td>0.0000</td>\n",
       "      <td>NaN</td>\n",
       "      <td>2.0</td>\n",
       "      <td>-0.2500</td>\n",
       "      <td>NaN</td>\n",
       "      <td>111.0</td>\n",
       "      <td>...</td>\n",
       "      <td>399500.0</td>\n",
       "      <td>0.0000</td>\n",
       "      <td>NaN</td>\n",
       "      <td>2.0</td>\n",
       "      <td>-0.2500</td>\n",
       "      <td>NaN</td>\n",
       "      <td>0.6667</td>\n",
       "      <td>0.1667</td>\n",
       "      <td>NaN</td>\n",
       "      <td>0.0</td>\n",
       "    </tr>\n",
       "    <tr>\n",
       "      <th>27061</th>\n",
       "      <td>202302</td>\n",
       "      <td>42078</td>\n",
       "      <td>salem, ky</td>\n",
       "      <td>375000.0</td>\n",
       "      <td>0.5109</td>\n",
       "      <td>2.4404</td>\n",
       "      <td>1.0</td>\n",
       "      <td>-0.3333</td>\n",
       "      <td>0.0000</td>\n",
       "      <td>239.0</td>\n",
       "      <td>...</td>\n",
       "      <td>375000.0</td>\n",
       "      <td>0.5109</td>\n",
       "      <td>2.4404</td>\n",
       "      <td>1.0</td>\n",
       "      <td>-0.3333</td>\n",
       "      <td>0.0000</td>\n",
       "      <td>1.0000</td>\n",
       "      <td>NaN</td>\n",
       "      <td>NaN</td>\n",
       "      <td>1.0</td>\n",
       "    </tr>\n",
       "    <tr>\n",
       "      <th>27062</th>\n",
       "      <td>202302</td>\n",
       "      <td>15550</td>\n",
       "      <td>manns choice, pa</td>\n",
       "      <td>45000.0</td>\n",
       "      <td>-0.4064</td>\n",
       "      <td>-0.4958</td>\n",
       "      <td>1.0</td>\n",
       "      <td>0.0000</td>\n",
       "      <td>-0.5000</td>\n",
       "      <td>58.0</td>\n",
       "      <td>...</td>\n",
       "      <td>45000.0</td>\n",
       "      <td>-0.4064</td>\n",
       "      <td>-0.4958</td>\n",
       "      <td>1.0</td>\n",
       "      <td>-0.5000</td>\n",
       "      <td>-0.5000</td>\n",
       "      <td>1.0000</td>\n",
       "      <td>0.0000</td>\n",
       "      <td>NaN</td>\n",
       "      <td>1.0</td>\n",
       "    </tr>\n",
       "    <tr>\n",
       "      <th>27063</th>\n",
       "      <td>202302</td>\n",
       "      <td>67035</td>\n",
       "      <td>cunningham, ks</td>\n",
       "      <td>83700.0</td>\n",
       "      <td>0.0000</td>\n",
       "      <td>NaN</td>\n",
       "      <td>2.0</td>\n",
       "      <td>0.0000</td>\n",
       "      <td>NaN</td>\n",
       "      <td>114.0</td>\n",
       "      <td>...</td>\n",
       "      <td>83700.0</td>\n",
       "      <td>0.0000</td>\n",
       "      <td>NaN</td>\n",
       "      <td>3.0</td>\n",
       "      <td>0.0000</td>\n",
       "      <td>NaN</td>\n",
       "      <td>0.5000</td>\n",
       "      <td>0.0000</td>\n",
       "      <td>NaN</td>\n",
       "      <td>0.0</td>\n",
       "    </tr>\n",
       "    <tr>\n",
       "      <th>27064</th>\n",
       "      <td>202302</td>\n",
       "      <td>56128</td>\n",
       "      <td>edgerton, mn</td>\n",
       "      <td>229450.0</td>\n",
       "      <td>0.1897</td>\n",
       "      <td>0.0931</td>\n",
       "      <td>5.0</td>\n",
       "      <td>-0.1818</td>\n",
       "      <td>3.5000</td>\n",
       "      <td>251.0</td>\n",
       "      <td>...</td>\n",
       "      <td>194187.0</td>\n",
       "      <td>0.0890</td>\n",
       "      <td>-0.0749</td>\n",
       "      <td>6.0</td>\n",
       "      <td>0.0909</td>\n",
       "      <td>5.0000</td>\n",
       "      <td>0.6667</td>\n",
       "      <td>NaN</td>\n",
       "      <td>NaN</td>\n",
       "      <td>1.0</td>\n",
       "    </tr>\n",
       "    <tr>\n",
       "      <th>27065</th>\n",
       "      <td>202302</td>\n",
       "      <td>87935</td>\n",
       "      <td>elephant butte, nm</td>\n",
       "      <td>368450.0</td>\n",
       "      <td>-0.1879</td>\n",
       "      <td>-0.2514</td>\n",
       "      <td>12.0</td>\n",
       "      <td>-0.1429</td>\n",
       "      <td>0.1429</td>\n",
       "      <td>149.0</td>\n",
       "      <td>...</td>\n",
       "      <td>443123.0</td>\n",
       "      <td>-0.0979</td>\n",
       "      <td>-0.1936</td>\n",
       "      <td>13.0</td>\n",
       "      <td>-0.1333</td>\n",
       "      <td>0.2381</td>\n",
       "      <td>0.1667</td>\n",
       "      <td>0.0952</td>\n",
       "      <td>NaN</td>\n",
       "      <td>1.0</td>\n",
       "    </tr>\n",
       "    <tr>\n",
       "      <th>27066</th>\n",
       "      <td>202302</td>\n",
       "      <td>50435</td>\n",
       "      <td>floyd, ia</td>\n",
       "      <td>119000.0</td>\n",
       "      <td>0.0000</td>\n",
       "      <td>-0.3568</td>\n",
       "      <td>1.0</td>\n",
       "      <td>0.0000</td>\n",
       "      <td>-0.5000</td>\n",
       "      <td>25.0</td>\n",
       "      <td>...</td>\n",
       "      <td>119000.0</td>\n",
       "      <td>0.0000</td>\n",
       "      <td>-0.3568</td>\n",
       "      <td>1.0</td>\n",
       "      <td>0.0000</td>\n",
       "      <td>-0.5000</td>\n",
       "      <td>1.0000</td>\n",
       "      <td>0.0000</td>\n",
       "      <td>NaN</td>\n",
       "      <td>1.0</td>\n",
       "    </tr>\n",
       "    <tr>\n",
       "      <th>27067</th>\n",
       "      <td>202302</td>\n",
       "      <td>32147</td>\n",
       "      <td>NaN</td>\n",
       "      <td>294900.0</td>\n",
       "      <td>0.0000</td>\n",
       "      <td>NaN</td>\n",
       "      <td>24.0</td>\n",
       "      <td>0.0000</td>\n",
       "      <td>NaN</td>\n",
       "      <td>72.0</td>\n",
       "      <td>...</td>\n",
       "      <td>293650.0</td>\n",
       "      <td>0.0000</td>\n",
       "      <td>NaN</td>\n",
       "      <td>24.0</td>\n",
       "      <td>0.0000</td>\n",
       "      <td>NaN</td>\n",
       "      <td>0.0417</td>\n",
       "      <td>NaN</td>\n",
       "      <td>NaN</td>\n",
       "      <td>0.0</td>\n",
       "    </tr>\n",
       "    <tr>\n",
       "      <th>27068</th>\n",
       "      <td>202302</td>\n",
       "      <td>58424</td>\n",
       "      <td>cleveland, nd</td>\n",
       "      <td>92000.0</td>\n",
       "      <td>0.0000</td>\n",
       "      <td>NaN</td>\n",
       "      <td>1.0</td>\n",
       "      <td>0.0000</td>\n",
       "      <td>NaN</td>\n",
       "      <td>32.0</td>\n",
       "      <td>...</td>\n",
       "      <td>92000.0</td>\n",
       "      <td>0.0000</td>\n",
       "      <td>NaN</td>\n",
       "      <td>1.0</td>\n",
       "      <td>0.0000</td>\n",
       "      <td>NaN</td>\n",
       "      <td>1.0000</td>\n",
       "      <td>NaN</td>\n",
       "      <td>NaN</td>\n",
       "      <td>0.0</td>\n",
       "    </tr>\n",
       "    <tr>\n",
       "      <th>27069</th>\n",
       "      <td>202302</td>\n",
       "      <td>72947</td>\n",
       "      <td>mulberry, ar</td>\n",
       "      <td>66125.0</td>\n",
       "      <td>-0.2198</td>\n",
       "      <td>-0.6051</td>\n",
       "      <td>7.0</td>\n",
       "      <td>0.0000</td>\n",
       "      <td>0.4444</td>\n",
       "      <td>124.0</td>\n",
       "      <td>...</td>\n",
       "      <td>327984.0</td>\n",
       "      <td>-0.0660</td>\n",
       "      <td>-0.3320</td>\n",
       "      <td>8.0</td>\n",
       "      <td>0.0000</td>\n",
       "      <td>0.6667</td>\n",
       "      <td>0.1538</td>\n",
       "      <td>-0.1538</td>\n",
       "      <td>NaN</td>\n",
       "      <td>1.0</td>\n",
       "    </tr>\n",
       "    <tr>\n",
       "      <th>27070</th>\n",
       "      <td>quality_flag = 1:  year-over-year figures may ...</td>\n",
       "      <td>please contact economics@realtor.com for more...</td>\n",
       "      <td>NaN</td>\n",
       "      <td>NaN</td>\n",
       "      <td>NaN</td>\n",
       "      <td>NaN</td>\n",
       "      <td>NaN</td>\n",
       "      <td>NaN</td>\n",
       "      <td>NaN</td>\n",
       "      <td>NaN</td>\n",
       "      <td>...</td>\n",
       "      <td>NaN</td>\n",
       "      <td>NaN</td>\n",
       "      <td>NaN</td>\n",
       "      <td>NaN</td>\n",
       "      <td>NaN</td>\n",
       "      <td>NaN</td>\n",
       "      <td>NaN</td>\n",
       "      <td>NaN</td>\n",
       "      <td>NaN</td>\n",
       "      <td>NaN</td>\n",
       "    </tr>\n",
       "  </tbody>\n",
       "</table>\n",
       "<p>20 rows × 40 columns</p>\n",
       "</div>"
      ],
      "text/plain": [
       "                                       month_date_yyyymm  \\\n",
       "27051                                             202302   \n",
       "27052                                             202302   \n",
       "27053                                             202302   \n",
       "27054                                             202302   \n",
       "27055                                             202302   \n",
       "27056                                             202302   \n",
       "27057                                             202302   \n",
       "27058                                             202302   \n",
       "27059                                             202302   \n",
       "27060                                             202302   \n",
       "27061                                             202302   \n",
       "27062                                             202302   \n",
       "27063                                             202302   \n",
       "27064                                             202302   \n",
       "27065                                             202302   \n",
       "27066                                             202302   \n",
       "27067                                             202302   \n",
       "27068                                             202302   \n",
       "27069                                             202302   \n",
       "27070  quality_flag = 1:  year-over-year figures may ...   \n",
       "\n",
       "                                             postal_code            zip_name  \\\n",
       "27051                                              62627   chandlerville, il   \n",
       "27052                                               4238          hebron, me   \n",
       "27053                                              50624            dike, ia   \n",
       "27054                                              56218            boyd, mn   \n",
       "27055                                              62284       smithboro, il   \n",
       "27056                                              64482       rock port, mo   \n",
       "27057                                              39854      georgetown, ga   \n",
       "27058                                              50062  melcher dallas, ia   \n",
       "27059                                              62466          sumner, il   \n",
       "27060                                              24957       maxwelton, wv   \n",
       "27061                                              42078           salem, ky   \n",
       "27062                                              15550    manns choice, pa   \n",
       "27063                                              67035      cunningham, ks   \n",
       "27064                                              56128        edgerton, mn   \n",
       "27065                                              87935  elephant butte, nm   \n",
       "27066                                              50435           floyd, ia   \n",
       "27067                                              32147                 NaN   \n",
       "27068                                              58424       cleveland, nd   \n",
       "27069                                              72947        mulberry, ar   \n",
       "27070   please contact economics@realtor.com for more...                 NaN   \n",
       "\n",
       "       median_listing_price  median_listing_price_mm  median_listing_price_yy  \\\n",
       "27051               25000.0                  -0.6549                   0.1123   \n",
       "27052              450000.0                  -0.0481                   0.0331   \n",
       "27053              215000.0                   0.0000                      NaN   \n",
       "27054              279900.0                  -0.0667                   2.3521   \n",
       "27055               77000.0                   0.0000                      NaN   \n",
       "27056              102500.0                  -0.5728                  -0.4345   \n",
       "27057              249700.0                   0.0409                  -0.2956   \n",
       "27058              138100.0                  -0.0620                  -0.4442   \n",
       "27059              224900.0                  -0.2249                  -0.0895   \n",
       "27060              399500.0                   0.0000                      NaN   \n",
       "27061              375000.0                   0.5109                   2.4404   \n",
       "27062               45000.0                  -0.4064                  -0.4958   \n",
       "27063               83700.0                   0.0000                      NaN   \n",
       "27064              229450.0                   0.1897                   0.0931   \n",
       "27065              368450.0                  -0.1879                  -0.2514   \n",
       "27066              119000.0                   0.0000                  -0.3568   \n",
       "27067              294900.0                   0.0000                      NaN   \n",
       "27068               92000.0                   0.0000                      NaN   \n",
       "27069               66125.0                  -0.2198                  -0.6051   \n",
       "27070                   NaN                      NaN                      NaN   \n",
       "\n",
       "       active_listing_count  active_listing_count_mm  active_listing_count_yy  \\\n",
       "27051                   1.0                  -0.5000                   0.0000   \n",
       "27052                   1.0                   0.0000                  -0.5000   \n",
       "27053                   1.0                   0.0000                      NaN   \n",
       "27054                   1.0                   0.0000                   0.0000   \n",
       "27055                   1.0                   0.0000                      NaN   \n",
       "27056                   6.0                   0.5000                   0.7143   \n",
       "27057                   8.0                   0.1429                   0.6000   \n",
       "27058                   4.0                  -0.1250                   0.7500   \n",
       "27059                   1.0                  -0.5000                  -0.7500   \n",
       "27060                   2.0                  -0.2500                      NaN   \n",
       "27061                   1.0                  -0.3333                   0.0000   \n",
       "27062                   1.0                   0.0000                  -0.5000   \n",
       "27063                   2.0                   0.0000                      NaN   \n",
       "27064                   5.0                  -0.1818                   3.5000   \n",
       "27065                  12.0                  -0.1429                   0.1429   \n",
       "27066                   1.0                   0.0000                  -0.5000   \n",
       "27067                  24.0                   0.0000                      NaN   \n",
       "27068                   1.0                   0.0000                      NaN   \n",
       "27069                   7.0                   0.0000                   0.4444   \n",
       "27070                   NaN                      NaN                      NaN   \n",
       "\n",
       "       median_days_on_market      ...       average_listing_price  \\\n",
       "27051                  574.0      ...                     25000.0   \n",
       "27052                   10.0      ...                    450000.0   \n",
       "27053                  150.0      ...                    215000.0   \n",
       "27054                   50.0      ...                    279900.0   \n",
       "27055                  144.0      ...                     77000.0   \n",
       "27056                   40.0      ...                    182233.0   \n",
       "27057                  117.0      ...                    333725.0   \n",
       "27058                   53.0      ...                    197675.0   \n",
       "27059                  164.0      ...                    224900.0   \n",
       "27060                  111.0      ...                    399500.0   \n",
       "27061                  239.0      ...                    375000.0   \n",
       "27062                   58.0      ...                     45000.0   \n",
       "27063                  114.0      ...                     83700.0   \n",
       "27064                  251.0      ...                    194187.0   \n",
       "27065                  149.0      ...                    443123.0   \n",
       "27066                   25.0      ...                    119000.0   \n",
       "27067                   72.0      ...                    293650.0   \n",
       "27068                   32.0      ...                     92000.0   \n",
       "27069                  124.0      ...                    327984.0   \n",
       "27070                    NaN      ...                         NaN   \n",
       "\n",
       "       average_listing_price_mm  average_listing_price_yy  \\\n",
       "27051                   -0.6549                    0.1123   \n",
       "27052                   -0.0481                   -0.0032   \n",
       "27053                    0.0000                       NaN   \n",
       "27054                   -0.0667                    2.3521   \n",
       "27055                    0.0000                       NaN   \n",
       "27056                   -0.2418                   -0.1833   \n",
       "27057                   -0.0318                   -0.2430   \n",
       "27058                   -0.1288                   -0.2044   \n",
       "27059                   -0.2249                   -0.0392   \n",
       "27060                    0.0000                       NaN   \n",
       "27061                    0.5109                    2.4404   \n",
       "27062                   -0.4064                   -0.4958   \n",
       "27063                    0.0000                       NaN   \n",
       "27064                    0.0890                   -0.0749   \n",
       "27065                   -0.0979                   -0.1936   \n",
       "27066                    0.0000                   -0.3568   \n",
       "27067                    0.0000                       NaN   \n",
       "27068                    0.0000                       NaN   \n",
       "27069                   -0.0660                   -0.3320   \n",
       "27070                       NaN                       NaN   \n",
       "\n",
       "       total_listing_count  total_listing_count_mm  total_listing_count_yy  \\\n",
       "27051                  2.0                  0.0000                  1.0000   \n",
       "27052                  2.0                  0.5000                 -0.2500   \n",
       "27053                  1.0                 -0.3333                     NaN   \n",
       "27054                  1.0                  0.0000                  0.0000   \n",
       "27055                  1.0                  0.0000                     NaN   \n",
       "27056                  6.0                  0.0909                  0.7143   \n",
       "27057                  9.0                  0.0625                  0.7000   \n",
       "27058                  6.0                  0.2000                  2.0000   \n",
       "27059                  1.0                 -0.6667                 -0.7500   \n",
       "27060                  2.0                 -0.2500                     NaN   \n",
       "27061                  1.0                 -0.3333                  0.0000   \n",
       "27062                  1.0                 -0.5000                 -0.5000   \n",
       "27063                  3.0                  0.0000                     NaN   \n",
       "27064                  6.0                  0.0909                  5.0000   \n",
       "27065                 13.0                 -0.1333                  0.2381   \n",
       "27066                  1.0                  0.0000                 -0.5000   \n",
       "27067                 24.0                  0.0000                     NaN   \n",
       "27068                  1.0                  0.0000                     NaN   \n",
       "27069                  8.0                  0.0000                  0.6667   \n",
       "27070                  NaN                     NaN                     NaN   \n",
       "\n",
       "       pending_ratio  pending_ratio_mm  pending_ratio_yy  quality_flag  \n",
       "27051         1.0000               NaN               NaN           1.0  \n",
       "27052         1.0000               NaN               NaN           1.0  \n",
       "27053         1.0000            0.0000               NaN           0.0  \n",
       "27054         1.0000               NaN               NaN           1.0  \n",
       "27055         1.0000               NaN               NaN           0.0  \n",
       "27056         0.1667           -0.2083               NaN           1.0  \n",
       "27057         0.1250           -0.0179               NaN           1.0  \n",
       "27058         0.8571            0.3571               NaN           1.0  \n",
       "27059         0.5000            0.0000               NaN           1.0  \n",
       "27060         0.6667            0.1667               NaN           0.0  \n",
       "27061         1.0000               NaN               NaN           1.0  \n",
       "27062         1.0000            0.0000               NaN           1.0  \n",
       "27063         0.5000            0.0000               NaN           0.0  \n",
       "27064         0.6667               NaN               NaN           1.0  \n",
       "27065         0.1667            0.0952               NaN           1.0  \n",
       "27066         1.0000            0.0000               NaN           1.0  \n",
       "27067         0.0417               NaN               NaN           0.0  \n",
       "27068         1.0000               NaN               NaN           0.0  \n",
       "27069         0.1538           -0.1538               NaN           1.0  \n",
       "27070            NaN               NaN               NaN           NaN  \n",
       "\n",
       "[20 rows x 40 columns]"
      ]
     },
     "execution_count": 4,
     "metadata": {},
     "output_type": "execute_result"
    }
   ],
   "source": [
    "df_raw.tail(20)"
   ]
  },
  {
   "cell_type": "markdown",
   "id": "84e3f39d",
   "metadata": {},
   "source": [
    "5. (5 pt.) Using a built-in function, determine how many records are there in the database."
   ]
  },
  {
   "cell_type": "code",
   "execution_count": 5,
   "id": "88aa4819",
   "metadata": {},
   "outputs": [
    {
     "data": {
      "text/plain": [
       "27071"
      ]
     },
     "execution_count": 5,
     "metadata": {},
     "output_type": "execute_result"
    }
   ],
   "source": [
    "len(df_raw)"
   ]
  },
  {
   "cell_type": "markdown",
   "id": "4674e944",
   "metadata": {},
   "source": [
    "6. (10 pt.) The database contains much more columns than we need. Create a new dataframe df, which contains only the following three columns of the original dataframe df_raw: 'postal_code', 'median_square_feet', 'median_listing_price'."
   ]
  },
  {
   "cell_type": "code",
   "execution_count": 6,
   "id": "a5902e55",
   "metadata": {},
   "outputs": [],
   "source": [
    "df = pd.DataFrame(df_raw['postal_code'])\n",
    "df['median_listing_price'] = df_raw['median_listing_price']\n",
    "df['median_square_feet'] = df_raw['median_square_feet']"
   ]
  },
  {
   "cell_type": "markdown",
   "id": "835c60a8",
   "metadata": {},
   "source": [
    "7. (5 pt.) Display the last 5 rows of the dataframe df."
   ]
  },
  {
   "cell_type": "code",
   "execution_count": 7,
   "id": "38a1de94",
   "metadata": {},
   "outputs": [
    {
     "data": {
      "text/html": [
       "<div>\n",
       "<style scoped>\n",
       "    .dataframe tbody tr th:only-of-type {\n",
       "        vertical-align: middle;\n",
       "    }\n",
       "\n",
       "    .dataframe tbody tr th {\n",
       "        vertical-align: top;\n",
       "    }\n",
       "\n",
       "    .dataframe thead th {\n",
       "        text-align: right;\n",
       "    }\n",
       "</style>\n",
       "<table border=\"1\" class=\"dataframe\">\n",
       "  <thead>\n",
       "    <tr style=\"text-align: right;\">\n",
       "      <th></th>\n",
       "      <th>postal_code</th>\n",
       "      <th>median_listing_price</th>\n",
       "      <th>median_square_feet</th>\n",
       "    </tr>\n",
       "  </thead>\n",
       "  <tbody>\n",
       "    <tr>\n",
       "      <th>0</th>\n",
       "      <td>97754</td>\n",
       "      <td>458748.0</td>\n",
       "      <td>1835.0</td>\n",
       "    </tr>\n",
       "    <tr>\n",
       "      <th>1</th>\n",
       "      <td>60064</td>\n",
       "      <td>178987.0</td>\n",
       "      <td>1334.0</td>\n",
       "    </tr>\n",
       "    <tr>\n",
       "      <th>2</th>\n",
       "      <td>68413</td>\n",
       "      <td>184975.0</td>\n",
       "      <td>1123.0</td>\n",
       "    </tr>\n",
       "    <tr>\n",
       "      <th>3</th>\n",
       "      <td>13402</td>\n",
       "      <td>170000.0</td>\n",
       "      <td>1790.0</td>\n",
       "    </tr>\n",
       "    <tr>\n",
       "      <th>4</th>\n",
       "      <td>87710</td>\n",
       "      <td>599000.0</td>\n",
       "      <td>1925.0</td>\n",
       "    </tr>\n",
       "  </tbody>\n",
       "</table>\n",
       "</div>"
      ],
      "text/plain": [
       "  postal_code  median_listing_price  median_square_feet\n",
       "0       97754              458748.0              1835.0\n",
       "1       60064              178987.0              1334.0\n",
       "2       68413              184975.0              1123.0\n",
       "3       13402              170000.0              1790.0\n",
       "4       87710              599000.0              1925.0"
      ]
     },
     "execution_count": 7,
     "metadata": {},
     "output_type": "execute_result"
    }
   ],
   "source": [
    "df.head(5)"
   ]
  },
  {
   "cell_type": "markdown",
   "id": "c2ed2dea",
   "metadata": {},
   "source": [
    "8. (20 pt.) As opposed to the data files we are accustomed to deal with in physics, these \"real-life\" databases often contain garbage. Google how to use function Pandas function dropna(). Using the function, remove all the rows containing garbage cells data from the dataframe."
   ]
  },
  {
   "cell_type": "code",
   "execution_count": 8,
   "id": "c034b608",
   "metadata": {},
   "outputs": [],
   "source": [
    "df = df.dropna(subset=['median_square_feet'], how='any', axis=0, thresh=None)\n",
    "df = df.dropna(subset=['median_listing_price'], how='any', axis=0, thresh=None)\n",
    "df = df.dropna(subset=['postal_code'], how='any', axis=0, thresh=None)"
   ]
  },
  {
   "cell_type": "markdown",
   "id": "55ac9aad",
   "metadata": {},
   "source": [
    "(5 pt.) Using a built-in function, determine how many records are there in the cleaned database. Did the number of records change? Add your comments in the Jupyter notebook."
   ]
  },
  {
   "cell_type": "code",
   "execution_count": 9,
   "id": "a5713775",
   "metadata": {},
   "outputs": [
    {
     "data": {
      "text/plain": [
       "26760"
      ]
     },
     "execution_count": 9,
     "metadata": {},
     "output_type": "execute_result"
    }
   ],
   "source": [
    "len(df)"
   ]
  },
  {
   "cell_type": "code",
   "execution_count": 10,
   "id": "d480b610",
   "metadata": {},
   "outputs": [],
   "source": [
    "# the number of recoreds decreased"
   ]
  },
  {
   "cell_type": "markdown",
   "id": "09d6f2af",
   "metadata": {},
   "source": [
    "10. (5 pt. ) When you were importing the csv file, one of the things Pandas did behind the scenes was to infer the type of data for each column. Sometimes Pandas guesses correctly, sometimes not. Change the type of the 'postal_code' to integer, and the type of the columns 'median_square_feet', 'median_listing_price' to float."
   ]
  },
  {
   "cell_type": "code",
   "execution_count": 11,
   "id": "1b57f9d9",
   "metadata": {},
   "outputs": [],
   "source": [
    "df['postal_code'] = df['postal_code'].astype('int')\n",
    "df['median_listing_price'] = df_raw['median_listing_price'].astype('float')\n",
    "df['median_square_feet'] = df_raw['median_square_feet'].astype('float')"
   ]
  },
  {
   "cell_type": "code",
   "execution_count": 12,
   "id": "45d588c5",
   "metadata": {},
   "outputs": [
    {
     "data": {
      "text/plain": [
       "postal_code               int32\n",
       "median_listing_price    float64\n",
       "median_square_feet      float64\n",
       "dtype: object"
      ]
     },
     "execution_count": 12,
     "metadata": {},
     "output_type": "execute_result"
    }
   ],
   "source": [
    "df.dtypes"
   ]
  },
  {
   "cell_type": "markdown",
   "id": "9505f30d",
   "metadata": {},
   "source": [
    "11. (15 pt. ) Add a new column to df. Call it 'price_per_sqft'. The column should contain the result of the division of 'median_listing_price' by 'median_square_feet'."
   ]
  },
  {
   "cell_type": "code",
   "execution_count": 13,
   "id": "daf8cb20",
   "metadata": {},
   "outputs": [],
   "source": [
    "df['price_per_sqft'] = df['median_listing_price'] / df['median_square_feet']"
   ]
  },
  {
   "cell_type": "code",
   "execution_count": 14,
   "id": "5c9a5235",
   "metadata": {},
   "outputs": [
    {
     "data": {
      "text/html": [
       "<div>\n",
       "<style scoped>\n",
       "    .dataframe tbody tr th:only-of-type {\n",
       "        vertical-align: middle;\n",
       "    }\n",
       "\n",
       "    .dataframe tbody tr th {\n",
       "        vertical-align: top;\n",
       "    }\n",
       "\n",
       "    .dataframe thead th {\n",
       "        text-align: right;\n",
       "    }\n",
       "</style>\n",
       "<table border=\"1\" class=\"dataframe\">\n",
       "  <thead>\n",
       "    <tr style=\"text-align: right;\">\n",
       "      <th></th>\n",
       "      <th>postal_code</th>\n",
       "      <th>median_listing_price</th>\n",
       "      <th>median_square_feet</th>\n",
       "      <th>price_per_sqft</th>\n",
       "    </tr>\n",
       "  </thead>\n",
       "  <tbody>\n",
       "    <tr>\n",
       "      <th>0</th>\n",
       "      <td>97754</td>\n",
       "      <td>458748.0</td>\n",
       "      <td>1835.0</td>\n",
       "      <td>249.998910</td>\n",
       "    </tr>\n",
       "    <tr>\n",
       "      <th>1</th>\n",
       "      <td>60064</td>\n",
       "      <td>178987.0</td>\n",
       "      <td>1334.0</td>\n",
       "      <td>134.173163</td>\n",
       "    </tr>\n",
       "    <tr>\n",
       "      <th>2</th>\n",
       "      <td>68413</td>\n",
       "      <td>184975.0</td>\n",
       "      <td>1123.0</td>\n",
       "      <td>164.715049</td>\n",
       "    </tr>\n",
       "    <tr>\n",
       "      <th>3</th>\n",
       "      <td>13402</td>\n",
       "      <td>170000.0</td>\n",
       "      <td>1790.0</td>\n",
       "      <td>94.972067</td>\n",
       "    </tr>\n",
       "    <tr>\n",
       "      <th>4</th>\n",
       "      <td>87710</td>\n",
       "      <td>599000.0</td>\n",
       "      <td>1925.0</td>\n",
       "      <td>311.168831</td>\n",
       "    </tr>\n",
       "  </tbody>\n",
       "</table>\n",
       "</div>"
      ],
      "text/plain": [
       "   postal_code  median_listing_price  median_square_feet  price_per_sqft\n",
       "0        97754              458748.0              1835.0      249.998910\n",
       "1        60064              178987.0              1334.0      134.173163\n",
       "2        68413              184975.0              1123.0      164.715049\n",
       "3        13402              170000.0              1790.0       94.972067\n",
       "4        87710              599000.0              1925.0      311.168831"
      ]
     },
     "execution_count": 14,
     "metadata": {},
     "output_type": "execute_result"
    }
   ],
   "source": [
    "df.head()"
   ]
  },
  {
   "cell_type": "markdown",
   "id": "0d2b629b",
   "metadata": {},
   "source": [
    "12. (5 pt. ) Calculate the mean price per square foot."
   ]
  },
  {
   "cell_type": "code",
   "execution_count": 15,
   "id": "97189071",
   "metadata": {},
   "outputs": [],
   "source": [
    "p_arr = np.array(df['price_per_sqft'])"
   ]
  },
  {
   "cell_type": "markdown",
   "id": "08c71d25",
   "metadata": {},
   "source": [
    "calculate the mean"
   ]
  },
  {
   "cell_type": "code",
   "execution_count": 16,
   "id": "8dba45c0",
   "metadata": {},
   "outputs": [
    {
     "data": {
      "text/plain": [
       "228.2766938344255"
      ]
     },
     "execution_count": 16,
     "metadata": {},
     "output_type": "execute_result"
    }
   ],
   "source": [
    "mu = np.mean(p_arr)\n",
    "mu"
   ]
  },
  {
   "cell_type": "markdown",
   "id": "b7ae41e5",
   "metadata": {},
   "source": [
    "#### 13 (10 pt.) Calculate the standard deviation of the price per square foot according to formula (4.9) from Taylor."
   ]
  },
  {
   "cell_type": "code",
   "execution_count": 17,
   "id": "a0f9fff5",
   "metadata": {},
   "outputs": [],
   "source": [
    "def my_SD(arr):\n",
    "    SD = np.sqrt(np.sum((arr - np.mean(arr)) **2)/(arr.size -1))\n",
    "    return SD"
   ]
  },
  {
   "cell_type": "code",
   "execution_count": 18,
   "id": "25ba62d3",
   "metadata": {},
   "outputs": [
    {
     "data": {
      "text/plain": [
       "259.013541373766"
      ]
     },
     "execution_count": 18,
     "metadata": {},
     "output_type": "execute_result"
    }
   ],
   "source": [
    "sigma = my_SD(p_arr)\n",
    "sigma"
   ]
  },
  {
   "cell_type": "markdown",
   "id": "98ec79cb",
   "metadata": {},
   "source": [
    "#### 14 (10 pt.) Using pyplot, create a bin histogram showing f_k vs the price per square foot. You might want to make several attempts to find the number of bins, the boundaries of your histogram, and the bin width which works the best."
   ]
  },
  {
   "cell_type": "markdown",
   "id": "a633f13e",
   "metadata": {},
   "source": [
    "#### 15 (5 pt.) Label the axes of your histogram."
   ]
  },
  {
   "cell_type": "code",
   "execution_count": 45,
   "id": "96041f03",
   "metadata": {},
   "outputs": [],
   "source": [
    "my_bins = np.linspace(mu - sigma, mu + sigma, 500)\n",
    "#my_bins"
   ]
  },
  {
   "cell_type": "code",
   "execution_count": 46,
   "id": "529f7b38",
   "metadata": {},
   "outputs": [],
   "source": [
    "hist, bins = np.histogram(p_arr, bins = my_bins)"
   ]
  },
  {
   "cell_type": "code",
   "execution_count": 47,
   "id": "989dea9f",
   "metadata": {},
   "outputs": [
    {
     "data": {
      "text/plain": [
       "499"
      ]
     },
     "execution_count": 47,
     "metadata": {},
     "output_type": "execute_result"
    }
   ],
   "source": [
    "sub_bins = (bins[1:] + bins[:-1]) / 2.0\n",
    "len(sub_bins)"
   ]
  },
  {
   "cell_type": "code",
   "execution_count": 48,
   "id": "8b694b16",
   "metadata": {},
   "outputs": [
    {
     "data": {
      "text/plain": [
       "Text(0,0.5,'$f_k$')"
      ]
     },
     "execution_count": 48,
     "metadata": {},
     "output_type": "execute_result"
    },
    {
     "data": {
      "image/png": "[encoded data removed]",
      "text/plain": [
       "<Figure size 432x288 with 1 Axes>"
      ]
     },
     "metadata": {},
     "output_type": "display_data"
    }
   ],
   "source": [
    "fig, ax = plt.subplots()\n",
    "ax.bar(sub_bins, hist  / p_arr.size, width = (sub_bins[1] - sub_bins[0]))\n",
    "ax.set_xlabel('price per sqft')\n",
    "ax.set_ylabel('$f_k$')"
   ]
  },
  {
   "cell_type": "markdown",
   "id": "145ba5f4",
   "metadata": {},
   "source": [
    "#### 17 (15 pt.) Label the Gauss distribution plot with its formula. (Hint: google how to use Latex notation in pyplot labels and legends. Recall the lecture where I showed you the elements of Latex notation we would need.) "
   ]
  },
  {
   "cell_type": "code",
   "execution_count": 50,
   "id": "988c5520",
   "metadata": {
    "scrolled": true
   },
   "outputs": [
    {
     "data": {
      "image/png": "[encoded data removed]",
      "text/plain": [
       "<Figure size 432x288 with 1 Axes>"
      ]
     },
     "execution_count": 50,
     "metadata": {},
     "output_type": "execute_result"
    }
   ],
   "source": [
    "x_arr = np.linspace(mu - 4 * sigma, mu + 4 * sigma, 100)\n",
    "ax.plot(x_arr, 1 / np.sqrt(2 * np.pi) / sigma * np.exp(-(mu - x_arr)**2 / 2 / sigma**2), color = 'red',\n",
    "        label = r'$f_k \\ = \\frac{1}{\\sigma \\sqrt{2 \\pi}} e^{-(x - \\mu)^2 / {2 \\sigma^2}}$ ')\n",
    "legend = ax.legend()\n",
    "fig"
   ]
  },
  {
   "cell_type": "markdown",
   "id": "41805b3c",
   "metadata": {},
   "source": [
    "#### 18 (5 pt.) Is the current housing market in the U.S. normal? In other words, does the Gaussian distribution do a good job as a limiting distribution for the price per square foot data? Add comments to the Jupyter notebook with your thoughts."
   ]
  },
  {
   "cell_type": "markdown",
   "id": "aae19ad2",
   "metadata": {},
   "source": [
    "No, it is not. The distribution function and the histogram have distinctly different shapes"
   ]
  },
  {
   "cell_type": "markdown",
   "id": "7916a81d",
   "metadata": {},
   "source": [
    "#### 19 (30 pt.) Let's assume for a minute that our data does have Gaussian distribution. Apply chauvenet_reject(x_sus, x_mean, sigma, N) function and, using the Boolean indexing capability of Pandas (or numpy - your choice)  we learned in class, find all zip codes in the U.S. that shouldn't exist according to Chauvenet's criterion. How many did you find? Are prices there higher or lower than the medium? Share your thoughts about your findings as comments in the Jupyter notebook."
   ]
  },
  {
   "cell_type": "code",
   "execution_count": 55,
   "id": "3716f569",
   "metadata": {},
   "outputs": [],
   "source": [
    "def chauvenet_reject(x_sus, x_mean, sigma, N):\n",
    "    t = abs(x_sus - x_mean) / sigma\n",
    "    check = N * (1- erf(t / np.sqrt(2)))\n",
    "    retVal = 'error'\n",
    "    if check < 0.5:\n",
    "        retVal = True\n",
    "    elif check >= 0.5:\n",
    "        retVal = False\n",
    "    else: retVal = 'error'\n",
    "    return retVal"
   ]
  },
  {
   "cell_type": "code",
   "execution_count": 56,
   "id": "55f0be5a",
   "metadata": {},
   "outputs": [],
   "source": [
    "vec_chauvenet_reject = np.vectorize(chauvenet_reject)"
   ]
  },
  {
   "cell_type": "code",
   "execution_count": 57,
   "id": "0e64e5ca",
   "metadata": {},
   "outputs": [],
   "source": [
    "arr_bool_reject = vec_chauvenet_reject(p_arr, mu, sigma, len(p_arr))"
   ]
  },
  {
   "cell_type": "code",
   "execution_count": 58,
   "id": "6c65dbec",
   "metadata": {},
   "outputs": [
    {
     "data": {
      "text/plain": [
       "array([False, False, False, ..., False, False, False])"
      ]
     },
     "execution_count": 58,
     "metadata": {},
     "output_type": "execute_result"
    }
   ],
   "source": [
    "arr_bool_reject"
   ]
  },
  {
   "cell_type": "code",
   "execution_count": 59,
   "id": "5a79ef34",
   "metadata": {},
   "outputs": [],
   "source": [
    "arr_rejected_prices = p_arr[arr_bool_reject]"
   ]
  },
  {
   "cell_type": "code",
   "execution_count": 61,
   "id": "f3177522",
   "metadata": {},
   "outputs": [
    {
     "data": {
      "text/plain": [
       "162"
      ]
     },
     "execution_count": 61,
     "metadata": {},
     "output_type": "execute_result"
    }
   ],
   "source": [
    "len(arr_rejected_prices)"
   ]
  },
  {
   "cell_type": "code",
   "execution_count": 63,
   "id": "b39eea77",
   "metadata": {},
   "outputs": [
    {
     "data": {
      "text/plain": [
       "162"
      ]
     },
     "execution_count": 63,
     "metadata": {},
     "output_type": "execute_result"
    }
   ],
   "source": [
    "N_higher = len(arr_rejected_prices[(arr_rejected_prices) > mu])\n",
    "N_higher"
   ]
  },
  {
   "cell_type": "code",
   "execution_count": 64,
   "id": "16a11f1d",
   "metadata": {},
   "outputs": [
    {
     "data": {
      "text/plain": [
       "0"
      ]
     },
     "execution_count": 64,
     "metadata": {},
     "output_type": "execute_result"
    }
   ],
   "source": [
    "N_lower = len(arr_rejected_prices[(arr_rejected_prices) < mu])\n",
    "N_lower"
   ]
  },
  {
   "cell_type": "markdown",
   "id": "127241de",
   "metadata": {},
   "source": [
    "all rejected prices were *higher*. Non were lower."
   ]
  },
  {
   "cell_type": "markdown",
   "id": "1ac9a926",
   "metadata": {},
   "source": [
    "#### 20. (20 pt.) Use t_erf(x) in conjunction with fsolve() from scipy.optimize to find the border price per square foot such, that the zip codes with the price higher than that shouldn't exist, according to Chauvenet's criterion."
   ]
  },
  {
   "cell_type": "code",
   "execution_count": 67,
   "id": "d8232639",
   "metadata": {},
   "outputs": [],
   "source": [
    "def t_erf(t):\n",
    "    return erf(t/np.sqrt(2))"
   ]
  },
  {
   "cell_type": "code",
   "execution_count": 68,
   "id": "af9a9481",
   "metadata": {},
   "outputs": [],
   "source": [
    "def func(x, N):    \n",
    "    return t_erf(x) - (N - 0.5) / N\n",
    "def f(x):\n",
    "    return func(x, p_arr.size)"
   ]
  },
  {
   "cell_type": "code",
   "execution_count": 72,
   "id": "cd333908",
   "metadata": {},
   "outputs": [
    {
     "data": {
      "text/plain": [
       "1336.8692340881244"
      ]
     },
     "execution_count": 72,
     "metadata": {},
     "output_type": "execute_result"
    }
   ],
   "source": [
    "sol = fsolve(f, 2.0)\n",
    "chauv_high_bord = sol[0] * sigma + mu\n",
    "chauv_high_bord"
   ]
  },
  {
   "cell_type": "markdown",
   "id": "d591a575",
   "metadata": {},
   "source": [
    "#### 21. (5 pt.) Use t_erf(x) in conjunction with fsolve() from scipy.optimize to find the lower border of the price per square foot such, that the zip codes lower than that shouldn't exist, according to Chauvenet's criterion."
   ]
  },
  {
   "cell_type": "markdown",
   "id": "ae8f3525",
   "metadata": {},
   "source": [
    "What is the probability for a Netflix original to have an IMBD score laying outside the range mean - 3.1 * sigma < IMBD score < mean + 3.1 * sigma  ?"
   ]
  },
  {
   "cell_type": "code",
   "execution_count": 73,
   "id": "037d1d8c",
   "metadata": {},
   "outputs": [
    {
     "data": {
      "text/plain": [
       "-880.3158464192734"
      ]
     },
     "execution_count": 73,
     "metadata": {},
     "output_type": "execute_result"
    }
   ],
   "source": [
    "chauv_low_bord = - sol[0]* sigma + mu\n",
    "chauv_low_bord"
   ]
  },
  {
   "cell_type": "markdown",
   "id": "9e52798d",
   "metadata": {},
   "source": [
    "#### 22. (15 pt.) Using the Boolean indexing capability, remove from df ALL the records that shouldn't exist according to Chauvenet's criterion."
   ]
  },
  {
   "cell_type": "code",
   "execution_count": 84,
   "id": "0fc2079d",
   "metadata": {},
   "outputs": [],
   "source": [
    "arr_bool_leave = np.logical_not(arr_bool_reject)"
   ]
  },
  {
   "cell_type": "code",
   "execution_count": 86,
   "id": "8ac43343",
   "metadata": {},
   "outputs": [],
   "source": [
    "df_filtered = df[arr_bool_leave]"
   ]
  },
  {
   "cell_type": "code",
   "execution_count": 88,
   "id": "022a3069",
   "metadata": {},
   "outputs": [
    {
     "data": {
      "text/html": [
       "<div>\n",
       "<style scoped>\n",
       "    .dataframe tbody tr th:only-of-type {\n",
       "        vertical-align: middle;\n",
       "    }\n",
       "\n",
       "    .dataframe tbody tr th {\n",
       "        vertical-align: top;\n",
       "    }\n",
       "\n",
       "    .dataframe thead th {\n",
       "        text-align: right;\n",
       "    }\n",
       "</style>\n",
       "<table border=\"1\" class=\"dataframe\">\n",
       "  <thead>\n",
       "    <tr style=\"text-align: right;\">\n",
       "      <th></th>\n",
       "      <th>postal_code</th>\n",
       "      <th>median_listing_price</th>\n",
       "      <th>median_square_feet</th>\n",
       "      <th>price_per_sqft</th>\n",
       "    </tr>\n",
       "  </thead>\n",
       "  <tbody>\n",
       "    <tr>\n",
       "      <th>27065</th>\n",
       "      <td>87935</td>\n",
       "      <td>368450.0</td>\n",
       "      <td>2455.0</td>\n",
       "      <td>150.081466</td>\n",
       "    </tr>\n",
       "    <tr>\n",
       "      <th>27066</th>\n",
       "      <td>50435</td>\n",
       "      <td>119000.0</td>\n",
       "      <td>1008.0</td>\n",
       "      <td>118.055556</td>\n",
       "    </tr>\n",
       "    <tr>\n",
       "      <th>27067</th>\n",
       "      <td>32147</td>\n",
       "      <td>294900.0</td>\n",
       "      <td>1545.0</td>\n",
       "      <td>190.873786</td>\n",
       "    </tr>\n",
       "    <tr>\n",
       "      <th>27068</th>\n",
       "      <td>58424</td>\n",
       "      <td>92000.0</td>\n",
       "      <td>1520.0</td>\n",
       "      <td>60.526316</td>\n",
       "    </tr>\n",
       "    <tr>\n",
       "      <th>27069</th>\n",
       "      <td>72947</td>\n",
       "      <td>66125.0</td>\n",
       "      <td>1789.0</td>\n",
       "      <td>36.961990</td>\n",
       "    </tr>\n",
       "  </tbody>\n",
       "</table>\n",
       "</div>"
      ],
      "text/plain": [
       "       postal_code  median_listing_price  median_square_feet  price_per_sqft\n",
       "27065        87935              368450.0              2455.0      150.081466\n",
       "27066        50435              119000.0              1008.0      118.055556\n",
       "27067        32147              294900.0              1545.0      190.873786\n",
       "27068        58424               92000.0              1520.0       60.526316\n",
       "27069        72947               66125.0              1789.0       36.961990"
      ]
     },
     "execution_count": 88,
     "metadata": {},
     "output_type": "execute_result"
    }
   ],
   "source": [
    "df_filtered.tail()"
   ]
  },
  {
   "cell_type": "markdown",
   "id": "98ba1426",
   "metadata": {},
   "source": [
    "#### 23. (5 pt. ) How many rows are left in df?"
   ]
  },
  {
   "cell_type": "code",
   "execution_count": 89,
   "id": "bcff1b35",
   "metadata": {},
   "outputs": [
    {
     "data": {
      "text/plain": [
       "26598"
      ]
     },
     "execution_count": 89,
     "metadata": {},
     "output_type": "execute_result"
    }
   ],
   "source": [
    "len(df_filtered)"
   ]
  },
  {
   "cell_type": "markdown",
   "id": "e821d86a",
   "metadata": {},
   "source": [
    "#### 24. For the refreshed data without the outliers, repeat steps 12 - 18 above: calculate new values of the mean, and standard deviation, plot a new histogram, add the new Gaussian approximation, label the axes, and add the legend. Does the Gaussian approximation describe the data better now? Add your thoughts as comments in the Jupyter notebook. Do all the remaining steps below only with the refreshed data without the outliers."
   ]
  },
  {
   "cell_type": "code",
   "execution_count": 90,
   "id": "d3bb51e0",
   "metadata": {},
   "outputs": [],
   "source": [
    "pf_arr = np.array(df_filtered['price_per_sqft'])"
   ]
  },
  {
   "cell_type": "code",
   "execution_count": 91,
   "id": "d5269a37",
   "metadata": {},
   "outputs": [
    {
     "data": {
      "text/plain": [
       "216.85676518710213"
      ]
     },
     "execution_count": 91,
     "metadata": {},
     "output_type": "execute_result"
    }
   ],
   "source": [
    "muf = np.mean(pf_arr)\n",
    "muf"
   ]
  },
  {
   "cell_type": "code",
   "execution_count": 92,
   "id": "98bc0814",
   "metadata": {},
   "outputs": [
    {
     "data": {
      "text/plain": [
       "164.27700582381408"
      ]
     },
     "execution_count": 92,
     "metadata": {},
     "output_type": "execute_result"
    }
   ],
   "source": [
    "sigmaf = my_SD(pf_arr)\n",
    "sigmaf"
   ]
  },
  {
   "cell_type": "code",
   "execution_count": 233,
   "id": "1c73515a",
   "metadata": {},
   "outputs": [
    {
     "data": {
      "text/plain": [
       "0.02780689502699718"
      ]
     },
     "execution_count": 233,
     "metadata": {},
     "output_type": "execute_result"
    }
   ],
   "source": [
    "prob_outside = 1 - t_erf(2.2)\n",
    "prob_outside"
   ]
  },
  {
   "cell_type": "code",
   "execution_count": 93,
   "id": "192c9af0",
   "metadata": {},
   "outputs": [],
   "source": [
    "my_fbins = np.linspace(muf - sigmaf, muf + sigmaf, 500)\n",
    "histf, binsf = np.histogram(pf_arr, bins = my_fbins)\n",
    "sub_binsf = (binsf[1:] + binsf[:-1]) / 2.0"
   ]
  },
  {
   "cell_type": "code",
   "execution_count": 96,
   "id": "73e7fa22",
   "metadata": {},
   "outputs": [
    {
     "data": {
      "image/png": "[encoded data removed]",
      "text/plain": [
       "<Figure size 432x288 with 1 Axes>"
      ]
     },
     "metadata": {},
     "output_type": "display_data"
    }
   ],
   "source": [
    "figf, axf = plt.subplots()\n",
    "axf.bar(sub_bins, hist  / p_arr.size, width = (sub_bins[1] - sub_bins[0]))\n",
    "axf.set_xlabel('price per sqft')\n",
    "axf.set_ylabel('$f_k$')\n",
    "x_arrf = np.linspace(muf - 4 * sigmaf, muf + 4 * sigmaf, 100)\n",
    "axf.plot(x_arrf, 1 / np.sqrt(2 * np.pi) / sigmaf * np.exp(-(muf - x_arrf)**2 / 2 / sigmaf**2), color = 'red',\n",
    "        label = r'$f_k \\ = \\frac{1}{\\sigma_f \\sqrt{2 \\pi}} e^{-(x_f - \\mu_f)^2 / {2 \\sigma_f^2}}$ ')\n",
    "legend = axf.legend()"
   ]
  },
  {
   "cell_type": "markdown",
   "id": "ee69148e",
   "metadata": {},
   "source": [
    "#### 25. Using t_erf() function, calculate the probability for a zip code to have the average housing price per square foot outside the range  \\left( X-2.3 \\sigma, X + 2.3 \\sigma \\right) ."
   ]
  },
  {
   "cell_type": "code",
   "execution_count": 97,
   "id": "aac2f153",
   "metadata": {},
   "outputs": [
    {
     "data": {
      "text/plain": [
       "0.021448220043351673"
      ]
     },
     "execution_count": 97,
     "metadata": {},
     "output_type": "execute_result"
    }
   ],
   "source": [
    "prob_outside = 1 - t_erf(2.3)\n",
    "prob_outside"
   ]
  },
  {
   "cell_type": "markdown",
   "id": "b5ecedd7",
   "metadata": {},
   "source": [
    "#### 26. (10 pt.) How many zip codes in our database should theoretically correspond to this probability?"
   ]
  },
  {
   "cell_type": "code",
   "execution_count": 98,
   "id": "993769bc",
   "metadata": {},
   "outputs": [
    {
     "data": {
      "text/plain": [
       "570"
      ]
     },
     "execution_count": 98,
     "metadata": {},
     "output_type": "execute_result"
    }
   ],
   "source": [
    "int(pf_arr.size * prob_outside)"
   ]
  },
  {
   "cell_type": "markdown",
   "id": "1e900ca7",
   "metadata": {},
   "source": [
    "#### 27. (15 pt.) Using the Boolean indexing capability of Pandas (or numpy - your choice)  we learned in class, find all zip codes from the database with the average price per foot outside the range above. Save the records with these zip codes in a separate dataframe and display it."
   ]
  },
  {
   "cell_type": "code",
   "execution_count": 100,
   "id": "547c1371",
   "metadata": {},
   "outputs": [
    {
     "data": {
      "text/html": [
       "<div>\n",
       "<style scoped>\n",
       "    .dataframe tbody tr th:only-of-type {\n",
       "        vertical-align: middle;\n",
       "    }\n",
       "\n",
       "    .dataframe tbody tr th {\n",
       "        vertical-align: top;\n",
       "    }\n",
       "\n",
       "    .dataframe thead th {\n",
       "        text-align: right;\n",
       "    }\n",
       "</style>\n",
       "<table border=\"1\" class=\"dataframe\">\n",
       "  <thead>\n",
       "    <tr style=\"text-align: right;\">\n",
       "      <th></th>\n",
       "      <th>postal_code</th>\n",
       "      <th>median_listing_price</th>\n",
       "      <th>median_square_feet</th>\n",
       "      <th>price_per_sqft</th>\n",
       "    </tr>\n",
       "  </thead>\n",
       "  <tbody>\n",
       "    <tr>\n",
       "      <th>9</th>\n",
       "      <td>96703</td>\n",
       "      <td>3300000.0</td>\n",
       "      <td>2880.0</td>\n",
       "      <td>1145.833333</td>\n",
       "    </tr>\n",
       "    <tr>\n",
       "      <th>13</th>\n",
       "      <td>98008</td>\n",
       "      <td>1620000.0</td>\n",
       "      <td>2298.0</td>\n",
       "      <td>704.960836</td>\n",
       "    </tr>\n",
       "    <tr>\n",
       "      <th>26</th>\n",
       "      <td>95054</td>\n",
       "      <td>1536900.0</td>\n",
       "      <td>1941.0</td>\n",
       "      <td>791.808346</td>\n",
       "    </tr>\n",
       "    <tr>\n",
       "      <th>54</th>\n",
       "      <td>64146</td>\n",
       "      <td>6229950.0</td>\n",
       "      <td>3440.0</td>\n",
       "      <td>1811.031977</td>\n",
       "    </tr>\n",
       "    <tr>\n",
       "      <th>91</th>\n",
       "      <td>89451</td>\n",
       "      <td>2411250.0</td>\n",
       "      <td>2404.0</td>\n",
       "      <td>1003.015807</td>\n",
       "    </tr>\n",
       "  </tbody>\n",
       "</table>\n",
       "</div>"
      ],
      "text/plain": [
       "    postal_code  median_listing_price  median_square_feet  price_per_sqft\n",
       "9         96703             3300000.0              2880.0     1145.833333\n",
       "13        98008             1620000.0              2298.0      704.960836\n",
       "26        95054             1536900.0              1941.0      791.808346\n",
       "54        64146             6229950.0              3440.0     1811.031977\n",
       "91        89451             2411250.0              2404.0     1003.015807"
      ]
     },
     "execution_count": 100,
     "metadata": {},
     "output_type": "execute_result"
    }
   ],
   "source": [
    "dff_outside = df[(df['price_per_sqft'] > 2.3 * sigmaf + mu) | (df['price_per_sqft'] < mu - 2.3 * sigmaf)]\n",
    "dff_outside.head()"
   ]
  },
  {
   "cell_type": "markdown",
   "id": "16f5c6e4",
   "metadata": {},
   "source": [
    "#### 28. (10 pt.) How many records are there in that dataframe? Does this number differ from the theoretical one you calculated before? Why? (Why not?) Add comments with your thoughts to the Jupyter notebook."
   ]
  },
  {
   "cell_type": "code",
   "execution_count": 101,
   "id": "39a17279",
   "metadata": {
    "scrolled": true
   },
   "outputs": [
    {
     "data": {
      "text/plain": [
       "1154"
      ]
     },
     "execution_count": 101,
     "metadata": {},
     "output_type": "execute_result"
    }
   ],
   "source": [
    "len(dff_outside)"
   ]
  },
  {
   "cell_type": "markdown",
   "id": "b3fefafb",
   "metadata": {},
   "source": [
    "as we have seen above, the even the filtered distribution still doesn't look Gaussian, so we shouldn't expect the theoretical predictions given for the Gaussian distribution be confirmed."
   ]
  },
  {
   "cell_type": "code",
   "execution_count": null,
   "id": "08d7940a",
   "metadata": {},
   "outputs": [],
   "source": []
  }
 ],
 "metadata": {
  "kernelspec": {
   "display_name": "Python 3 (ipykernel)",
   "language": "python",
   "name": "python3"
  },
  "language_info": {
   "codemirror_mode": {
    "name": "ipython",
    "version": 3
   },
   "file_extension": ".py",
   "mimetype": "text/x-python",
   "name": "python",
   "nbconvert_exporter": "python",
   "pygments_lexer": "ipython3",
   "version": "3.10.9"
  }
 },
 "nbformat": 4,
 "nbformat_minor": 5
}
