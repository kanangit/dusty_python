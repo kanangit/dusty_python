{
 "cells": [
  {
   "cell_type": "markdown",
   "id": "fc3a1bbc",
   "metadata": {},
   "source": [
    "# Workflow for building temperature Profiles"
   ]
  },
  {
   "cell_type": "code",
   "execution_count": 1,
   "id": "4da7ea53",
   "metadata": {},
   "outputs": [],
   "source": [
    "##Import Libraries##\n",
    "from __future__ import division, unicode_literals, print_function  # for compatibility with Python 2 and 3\n",
    "from pandas import DataFrame, Series  # for convenience\n",
    "from PIL import Image\n",
    "import matplotlib as mpl\n",
    "import matplotlib.pyplot as plt\n",
    "import numpy as np\n",
    "import pandas as pd\n",
    "import pims\n",
    "import trackpy as tp\n",
    "import cv2\n",
    "import os\n",
    "from scipy.optimize import curve_fit\n",
    "import matplotlib.patches as mpatches\n",
    "from scipy.stats import norm\n",
    "import statistics\n",
    "from matplotlib.widgets import Slider\n",
    "import random"
   ]
  },
  {
   "cell_type": "code",
   "execution_count": 5,
   "id": "9eaa7c55",
   "metadata": {},
   "outputs": [],
   "source": [
    "default_rc = dict(mpl.rcParams) #safe the default plotting settings into a variable"
   ]
  },
  {
   "cell_type": "code",
   "execution_count": 6,
   "id": "6d68a529",
   "metadata": {},
   "outputs": [],
   "source": [
    "##Optionally, tweak styles.##\n",
    "mpl.rc('figure',  figsize=(10, 10*(1236/1376))) #400/375\n",
    "mpl.rc('image', cmap='gray')"
   ]
  },
  {
   "cell_type": "code",
   "execution_count": 8,
   "id": "9e503a4b",
   "metadata": {},
   "outputs": [],
   "source": [
    "##______________________________________________________________________________________________________________________________________________##\n",
    "\n",
    "###Convert Video to Image Sequence and save to directory###\n",
    "\n",
    "#File path of video that needs converted\n",
    "folderPath = r'g:\\My Drive\\workAppState\\prj_shocks\\expData\\data20230419temperatureProfileTest\\inputs'\n",
    "#Filepath for directory to save image sequence\n",
    "videoName = r'2mA_420V_12sccm_111mtorr_135volt_bias.avi'\n",
    "#Video Type\n",
    "vidType = '.avi'\n",
    "#Image Type\n",
    "imgType = '.png'\n",
    "\n",
    "##CODE DOES NOT NEED ALTERED FOR VIDEO/IMAGE-SEQUENCE CONVERTER PAST THIS POINT\n",
    "#Read the video from specified path\n",
    "    \n",
    "cam = cv2.VideoCapture(folderPath + r'\\Video' + videoName + vidType)\n",
    "  \n",
    "try:\n",
    "      \n",
    "    # creating a folder named \n",
    "    direcPath = folderPath + r'\\ImageSequences' + videoName\n",
    "    if not os.path.exists(direcPath):\n",
    "        os.makedirs(direcPath)\n",
    "  \n",
    "# if not created then raise error\n",
    "except OSError:\n",
    "    print ('Error: Creating directory of data')\n",
    "  \n",
    "# frame\n",
    "currentframe = 0\n",
    "  \n",
    "while(True):\n",
    "      \n",
    "    # reading from frame\n",
    "    ret,frame = cam.read()\n",
    "  \n",
    "    if ret:\n",
    "        # if video is still left continue creating images\n",
    "        name = direcPath + r'\\frame' + str(currentframe) + imgType\n",
    "        print ('Creating...' + name)\n",
    "  \n",
    "        # writing the extracted images\n",
    "        cv2.imwrite(name, frame)\n",
    "  \n",
    "        # increasing counter so that it will\n",
    "        # show how many frames are created\n",
    "        currentframe += 1\n",
    "    else:\n",
    "        break\n",
    "  \n",
    "# Release all space and windows once done\n",
    "cam.release()\n",
    "cv2.destroyAllWindows()\n"
   ]
  },
  {
   "cell_type": "code",
   "execution_count": 9,
   "id": "505e7b0a",
   "metadata": {},
   "outputs": [],
   "source": [
    "##______________________________________________________________________________________________________________________________________________##\n",
    "\n",
    "###Create Directory for Plots###\n",
    "\n",
    "if not os.path.exists(folderPath + r'\\Plots' + videoName):\n",
    "    os.makedirs(folderPath + r'\\Plots' + videoName)\n",
    "    \n"
   ]
  },
  {
   "cell_type": "code",
   "execution_count": 10,
   "id": "1ef1d001",
   "metadata": {},
   "outputs": [
    {
     "ename": "TypeError",
     "evalue": "'NoneType' object is not subscriptable",
     "output_type": "error",
     "traceback": [
      "\u001b[1;31m---------------------------------------------------------------------------\u001b[0m",
      "\u001b[1;31mTypeError\u001b[0m                                 Traceback (most recent call last)",
      "Cell \u001b[1;32mIn[10], line 15\u001b[0m\n\u001b[0;32m     12\u001b[0m frames \u001b[38;5;241m=\u001b[39m []\n\u001b[0;32m     14\u001b[0m \u001b[38;5;66;03m#Access first image in directory as test image\u001b[39;00m\n\u001b[1;32m---> 15\u001b[0m testim \u001b[38;5;241m=\u001b[39m \u001b[43mgray\u001b[49m\u001b[43m(\u001b[49m\u001b[43mcv2\u001b[49m\u001b[38;5;241;43m.\u001b[39;49m\u001b[43mimread\u001b[49m\u001b[43m(\u001b[49m\u001b[43mdirecPath\u001b[49m\u001b[43m \u001b[49m\u001b[38;5;241;43m+\u001b[39;49m\u001b[43m \u001b[49m\u001b[38;5;124;43mr\u001b[39;49m\u001b[38;5;124;43m'\u001b[39;49m\u001b[38;5;124;43m\\\u001b[39;49m\u001b[38;5;124;43mframe\u001b[39;49m\u001b[38;5;124;43m'\u001b[39;49m\u001b[43m \u001b[49m\u001b[38;5;241;43m+\u001b[39;49m\u001b[43m \u001b[49m\u001b[38;5;28;43mstr\u001b[39;49m\u001b[43m(\u001b[49m\u001b[38;5;241;43m0\u001b[39;49m\u001b[43m)\u001b[49m\u001b[43m \u001b[49m\u001b[38;5;241;43m+\u001b[39;49m\u001b[43m \u001b[49m\u001b[43mimgType\u001b[49m\u001b[43m)\u001b[49m\u001b[43m)\u001b[49m\n\u001b[0;32m     16\u001b[0m \u001b[38;5;28mprint\u001b[39m(\u001b[38;5;124m\"\u001b[39m\u001b[38;5;124m \u001b[39m\u001b[38;5;124m\"\u001b[39m)\n\u001b[0;32m     17\u001b[0m \u001b[38;5;28mprint\u001b[39m(\u001b[38;5;124m\"\u001b[39m\u001b[38;5;124mView of current image before cropping provided in plots tab\u001b[39m\u001b[38;5;124m\"\u001b[39m)\n",
      "File \u001b[1;32mC:\\ProgramData\\anaconda3\\lib\\site-packages\\slicerator\\__init__.py:690\u001b[0m, in \u001b[0;36m_pipeline_fromfunc.<locals>.process\u001b[1;34m(*args, **kwargs)\u001b[0m\n\u001b[0;32m    686\u001b[0m     \u001b[38;5;28;01mreturn\u001b[39;00m Pipeline(proc_func, \u001b[38;5;241m*\u001b[39mancestors)\n\u001b[0;32m    687\u001b[0m \u001b[38;5;28;01melse\u001b[39;00m:\n\u001b[0;32m    688\u001b[0m     \u001b[38;5;66;03m# Fall back on normal behavior of func, interpreting input\u001b[39;00m\n\u001b[0;32m    689\u001b[0m     \u001b[38;5;66;03m# as a single image.\u001b[39;00m\n\u001b[1;32m--> 690\u001b[0m     \u001b[38;5;28;01mreturn\u001b[39;00m func(\u001b[38;5;241m*\u001b[39m(ancestors \u001b[38;5;241m+\u001b[39m args), \u001b[38;5;241m*\u001b[39m\u001b[38;5;241m*\u001b[39mkwargs)\n",
      "Cell \u001b[1;32mIn[10], line 8\u001b[0m, in \u001b[0;36mgray\u001b[1;34m(image)\u001b[0m\n\u001b[0;32m      6\u001b[0m \u001b[38;5;129m@pims\u001b[39m\u001b[38;5;241m.\u001b[39mpipeline\n\u001b[0;32m      7\u001b[0m \u001b[38;5;28;01mdef\u001b[39;00m \u001b[38;5;21mgray\u001b[39m(image):\n\u001b[1;32m----> 8\u001b[0m     \u001b[38;5;28;01mreturn\u001b[39;00m \u001b[43mimage\u001b[49m\u001b[43m[\u001b[49m\u001b[43m:\u001b[49m\u001b[43m,\u001b[49m\u001b[43m \u001b[49m\u001b[43m:\u001b[49m\u001b[43m,\u001b[49m\u001b[43m \u001b[49m\u001b[38;5;241;43m1\u001b[39;49m\u001b[43m]\u001b[49m\n",
      "\u001b[1;31mTypeError\u001b[0m: 'NoneType' object is not subscriptable"
     ]
    }
   ],
   "source": [
    "##______________________________________________________________________________________________________________________________________________##\n",
    "\n",
    "###Import image sequence and convert to grayscale###\n",
    "\n",
    "#Define function that converts to grayscale\n",
    "@pims.pipeline\n",
    "def gray(image):\n",
    "    return image[:, :, 1]  # Take just the green channel\n",
    "\n",
    "\n",
    "#Creates an array for grayscale frames\n",
    "frames = []\n",
    "\n",
    "#Access first image in directory as test image\n",
    "testim = gray(cv2.imread(direcPath + r'\\frame' + str(0) + imgType))\n",
    "print(\" \")\n",
    "print(\"View of current image before cropping provided in plots tab\")\n",
    "print(\" \")\n",
    "plt.imshow(testim)\n",
    "plt.show()\n",
    "print(\"Recommended starting scale is x=525:900 y=375:775\")\n",
    "print(\"(Press enter when prompted for input to use recommended scale)\")\n",
    "#Loop to test cropping scale and then apply to entire directory\n",
    "while True:\n",
    "    #Input for cropping scale\n",
    "    xFrames1 = int(input(\"Input min x pixel coordinate: \") or \"550\")\n",
    "    xFrames2 = int(input(\"Input max x pixel coordinate: \") or \"925\")\n",
    "    yFrames1 = int(input(\"Input min y pixel coordinate: \") or \"450\")\n",
    "    #yFrames2= int(input(\"Input max y pixel coordinate: \") or \"775\")\n",
    "    yFrames2 = int(((xFrames2-xFrames1)*(1236/1376))+yFrames1)\n",
    "    #Crops test images\n",
    "    exFrame = testim[yFrames1:yFrames2, xFrames1:xFrames2]\n",
    "    #Shows cropped image\n",
    "    plt.imshow(exFrame)\n",
    "    plt.show()\n",
    "    #Request to proceed\n",
    "    answer = input(\"Would you like to reset scale? (yes or no): \")\n",
    "    if answer==\"yes\":\n",
    "        #Restarts loop for new crop scale\n",
    "        continue \n",
    "    else:\n",
    "        #Loop to apply cropping to all images in directory\n",
    "        for i in range(currentframe):\n",
    "            im = gray(cv2.imread(direcPath + r'\\frame' + str(i) + imgType))\n",
    "            frames.append(im[yFrames1:yFrames2, xFrames1:xFrames2])\n",
    "        break\n",
    "\n",
    "plt.imshow(frames[0])\n"
   ]
  },
  {
   "cell_type": "code",
   "execution_count": null,
   "id": "fee86ffe",
   "metadata": {},
   "outputs": [],
   "source": []
  }
 ],
 "metadata": {
  "kernelspec": {
   "display_name": "Python 3 (ipykernel)",
   "language": "python",
   "name": "python3"
  },
  "language_info": {
   "codemirror_mode": {
    "name": "ipython",
    "version": 3
   },
   "file_extension": ".py",
   "mimetype": "text/x-python",
   "name": "python",
   "nbconvert_exporter": "python",
   "pygments_lexer": "ipython3",
   "version": "3.10.9"
  }
 },
 "nbformat": 4,
 "nbformat_minor": 5
}
