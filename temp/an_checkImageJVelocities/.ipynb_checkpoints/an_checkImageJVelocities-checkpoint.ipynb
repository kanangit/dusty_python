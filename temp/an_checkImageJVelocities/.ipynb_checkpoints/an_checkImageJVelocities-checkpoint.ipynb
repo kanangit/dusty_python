{
 "cells": [
  {
   "cell_type": "markdown",
   "id": "70203c2c",
   "metadata": {},
   "source": [
    "# Checking the Velocity Distribution\n",
    "## particles coordinates obtained from imageJ"
   ]
  },
  {
   "cell_type": "code",
   "execution_count": 1,
   "id": "a943ddeb",
   "metadata": {},
   "outputs": [],
   "source": [
    "import numpy as np\n",
    "import matplotlib.pyplot as plt\n",
    "import trackpy as tp\n",
    "import pandas as pd\n",
    "import os\n",
    "from scipy.interpolate import interp1d\n",
    "from scipy.optimize import curve_fit\n",
    "import scipy.stats as sts"
   ]
  },
  {
   "cell_type": "code",
   "execution_count": 2,
   "id": "67ad0149",
   "metadata": {},
   "outputs": [],
   "source": [
    "folderPath = r'g:\\My Drive\\workAppState\\prj_shocks\\expData\\data20230530velDistribTest_ImageJ_Connor'"
   ]
  },
  {
   "cell_type": "code",
   "execution_count": 3,
   "id": "0aa9b3a5",
   "metadata": {},
   "outputs": [],
   "source": [
    "inputsPath = folderPath + r'\\inputs'\n",
    "infilename = r'\\360v_1mA_9sccm_91mtorr'"
   ]
  },
  {
   "cell_type": "code",
   "execution_count": 4,
   "id": "5f4946bb",
   "metadata": {},
   "outputs": [],
   "source": [
    "colnames=['x','y','frame']\n",
    "indf = pd.read_csv(inputsPath + infilename  + r'.csv', usecols=[3,4,8],names=colnames, skiprows=1)\n"
   ]
  },
  {
   "cell_type": "code",
   "execution_count": 5,
   "id": "488bee0b",
   "metadata": {},
   "outputs": [
    {
     "data": {
      "text/html": [
       "<div>\n",
       "<style scoped>\n",
       "    .dataframe tbody tr th:only-of-type {\n",
       "        vertical-align: middle;\n",
       "    }\n",
       "\n",
       "    .dataframe tbody tr th {\n",
       "        vertical-align: top;\n",
       "    }\n",
       "\n",
       "    .dataframe thead th {\n",
       "        text-align: right;\n",
       "    }\n",
       "</style>\n",
       "<table border=\"1\" class=\"dataframe\">\n",
       "  <thead>\n",
       "    <tr style=\"text-align: right;\">\n",
       "      <th></th>\n",
       "      <th>x</th>\n",
       "      <th>y</th>\n",
       "      <th>frame</th>\n",
       "    </tr>\n",
       "  </thead>\n",
       "  <tbody>\n",
       "    <tr>\n",
       "      <th>0</th>\n",
       "      <td>345.78586</td>\n",
       "      <td>13.41291</td>\n",
       "      <td>1</td>\n",
       "    </tr>\n",
       "    <tr>\n",
       "      <th>1</th>\n",
       "      <td>306.32614</td>\n",
       "      <td>14.01396</td>\n",
       "      <td>1</td>\n",
       "    </tr>\n",
       "    <tr>\n",
       "      <th>2</th>\n",
       "      <td>332.94084</td>\n",
       "      <td>13.89708</td>\n",
       "      <td>1</td>\n",
       "    </tr>\n",
       "    <tr>\n",
       "      <th>3</th>\n",
       "      <td>319.62251</td>\n",
       "      <td>14.91738</td>\n",
       "      <td>1</td>\n",
       "    </tr>\n",
       "    <tr>\n",
       "      <th>4</th>\n",
       "      <td>371.09624</td>\n",
       "      <td>14.78872</td>\n",
       "      <td>1</td>\n",
       "    </tr>\n",
       "  </tbody>\n",
       "</table>\n",
       "</div>"
      ],
      "text/plain": [
       "           x         y  frame\n",
       "0  345.78586  13.41291      1\n",
       "1  306.32614  14.01396      1\n",
       "2  332.94084  13.89708      1\n",
       "3  319.62251  14.91738      1\n",
       "4  371.09624  14.78872      1"
      ]
     },
     "execution_count": 5,
     "metadata": {},
     "output_type": "execute_result"
    }
   ],
   "source": [
    "indf.head()"
   ]
  },
  {
   "cell_type": "code",
   "execution_count": 6,
   "id": "7c6d6878",
   "metadata": {},
   "outputs": [
    {
     "data": {
      "text/html": [
       "<div>\n",
       "<style scoped>\n",
       "    .dataframe tbody tr th:only-of-type {\n",
       "        vertical-align: middle;\n",
       "    }\n",
       "\n",
       "    .dataframe tbody tr th {\n",
       "        vertical-align: top;\n",
       "    }\n",
       "\n",
       "    .dataframe thead th {\n",
       "        text-align: right;\n",
       "    }\n",
       "</style>\n",
       "<table border=\"1\" class=\"dataframe\">\n",
       "  <thead>\n",
       "    <tr style=\"text-align: right;\">\n",
       "      <th></th>\n",
       "      <th>Unnamed: 0</th>\n",
       "      <th>x</th>\n",
       "      <th>y</th>\n",
       "      <th>frame</th>\n",
       "      <th>particle</th>\n",
       "    </tr>\n",
       "  </thead>\n",
       "  <tbody>\n",
       "    <tr>\n",
       "      <th>0</th>\n",
       "      <td>0</td>\n",
       "      <td>345.78586</td>\n",
       "      <td>13.41291</td>\n",
       "      <td>1</td>\n",
       "      <td>0</td>\n",
       "    </tr>\n",
       "    <tr>\n",
       "      <th>1</th>\n",
       "      <td>1299</td>\n",
       "      <td>563.45040</td>\n",
       "      <td>319.49206</td>\n",
       "      <td>1</td>\n",
       "      <td>1</td>\n",
       "    </tr>\n",
       "    <tr>\n",
       "      <th>2</th>\n",
       "      <td>1298</td>\n",
       "      <td>513.90593</td>\n",
       "      <td>319.84384</td>\n",
       "      <td>1</td>\n",
       "      <td>2</td>\n",
       "    </tr>\n",
       "    <tr>\n",
       "      <th>3</th>\n",
       "      <td>1297</td>\n",
       "      <td>284.83552</td>\n",
       "      <td>319.66066</td>\n",
       "      <td>1</td>\n",
       "      <td>3</td>\n",
       "    </tr>\n",
       "    <tr>\n",
       "      <th>4</th>\n",
       "      <td>1296</td>\n",
       "      <td>206.13283</td>\n",
       "      <td>319.97588</td>\n",
       "      <td>1</td>\n",
       "      <td>4</td>\n",
       "    </tr>\n",
       "    <tr>\n",
       "      <th>...</th>\n",
       "      <td>...</td>\n",
       "      <td>...</td>\n",
       "      <td>...</td>\n",
       "      <td>...</td>\n",
       "      <td>...</td>\n",
       "    </tr>\n",
       "    <tr>\n",
       "      <th>1872186</th>\n",
       "      <td>1870898</td>\n",
       "      <td>210.52854</td>\n",
       "      <td>191.02396</td>\n",
       "      <td>968</td>\n",
       "      <td>1920</td>\n",
       "    </tr>\n",
       "    <tr>\n",
       "      <th>1872187</th>\n",
       "      <td>1870897</td>\n",
       "      <td>612.83741</td>\n",
       "      <td>188.58557</td>\n",
       "      <td>968</td>\n",
       "      <td>1541</td>\n",
       "    </tr>\n",
       "    <tr>\n",
       "      <th>1872188</th>\n",
       "      <td>1870896</td>\n",
       "      <td>494.81270</td>\n",
       "      <td>189.19780</td>\n",
       "      <td>968</td>\n",
       "      <td>1895</td>\n",
       "    </tr>\n",
       "    <tr>\n",
       "      <th>1872189</th>\n",
       "      <td>1870864</td>\n",
       "      <td>114.40066</td>\n",
       "      <td>184.15846</td>\n",
       "      <td>968</td>\n",
       "      <td>1864</td>\n",
       "    </tr>\n",
       "    <tr>\n",
       "      <th>1872190</th>\n",
       "      <td>1872190</td>\n",
       "      <td>233.29747</td>\n",
       "      <td>493.80802</td>\n",
       "      <td>968</td>\n",
       "      <td>638</td>\n",
       "    </tr>\n",
       "  </tbody>\n",
       "</table>\n",
       "<p>1872191 rows × 5 columns</p>\n",
       "</div>"
      ],
      "text/plain": [
       "         Unnamed: 0          x          y  frame  particle\n",
       "0                 0  345.78586   13.41291      1         0\n",
       "1              1299  563.45040  319.49206      1         1\n",
       "2              1298  513.90593  319.84384      1         2\n",
       "3              1297  284.83552  319.66066      1         3\n",
       "4              1296  206.13283  319.97588      1         4\n",
       "...             ...        ...        ...    ...       ...\n",
       "1872186     1870898  210.52854  191.02396    968      1920\n",
       "1872187     1870897  612.83741  188.58557    968      1541\n",
       "1872188     1870896  494.81270  189.19780    968      1895\n",
       "1872189     1870864  114.40066  184.15846    968      1864\n",
       "1872190     1872190  233.29747  493.80802    968       638\n",
       "\n",
       "[1872191 rows x 5 columns]"
      ]
     },
     "execution_count": 6,
     "metadata": {},
     "output_type": "execute_result"
    }
   ],
   "source": [
    "tracked_csv_dir = folderPath + r'\\outputs' + r'\\tracked' \n",
    "tracked_csv_filepath = tracked_csv_dir + infilename + r'_tracked.csv'\n",
    "if not os.path.exists(tracked_csv_dir):\n",
    "    os.makedirs(tracked_csv_dir)\n",
    "    t_large = tp.link(indf,3,memory=1)\n",
    "    t_large.to_csv(tracked_csv_filepath)    \n",
    "else:\n",
    "    t_large = pd.read_csv(tracked_csv_filepath)\n",
    "t_large\n"
   ]
  },
  {
   "cell_type": "code",
   "execution_count": 7,
   "id": "e354958f",
   "metadata": {},
   "outputs": [],
   "source": [
    "#function get_velocities(df, step) calculates velocites of particles\n",
    "# with a given step step.\n",
    "def get_velocities(df, step):\n",
    "#initialize empy arrays to store data:\n",
    "    arr_particle = np.array([])\n",
    "    arr_x = np.array([])\n",
    "    arr_y = np.array([])\n",
    "    arr_vx = np.array([])\n",
    "    arr_vy = np.array([])\n",
    "    arr_frame = np.array([])\n",
    "    # get an array containing all frame numbers in the input dataframe:\n",
    "    frames_listing = np.unique(np.array(df['frame']))\n",
    "    #cycle throught all those frames:\n",
    "    for iFrame in range(step, len(frames_listing)):\n",
    "        #get current frame:\n",
    "        cur_frame = frames_listing[iFrame]\n",
    "        #select a dataframe containing data ONLY for that frame:\n",
    "        df_front_frame = df[(df['frame'] == cur_frame)]\n",
    "        print(iFrame)\n",
    "        #cycle throught all particles in the frame and find their velocities as\n",
    "        # position of the particle in that frame minus position of the same particles\n",
    "        # step frames ago:\n",
    "        for i in range(0, len(df_front_frame)):\n",
    "            #take i-th particle in a frame\n",
    "            cur_p = df_front_frame['particle'].iloc[i]\n",
    "            cur_x = df_front_frame['x'].iloc[i]\n",
    "            cur_y = df_front_frame['y'].iloc[i]\n",
    "            #find a row with the same particle in a frame step frames ago:\n",
    "            prev_frame_cur_row = df[((df['frame'] == cur_frame - step) & (df['particle'] == cur_p))]\n",
    "            #if that particle excisted back then, we will get exactly ONE row:\n",
    "            if (len(prev_frame_cur_row) == 1):\n",
    "                #if this row exists, we can take position of that particle in that, previous, frame:\n",
    "                prev_x = prev_frame_cur_row['x'].iloc[0]\n",
    "                prev_y = prev_frame_cur_row['y'].iloc[0]\n",
    "                # so we can calculate velocities:\n",
    "                cur_vx = cur_x - prev_x\n",
    "                cur_vy = cur_y - prev_y\n",
    "                cur_particle = df_front_frame['particle'].iloc[i]\n",
    "                #and append all parameters of that particle to our data arrays\n",
    "                arr_vx = np.append(arr_vx, cur_vx)\n",
    "                arr_vy = np.append(arr_vy, cur_vy)\n",
    "                arr_particle = np.append(arr_particle, cur_particle)\n",
    "                arr_x = np.append(arr_x, cur_x)\n",
    "                arr_y = np.append(arr_y, cur_y)\n",
    "                arr_frame = np.append(arr_frame, cur_frame)\n",
    "    #save output as a dataframe containing all the info we need:\n",
    "    data = {'frame':arr_frame, 'particle':arr_particle, 'x': arr_x, 'y': arr_y, 'vx': arr_vx, 'vy':arr_vy}\n",
    "    ret_df = pd.DataFrame(data)\n",
    "                \n",
    "    return ret_df"
   ]
  },
  {
   "cell_type": "code",
   "execution_count": 8,
   "id": "e1e4fe7c",
   "metadata": {},
   "outputs": [],
   "source": [
    "# function get_velocities_fast(df, step) does the same thing as\n",
    "# get_velocities(df, step), but very fast (by avoiding cycles and append())"
   ]
  },
  {
   "cell_type": "code",
   "execution_count": 9,
   "id": "154b514e",
   "metadata": {},
   "outputs": [],
   "source": [
    "def get_velocities_fast(df, step):\n",
    "    df_sorted = df.sort_values(by = ['particle', 'frame'])\n",
    "    grouped = df_sorted.groupby('particle')\n",
    "    df_sorted['vx'] = grouped['x'].diff(periods = step)\n",
    "    df_sorted['vy'] = grouped['y'].diff(periods = step)\n",
    "    df_sorted = df_sorted.dropna()\n",
    "    df_sorted = df_sorted.sort_values(by = ['frame', 'particle'])    \n",
    "    return df_sorted"
   ]
  },
  {
   "cell_type": "markdown",
   "id": "5bc6dc78",
   "metadata": {},
   "source": [
    "## Getting the Temperature Profiles"
   ]
  },
  {
   "cell_type": "markdown",
   "id": "b37eb902",
   "metadata": {},
   "source": [
    "#### constants:"
   ]
  },
  {
   "cell_type": "code",
   "execution_count": 11,
   "id": "06d2cb52",
   "metadata": {},
   "outputs": [],
   "source": [
    "step = 1 # number of frames between the frames for calculating velocities\n",
    "dust_mass = 4.0 / 3.0 * np.pi * (7.14E-6 / 2.0)**3 * 1510.0 #mass of the dust particles\n",
    "N_points = 15 # number of points in the temperature profile\n",
    "rate_for_vel = 99.0 / step # frequency for calculating particle speeds\n",
    "mm_per_px = 1.0/40.3 # camera resolution\n",
    "N_bins = 100\n",
    "left_bins_border = -3.0\n",
    "right_bins_border = 3.0"
   ]
  },
  {
   "cell_type": "markdown",
   "id": "8786570d",
   "metadata": {},
   "source": [
    "#### first, get velocities. May take some time:\n",
    "#### Velocities obtained with step = 1:"
   ]
  },
  {
   "cell_type": "code",
   "execution_count": 12,
   "id": "070f49b5",
   "metadata": {},
   "outputs": [
    {
     "data": {
      "text/html": [
       "<div>\n",
       "<style scoped>\n",
       "    .dataframe tbody tr th:only-of-type {\n",
       "        vertical-align: middle;\n",
       "    }\n",
       "\n",
       "    .dataframe tbody tr th {\n",
       "        vertical-align: top;\n",
       "    }\n",
       "\n",
       "    .dataframe thead th {\n",
       "        text-align: right;\n",
       "    }\n",
       "</style>\n",
       "<table border=\"1\" class=\"dataframe\">\n",
       "  <thead>\n",
       "    <tr style=\"text-align: right;\">\n",
       "      <th></th>\n",
       "      <th>Unnamed: 0</th>\n",
       "      <th>frame</th>\n",
       "      <th>particle</th>\n",
       "      <th>x</th>\n",
       "      <th>y</th>\n",
       "      <th>vx</th>\n",
       "      <th>vy</th>\n",
       "    </tr>\n",
       "  </thead>\n",
       "  <tbody>\n",
       "    <tr>\n",
       "      <th>0</th>\n",
       "      <td>0</td>\n",
       "      <td>2.0</td>\n",
       "      <td>9.0</td>\n",
       "      <td>250.48543</td>\n",
       "      <td>318.43861</td>\n",
       "      <td>0.01522</td>\n",
       "      <td>0.17691</td>\n",
       "    </tr>\n",
       "    <tr>\n",
       "      <th>1</th>\n",
       "      <td>1</td>\n",
       "      <td>2.0</td>\n",
       "      <td>12.0</td>\n",
       "      <td>173.12657</td>\n",
       "      <td>318.39599</td>\n",
       "      <td>-0.02031</td>\n",
       "      <td>0.06335</td>\n",
       "    </tr>\n",
       "    <tr>\n",
       "      <th>2</th>\n",
       "      <td>2</td>\n",
       "      <td>2.0</td>\n",
       "      <td>11.0</td>\n",
       "      <td>390.37302</td>\n",
       "      <td>317.69753</td>\n",
       "      <td>-0.28955</td>\n",
       "      <td>0.32418</td>\n",
       "    </tr>\n",
       "    <tr>\n",
       "      <th>3</th>\n",
       "      <td>3</td>\n",
       "      <td>2.0</td>\n",
       "      <td>27.0</td>\n",
       "      <td>500.84187</td>\n",
       "      <td>316.95665</td>\n",
       "      <td>0.07655</td>\n",
       "      <td>0.05680</td>\n",
       "    </tr>\n",
       "    <tr>\n",
       "      <th>4</th>\n",
       "      <td>4</td>\n",
       "      <td>2.0</td>\n",
       "      <td>7.0</td>\n",
       "      <td>437.83949</td>\n",
       "      <td>318.62216</td>\n",
       "      <td>-0.12883</td>\n",
       "      <td>0.07270</td>\n",
       "    </tr>\n",
       "  </tbody>\n",
       "</table>\n",
       "</div>"
      ],
      "text/plain": [
       "   Unnamed: 0  frame  particle          x          y       vx       vy\n",
       "0           0    2.0       9.0  250.48543  318.43861  0.01522  0.17691\n",
       "1           1    2.0      12.0  173.12657  318.39599 -0.02031  0.06335\n",
       "2           2    2.0      11.0  390.37302  317.69753 -0.28955  0.32418\n",
       "3           3    2.0      27.0  500.84187  316.95665  0.07655  0.05680\n",
       "4           4    2.0       7.0  437.83949  318.62216 -0.12883  0.07270"
      ]
     },
     "execution_count": 12,
     "metadata": {},
     "output_type": "execute_result"
    }
   ],
   "source": [
    "vel_csv_dir = folderPath + r'\\outputs\\csvData\\velocities_step01'\n",
    "vel_csv_csv_filepath = vel_csv_dir + infilename + r'_velocities_step01.csv'\n",
    "if not os.path.exists(vel_csv_dir):\n",
    "    os.makedirs(vel_csv_dir)\n",
    "    df_vel_step01 = get_velocities(t_large, step)\n",
    "    df_vel_step01.to_csv(vel_csv_csv_filepath)    \n",
    "else:\n",
    "    df_vel_step01 = pd.read_csv(vel_csv_csv_filepath)\n",
    "df_vel_step01.head()"
   ]
  },
  {
   "cell_type": "markdown",
   "id": "a05a258b",
   "metadata": {},
   "source": [
    "## Comparting FWHM Method, Direct Method and Fitting method"
   ]
  },
  {
   "cell_type": "markdown",
   "id": "522cc5f9",
   "metadata": {},
   "source": [
    "#### subtracting global cloud drift:"
   ]
  },
  {
   "cell_type": "code",
   "execution_count": 15,
   "id": "a577a071",
   "metadata": {},
   "outputs": [],
   "source": [
    "meanVx = np.mean(df_vel_step01['vx'])\n",
    "meanVy = np.mean(df_vel_step01['vy'])\n",
    "arr_vx_noDrift = np.array(df_vel_step01['vx']) - meanVx\n",
    "arr_vy_noDrift = np.array(df_vel_step01['vy']) - meanVy"
   ]
  },
  {
   "cell_type": "markdown",
   "id": "de96c605",
   "metadata": {},
   "source": [
    "##### calculating histogram"
   ]
  },
  {
   "cell_type": "code",
   "execution_count": 19,
   "id": "c3e64541",
   "metadata": {},
   "outputs": [],
   "source": [
    "my_bins = np.linspace(left_bins_border, right_bins_border, N_bins)\n",
    "total_vx_samples = len(arr_vx_noDrift)\n",
    "counts_x, bins_x = np.histogram(arr_vx_noDrift, bins = my_bins)\n",
    "arr_bins_x_centers = 0.5 * (bins_x[1:] + bins_x[:-1]) # array of the bin centers\n",
    "bin_wid = np.abs(arr_bins_x_centers[1] - arr_bins_x_centers[0])\n",
    "arr_vx_freqs = counts_x / total_vx_samples / bin_wid # histogram frequencies"
   ]
  },
  {
   "cell_type": "code",
   "execution_count": null,
   "id": "04dff124",
   "metadata": {},
   "outputs": [],
   "source": [
    "#plotting the histogram\n",
    "fig_hist_x, ax_hist_x = plt.subplots()\n",
    "ax_hist_x.bar(arr_bins_x_centers, arr_vx_freqs, width = bin_wid)"
   ]
  },
  {
   "cell_type": "markdown",
   "id": "7f596309",
   "metadata": {},
   "source": [
    "#### Since the datapoints are sparse, do a cubic splines interpolation:"
   ]
  },
  {
   "cell_type": "code",
   "execution_count": null,
   "id": "55bfcb89",
   "metadata": {},
   "outputs": [],
   "source": [
    "# ten times more dense bins:\n",
    "arr_bins_dense = np.linspace(np.min(arr_bins_x_centers), np.max(arr_bins_x_centers), num = N_bins * 10)\n",
    "#interpolating function made of cubic splines:\n",
    "fx = interp1d(arr_bins_x_centers, arr_vx_freqs, kind = 'cubic')\n",
    "#interpolate the data:\n",
    "arr_f_x_interp = fx(arr_bins_dense)\n",
    "#plot\n",
    "ax_hist_x.plot(arr_bins_dense, arr_f_x_interp, color = 'red')\n",
    "fig_hist_x"
   ]
  },
  {
   "cell_type": "markdown",
   "id": "2851d4c9",
   "metadata": {},
   "source": [
    "#### FWHM method:"
   ]
  },
  {
   "cell_type": "code",
   "execution_count": null,
   "id": "c63dfbda",
   "metadata": {},
   "outputs": [],
   "source": [
    "f_vx_halfmax = np.max(arr_f_x_interp) / 2.0 #calculate the halfmaximum of the interpolated data\n",
    "#find all x-values corresponding to y-valies laying ABOVE the halfmaximum\n",
    "arr_vx_above_halfmax = arr_bins_dense[(arr_f_x_interp > f_vx_halfmax)]\n",
    "#minimum of the x-values will be the left boundary\n",
    "left_bound_vx = np.min(arr_vx_above_halfmax)\n",
    "# maximum is the right boundary\n",
    "right_bound_vx = np.max(arr_vx_above_halfmax)\n",
    "#FWHM is rgith boundary minus left boundary\n",
    "FWHM_vx = right_bound_vx - left_bound_vx\n",
    "FWHM_vx"
   ]
  },
  {
   "cell_type": "code",
   "execution_count": null,
   "id": "3df9b9a4",
   "metadata": {},
   "outputs": [],
   "source": [
    "#quick check, for Gaussian distribution, FWHM should coincide with\n",
    "sigma_vx = np.std(arr_vx_noDrift)\n",
    "mu_vx = np.mean(arr_vx_noDrift)\n",
    "sigma_vx * 2 * np.sqrt(2 * np.log(2))"
   ]
  },
  {
   "cell_type": "code",
   "execution_count": null,
   "id": "a057bebb",
   "metadata": {},
   "outputs": [],
   "source": [
    "sigma_vx"
   ]
  },
  {
   "cell_type": "code",
   "execution_count": null,
   "id": "d2775597",
   "metadata": {},
   "outputs": [],
   "source": [
    "2.355 * sigma_vx"
   ]
  },
  {
   "cell_type": "code",
   "execution_count": null,
   "id": "1563230d",
   "metadata": {},
   "outputs": [],
   "source": [
    "sigma_vx"
   ]
  },
  {
   "cell_type": "code",
   "execution_count": null,
   "id": "dccbb60c",
   "metadata": {},
   "outputs": [],
   "source": [
    "mu_vx"
   ]
  },
  {
   "cell_type": "code",
   "execution_count": null,
   "id": "f23d983f",
   "metadata": {},
   "outputs": [],
   "source": [
    "ax_hist_x.plot(arr_bins_dense, 1 / np.sqrt(2 * np.pi) / sigma_vx * np.exp(-(mu_vx - arr_bins_dense)**2 / 2 / sigma_vx**2), color = 'black',\n",
    "        label = r'$f_k \\ = \\frac{1}{\\sigma_{vx} \\sqrt{2 \\pi}} e^{-(x_f - \\mu_f)^2 / {2 \\sigma_{vx}^2}}$ ')\n",
    "legend = ax_hist_x.legend()\n",
    "fig_hist_x"
   ]
  },
  {
   "cell_type": "markdown",
   "id": "2f4ce92d",
   "metadata": {},
   "source": [
    "### Velocities obtained with step = 1:"
   ]
  },
  {
   "cell_type": "markdown",
   "id": "a2e1551a",
   "metadata": {},
   "source": [
    "#### constants:"
   ]
  },
  {
   "cell_type": "code",
   "execution_count": null,
   "id": "d0d79adc",
   "metadata": {},
   "outputs": [],
   "source": [
    "step = 1 # number of frames between the frames for calculating velocities\n",
    "dust_mass = 4.0 / 3.0 * np.pi * (7.14E-6 / 2.0)**3 * 1510.0 #mass of the dust particles\n",
    "N_points = 15 # number of points in the temperature profile\n",
    "rate_for_vel = 99.0 / step # frequency for calculating particle speeds\n",
    "mm_per_px = 1.0/121.8 # camera resolution\n",
    "N_bins = 300\n",
    "left_bins_border = -3.0\n",
    "right_bins_border = 3.0"
   ]
  },
  {
   "cell_type": "code",
   "execution_count": null,
   "id": "9e1ce59c",
   "metadata": {},
   "outputs": [],
   "source": [
    "vel_csv_dir = folderPath + r'\\outputs\\csvData\\velocities_step01'\n",
    "vel_csv_csv_filepath = vel_csv_dir + infilename + r'_velocities_step01.csv'\n",
    "if not os.path.exists(vel_csv_dir):\n",
    "    os.makedirs(vel_csv_dir)\n",
    "    df_vel_step01 = get_velocities(t_large, step)\n",
    "    df_vel_step01.to_csv(vel_csv_csv_filepath)    \n",
    "else:\n",
    "    df_vel_step01 = pd.read_csv(vel_csv_csv_filepath)\n",
    "df_vel_step01.head()"
   ]
  },
  {
   "cell_type": "code",
   "execution_count": null,
   "id": "92371cfe",
   "metadata": {},
   "outputs": [],
   "source": [
    "meanVx = np.mean(df_vel_step01['vx'])\n",
    "meanVy = np.mean(df_vel_step01['vy'])\n",
    "arr_vx_noDrift = np.array(df_vel_step01['vx']) - meanVx\n",
    "arr_vx_noDrift = arr_vx_noDrift[(arr_vx_noDrift > left_bins_border) & (arr_vx_noDrift < right_bins_border)]\n",
    "arr_vy_noDrift = np.array(df_vel_step01['vy']) - meanVy\n",
    "sigma_vx = np.std(arr_vx_noDrift)\n",
    "mu_vx = np.mean(arr_vx_noDrift)\n",
    "my_bins = np.linspace(left_bins_border, right_bins_border, N_bins)\n",
    "total_vx_hist_counts = len(arr_vx_noDrift[(arr_vx_noDrift > left_bins_border) & (arr_vx_noDrift < right_bins_border)])\n",
    "total_vx_hist_counts\n",
    "#calculating histogram\n",
    "counts_x, bins_x = np.histogram(arr_vx_noDrift, bins = my_bins)\n",
    "arr_bins_x_centers = 0.5 * (bins_x[1:] + bins_x[:-1]) # array of the bin centers\n",
    "bin_wid = np.abs(arr_bins_x_centers[1] - arr_bins_x_centers[0])\n",
    "arr_vx_freqs = counts_x / float(len(arr_vx_noDrift)) / bin_wid # histogram frequencies\n",
    "#plotting the histogram\n",
    "fig_hist_x, ax_hist_x = plt.subplots()\n",
    "ax_hist_x.bar(arr_bins_x_centers, arr_vx_freqs, width = (arr_bins_x_centers[1] - arr_bins_x_centers[0]))\n",
    "# ten times more dense bins:\n",
    "arr_bins_dense = np.linspace(np.min(arr_bins_x_centers), np.max(arr_bins_x_centers), num = N_bins * 10)\n",
    "#interpolating function made of cubic splines:\n",
    "fx = interp1d(arr_bins_x_centers, arr_vx_freqs, kind = 'cubic')\n",
    "#interpolate the data:\n",
    "arr_f_x_interp = fx(arr_bins_dense)\n",
    "#plot\n",
    "ax_hist_x.plot(arr_bins_dense, arr_f_x_interp, color = 'red')\n",
    "ax_hist_x.plot(arr_bins_dense, 1 / np.sqrt(2 * np.pi) / sigma_vx * np.exp(-(mu_vx - arr_bins_dense)**2 / 2 / sigma_vx**2), color = 'black',\n",
    "        label = r'$f_k \\ = \\frac{1}{\\sigma_{vx} \\sqrt{2 \\pi}} e^{-(x_f - \\mu_f)^2 / {2 \\sigma_{vx}^2}}$ ')\n",
    "legend = ax_hist_x.legend()\n",
    "\n",
    "ax_hist_x.plot(arr_bins_dense, 1 / np.sqrt(2 * np.pi) / 0.07498 * np.exp(-(0 - arr_bins_dense)**2 / 2 / 0.07498**2), color = 'yellow',\n",
    "        label = r'$f_k \\ = \\frac{1}{\\sigma_{vx} \\sqrt{2 \\pi}} e^{-(x_f - \\mu_f)^2 / {2 \\sigma_{vx}^2}}$ ')\n",
    "ax_hist_x.set_xlim([-1, 1])"
   ]
  },
  {
   "cell_type": "code",
   "execution_count": null,
   "id": "9e63d8cb",
   "metadata": {},
   "outputs": [],
   "source": [
    "bin_wid"
   ]
  },
  {
   "cell_type": "code",
   "execution_count": null,
   "id": "20140c9b",
   "metadata": {},
   "outputs": [],
   "source": [
    "sigma_vx"
   ]
  },
  {
   "cell_type": "code",
   "execution_count": null,
   "id": "1aa8d157",
   "metadata": {},
   "outputs": [],
   "source": [
    "f_vx_halfmax = np.max(arr_f_x_interp) / 2.0 #calculate the halfmaximum of the interpolated data\n",
    "#find all x-values corresponding to y-valies laying ABOVE the halfmaximum\n",
    "arr_vx_above_halfmax = arr_bins_dense[(arr_f_x_interp > f_vx_halfmax)]\n",
    "#minimum of the x-values will be the left boundary\n",
    "left_bound_vx = np.min(arr_vx_above_halfmax)\n",
    "# maximum is the right boundary\n",
    "right_bound_vx = np.max(arr_vx_above_halfmax)\n",
    "#FWHM is rgith boundary minus left boundary\n",
    "FWHM_vx = right_bound_vx - left_bound_vx\n",
    "FWHM_vx"
   ]
  },
  {
   "cell_type": "code",
   "execution_count": null,
   "id": "c5aed39c",
   "metadata": {},
   "outputs": [],
   "source": [
    "0.07498 * 2.35"
   ]
  },
  {
   "cell_type": "code",
   "execution_count": null,
   "id": "8543e09d",
   "metadata": {},
   "outputs": [],
   "source": [
    "#quick check, for Gaussian distribution, FWHM should coincide with\n",
    "sigma_vx = np.std(arr_vx_noDrift)\n",
    "mu_vx = np.mean(arr_vx_noDrift)\n",
    "sigma_vx * 2 * np.sqrt(2 * np.log(2))"
   ]
  },
  {
   "cell_type": "code",
   "execution_count": null,
   "id": "9f083c8b",
   "metadata": {},
   "outputs": [],
   "source": [
    "np.min(np.abs(arr_vx_noDrift))"
   ]
  },
  {
   "cell_type": "code",
   "execution_count": null,
   "id": "0cf7b087",
   "metadata": {},
   "outputs": [],
   "source": [
    "np.max(arr_vx_noDrift)"
   ]
  },
  {
   "cell_type": "code",
   "execution_count": null,
   "id": "d607e5bf",
   "metadata": {},
   "outputs": [],
   "source": [
    "np.min(arr_vx_noDrift)"
   ]
  },
  {
   "cell_type": "code",
   "execution_count": null,
   "id": "84cd0dd1",
   "metadata": {},
   "outputs": [],
   "source": [
    "t_large_t = tp.link(indf, 10.0 ,memory = 0)"
   ]
  },
  {
   "cell_type": "code",
   "execution_count": null,
   "id": "926aadd2",
   "metadata": {},
   "outputs": [],
   "source": [
    "len(t_large_t)"
   ]
  },
  {
   "cell_type": "code",
   "execution_count": null,
   "id": "4388ff01",
   "metadata": {},
   "outputs": [],
   "source": [
    "df_vel_t = get_velocities_fast(t_large_t, 1)"
   ]
  },
  {
   "cell_type": "code",
   "execution_count": null,
   "id": "40c4fbeb",
   "metadata": {},
   "outputs": [],
   "source": [
    "arr_vx_t = np.array(df_vel_t['vx']) - np.mean(np.array(df_vel_t['vx']))"
   ]
  },
  {
   "cell_type": "code",
   "execution_count": null,
   "id": "7824003f",
   "metadata": {},
   "outputs": [],
   "source": [
    "np.max(arr_vx_t)"
   ]
  },
  {
   "cell_type": "code",
   "execution_count": null,
   "id": "bbec14be",
   "metadata": {},
   "outputs": [],
   "source": [
    "np.max(np.array(df_vel_t['vx']))"
   ]
  },
  {
   "cell_type": "code",
   "execution_count": null,
   "id": "bcffb1e9",
   "metadata": {},
   "outputs": [],
   "source": [
    "np.mean(np.array(df_vel_t['vx']))"
   ]
  },
  {
   "cell_type": "code",
   "execution_count": null,
   "id": "e8f0d840",
   "metadata": {},
   "outputs": [],
   "source": [
    "np.min(arr_vx_t)"
   ]
  },
  {
   "cell_type": "code",
   "execution_count": null,
   "id": "2c929773",
   "metadata": {},
   "outputs": [],
   "source": [
    "meanVx = np.mean(df_vel_t['vx'])\n",
    "meanVy = np.mean(df_vel_t['vy'])\n",
    "arr_vx_noDrift = np.array(df_vel_t['vx']) - meanVx\n",
    "arr_vx_noDrift = arr_vx_noDrift[(arr_vx_noDrift > left_bins_border) & (arr_vx_noDrift < right_bins_border)]\n",
    "arr_vy_noDrift = np.array(df_vel_step01['vy']) - meanVy\n",
    "my_bins = np.linspace(left_bins_border, right_bins_border, N_bins)\n",
    "total_vx_hist_counts = len(arr_vx_noDrift[(arr_vx_noDrift > left_bins_border) & (arr_vx_noDrift < right_bins_border)])\n",
    "total_vx_hist_counts\n",
    "#calculating histogram\n",
    "counts_x, bins_x = np.histogram(arr_vx_noDrift, bins = my_bins)\n",
    "arr_bins_x_centers = 0.5 * (bins_x[1:] + bins_x[:-1]) # array of the bin centers\n",
    "arr_vx_freqs = counts_x / len(arr_vx_noDrift) # histogram frequencies\n",
    "#plotting the histogram\n",
    "fig_hist_x, ax_hist_x = plt.subplots()\n",
    "ax_hist_x.bar(arr_bins_x_centers, arr_vx_freqs, width = (arr_bins_x_centers[1] - arr_bins_x_centers[0]))\n",
    "# ten times more dense bins:\n",
    "arr_bins_dense = np.linspace(np.min(arr_bins_x_centers), np.max(arr_bins_x_centers), num = N_bins * 10)\n",
    "#interpolating function made of cubic splines:\n",
    "fx = interp1d(arr_bins_x_centers, arr_vx_freqs, kind = 'cubic')\n",
    "#interpolate the data:\n",
    "arr_f_x_interp = fx(arr_bins_dense)\n",
    "#plot\n",
    "ax_hist_x.plot(arr_bins_dense, arr_f_x_interp, color = 'red')\n",
    "ax_hist_x.plot(arr_bins_dense, 1 / np.sqrt(2 * np.pi) / sigma_vx * np.exp(-(mu_vx - arr_bins_dense)**2 / 2 / sigma_vx**2), color = 'black',\n",
    "        label = r'$f_k \\ = \\frac{1}{\\sigma_{vx} \\sqrt{2 \\pi}} e^{-(x_f - \\mu_f)^2 / {2 \\sigma_{vx}^2}}$ ')\n",
    "legend = ax_hist_x.legend()"
   ]
  },
  {
   "cell_type": "code",
   "execution_count": null,
   "id": "443e76eb",
   "metadata": {},
   "outputs": [],
   "source": [
    "\n",
    "\n",
    "def my_gauss(x, mu, sigma):\n",
    "    return 1 / np.sqrt(2 * np.pi) / sigma * np.exp(-(mu - x)**2 / 2 / sigma**2)\n",
    "\n",
    "\n",
    "params, params_covariance = curve_fit(my_gauss, arr_bins_x_centers, arr_vx_freqs,  bounds=(0, [0.000001, 10.]))"
   ]
  },
  {
   "cell_type": "code",
   "execution_count": null,
   "id": "57f410f7",
   "metadata": {},
   "outputs": [],
   "source": [
    "params"
   ]
  },
  {
   "cell_type": "code",
   "execution_count": null,
   "id": "4315672f",
   "metadata": {},
   "outputs": [],
   "source": [
    "params_covariance"
   ]
  },
  {
   "cell_type": "code",
   "execution_count": null,
   "id": "4e793042",
   "metadata": {},
   "outputs": [],
   "source": [
    "np.sum(arr_vx_freqs)*bin_wid"
   ]
  },
  {
   "cell_type": "code",
   "execution_count": null,
   "id": "5ea1e00a",
   "metadata": {},
   "outputs": [],
   "source": [
    "np.sum(arr_vx_freqs)"
   ]
  },
  {
   "cell_type": "code",
   "execution_count": null,
   "id": "b396a492",
   "metadata": {},
   "outputs": [],
   "source": []
  }
 ],
 "metadata": {
  "kernelspec": {
   "display_name": "Python 3 (ipykernel)",
   "language": "python",
   "name": "python3"
  },
  "language_info": {
   "codemirror_mode": {
    "name": "ipython",
    "version": 3
   },
   "file_extension": ".py",
   "mimetype": "text/x-python",
   "name": "python",
   "nbconvert_exporter": "python",
   "pygments_lexer": "ipython3",
   "version": "3.10.9"
  }
 },
 "nbformat": 4,
 "nbformat_minor": 5
}
