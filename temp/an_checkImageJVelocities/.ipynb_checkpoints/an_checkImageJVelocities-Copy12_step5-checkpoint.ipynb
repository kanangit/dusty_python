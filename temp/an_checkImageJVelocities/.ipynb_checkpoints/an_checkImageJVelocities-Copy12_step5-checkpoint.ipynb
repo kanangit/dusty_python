{
 "cells": [
  {
   "cell_type": "markdown",
   "id": "70203c2c",
   "metadata": {},
   "source": [
    "# Checking the Velocity Distribution\n",
    "## particles coordinates obtained from imageJ"
   ]
  },
  {
   "cell_type": "code",
   "execution_count": null,
   "id": "a943ddeb",
   "metadata": {},
   "outputs": [],
   "source": [
    "import numpy as np\n",
    "import matplotlib.pyplot as plt\n",
    "import trackpy as tp\n",
    "import pandas as pd\n",
    "import os"
   ]
  },
  {
   "cell_type": "code",
   "execution_count": null,
   "id": "67ad0149",
   "metadata": {},
   "outputs": [],
   "source": [
    "folderPath = r'g:\\My Drive\\workAppState\\prj_shocks\\expData\\data20230530velDistribTest_ImageJ_Connor'"
   ]
  },
  {
   "cell_type": "code",
   "execution_count": null,
   "id": "0aa9b3a5",
   "metadata": {},
   "outputs": [],
   "source": [
    "inputsPath = folderPath + r'\\inputs'\n",
    "infilename = r'\\360v_1mA_9sccm_91mtorr'"
   ]
  },
  {
   "cell_type": "code",
   "execution_count": null,
   "id": "5f4946bb",
   "metadata": {},
   "outputs": [],
   "source": [
    "colnames=['x','y','frame']\n",
    "indf = pd.read_csv(inputsPath + infilename  + r'.csv', usecols=[3,4,8],names=colnames, skiprows=1)\n"
   ]
  },
  {
   "cell_type": "code",
   "execution_count": null,
   "id": "488bee0b",
   "metadata": {},
   "outputs": [],
   "source": [
    "indf.head()"
   ]
  },
  {
   "cell_type": "code",
   "execution_count": null,
   "id": "7c6d6878",
   "metadata": {},
   "outputs": [],
   "source": [
    "tracked_csv_dir = folderPath + r'\\outputs' + r'\\tracked' \n",
    "tracked_csv_filepath = tracked_csv_dir + infilename + r'_tracked.csv'\n",
    "if not os.path.exists(tracked_csv_dir):\n",
    "    os.makedirs(tracked_csv_dir)\n",
    "    t_large = tp.link(t_csv,3,memory=1)\n",
    "    t_large.to_csv(tracked_csv_filepath)    \n",
    "else:\n",
    "    t_large = pd.read_csv(tracked_csv_filepath)\n",
    "t_large\n"
   ]
  },
  {
   "cell_type": "code",
   "execution_count": null,
   "id": "e354958f",
   "metadata": {},
   "outputs": [],
   "source": [
    "#function get_velocities(df, step) calculates velocites of particles\n",
    "# with a given step step.\n",
    "def get_velocities(df, step):\n",
    "#initialize empy arrays to store data:\n",
    "    arr_particle = np.array([])\n",
    "    arr_x = np.array([])\n",
    "    arr_y = np.array([])\n",
    "    arr_vx = np.array([])\n",
    "    arr_vy = np.array([])\n",
    "    arr_frame = np.array([])\n",
    "    # get an array containing all frame numbers in the input dataframe:\n",
    "    frames_listing = np.unique(np.array(df['frame']))\n",
    "    #cycle throught all those frames:\n",
    "    for iFrame in range(step, len(frames_listing)):\n",
    "        #get current frame:\n",
    "        cur_frame = frames_listing[iFrame]\n",
    "        #select a dataframe containing data ONLY for that frame:\n",
    "        df_front_frame = df[(df['frame'] == cur_frame)]\n",
    "        print(iFrame)\n",
    "        #cycle throught all particles in the frame and find their velocities as\n",
    "        # position of the particle in that frame minus position of the same particles\n",
    "        # step frames ago:\n",
    "        for i in range(0, len(df_front_frame)):\n",
    "            #take i-th particle in a frame\n",
    "            cur_p = df_front_frame['particle'].iloc[i]\n",
    "            cur_x = df_front_frame['x'].iloc[i]\n",
    "            cur_y = df_front_frame['y'].iloc[i]\n",
    "            #find a row with the same particle in a frame step frames ago:\n",
    "            prev_frame_cur_row = df[((df['frame'] == cur_frame - step) & (df['particle'] == cur_p))]\n",
    "            #if that particle excisted back then, we will get exactly ONE row:\n",
    "            if (len(prev_frame_cur_row) == 1):\n",
    "                #if this row exists, we can take position of that particle in that, previous, frame:\n",
    "                prev_x = prev_frame_cur_row['x'].iloc[0]\n",
    "                prev_y = prev_frame_cur_row['y'].iloc[0]\n",
    "                # so we can calculate velocities:\n",
    "                cur_vx = cur_x - prev_x\n",
    "                cur_vy = cur_y - prev_y\n",
    "                cur_particle = df_front_frame['particle'].iloc[i]\n",
    "                #and append all parameters of that particle to our data arrays\n",
    "                arr_vx = np.append(arr_vx, cur_vx)\n",
    "                arr_vy = np.append(arr_vy, cur_vy)\n",
    "                arr_particle = np.append(arr_particle, cur_particle)\n",
    "                arr_x = np.append(arr_x, cur_x)\n",
    "                arr_y = np.append(arr_y, cur_y)\n",
    "                arr_frame = np.append(arr_frame, cur_frame)\n",
    "    #save output as a dataframe containing all the info we need:\n",
    "    data = {'frame':arr_frame, 'particle':arr_particle, 'x': arr_x, 'y': arr_y, 'vx': arr_vx, 'vy':arr_vy}\n",
    "    ret_df = pd.DataFrame(data)\n",
    "                \n",
    "    return ret_df"
   ]
  },
  {
   "cell_type": "markdown",
   "id": "5bc6dc78",
   "metadata": {},
   "source": [
    "## Getting the Temperature Profiles"
   ]
  },
  {
   "cell_type": "markdown",
   "id": "b37eb902",
   "metadata": {},
   "source": [
    "#### constants:"
   ]
  },
  {
   "cell_type": "code",
   "execution_count": null,
   "id": "06d2cb52",
   "metadata": {},
   "outputs": [],
   "source": [
    "step = 5 # number of frames between the frames for calculating velocities\n",
    "dust_mass = 4.0 / 3.0 * np.pi * (7.14E-6 / 2.0)**3 * 1510.0 #mass of the dust particles\n",
    "N_points = 15 # number of points in the temperature profile\n",
    "rate_for_vel = 99.0 / step # frequency for calculating particle speeds\n",
    "mm_per_px = 1.0/40.3 # camera resolution\n",
    "N_bins = 20 #number of bins in the hystograms"
   ]
  },
  {
   "cell_type": "markdown",
   "id": "8786570d",
   "metadata": {},
   "source": [
    "#### first, get velocities. May take some time:"
   ]
  },
  {
   "cell_type": "code",
   "execution_count": null,
   "id": "070f49b5",
   "metadata": {},
   "outputs": [],
   "source": [
    "vel_csv_dir = folderPath + r'\\outputs\\csvData\\velocities_step05'\n",
    "vel_csv_csv_filepath = vel_csv_dir + infilename + r'_velocities_step05.csv'\n",
    "if not os.path.exists(vel_csv_dir):\n",
    "    os.makedirs(vel_csv_dir)\n",
    "    df_vel = get_velocities(t_large, step)\n",
    "    df_vel.to_csv(vel_csv_csv_filepath)    \n",
    "else:\n",
    "    df_vel = pd.read_csv(vel_csv_csv_filepath)\n",
    "df_vel.head()"
   ]
  },
  {
   "cell_type": "code",
   "execution_count": null,
   "id": "1c991ec6",
   "metadata": {},
   "outputs": [],
   "source": [
    "def get_velocities_fast(df, step):\n",
    "    df_sorted = df.sort_values(by = ['particle', 'frame'])\n",
    "    grouped = df_sorted.groupby('particle')\n",
    "    df_sorted['vx'] = grouped['x'].diff(periods = step)\n",
    "    df_sorted['vy'] = grouped['y'].diff(periods = step)\n",
    "    df_sorted = df_sorted.dropna()\n",
    "    df_sorted = df_sorted.sort_values(by = ['frame', 'particle'])    \n",
    "    return df_sorted"
   ]
  },
  {
   "cell_type": "code",
   "execution_count": null,
   "id": "2ae03ca2",
   "metadata": {},
   "outputs": [],
   "source": [
    "t_sorted = get_velocities_fast(t_large, step)"
   ]
  },
  {
   "cell_type": "code",
   "execution_count": null,
   "id": "530d4099",
   "metadata": {},
   "outputs": [],
   "source": [
    "len(t_sorted)"
   ]
  },
  {
   "cell_type": "code",
   "execution_count": null,
   "id": "d5da12f3",
   "metadata": {},
   "outputs": [],
   "source": [
    "len(df_vel)"
   ]
  },
  {
   "cell_type": "code",
   "execution_count": null,
   "id": "d6b7caa2",
   "metadata": {},
   "outputs": [],
   "source": [
    "df_vel = df_vel.sort_values(by = ['frame', 'particle'])\n",
    "df_vel['particle'] = df_vel['particle'].astype('int')\n",
    "df_vel['frame'] = df_vel['frame'].astype('int')\n",
    "df_vel.head()"
   ]
  },
  {
   "cell_type": "code",
   "execution_count": null,
   "id": "8b34e9af",
   "metadata": {},
   "outputs": [],
   "source": [
    "df_vel.tail(10)\n"
   ]
  },
  {
   "cell_type": "code",
   "execution_count": null,
   "id": "ec39f1af",
   "metadata": {},
   "outputs": [],
   "source": [
    "firstColName = t_sorted.columns[0]\n",
    "#t_sorted = t_sorted.drop(columns = firstColName)\n",
    "t_sorted.tail(10)\n"
   ]
  },
  {
   "cell_type": "code",
   "execution_count": null,
   "id": "a6c6f39b",
   "metadata": {},
   "outputs": [],
   "source": [
    "len(t_sorted)"
   ]
  },
  {
   "cell_type": "code",
   "execution_count": null,
   "id": "58650117",
   "metadata": {},
   "outputs": [],
   "source": [
    "len(df_vel)"
   ]
  },
  {
   "cell_type": "code",
   "execution_count": null,
   "id": "19feef6a",
   "metadata": {},
   "outputs": [],
   "source": [
    "t_sorted_temp = t_sorted[['frame', 'particle', 'x']].apply(tuple, axis=1)\n",
    "df_vel_temp = df_vel[['frame', 'particle', 'x']].apply(tuple, axis=1)"
   ]
  },
  {
   "cell_type": "code",
   "execution_count": null,
   "id": "51dda008",
   "metadata": {},
   "outputs": [],
   "source": [
    "extra_rows = t_sorted[~t_sorted_temp.isin(df_vel_temp)]"
   ]
  },
  {
   "cell_type": "code",
   "execution_count": null,
   "id": "99cd3211",
   "metadata": {},
   "outputs": [],
   "source": [
    "extra_rows = extra_rows.sort_values(by = ['particle', 'frame'])\n",
    "extra_rows.head(20)"
   ]
  },
  {
   "cell_type": "code",
   "execution_count": null,
   "id": "2b8ce756",
   "metadata": {},
   "outputs": [],
   "source": [
    "len(extra_rows)"
   ]
  },
  {
   "cell_type": "code",
   "execution_count": null,
   "id": "d5c9ff51",
   "metadata": {},
   "outputs": [],
   "source": [
    "get_suku = t_large[(t_large['particle'] == 124) & (t_large['frame'] == 242)]\n",
    "get_suku.head()"
   ]
  },
  {
   "cell_type": "code",
   "execution_count": null,
   "id": "0b96ec30",
   "metadata": {},
   "outputs": [],
   "source": [
    "get_suku_prev = t_large[(t_large['particle'] == 124) & (t_large['frame'] == (242 - step))]\n",
    "get_suku_prev.head()"
   ]
  },
  {
   "cell_type": "code",
   "execution_count": null,
   "id": "b7e6d7d0",
   "metadata": {},
   "outputs": [],
   "source": [
    "valid_particles = np.unique(t_large[['particle', 'frame']].values - np.array([0, step]), axis=0)"
   ]
  },
  {
   "cell_type": "code",
   "execution_count": null,
   "id": "0a2dc1c9",
   "metadata": {},
   "outputs": [],
   "source": [
    "len(valid_particles)"
   ]
  },
  {
   "cell_type": "code",
   "execution_count": null,
   "id": "ef1c3b1c",
   "metadata": {},
   "outputs": [],
   "source": [
    "particle_time = t_sorted[['particle', 'frame']].values"
   ]
  },
  {
   "cell_type": "code",
   "execution_count": null,
   "id": "576233da",
   "metadata": {},
   "outputs": [],
   "source": [
    "len(particle_time)"
   ]
  },
  {
   "cell_type": "code",
   "execution_count": null,
   "id": "d08304ef",
   "metadata": {},
   "outputs": [],
   "source": [
    "mask = np.isin(particle_time, valid_particles).all(axis=1)"
   ]
  },
  {
   "cell_type": "code",
   "execution_count": null,
   "id": "7e4a3b57",
   "metadata": {},
   "outputs": [],
   "source": [
    "len(mask)"
   ]
  },
  {
   "cell_type": "code",
   "execution_count": null,
   "id": "66ab50c1",
   "metadata": {},
   "outputs": [],
   "source": [
    "t_ultimate = t_sorted[mask]"
   ]
  },
  {
   "cell_type": "code",
   "execution_count": null,
   "id": "1e345fc9",
   "metadata": {},
   "outputs": [],
   "source": [
    "len(t_ultimate)"
   ]
  },
  {
   "cell_type": "code",
   "execution_count": null,
   "id": "de24f6a7",
   "metadata": {},
   "outputs": [],
   "source": [
    "get_suku = t_ultimate[(t_ultimate['particle'] == 171) & (t_ultimate['frame'] == 242)]\n",
    "get_suku.head()"
   ]
  },
  {
   "cell_type": "code",
   "execution_count": null,
   "id": "a0babc9a",
   "metadata": {},
   "outputs": [],
   "source": [
    "get_suku_prev = t_large[(t_large['particle'] == 124) & (t_large['frame'] == (216))]\n",
    "get_suku_prev.head()"
   ]
  },
  {
   "cell_type": "code",
   "execution_count": null,
   "id": "98006b1d",
   "metadata": {},
   "outputs": [],
   "source": [
    "ind_particle = t_sorted[(t_sorted['particle'] == 124)]\n",
    "ind_particle.head(10)"
   ]
  },
  {
   "cell_type": "code",
   "execution_count": null,
   "id": "66cc2ffa",
   "metadata": {},
   "outputs": [],
   "source": [
    "np.max(ind_particle['frame'])"
   ]
  },
  {
   "cell_type": "code",
   "execution_count": null,
   "id": "5540bd04",
   "metadata": {},
   "outputs": [],
   "source": [
    "ind_particle.tail(10)"
   ]
  },
  {
   "cell_type": "code",
   "execution_count": null,
   "id": "d9ad6788",
   "metadata": {},
   "outputs": [],
   "source": [
    "indiv_frames = np.array(ind_particle['frame'])\n",
    "indiv_frames"
   ]
  },
  {
   "cell_type": "code",
   "execution_count": null,
   "id": "5718e4f0",
   "metadata": {},
   "outputs": [],
   "source": []
  }
 ],
 "metadata": {
  "kernelspec": {
   "display_name": "Python 3 (ipykernel)",
   "language": "python",
   "name": "python3"
  },
  "language_info": {
   "codemirror_mode": {
    "name": "ipython",
    "version": 3
   },
   "file_extension": ".py",
   "mimetype": "text/x-python",
   "name": "python",
   "nbconvert_exporter": "python",
   "pygments_lexer": "ipython3",
   "version": "3.10.9"
  }
 },
 "nbformat": 4,
 "nbformat_minor": 5
}
