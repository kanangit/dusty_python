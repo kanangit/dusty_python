{
 "cells": [
  {
   "cell_type": "markdown",
   "id": "70203c2c",
   "metadata": {},
   "source": [
    "# Checking the Velocity Distribution\n",
    "## particles coordinates obtained from imageJ"
   ]
  },
  {
   "cell_type": "code",
   "execution_count": 1,
   "id": "a943ddeb",
   "metadata": {},
   "outputs": [],
   "source": [
    "import numpy as np\n",
    "import matplotlib.pyplot as plt\n",
    "import trackpy as tp\n",
    "import pandas as pd\n",
    "import os"
   ]
  },
  {
   "cell_type": "code",
   "execution_count": 2,
   "id": "67ad0149",
   "metadata": {},
   "outputs": [],
   "source": [
    "folderPath = r'g:\\My Drive\\workAppState\\prj_shocks\\expData\\data20230530velDistribTest_ImageJ_Connor'"
   ]
  },
  {
   "cell_type": "code",
   "execution_count": 3,
   "id": "0aa9b3a5",
   "metadata": {},
   "outputs": [],
   "source": [
    "inputsPath = folderPath + r'\\inputs'\n",
    "infilename = r'\\360v_1mA_9sccm_91mtorr'"
   ]
  },
  {
   "cell_type": "code",
   "execution_count": 4,
   "id": "5f4946bb",
   "metadata": {},
   "outputs": [],
   "source": [
    "colnames=['x','y','frame']\n",
    "indf = pd.read_csv(inputsPath + infilename  + r'.csv', usecols=[3,4,8],names=colnames, skiprows=1)\n"
   ]
  },
  {
   "cell_type": "code",
   "execution_count": 5,
   "id": "488bee0b",
   "metadata": {},
   "outputs": [
    {
     "data": {
      "text/html": [
       "<div>\n",
       "<style scoped>\n",
       "    .dataframe tbody tr th:only-of-type {\n",
       "        vertical-align: middle;\n",
       "    }\n",
       "\n",
       "    .dataframe tbody tr th {\n",
       "        vertical-align: top;\n",
       "    }\n",
       "\n",
       "    .dataframe thead th {\n",
       "        text-align: right;\n",
       "    }\n",
       "</style>\n",
       "<table border=\"1\" class=\"dataframe\">\n",
       "  <thead>\n",
       "    <tr style=\"text-align: right;\">\n",
       "      <th></th>\n",
       "      <th>x</th>\n",
       "      <th>y</th>\n",
       "      <th>frame</th>\n",
       "    </tr>\n",
       "  </thead>\n",
       "  <tbody>\n",
       "    <tr>\n",
       "      <th>0</th>\n",
       "      <td>345.78586</td>\n",
       "      <td>13.41291</td>\n",
       "      <td>1</td>\n",
       "    </tr>\n",
       "    <tr>\n",
       "      <th>1</th>\n",
       "      <td>306.32614</td>\n",
       "      <td>14.01396</td>\n",
       "      <td>1</td>\n",
       "    </tr>\n",
       "    <tr>\n",
       "      <th>2</th>\n",
       "      <td>332.94084</td>\n",
       "      <td>13.89708</td>\n",
       "      <td>1</td>\n",
       "    </tr>\n",
       "    <tr>\n",
       "      <th>3</th>\n",
       "      <td>319.62251</td>\n",
       "      <td>14.91738</td>\n",
       "      <td>1</td>\n",
       "    </tr>\n",
       "    <tr>\n",
       "      <th>4</th>\n",
       "      <td>371.09624</td>\n",
       "      <td>14.78872</td>\n",
       "      <td>1</td>\n",
       "    </tr>\n",
       "  </tbody>\n",
       "</table>\n",
       "</div>"
      ],
      "text/plain": [
       "           x         y  frame\n",
       "0  345.78586  13.41291      1\n",
       "1  306.32614  14.01396      1\n",
       "2  332.94084  13.89708      1\n",
       "3  319.62251  14.91738      1\n",
       "4  371.09624  14.78872      1"
      ]
     },
     "execution_count": 5,
     "metadata": {},
     "output_type": "execute_result"
    }
   ],
   "source": [
    "indf.head()"
   ]
  },
  {
   "cell_type": "code",
   "execution_count": 6,
   "id": "7c6d6878",
   "metadata": {},
   "outputs": [
    {
     "data": {
      "text/html": [
       "<div>\n",
       "<style scoped>\n",
       "    .dataframe tbody tr th:only-of-type {\n",
       "        vertical-align: middle;\n",
       "    }\n",
       "\n",
       "    .dataframe tbody tr th {\n",
       "        vertical-align: top;\n",
       "    }\n",
       "\n",
       "    .dataframe thead th {\n",
       "        text-align: right;\n",
       "    }\n",
       "</style>\n",
       "<table border=\"1\" class=\"dataframe\">\n",
       "  <thead>\n",
       "    <tr style=\"text-align: right;\">\n",
       "      <th></th>\n",
       "      <th>Unnamed: 0</th>\n",
       "      <th>x</th>\n",
       "      <th>y</th>\n",
       "      <th>frame</th>\n",
       "      <th>particle</th>\n",
       "    </tr>\n",
       "  </thead>\n",
       "  <tbody>\n",
       "    <tr>\n",
       "      <th>0</th>\n",
       "      <td>0</td>\n",
       "      <td>345.78586</td>\n",
       "      <td>13.41291</td>\n",
       "      <td>1</td>\n",
       "      <td>0</td>\n",
       "    </tr>\n",
       "    <tr>\n",
       "      <th>1</th>\n",
       "      <td>1299</td>\n",
       "      <td>563.45040</td>\n",
       "      <td>319.49206</td>\n",
       "      <td>1</td>\n",
       "      <td>1</td>\n",
       "    </tr>\n",
       "    <tr>\n",
       "      <th>2</th>\n",
       "      <td>1298</td>\n",
       "      <td>513.90593</td>\n",
       "      <td>319.84384</td>\n",
       "      <td>1</td>\n",
       "      <td>2</td>\n",
       "    </tr>\n",
       "    <tr>\n",
       "      <th>3</th>\n",
       "      <td>1297</td>\n",
       "      <td>284.83552</td>\n",
       "      <td>319.66066</td>\n",
       "      <td>1</td>\n",
       "      <td>3</td>\n",
       "    </tr>\n",
       "    <tr>\n",
       "      <th>4</th>\n",
       "      <td>1296</td>\n",
       "      <td>206.13283</td>\n",
       "      <td>319.97588</td>\n",
       "      <td>1</td>\n",
       "      <td>4</td>\n",
       "    </tr>\n",
       "    <tr>\n",
       "      <th>...</th>\n",
       "      <td>...</td>\n",
       "      <td>...</td>\n",
       "      <td>...</td>\n",
       "      <td>...</td>\n",
       "      <td>...</td>\n",
       "    </tr>\n",
       "    <tr>\n",
       "      <th>1872186</th>\n",
       "      <td>1870898</td>\n",
       "      <td>210.52854</td>\n",
       "      <td>191.02396</td>\n",
       "      <td>968</td>\n",
       "      <td>1920</td>\n",
       "    </tr>\n",
       "    <tr>\n",
       "      <th>1872187</th>\n",
       "      <td>1870897</td>\n",
       "      <td>612.83741</td>\n",
       "      <td>188.58557</td>\n",
       "      <td>968</td>\n",
       "      <td>1541</td>\n",
       "    </tr>\n",
       "    <tr>\n",
       "      <th>1872188</th>\n",
       "      <td>1870896</td>\n",
       "      <td>494.81270</td>\n",
       "      <td>189.19780</td>\n",
       "      <td>968</td>\n",
       "      <td>1895</td>\n",
       "    </tr>\n",
       "    <tr>\n",
       "      <th>1872189</th>\n",
       "      <td>1870864</td>\n",
       "      <td>114.40066</td>\n",
       "      <td>184.15846</td>\n",
       "      <td>968</td>\n",
       "      <td>1864</td>\n",
       "    </tr>\n",
       "    <tr>\n",
       "      <th>1872190</th>\n",
       "      <td>1872190</td>\n",
       "      <td>233.29747</td>\n",
       "      <td>493.80802</td>\n",
       "      <td>968</td>\n",
       "      <td>638</td>\n",
       "    </tr>\n",
       "  </tbody>\n",
       "</table>\n",
       "<p>1872191 rows × 5 columns</p>\n",
       "</div>"
      ],
      "text/plain": [
       "         Unnamed: 0          x          y  frame  particle\n",
       "0                 0  345.78586   13.41291      1         0\n",
       "1              1299  563.45040  319.49206      1         1\n",
       "2              1298  513.90593  319.84384      1         2\n",
       "3              1297  284.83552  319.66066      1         3\n",
       "4              1296  206.13283  319.97588      1         4\n",
       "...             ...        ...        ...    ...       ...\n",
       "1872186     1870898  210.52854  191.02396    968      1920\n",
       "1872187     1870897  612.83741  188.58557    968      1541\n",
       "1872188     1870896  494.81270  189.19780    968      1895\n",
       "1872189     1870864  114.40066  184.15846    968      1864\n",
       "1872190     1872190  233.29747  493.80802    968       638\n",
       "\n",
       "[1872191 rows x 5 columns]"
      ]
     },
     "execution_count": 6,
     "metadata": {},
     "output_type": "execute_result"
    }
   ],
   "source": [
    "tracked_csv_dir = folderPath + r'\\outputs' + r'\\tracked' \n",
    "tracked_csv_filepath = tracked_csv_dir + infilename + r'_tracked.csv'\n",
    "if not os.path.exists(tracked_csv_dir):\n",
    "    os.makedirs(tracked_csv_dir)\n",
    "    t_large = tp.link(t_csv,3,memory=1)\n",
    "    t_large.to_csv(tracked_csv_filepath)    \n",
    "else:\n",
    "    t_large = pd.read_csv(tracked_csv_filepath)\n",
    "t_large\n"
   ]
  },
  {
   "cell_type": "code",
   "execution_count": 7,
   "id": "e354958f",
   "metadata": {},
   "outputs": [],
   "source": [
    "#function get_velocities(df, step) calculates velocites of particles\n",
    "# with a given step step.\n",
    "def get_velocities(df, step):\n",
    "#initialize empy arrays to store data:\n",
    "    arr_particle = np.array([])\n",
    "    arr_x = np.array([])\n",
    "    arr_y = np.array([])\n",
    "    arr_vx = np.array([])\n",
    "    arr_vy = np.array([])\n",
    "    arr_frame = np.array([])\n",
    "    # get an array containing all frame numbers in the input dataframe:\n",
    "    frames_listing = np.unique(np.array(df['frame']))\n",
    "    #cycle throught all those frames:\n",
    "    for iFrame in range(step, len(frames_listing)):\n",
    "        #get current frame:\n",
    "        cur_frame = frames_listing[iFrame]\n",
    "        #select a dataframe containing data ONLY for that frame:\n",
    "        df_front_frame = df[(df['frame'] == cur_frame)]\n",
    "        print(iFrame)\n",
    "        #cycle throught all particles in the frame and find their velocities as\n",
    "        # position of the particle in that frame minus position of the same particles\n",
    "        # step frames ago:\n",
    "        for i in range(0, len(df_front_frame)):\n",
    "            #take i-th particle in a frame\n",
    "            cur_p = df_front_frame['particle'].iloc[i]\n",
    "            cur_x = df_front_frame['x'].iloc[i]\n",
    "            cur_y = df_front_frame['y'].iloc[i]\n",
    "            #find a row with the same particle in a frame step frames ago:\n",
    "            prev_frame_cur_row = df[((df['frame'] == cur_frame - step) & (df['particle'] == cur_p))]\n",
    "            #if that particle excisted back then, we will get exactly ONE row:\n",
    "            if (len(prev_frame_cur_row) == 1):\n",
    "                #if this row exists, we can take position of that particle in that, previous, frame:\n",
    "                prev_x = prev_frame_cur_row['x'].iloc[0]\n",
    "                prev_y = prev_frame_cur_row['y'].iloc[0]\n",
    "                # so we can calculate velocities:\n",
    "                cur_vx = cur_x - prev_x\n",
    "                cur_vy = cur_y - prev_y\n",
    "                cur_particle = df_front_frame['particle'].iloc[i]\n",
    "                #and append all parameters of that particle to our data arrays\n",
    "                arr_vx = np.append(arr_vx, cur_vx)\n",
    "                arr_vy = np.append(arr_vy, cur_vy)\n",
    "                arr_particle = np.append(arr_particle, cur_particle)\n",
    "                arr_x = np.append(arr_x, cur_x)\n",
    "                arr_y = np.append(arr_y, cur_y)\n",
    "                arr_frame = np.append(arr_frame, cur_frame)\n",
    "    #save output as a dataframe containing all the info we need:\n",
    "    data = {'frame':arr_frame, 'particle':arr_particle, 'x': arr_x, 'y': arr_y, 'vx': arr_vx, 'vy':arr_vy}\n",
    "    ret_df = pd.DataFrame(data)\n",
    "                \n",
    "    return ret_df"
   ]
  },
  {
   "cell_type": "markdown",
   "id": "5bc6dc78",
   "metadata": {},
   "source": [
    "## Getting the Temperature Profiles"
   ]
  },
  {
   "cell_type": "markdown",
   "id": "b37eb902",
   "metadata": {},
   "source": [
    "#### constants:"
   ]
  },
  {
   "cell_type": "code",
   "execution_count": 8,
   "id": "06d2cb52",
   "metadata": {},
   "outputs": [],
   "source": [
    "step = 25 # number of frames between the frames for calculating velocities\n",
    "dust_mass = 4.0 / 3.0 * np.pi * (7.14E-6 / 2.0)**3 * 1510.0 #mass of the dust particles\n",
    "N_points = 15 # number of points in the temperature profile\n",
    "rate_for_vel = 99.0 / step # frequency for calculating particle speeds\n",
    "mm_per_px = 1.0/1.3 # camera resolution\n",
    "N_bins = 20 #number of bins in the hystograms"
   ]
  },
  {
   "cell_type": "markdown",
   "id": "8786570d",
   "metadata": {},
   "source": [
    "#### first, get velocities. May take some time:"
   ]
  },
  {
   "cell_type": "code",
   "execution_count": 9,
   "id": "070f49b5",
   "metadata": {},
   "outputs": [
    {
     "data": {
      "text/html": [
       "<div>\n",
       "<style scoped>\n",
       "    .dataframe tbody tr th:only-of-type {\n",
       "        vertical-align: middle;\n",
       "    }\n",
       "\n",
       "    .dataframe tbody tr th {\n",
       "        vertical-align: top;\n",
       "    }\n",
       "\n",
       "    .dataframe thead th {\n",
       "        text-align: right;\n",
       "    }\n",
       "</style>\n",
       "<table border=\"1\" class=\"dataframe\">\n",
       "  <thead>\n",
       "    <tr style=\"text-align: right;\">\n",
       "      <th></th>\n",
       "      <th>Unnamed: 0</th>\n",
       "      <th>frame</th>\n",
       "      <th>particle</th>\n",
       "      <th>x</th>\n",
       "      <th>y</th>\n",
       "      <th>vx</th>\n",
       "      <th>vy</th>\n",
       "    </tr>\n",
       "  </thead>\n",
       "  <tbody>\n",
       "    <tr>\n",
       "      <th>0</th>\n",
       "      <td>0</td>\n",
       "      <td>26.0</td>\n",
       "      <td>5.0</td>\n",
       "      <td>87.24011</td>\n",
       "      <td>318.85615</td>\n",
       "      <td>0.41789</td>\n",
       "      <td>-0.31052</td>\n",
       "    </tr>\n",
       "    <tr>\n",
       "      <th>1</th>\n",
       "      <td>1</td>\n",
       "      <td>26.0</td>\n",
       "      <td>11.0</td>\n",
       "      <td>390.23453</td>\n",
       "      <td>317.86926</td>\n",
       "      <td>-0.42804</td>\n",
       "      <td>0.49591</td>\n",
       "    </tr>\n",
       "    <tr>\n",
       "      <th>2</th>\n",
       "      <td>2</td>\n",
       "      <td>26.0</td>\n",
       "      <td>27.0</td>\n",
       "      <td>501.01584</td>\n",
       "      <td>317.34253</td>\n",
       "      <td>0.25052</td>\n",
       "      <td>0.44268</td>\n",
       "    </tr>\n",
       "    <tr>\n",
       "      <th>3</th>\n",
       "      <td>3</td>\n",
       "      <td>26.0</td>\n",
       "      <td>54.0</td>\n",
       "      <td>56.19952</td>\n",
       "      <td>320.86459</td>\n",
       "      <td>0.71546</td>\n",
       "      <td>-2.08758</td>\n",
       "    </tr>\n",
       "    <tr>\n",
       "      <th>4</th>\n",
       "      <td>4</td>\n",
       "      <td>26.0</td>\n",
       "      <td>9.0</td>\n",
       "      <td>250.44585</td>\n",
       "      <td>318.53971</td>\n",
       "      <td>-0.02436</td>\n",
       "      <td>0.27801</td>\n",
       "    </tr>\n",
       "  </tbody>\n",
       "</table>\n",
       "</div>"
      ],
      "text/plain": [
       "   Unnamed: 0  frame  particle          x          y       vx       vy\n",
       "0           0   26.0       5.0   87.24011  318.85615  0.41789 -0.31052\n",
       "1           1   26.0      11.0  390.23453  317.86926 -0.42804  0.49591\n",
       "2           2   26.0      27.0  501.01584  317.34253  0.25052  0.44268\n",
       "3           3   26.0      54.0   56.19952  320.86459  0.71546 -2.08758\n",
       "4           4   26.0       9.0  250.44585  318.53971 -0.02436  0.27801"
      ]
     },
     "execution_count": 9,
     "metadata": {},
     "output_type": "execute_result"
    }
   ],
   "source": [
    "vel_csv_dir = folderPath + r'\\outputs\\csvData\\velocities'\n",
    "vel_csv_csv_filepath = vel_csv_dir + infilename + r'_velocities.csv'\n",
    "if not os.path.exists(vel_csv_dir):\n",
    "    os.makedirs(vel_csv_dir)\n",
    "    df_vel = get_velocities(t_large, step)\n",
    "    df_vel.to_csv(vel_csv_csv_filepath)    \n",
    "else:\n",
    "    df_vel = pd.read_csv(vel_csv_csv_filepath)\n",
    "df_vel.head()"
   ]
  },
  {
   "cell_type": "code",
   "execution_count": 10,
   "id": "556886d5",
   "metadata": {},
   "outputs": [],
   "source": [
    "t_sorted = t_large.sort_values(by = ['particle', 'frame'])"
   ]
  },
  {
   "cell_type": "code",
   "execution_count": 11,
   "id": "39ef6290",
   "metadata": {},
   "outputs": [
    {
     "data": {
      "text/html": [
       "<div>\n",
       "<style scoped>\n",
       "    .dataframe tbody tr th:only-of-type {\n",
       "        vertical-align: middle;\n",
       "    }\n",
       "\n",
       "    .dataframe tbody tr th {\n",
       "        vertical-align: top;\n",
       "    }\n",
       "\n",
       "    .dataframe thead th {\n",
       "        text-align: right;\n",
       "    }\n",
       "</style>\n",
       "<table border=\"1\" class=\"dataframe\">\n",
       "  <thead>\n",
       "    <tr style=\"text-align: right;\">\n",
       "      <th></th>\n",
       "      <th>Unnamed: 0</th>\n",
       "      <th>x</th>\n",
       "      <th>y</th>\n",
       "      <th>frame</th>\n",
       "      <th>particle</th>\n",
       "    </tr>\n",
       "  </thead>\n",
       "  <tbody>\n",
       "    <tr>\n",
       "      <th>0</th>\n",
       "      <td>0</td>\n",
       "      <td>345.78586</td>\n",
       "      <td>13.41291</td>\n",
       "      <td>1</td>\n",
       "      <td>0</td>\n",
       "    </tr>\n",
       "    <tr>\n",
       "      <th>3390</th>\n",
       "      <td>1937</td>\n",
       "      <td>345.52386</td>\n",
       "      <td>13.34490</td>\n",
       "      <td>2</td>\n",
       "      <td>0</td>\n",
       "    </tr>\n",
       "    <tr>\n",
       "      <th>5169</th>\n",
       "      <td>3874</td>\n",
       "      <td>345.51325</td>\n",
       "      <td>13.35762</td>\n",
       "      <td>3</td>\n",
       "      <td>0</td>\n",
       "    </tr>\n",
       "    <tr>\n",
       "      <th>7105</th>\n",
       "      <td>5809</td>\n",
       "      <td>345.58277</td>\n",
       "      <td>13.37919</td>\n",
       "      <td>4</td>\n",
       "      <td>0</td>\n",
       "    </tr>\n",
       "    <tr>\n",
       "      <th>9195</th>\n",
       "      <td>7744</td>\n",
       "      <td>345.71959</td>\n",
       "      <td>13.45048</td>\n",
       "      <td>5</td>\n",
       "      <td>0</td>\n",
       "    </tr>\n",
       "  </tbody>\n",
       "</table>\n",
       "</div>"
      ],
      "text/plain": [
       "      Unnamed: 0          x         y  frame  particle\n",
       "0              0  345.78586  13.41291      1         0\n",
       "3390        1937  345.52386  13.34490      2         0\n",
       "5169        3874  345.51325  13.35762      3         0\n",
       "7105        5809  345.58277  13.37919      4         0\n",
       "9195        7744  345.71959  13.45048      5         0"
      ]
     },
     "execution_count": 11,
     "metadata": {},
     "output_type": "execute_result"
    }
   ],
   "source": [
    "t_sorted.head()"
   ]
  },
  {
   "cell_type": "code",
   "execution_count": 12,
   "id": "3865acca",
   "metadata": {},
   "outputs": [
    {
     "data": {
      "text/html": [
       "<div>\n",
       "<style scoped>\n",
       "    .dataframe tbody tr th:only-of-type {\n",
       "        vertical-align: middle;\n",
       "    }\n",
       "\n",
       "    .dataframe tbody tr th {\n",
       "        vertical-align: top;\n",
       "    }\n",
       "\n",
       "    .dataframe thead th {\n",
       "        text-align: right;\n",
       "    }\n",
       "</style>\n",
       "<table border=\"1\" class=\"dataframe\">\n",
       "  <thead>\n",
       "    <tr style=\"text-align: right;\">\n",
       "      <th></th>\n",
       "      <th>Unnamed: 0</th>\n",
       "      <th>x</th>\n",
       "      <th>y</th>\n",
       "      <th>frame</th>\n",
       "      <th>particle</th>\n",
       "    </tr>\n",
       "  </thead>\n",
       "  <tbody>\n",
       "    <tr>\n",
       "      <th>0</th>\n",
       "      <td>0</td>\n",
       "      <td>345.78586</td>\n",
       "      <td>13.41291</td>\n",
       "      <td>1</td>\n",
       "      <td>0</td>\n",
       "    </tr>\n",
       "    <tr>\n",
       "      <th>3390</th>\n",
       "      <td>1937</td>\n",
       "      <td>345.52386</td>\n",
       "      <td>13.34490</td>\n",
       "      <td>2</td>\n",
       "      <td>0</td>\n",
       "    </tr>\n",
       "    <tr>\n",
       "      <th>5169</th>\n",
       "      <td>3874</td>\n",
       "      <td>345.51325</td>\n",
       "      <td>13.35762</td>\n",
       "      <td>3</td>\n",
       "      <td>0</td>\n",
       "    </tr>\n",
       "    <tr>\n",
       "      <th>7105</th>\n",
       "      <td>5809</td>\n",
       "      <td>345.58277</td>\n",
       "      <td>13.37919</td>\n",
       "      <td>4</td>\n",
       "      <td>0</td>\n",
       "    </tr>\n",
       "    <tr>\n",
       "      <th>9195</th>\n",
       "      <td>7744</td>\n",
       "      <td>345.71959</td>\n",
       "      <td>13.45048</td>\n",
       "      <td>5</td>\n",
       "      <td>0</td>\n",
       "    </tr>\n",
       "    <tr>\n",
       "      <th>...</th>\n",
       "      <td>...</td>\n",
       "      <td>...</td>\n",
       "      <td>...</td>\n",
       "      <td>...</td>\n",
       "      <td>...</td>\n",
       "    </tr>\n",
       "    <tr>\n",
       "      <th>1868973</th>\n",
       "      <td>1870254</td>\n",
       "      <td>331.02874</td>\n",
       "      <td>489.01724</td>\n",
       "      <td>967</td>\n",
       "      <td>2581</td>\n",
       "    </tr>\n",
       "    <tr>\n",
       "      <th>1870899</th>\n",
       "      <td>1872183</td>\n",
       "      <td>331.00549</td>\n",
       "      <td>489.01648</td>\n",
       "      <td>968</td>\n",
       "      <td>2581</td>\n",
       "    </tr>\n",
       "    <tr>\n",
       "      <th>1868841</th>\n",
       "      <td>1870085</td>\n",
       "      <td>603.50000</td>\n",
       "      <td>421.29221</td>\n",
       "      <td>967</td>\n",
       "      <td>2582</td>\n",
       "    </tr>\n",
       "    <tr>\n",
       "      <th>1870768</th>\n",
       "      <td>1872013</td>\n",
       "      <td>603.53030</td>\n",
       "      <td>421.29798</td>\n",
       "      <td>968</td>\n",
       "      <td>2582</td>\n",
       "    </tr>\n",
       "    <tr>\n",
       "      <th>1870793</th>\n",
       "      <td>1872048</td>\n",
       "      <td>590.48276</td>\n",
       "      <td>431.56034</td>\n",
       "      <td>968</td>\n",
       "      <td>2583</td>\n",
       "    </tr>\n",
       "  </tbody>\n",
       "</table>\n",
       "<p>12001 rows × 5 columns</p>\n",
       "</div>"
      ],
      "text/plain": [
       "         Unnamed: 0          x          y  frame  particle\n",
       "0                 0  345.78586   13.41291      1         0\n",
       "3390           1937  345.52386   13.34490      2         0\n",
       "5169           3874  345.51325   13.35762      3         0\n",
       "7105           5809  345.58277   13.37919      4         0\n",
       "9195           7744  345.71959   13.45048      5         0\n",
       "...             ...        ...        ...    ...       ...\n",
       "1868973     1870254  331.02874  489.01724    967      2581\n",
       "1870899     1872183  331.00549  489.01648    968      2581\n",
       "1868841     1870085  603.50000  421.29221    967      2582\n",
       "1870768     1872013  603.53030  421.29798    968      2582\n",
       "1870793     1872048  590.48276  431.56034    968      2583\n",
       "\n",
       "[12001 rows x 5 columns]"
      ]
     },
     "execution_count": 12,
     "metadata": {},
     "output_type": "execute_result"
    }
   ],
   "source": [
    "grouped = t_sorted.groupby('particle')\n",
    "grouped.head()"
   ]
  },
  {
   "cell_type": "code",
   "execution_count": 44,
   "id": "69d06cc0",
   "metadata": {},
   "outputs": [
    {
     "data": {
      "text/html": [
       "<div>\n",
       "<style scoped>\n",
       "    .dataframe tbody tr th:only-of-type {\n",
       "        vertical-align: middle;\n",
       "    }\n",
       "\n",
       "    .dataframe tbody tr th {\n",
       "        vertical-align: top;\n",
       "    }\n",
       "\n",
       "    .dataframe thead th {\n",
       "        text-align: right;\n",
       "    }\n",
       "</style>\n",
       "<table border=\"1\" class=\"dataframe\">\n",
       "  <thead>\n",
       "    <tr style=\"text-align: right;\">\n",
       "      <th></th>\n",
       "      <th>x</th>\n",
       "      <th>y</th>\n",
       "      <th>frame</th>\n",
       "      <th>particle</th>\n",
       "      <th>vx</th>\n",
       "      <th>vy</th>\n",
       "    </tr>\n",
       "  </thead>\n",
       "  <tbody>\n",
       "    <tr>\n",
       "      <th>51667</th>\n",
       "      <td>346.14262</td>\n",
       "      <td>13.64761</td>\n",
       "      <td>27</td>\n",
       "      <td>0</td>\n",
       "      <td>0.35676</td>\n",
       "      <td>0.23470</td>\n",
       "    </tr>\n",
       "    <tr>\n",
       "      <th>50395</th>\n",
       "      <td>563.70791</td>\n",
       "      <td>319.48276</td>\n",
       "      <td>27</td>\n",
       "      <td>1</td>\n",
       "      <td>0.25751</td>\n",
       "      <td>-0.00930</td>\n",
       "    </tr>\n",
       "    <tr>\n",
       "      <th>50424</th>\n",
       "      <td>514.05497</td>\n",
       "      <td>320.28012</td>\n",
       "      <td>27</td>\n",
       "      <td>2</td>\n",
       "      <td>0.14904</td>\n",
       "      <td>0.43628</td>\n",
       "    </tr>\n",
       "    <tr>\n",
       "      <th>50379</th>\n",
       "      <td>284.53472</td>\n",
       "      <td>320.10965</td>\n",
       "      <td>27</td>\n",
       "      <td>3</td>\n",
       "      <td>-0.30080</td>\n",
       "      <td>0.44899</td>\n",
       "    </tr>\n",
       "    <tr>\n",
       "      <th>50378</th>\n",
       "      <td>205.25887</td>\n",
       "      <td>319.69362</td>\n",
       "      <td>27</td>\n",
       "      <td>4</td>\n",
       "      <td>-0.87396</td>\n",
       "      <td>-0.28226</td>\n",
       "    </tr>\n",
       "  </tbody>\n",
       "</table>\n",
       "</div>"
      ],
      "text/plain": [
       "               x          y  frame  particle       vx       vy\n",
       "51667  346.14262   13.64761     27         0  0.35676  0.23470\n",
       "50395  563.70791  319.48276     27         1  0.25751 -0.00930\n",
       "50424  514.05497  320.28012     27         2  0.14904  0.43628\n",
       "50379  284.53472  320.10965     27         3 -0.30080  0.44899\n",
       "50378  205.25887  319.69362     27         4 -0.87396 -0.28226"
      ]
     },
     "execution_count": 44,
     "metadata": {},
     "output_type": "execute_result"
    }
   ],
   "source": [
    "t_sorted['vx'] = grouped['x'].diff(periods = step + 1)\n",
    "t_sorted['vy'] = grouped['y'].diff(periods = step + 1)\n",
    "t_sorted = t_sorted.dropna()\n",
    "t_sorted.head()"
   ]
  },
  {
   "cell_type": "code",
   "execution_count": 45,
   "id": "ac843705",
   "metadata": {},
   "outputs": [
    {
     "data": {
      "text/html": [
       "<div>\n",
       "<style scoped>\n",
       "    .dataframe tbody tr th:only-of-type {\n",
       "        vertical-align: middle;\n",
       "    }\n",
       "\n",
       "    .dataframe tbody tr th {\n",
       "        vertical-align: top;\n",
       "    }\n",
       "\n",
       "    .dataframe thead th {\n",
       "        text-align: right;\n",
       "    }\n",
       "</style>\n",
       "<table border=\"1\" class=\"dataframe\">\n",
       "  <thead>\n",
       "    <tr style=\"text-align: right;\">\n",
       "      <th></th>\n",
       "      <th>x</th>\n",
       "      <th>y</th>\n",
       "      <th>frame</th>\n",
       "      <th>particle</th>\n",
       "      <th>vx</th>\n",
       "      <th>vy</th>\n",
       "    </tr>\n",
       "  </thead>\n",
       "  <tbody>\n",
       "    <tr>\n",
       "      <th>51667</th>\n",
       "      <td>346.14262</td>\n",
       "      <td>13.64761</td>\n",
       "      <td>27</td>\n",
       "      <td>0</td>\n",
       "      <td>0.35676</td>\n",
       "      <td>0.23470</td>\n",
       "    </tr>\n",
       "    <tr>\n",
       "      <th>50395</th>\n",
       "      <td>563.70791</td>\n",
       "      <td>319.48276</td>\n",
       "      <td>27</td>\n",
       "      <td>1</td>\n",
       "      <td>0.25751</td>\n",
       "      <td>-0.00930</td>\n",
       "    </tr>\n",
       "    <tr>\n",
       "      <th>50424</th>\n",
       "      <td>514.05497</td>\n",
       "      <td>320.28012</td>\n",
       "      <td>27</td>\n",
       "      <td>2</td>\n",
       "      <td>0.14904</td>\n",
       "      <td>0.43628</td>\n",
       "    </tr>\n",
       "    <tr>\n",
       "      <th>50379</th>\n",
       "      <td>284.53472</td>\n",
       "      <td>320.10965</td>\n",
       "      <td>27</td>\n",
       "      <td>3</td>\n",
       "      <td>-0.30080</td>\n",
       "      <td>0.44899</td>\n",
       "    </tr>\n",
       "    <tr>\n",
       "      <th>50378</th>\n",
       "      <td>205.25887</td>\n",
       "      <td>319.69362</td>\n",
       "      <td>27</td>\n",
       "      <td>4</td>\n",
       "      <td>-0.87396</td>\n",
       "      <td>-0.28226</td>\n",
       "    </tr>\n",
       "  </tbody>\n",
       "</table>\n",
       "</div>"
      ],
      "text/plain": [
       "               x          y  frame  particle       vx       vy\n",
       "51667  346.14262   13.64761     27         0  0.35676  0.23470\n",
       "50395  563.70791  319.48276     27         1  0.25751 -0.00930\n",
       "50424  514.05497  320.28012     27         2  0.14904  0.43628\n",
       "50379  284.53472  320.10965     27         3 -0.30080  0.44899\n",
       "50378  205.25887  319.69362     27         4 -0.87396 -0.28226"
      ]
     },
     "execution_count": 45,
     "metadata": {},
     "output_type": "execute_result"
    }
   ],
   "source": [
    "t_sorted = t_sorted.sort_values(by = ['frame', 'particle'])\n",
    "t_sorted.head()"
   ]
  },
  {
   "cell_type": "code",
   "execution_count": 15,
   "id": "d407ce42",
   "metadata": {},
   "outputs": [],
   "source": [
    "t_26 = t_sorted"
   ]
  },
  {
   "cell_type": "code",
   "execution_count": 46,
   "id": "530d4099",
   "metadata": {},
   "outputs": [
    {
     "data": {
      "text/plain": [
       "1815391"
      ]
     },
     "execution_count": 46,
     "metadata": {},
     "output_type": "execute_result"
    }
   ],
   "source": [
    "len(t_sorted)"
   ]
  },
  {
   "cell_type": "code",
   "execution_count": 47,
   "id": "d5da12f3",
   "metadata": {},
   "outputs": [
    {
     "data": {
      "text/plain": [
       "1817329"
      ]
     },
     "execution_count": 47,
     "metadata": {},
     "output_type": "execute_result"
    }
   ],
   "source": [
    "len(df_vel)"
   ]
  },
  {
   "cell_type": "code",
   "execution_count": 48,
   "id": "d6b7caa2",
   "metadata": {},
   "outputs": [
    {
     "data": {
      "text/html": [
       "<div>\n",
       "<style scoped>\n",
       "    .dataframe tbody tr th:only-of-type {\n",
       "        vertical-align: middle;\n",
       "    }\n",
       "\n",
       "    .dataframe tbody tr th {\n",
       "        vertical-align: top;\n",
       "    }\n",
       "\n",
       "    .dataframe thead th {\n",
       "        text-align: right;\n",
       "    }\n",
       "</style>\n",
       "<table border=\"1\" class=\"dataframe\">\n",
       "  <thead>\n",
       "    <tr style=\"text-align: right;\">\n",
       "      <th></th>\n",
       "      <th>Unnamed: 0</th>\n",
       "      <th>frame</th>\n",
       "      <th>particle</th>\n",
       "      <th>x</th>\n",
       "      <th>y</th>\n",
       "      <th>vx</th>\n",
       "      <th>vy</th>\n",
       "    </tr>\n",
       "  </thead>\n",
       "  <tbody>\n",
       "    <tr>\n",
       "      <th>1294</th>\n",
       "      <td>1294</td>\n",
       "      <td>26</td>\n",
       "      <td>0</td>\n",
       "      <td>346.28611</td>\n",
       "      <td>13.60750</td>\n",
       "      <td>0.50025</td>\n",
       "      <td>0.19459</td>\n",
       "    </tr>\n",
       "    <tr>\n",
       "      <th>42</th>\n",
       "      <td>42</td>\n",
       "      <td>26</td>\n",
       "      <td>1</td>\n",
       "      <td>563.76923</td>\n",
       "      <td>319.58150</td>\n",
       "      <td>0.31883</td>\n",
       "      <td>0.08944</td>\n",
       "    </tr>\n",
       "    <tr>\n",
       "      <th>52</th>\n",
       "      <td>52</td>\n",
       "      <td>26</td>\n",
       "      <td>2</td>\n",
       "      <td>514.13874</td>\n",
       "      <td>320.31868</td>\n",
       "      <td>0.23281</td>\n",
       "      <td>0.47484</td>\n",
       "    </tr>\n",
       "    <tr>\n",
       "      <th>5</th>\n",
       "      <td>5</td>\n",
       "      <td>26</td>\n",
       "      <td>3</td>\n",
       "      <td>284.52489</td>\n",
       "      <td>320.01674</td>\n",
       "      <td>-0.31063</td>\n",
       "      <td>0.35608</td>\n",
       "    </tr>\n",
       "    <tr>\n",
       "      <th>9</th>\n",
       "      <td>9</td>\n",
       "      <td>26</td>\n",
       "      <td>4</td>\n",
       "      <td>205.28021</td>\n",
       "      <td>319.75866</td>\n",
       "      <td>-0.85262</td>\n",
       "      <td>-0.21722</td>\n",
       "    </tr>\n",
       "  </tbody>\n",
       "</table>\n",
       "</div>"
      ],
      "text/plain": [
       "      Unnamed: 0  frame  particle          x          y       vx       vy\n",
       "1294        1294     26         0  346.28611   13.60750  0.50025  0.19459\n",
       "42            42     26         1  563.76923  319.58150  0.31883  0.08944\n",
       "52            52     26         2  514.13874  320.31868  0.23281  0.47484\n",
       "5              5     26         3  284.52489  320.01674 -0.31063  0.35608\n",
       "9              9     26         4  205.28021  319.75866 -0.85262 -0.21722"
      ]
     },
     "execution_count": 48,
     "metadata": {},
     "output_type": "execute_result"
    }
   ],
   "source": [
    "df_vel = df_vel.sort_values(by = ['frame', 'particle'])\n",
    "df_vel['particle'] = df_vel['particle'].astype('int')\n",
    "df_vel['frame'] = df_vel['frame'].astype('int')\n",
    "df_vel.head()"
   ]
  },
  {
   "cell_type": "code",
   "execution_count": 49,
   "id": "8b34e9af",
   "metadata": {},
   "outputs": [
    {
     "data": {
      "text/html": [
       "<div>\n",
       "<style scoped>\n",
       "    .dataframe tbody tr th:only-of-type {\n",
       "        vertical-align: middle;\n",
       "    }\n",
       "\n",
       "    .dataframe tbody tr th {\n",
       "        vertical-align: top;\n",
       "    }\n",
       "\n",
       "    .dataframe thead th {\n",
       "        text-align: right;\n",
       "    }\n",
       "</style>\n",
       "<table border=\"1\" class=\"dataframe\">\n",
       "  <thead>\n",
       "    <tr style=\"text-align: right;\">\n",
       "      <th></th>\n",
       "      <th>Unnamed: 0</th>\n",
       "      <th>frame</th>\n",
       "      <th>particle</th>\n",
       "      <th>x</th>\n",
       "      <th>y</th>\n",
       "      <th>vx</th>\n",
       "      <th>vy</th>\n",
       "    </tr>\n",
       "  </thead>\n",
       "  <tbody>\n",
       "    <tr>\n",
       "      <th>1816090</th>\n",
       "      <td>1816090</td>\n",
       "      <td>968</td>\n",
       "      <td>2505</td>\n",
       "      <td>574.96842</td>\n",
       "      <td>439.48947</td>\n",
       "      <td>1.30626</td>\n",
       "      <td>0.50974</td>\n",
       "    </tr>\n",
       "    <tr>\n",
       "      <th>1815874</th>\n",
       "      <td>1815874</td>\n",
       "      <td>968</td>\n",
       "      <td>2516</td>\n",
       "      <td>25.96001</td>\n",
       "      <td>288.12137</td>\n",
       "      <td>0.71097</td>\n",
       "      <td>-0.57263</td>\n",
       "    </tr>\n",
       "    <tr>\n",
       "      <th>1815446</th>\n",
       "      <td>1815446</td>\n",
       "      <td>968</td>\n",
       "      <td>2520</td>\n",
       "      <td>690.48805</td>\n",
       "      <td>322.99004</td>\n",
       "      <td>0.69434</td>\n",
       "      <td>-1.57989</td>\n",
       "    </tr>\n",
       "    <tr>\n",
       "      <th>1816083</th>\n",
       "      <td>1816083</td>\n",
       "      <td>968</td>\n",
       "      <td>2527</td>\n",
       "      <td>420.87831</td>\n",
       "      <td>441.82275</td>\n",
       "      <td>1.35188</td>\n",
       "      <td>0.82055</td>\n",
       "    </tr>\n",
       "    <tr>\n",
       "      <th>1815501</th>\n",
       "      <td>1815501</td>\n",
       "      <td>968</td>\n",
       "      <td>2529</td>\n",
       "      <td>48.30000</td>\n",
       "      <td>308.74852</td>\n",
       "      <td>-0.95171</td>\n",
       "      <td>-0.44147</td>\n",
       "    </tr>\n",
       "    <tr>\n",
       "      <th>1816490</th>\n",
       "      <td>1816490</td>\n",
       "      <td>968</td>\n",
       "      <td>2534</td>\n",
       "      <td>501.72504</td>\n",
       "      <td>149.56259</td>\n",
       "      <td>-0.10174</td>\n",
       "      <td>-0.74679</td>\n",
       "    </tr>\n",
       "    <tr>\n",
       "      <th>1815460</th>\n",
       "      <td>1815460</td>\n",
       "      <td>968</td>\n",
       "      <td>2540</td>\n",
       "      <td>651.12000</td>\n",
       "      <td>320.73000</td>\n",
       "      <td>0.70730</td>\n",
       "      <td>-0.78190</td>\n",
       "    </tr>\n",
       "    <tr>\n",
       "      <th>1816109</th>\n",
       "      <td>1816109</td>\n",
       "      <td>968</td>\n",
       "      <td>2541</td>\n",
       "      <td>539.22603</td>\n",
       "      <td>453.73288</td>\n",
       "      <td>0.76100</td>\n",
       "      <td>-0.45943</td>\n",
       "    </tr>\n",
       "    <tr>\n",
       "      <th>1817169</th>\n",
       "      <td>1817169</td>\n",
       "      <td>968</td>\n",
       "      <td>2545</td>\n",
       "      <td>486.83841</td>\n",
       "      <td>158.18293</td>\n",
       "      <td>-0.64795</td>\n",
       "      <td>-0.33071</td>\n",
       "    </tr>\n",
       "    <tr>\n",
       "      <th>1815626</th>\n",
       "      <td>1815626</td>\n",
       "      <td>968</td>\n",
       "      <td>2555</td>\n",
       "      <td>63.06354</td>\n",
       "      <td>336.13928</td>\n",
       "      <td>0.17599</td>\n",
       "      <td>-0.22098</td>\n",
       "    </tr>\n",
       "  </tbody>\n",
       "</table>\n",
       "</div>"
      ],
      "text/plain": [
       "         Unnamed: 0  frame  particle          x          y       vx       vy\n",
       "1816090     1816090    968      2505  574.96842  439.48947  1.30626  0.50974\n",
       "1815874     1815874    968      2516   25.96001  288.12137  0.71097 -0.57263\n",
       "1815446     1815446    968      2520  690.48805  322.99004  0.69434 -1.57989\n",
       "1816083     1816083    968      2527  420.87831  441.82275  1.35188  0.82055\n",
       "1815501     1815501    968      2529   48.30000  308.74852 -0.95171 -0.44147\n",
       "1816490     1816490    968      2534  501.72504  149.56259 -0.10174 -0.74679\n",
       "1815460     1815460    968      2540  651.12000  320.73000  0.70730 -0.78190\n",
       "1816109     1816109    968      2541  539.22603  453.73288  0.76100 -0.45943\n",
       "1817169     1817169    968      2545  486.83841  158.18293 -0.64795 -0.33071\n",
       "1815626     1815626    968      2555   63.06354  336.13928  0.17599 -0.22098"
      ]
     },
     "execution_count": 49,
     "metadata": {},
     "output_type": "execute_result"
    }
   ],
   "source": [
    "df_vel.tail(10)\n"
   ]
  },
  {
   "cell_type": "code",
   "execution_count": 50,
   "id": "ec39f1af",
   "metadata": {},
   "outputs": [
    {
     "data": {
      "text/html": [
       "<div>\n",
       "<style scoped>\n",
       "    .dataframe tbody tr th:only-of-type {\n",
       "        vertical-align: middle;\n",
       "    }\n",
       "\n",
       "    .dataframe tbody tr th {\n",
       "        vertical-align: top;\n",
       "    }\n",
       "\n",
       "    .dataframe thead th {\n",
       "        text-align: right;\n",
       "    }\n",
       "</style>\n",
       "<table border=\"1\" class=\"dataframe\">\n",
       "  <thead>\n",
       "    <tr style=\"text-align: right;\">\n",
       "      <th></th>\n",
       "      <th>y</th>\n",
       "      <th>frame</th>\n",
       "      <th>particle</th>\n",
       "      <th>vx</th>\n",
       "      <th>vy</th>\n",
       "    </tr>\n",
       "  </thead>\n",
       "  <tbody>\n",
       "    <tr>\n",
       "      <th>1870888</th>\n",
       "      <td>460.98765</td>\n",
       "      <td>968</td>\n",
       "      <td>2485</td>\n",
       "      <td>1.08665</td>\n",
       "      <td>-0.16644</td>\n",
       "    </tr>\n",
       "    <tr>\n",
       "      <th>1870949</th>\n",
       "      <td>439.48947</td>\n",
       "      <td>968</td>\n",
       "      <td>2505</td>\n",
       "      <td>1.00592</td>\n",
       "      <td>0.50197</td>\n",
       "    </tr>\n",
       "    <tr>\n",
       "      <th>1870729</th>\n",
       "      <td>288.12137</td>\n",
       "      <td>968</td>\n",
       "      <td>2516</td>\n",
       "      <td>0.73186</td>\n",
       "      <td>-0.58713</td>\n",
       "    </tr>\n",
       "    <tr>\n",
       "      <th>1870295</th>\n",
       "      <td>322.99004</td>\n",
       "      <td>968</td>\n",
       "      <td>2520</td>\n",
       "      <td>0.76900</td>\n",
       "      <td>-1.90044</td>\n",
       "    </tr>\n",
       "    <tr>\n",
       "      <th>1870942</th>\n",
       "      <td>441.82275</td>\n",
       "      <td>968</td>\n",
       "      <td>2527</td>\n",
       "      <td>1.47543</td>\n",
       "      <td>0.94865</td>\n",
       "    </tr>\n",
       "    <tr>\n",
       "      <th>1870351</th>\n",
       "      <td>308.74852</td>\n",
       "      <td>968</td>\n",
       "      <td>2529</td>\n",
       "      <td>-0.89985</td>\n",
       "      <td>-0.37704</td>\n",
       "    </tr>\n",
       "    <tr>\n",
       "      <th>1871351</th>\n",
       "      <td>149.56259</td>\n",
       "      <td>968</td>\n",
       "      <td>2534</td>\n",
       "      <td>-0.21440</td>\n",
       "      <td>-0.74642</td>\n",
       "    </tr>\n",
       "    <tr>\n",
       "      <th>1870309</th>\n",
       "      <td>320.73000</td>\n",
       "      <td>968</td>\n",
       "      <td>2540</td>\n",
       "      <td>0.80571</td>\n",
       "      <td>-0.88429</td>\n",
       "    </tr>\n",
       "    <tr>\n",
       "      <th>1870968</th>\n",
       "      <td>453.73288</td>\n",
       "      <td>968</td>\n",
       "      <td>2541</td>\n",
       "      <td>1.05603</td>\n",
       "      <td>-0.53712</td>\n",
       "    </tr>\n",
       "    <tr>\n",
       "      <th>1872030</th>\n",
       "      <td>158.18293</td>\n",
       "      <td>968</td>\n",
       "      <td>2545</td>\n",
       "      <td>-0.62946</td>\n",
       "      <td>-0.30904</td>\n",
       "    </tr>\n",
       "  </tbody>\n",
       "</table>\n",
       "</div>"
      ],
      "text/plain": [
       "                 y  frame  particle       vx       vy\n",
       "1870888  460.98765    968      2485  1.08665 -0.16644\n",
       "1870949  439.48947    968      2505  1.00592  0.50197\n",
       "1870729  288.12137    968      2516  0.73186 -0.58713\n",
       "1870295  322.99004    968      2520  0.76900 -1.90044\n",
       "1870942  441.82275    968      2527  1.47543  0.94865\n",
       "1870351  308.74852    968      2529 -0.89985 -0.37704\n",
       "1871351  149.56259    968      2534 -0.21440 -0.74642\n",
       "1870309  320.73000    968      2540  0.80571 -0.88429\n",
       "1870968  453.73288    968      2541  1.05603 -0.53712\n",
       "1872030  158.18293    968      2545 -0.62946 -0.30904"
      ]
     },
     "execution_count": 50,
     "metadata": {},
     "output_type": "execute_result"
    }
   ],
   "source": [
    "firstColName = t_sorted.columns[0]\n",
    "t_sorted = t_sorted.drop(columns = firstColName)\n",
    "t_sorted.tail(10)\n"
   ]
  },
  {
   "cell_type": "code",
   "execution_count": 21,
   "id": "a6c6f39b",
   "metadata": {},
   "outputs": [
    {
     "data": {
      "text/plain": [
       "1817475"
      ]
     },
     "execution_count": 21,
     "metadata": {},
     "output_type": "execute_result"
    }
   ],
   "source": [
    "len(t_sorted)"
   ]
  },
  {
   "cell_type": "code",
   "execution_count": 22,
   "id": "58650117",
   "metadata": {},
   "outputs": [
    {
     "data": {
      "text/plain": [
       "1817329"
      ]
     },
     "execution_count": 22,
     "metadata": {},
     "output_type": "execute_result"
    }
   ],
   "source": [
    "len(df_vel)"
   ]
  },
  {
   "cell_type": "code",
   "execution_count": 23,
   "id": "19feef6a",
   "metadata": {},
   "outputs": [],
   "source": [
    "t_sorted_temp = t_sorted[['frame', 'particle', 'x']].apply(tuple, axis=1)\n",
    "df_vel_temp = df_vel[['frame', 'particle', 'x']].apply(tuple, axis=1)"
   ]
  },
  {
   "cell_type": "code",
   "execution_count": 24,
   "id": "51dda008",
   "metadata": {},
   "outputs": [],
   "source": [
    "extra_rows = t_sorted[~t_sorted_temp.isin(df_vel_temp)]"
   ]
  },
  {
   "cell_type": "code",
   "execution_count": 25,
   "id": "99cd3211",
   "metadata": {},
   "outputs": [
    {
     "data": {
      "text/html": [
       "<div>\n",
       "<style scoped>\n",
       "    .dataframe tbody tr th:only-of-type {\n",
       "        vertical-align: middle;\n",
       "    }\n",
       "\n",
       "    .dataframe tbody tr th {\n",
       "        vertical-align: top;\n",
       "    }\n",
       "\n",
       "    .dataframe thead th {\n",
       "        text-align: right;\n",
       "    }\n",
       "</style>\n",
       "<table border=\"1\" class=\"dataframe\">\n",
       "  <thead>\n",
       "    <tr style=\"text-align: right;\">\n",
       "      <th></th>\n",
       "      <th>x</th>\n",
       "      <th>y</th>\n",
       "      <th>frame</th>\n",
       "      <th>particle</th>\n",
       "      <th>vx</th>\n",
       "      <th>vy</th>\n",
       "    </tr>\n",
       "  </thead>\n",
       "  <tbody>\n",
       "    <tr>\n",
       "      <th>467376</th>\n",
       "      <td>657.38018</td>\n",
       "      <td>335.68433</td>\n",
       "      <td>242</td>\n",
       "      <td>124</td>\n",
       "      <td>-0.09450</td>\n",
       "      <td>-2.15111</td>\n",
       "    </tr>\n",
       "    <tr>\n",
       "      <th>1365124</th>\n",
       "      <td>659.81875</td>\n",
       "      <td>321.50625</td>\n",
       "      <td>706</td>\n",
       "      <td>124</td>\n",
       "      <td>-0.11335</td>\n",
       "      <td>-0.56165</td>\n",
       "    </tr>\n",
       "    <tr>\n",
       "      <th>987775</th>\n",
       "      <td>645.53371</td>\n",
       "      <td>333.51124</td>\n",
       "      <td>511</td>\n",
       "      <td>171</td>\n",
       "      <td>0.34818</td>\n",
       "      <td>-0.02021</td>\n",
       "    </tr>\n",
       "    <tr>\n",
       "      <th>1034260</th>\n",
       "      <td>645.47468</td>\n",
       "      <td>332.74051</td>\n",
       "      <td>535</td>\n",
       "      <td>171</td>\n",
       "      <td>-0.22001</td>\n",
       "      <td>-0.90108</td>\n",
       "    </tr>\n",
       "    <tr>\n",
       "      <th>335451</th>\n",
       "      <td>657.12500</td>\n",
       "      <td>324.31250</td>\n",
       "      <td>174</td>\n",
       "      <td>189</td>\n",
       "      <td>0.54113</td>\n",
       "      <td>-0.89073</td>\n",
       "    </tr>\n",
       "  </tbody>\n",
       "</table>\n",
       "</div>"
      ],
      "text/plain": [
       "                 x          y  frame  particle       vx       vy\n",
       "467376   657.38018  335.68433    242       124 -0.09450 -2.15111\n",
       "1365124  659.81875  321.50625    706       124 -0.11335 -0.56165\n",
       "987775   645.53371  333.51124    511       171  0.34818 -0.02021\n",
       "1034260  645.47468  332.74051    535       171 -0.22001 -0.90108\n",
       "335451   657.12500  324.31250    174       189  0.54113 -0.89073"
      ]
     },
     "execution_count": 25,
     "metadata": {},
     "output_type": "execute_result"
    }
   ],
   "source": [
    "extra_rows = extra_rows.sort_values(by = ['particle', 'frame'])\n",
    "extra_rows.head()"
   ]
  },
  {
   "cell_type": "code",
   "execution_count": 26,
   "id": "2b8ce756",
   "metadata": {},
   "outputs": [
    {
     "data": {
      "text/plain": [
       "249"
      ]
     },
     "execution_count": 26,
     "metadata": {},
     "output_type": "execute_result"
    }
   ],
   "source": [
    "len(extra_rows)"
   ]
  },
  {
   "cell_type": "code",
   "execution_count": 27,
   "id": "d5c9ff51",
   "metadata": {},
   "outputs": [
    {
     "data": {
      "text/html": [
       "<div>\n",
       "<style scoped>\n",
       "    .dataframe tbody tr th:only-of-type {\n",
       "        vertical-align: middle;\n",
       "    }\n",
       "\n",
       "    .dataframe tbody tr th {\n",
       "        vertical-align: top;\n",
       "    }\n",
       "\n",
       "    .dataframe thead th {\n",
       "        text-align: right;\n",
       "    }\n",
       "</style>\n",
       "<table border=\"1\" class=\"dataframe\">\n",
       "  <thead>\n",
       "    <tr style=\"text-align: right;\">\n",
       "      <th></th>\n",
       "      <th>Unnamed: 0</th>\n",
       "      <th>x</th>\n",
       "      <th>y</th>\n",
       "      <th>frame</th>\n",
       "      <th>particle</th>\n",
       "    </tr>\n",
       "  </thead>\n",
       "  <tbody>\n",
       "    <tr>\n",
       "      <th>467376</th>\n",
       "      <td>468542</td>\n",
       "      <td>657.38018</td>\n",
       "      <td>335.68433</td>\n",
       "      <td>242</td>\n",
       "      <td>124</td>\n",
       "    </tr>\n",
       "  </tbody>\n",
       "</table>\n",
       "</div>"
      ],
      "text/plain": [
       "        Unnamed: 0          x          y  frame  particle\n",
       "467376      468542  657.38018  335.68433    242       124"
      ]
     },
     "execution_count": 27,
     "metadata": {},
     "output_type": "execute_result"
    }
   ],
   "source": [
    "get_suku = t_large[(t_large['particle'] == 124) & (t_large['frame'] == 242)]\n",
    "get_suku.head()"
   ]
  },
  {
   "cell_type": "code",
   "execution_count": 80,
   "id": "0b96ec30",
   "metadata": {},
   "outputs": [
    {
     "data": {
      "text/html": [
       "<div>\n",
       "<style scoped>\n",
       "    .dataframe tbody tr th:only-of-type {\n",
       "        vertical-align: middle;\n",
       "    }\n",
       "\n",
       "    .dataframe tbody tr th {\n",
       "        vertical-align: top;\n",
       "    }\n",
       "\n",
       "    .dataframe thead th {\n",
       "        text-align: right;\n",
       "    }\n",
       "</style>\n",
       "<table border=\"1\" class=\"dataframe\">\n",
       "  <thead>\n",
       "    <tr style=\"text-align: right;\">\n",
       "      <th></th>\n",
       "      <th>Unnamed: 0</th>\n",
       "      <th>x</th>\n",
       "      <th>y</th>\n",
       "      <th>frame</th>\n",
       "      <th>particle</th>\n",
       "    </tr>\n",
       "  </thead>\n",
       "  <tbody>\n",
       "  </tbody>\n",
       "</table>\n",
       "</div>"
      ],
      "text/plain": [
       "Empty DataFrame\n",
       "Columns: [Unnamed: 0, x, y, frame, particle]\n",
       "Index: []"
      ]
     },
     "execution_count": 80,
     "metadata": {},
     "output_type": "execute_result"
    }
   ],
   "source": [
    "get_suku_prev = t_large[(t_large['particle'] == 124) & (t_large['frame'] == (242 - step))]\n",
    "get_suku_prev.head()"
   ]
  },
  {
   "cell_type": "code",
   "execution_count": 88,
   "id": "c0e1f219",
   "metadata": {},
   "outputs": [],
   "source": [
    "frames_list = np.unique(t_sorted['frame'])"
   ]
  },
  {
   "cell_type": "code",
   "execution_count": 91,
   "id": "a6beb8d0",
   "metadata": {},
   "outputs": [],
   "source": [
    "future_times = frames_list + step"
   ]
  },
  {
   "cell_type": "code",
   "execution_count": 92,
   "id": "0c31ff94",
   "metadata": {},
   "outputs": [],
   "source": [
    "t_sorted_filtered = t_sorted[t_sorted['frame'].isin(future_times)]"
   ]
  },
  {
   "cell_type": "code",
   "execution_count": 93,
   "id": "31dc5b25",
   "metadata": {},
   "outputs": [
    {
     "data": {
      "text/plain": [
       "1769176"
      ]
     },
     "execution_count": 93,
     "metadata": {},
     "output_type": "execute_result"
    }
   ],
   "source": [
    "len(t_sorted_filtered)"
   ]
  },
  {
   "cell_type": "code",
   "execution_count": null,
   "id": "b495d334",
   "metadata": {},
   "outputs": [],
   "source": []
  },
  {
   "cell_type": "code",
   "execution_count": 95,
   "id": "5b201d04",
   "metadata": {},
   "outputs": [],
   "source": [
    "old_frame = 0"
   ]
  },
  {
   "cell_type": "code",
   "execution_count": 99,
   "id": "5695cd70",
   "metadata": {},
   "outputs": [
    {
     "name": "stderr",
     "output_type": "stream",
     "text": [
      "C:\\Users\\kananovicha\\AppData\\Local\\Temp\\ipykernel_26404\\4010597725.py:9: UserWarning: Boolean Series key will be reindexed to match DataFrame index.\n",
      "  if (len(t_sorted[((t_large['frame'] == cur_frame - step) & (t_large['particle'] == cur_p))]) != 1):\n",
      "C:\\Users\\kananovicha\\AppData\\Local\\Temp\\ipykernel_26404\\4010597725.py:9: UserWarning: Boolean Series key will be reindexed to match DataFrame index.\n",
      "  if (len(t_sorted[((t_large['frame'] == cur_frame - step) & (t_large['particle'] == cur_p))]) != 1):\n",
      "C:\\Users\\kananovicha\\AppData\\Local\\Temp\\ipykernel_26404\\4010597725.py:9: UserWarning: Boolean Series key will be reindexed to match DataFrame index.\n",
      "  if (len(t_sorted[((t_large['frame'] == cur_frame - step) & (t_large['particle'] == cur_p))]) != 1):\n",
      "C:\\Users\\kananovicha\\AppData\\Local\\Temp\\ipykernel_26404\\4010597725.py:9: UserWarning: Boolean Series key will be reindexed to match DataFrame index.\n",
      "  if (len(t_sorted[((t_large['frame'] == cur_frame - step) & (t_large['particle'] == cur_p))]) != 1):\n",
      "C:\\Users\\kananovicha\\AppData\\Local\\Temp\\ipykernel_26404\\4010597725.py:9: UserWarning: Boolean Series key will be reindexed to match DataFrame index.\n",
      "  if (len(t_sorted[((t_large['frame'] == cur_frame - step) & (t_large['particle'] == cur_p))]) != 1):\n",
      "C:\\Users\\kananovicha\\AppData\\Local\\Temp\\ipykernel_26404\\4010597725.py:9: UserWarning: Boolean Series key will be reindexed to match DataFrame index.\n",
      "  if (len(t_sorted[((t_large['frame'] == cur_frame - step) & (t_large['particle'] == cur_p))]) != 1):\n",
      "C:\\Users\\kananovicha\\AppData\\Local\\Temp\\ipykernel_26404\\4010597725.py:9: UserWarning: Boolean Series key will be reindexed to match DataFrame index.\n",
      "  if (len(t_sorted[((t_large['frame'] == cur_frame - step) & (t_large['particle'] == cur_p))]) != 1):\n",
      "C:\\Users\\kananovicha\\AppData\\Local\\Temp\\ipykernel_26404\\4010597725.py:9: UserWarning: Boolean Series key will be reindexed to match DataFrame index.\n",
      "  if (len(t_sorted[((t_large['frame'] == cur_frame - step) & (t_large['particle'] == cur_p))]) != 1):\n",
      "C:\\Users\\kananovicha\\AppData\\Local\\Temp\\ipykernel_26404\\4010597725.py:9: UserWarning: Boolean Series key will be reindexed to match DataFrame index.\n",
      "  if (len(t_sorted[((t_large['frame'] == cur_frame - step) & (t_large['particle'] == cur_p))]) != 1):\n",
      "C:\\Users\\kananovicha\\AppData\\Local\\Temp\\ipykernel_26404\\4010597725.py:9: UserWarning: Boolean Series key will be reindexed to match DataFrame index.\n",
      "  if (len(t_sorted[((t_large['frame'] == cur_frame - step) & (t_large['particle'] == cur_p))]) != 1):\n",
      "C:\\Users\\kananovicha\\AppData\\Local\\Temp\\ipykernel_26404\\4010597725.py:9: UserWarning: Boolean Series key will be reindexed to match DataFrame index.\n",
      "  if (len(t_sorted[((t_large['frame'] == cur_frame - step) & (t_large['particle'] == cur_p))]) != 1):\n",
      "C:\\Users\\kananovicha\\AppData\\Local\\Temp\\ipykernel_26404\\4010597725.py:9: UserWarning: Boolean Series key will be reindexed to match DataFrame index.\n",
      "  if (len(t_sorted[((t_large['frame'] == cur_frame - step) & (t_large['particle'] == cur_p))]) != 1):\n",
      "C:\\Users\\kananovicha\\AppData\\Local\\Temp\\ipykernel_26404\\4010597725.py:9: UserWarning: Boolean Series key will be reindexed to match DataFrame index.\n",
      "  if (len(t_sorted[((t_large['frame'] == cur_frame - step) & (t_large['particle'] == cur_p))]) != 1):\n",
      "C:\\Users\\kananovicha\\AppData\\Local\\Temp\\ipykernel_26404\\4010597725.py:9: UserWarning: Boolean Series key will be reindexed to match DataFrame index.\n",
      "  if (len(t_sorted[((t_large['frame'] == cur_frame - step) & (t_large['particle'] == cur_p))]) != 1):\n",
      "C:\\Users\\kananovicha\\AppData\\Local\\Temp\\ipykernel_26404\\4010597725.py:9: UserWarning: Boolean Series key will be reindexed to match DataFrame index.\n",
      "  if (len(t_sorted[((t_large['frame'] == cur_frame - step) & (t_large['particle'] == cur_p))]) != 1):\n",
      "C:\\Users\\kananovicha\\AppData\\Local\\Temp\\ipykernel_26404\\4010597725.py:9: UserWarning: Boolean Series key will be reindexed to match DataFrame index.\n",
      "  if (len(t_sorted[((t_large['frame'] == cur_frame - step) & (t_large['particle'] == cur_p))]) != 1):\n",
      "C:\\Users\\kananovicha\\AppData\\Local\\Temp\\ipykernel_26404\\4010597725.py:9: UserWarning: Boolean Series key will be reindexed to match DataFrame index.\n",
      "  if (len(t_sorted[((t_large['frame'] == cur_frame - step) & (t_large['particle'] == cur_p))]) != 1):\n",
      "C:\\Users\\kananovicha\\AppData\\Local\\Temp\\ipykernel_26404\\4010597725.py:9: UserWarning: Boolean Series key will be reindexed to match DataFrame index.\n",
      "  if (len(t_sorted[((t_large['frame'] == cur_frame - step) & (t_large['particle'] == cur_p))]) != 1):\n",
      "C:\\Users\\kananovicha\\AppData\\Local\\Temp\\ipykernel_26404\\4010597725.py:9: UserWarning: Boolean Series key will be reindexed to match DataFrame index.\n",
      "  if (len(t_sorted[((t_large['frame'] == cur_frame - step) & (t_large['particle'] == cur_p))]) != 1):\n",
      "C:\\Users\\kananovicha\\AppData\\Local\\Temp\\ipykernel_26404\\4010597725.py:9: UserWarning: Boolean Series key will be reindexed to match DataFrame index.\n",
      "  if (len(t_sorted[((t_large['frame'] == cur_frame - step) & (t_large['particle'] == cur_p))]) != 1):\n",
      "C:\\Users\\kananovicha\\AppData\\Local\\Temp\\ipykernel_26404\\4010597725.py:9: UserWarning: Boolean Series key will be reindexed to match DataFrame index.\n",
      "  if (len(t_sorted[((t_large['frame'] == cur_frame - step) & (t_large['particle'] == cur_p))]) != 1):\n",
      "C:\\Users\\kananovicha\\AppData\\Local\\Temp\\ipykernel_26404\\4010597725.py:9: UserWarning: Boolean Series key will be reindexed to match DataFrame index.\n",
      "  if (len(t_sorted[((t_large['frame'] == cur_frame - step) & (t_large['particle'] == cur_p))]) != 1):\n",
      "C:\\Users\\kananovicha\\AppData\\Local\\Temp\\ipykernel_26404\\4010597725.py:9: UserWarning: Boolean Series key will be reindexed to match DataFrame index.\n",
      "  if (len(t_sorted[((t_large['frame'] == cur_frame - step) & (t_large['particle'] == cur_p))]) != 1):\n",
      "C:\\Users\\kananovicha\\AppData\\Local\\Temp\\ipykernel_26404\\4010597725.py:9: UserWarning: Boolean Series key will be reindexed to match DataFrame index.\n",
      "  if (len(t_sorted[((t_large['frame'] == cur_frame - step) & (t_large['particle'] == cur_p))]) != 1):\n",
      "C:\\Users\\kananovicha\\AppData\\Local\\Temp\\ipykernel_26404\\4010597725.py:9: UserWarning: Boolean Series key will be reindexed to match DataFrame index.\n",
      "  if (len(t_sorted[((t_large['frame'] == cur_frame - step) & (t_large['particle'] == cur_p))]) != 1):\n",
      "C:\\Users\\kananovicha\\AppData\\Local\\Temp\\ipykernel_26404\\4010597725.py:9: UserWarning: Boolean Series key will be reindexed to match DataFrame index.\n",
      "  if (len(t_sorted[((t_large['frame'] == cur_frame - step) & (t_large['particle'] == cur_p))]) != 1):\n",
      "C:\\Users\\kananovicha\\AppData\\Local\\Temp\\ipykernel_26404\\4010597725.py:9: UserWarning: Boolean Series key will be reindexed to match DataFrame index.\n",
      "  if (len(t_sorted[((t_large['frame'] == cur_frame - step) & (t_large['particle'] == cur_p))]) != 1):\n",
      "C:\\Users\\kananovicha\\AppData\\Local\\Temp\\ipykernel_26404\\4010597725.py:9: UserWarning: Boolean Series key will be reindexed to match DataFrame index.\n",
      "  if (len(t_sorted[((t_large['frame'] == cur_frame - step) & (t_large['particle'] == cur_p))]) != 1):\n",
      "C:\\Users\\kananovicha\\AppData\\Local\\Temp\\ipykernel_26404\\4010597725.py:9: UserWarning: Boolean Series key will be reindexed to match DataFrame index.\n",
      "  if (len(t_sorted[((t_large['frame'] == cur_frame - step) & (t_large['particle'] == cur_p))]) != 1):\n",
      "C:\\Users\\kananovicha\\AppData\\Local\\Temp\\ipykernel_26404\\4010597725.py:9: UserWarning: Boolean Series key will be reindexed to match DataFrame index.\n",
      "  if (len(t_sorted[((t_large['frame'] == cur_frame - step) & (t_large['particle'] == cur_p))]) != 1):\n",
      "C:\\Users\\kananovicha\\AppData\\Local\\Temp\\ipykernel_26404\\4010597725.py:9: UserWarning: Boolean Series key will be reindexed to match DataFrame index.\n",
      "  if (len(t_sorted[((t_large['frame'] == cur_frame - step) & (t_large['particle'] == cur_p))]) != 1):\n",
      "C:\\Users\\kananovicha\\AppData\\Local\\Temp\\ipykernel_26404\\4010597725.py:9: UserWarning: Boolean Series key will be reindexed to match DataFrame index.\n",
      "  if (len(t_sorted[((t_large['frame'] == cur_frame - step) & (t_large['particle'] == cur_p))]) != 1):\n",
      "C:\\Users\\kananovicha\\AppData\\Local\\Temp\\ipykernel_26404\\4010597725.py:9: UserWarning: Boolean Series key will be reindexed to match DataFrame index.\n",
      "  if (len(t_sorted[((t_large['frame'] == cur_frame - step) & (t_large['particle'] == cur_p))]) != 1):\n",
      "C:\\Users\\kananovicha\\AppData\\Local\\Temp\\ipykernel_26404\\4010597725.py:9: UserWarning: Boolean Series key will be reindexed to match DataFrame index.\n",
      "  if (len(t_sorted[((t_large['frame'] == cur_frame - step) & (t_large['particle'] == cur_p))]) != 1):\n"
     ]
    },
    {
     "name": "stderr",
     "output_type": "stream",
     "text": [
      "C:\\Users\\kananovicha\\AppData\\Local\\Temp\\ipykernel_26404\\4010597725.py:9: UserWarning: Boolean Series key will be reindexed to match DataFrame index.\n",
      "  if (len(t_sorted[((t_large['frame'] == cur_frame - step) & (t_large['particle'] == cur_p))]) != 1):\n",
      "C:\\Users\\kananovicha\\AppData\\Local\\Temp\\ipykernel_26404\\4010597725.py:9: UserWarning: Boolean Series key will be reindexed to match DataFrame index.\n",
      "  if (len(t_sorted[((t_large['frame'] == cur_frame - step) & (t_large['particle'] == cur_p))]) != 1):\n",
      "C:\\Users\\kananovicha\\AppData\\Local\\Temp\\ipykernel_26404\\4010597725.py:9: UserWarning: Boolean Series key will be reindexed to match DataFrame index.\n",
      "  if (len(t_sorted[((t_large['frame'] == cur_frame - step) & (t_large['particle'] == cur_p))]) != 1):\n",
      "C:\\Users\\kananovicha\\AppData\\Local\\Temp\\ipykernel_26404\\4010597725.py:9: UserWarning: Boolean Series key will be reindexed to match DataFrame index.\n",
      "  if (len(t_sorted[((t_large['frame'] == cur_frame - step) & (t_large['particle'] == cur_p))]) != 1):\n",
      "C:\\Users\\kananovicha\\AppData\\Local\\Temp\\ipykernel_26404\\4010597725.py:9: UserWarning: Boolean Series key will be reindexed to match DataFrame index.\n",
      "  if (len(t_sorted[((t_large['frame'] == cur_frame - step) & (t_large['particle'] == cur_p))]) != 1):\n",
      "C:\\Users\\kananovicha\\AppData\\Local\\Temp\\ipykernel_26404\\4010597725.py:9: UserWarning: Boolean Series key will be reindexed to match DataFrame index.\n",
      "  if (len(t_sorted[((t_large['frame'] == cur_frame - step) & (t_large['particle'] == cur_p))]) != 1):\n",
      "C:\\Users\\kananovicha\\AppData\\Local\\Temp\\ipykernel_26404\\4010597725.py:9: UserWarning: Boolean Series key will be reindexed to match DataFrame index.\n",
      "  if (len(t_sorted[((t_large['frame'] == cur_frame - step) & (t_large['particle'] == cur_p))]) != 1):\n",
      "C:\\Users\\kananovicha\\AppData\\Local\\Temp\\ipykernel_26404\\4010597725.py:9: UserWarning: Boolean Series key will be reindexed to match DataFrame index.\n",
      "  if (len(t_sorted[((t_large['frame'] == cur_frame - step) & (t_large['particle'] == cur_p))]) != 1):\n",
      "C:\\Users\\kananovicha\\AppData\\Local\\Temp\\ipykernel_26404\\4010597725.py:9: UserWarning: Boolean Series key will be reindexed to match DataFrame index.\n",
      "  if (len(t_sorted[((t_large['frame'] == cur_frame - step) & (t_large['particle'] == cur_p))]) != 1):\n",
      "C:\\Users\\kananovicha\\AppData\\Local\\Temp\\ipykernel_26404\\4010597725.py:9: UserWarning: Boolean Series key will be reindexed to match DataFrame index.\n",
      "  if (len(t_sorted[((t_large['frame'] == cur_frame - step) & (t_large['particle'] == cur_p))]) != 1):\n",
      "C:\\Users\\kananovicha\\AppData\\Local\\Temp\\ipykernel_26404\\4010597725.py:9: UserWarning: Boolean Series key will be reindexed to match DataFrame index.\n",
      "  if (len(t_sorted[((t_large['frame'] == cur_frame - step) & (t_large['particle'] == cur_p))]) != 1):\n",
      "C:\\Users\\kananovicha\\AppData\\Local\\Temp\\ipykernel_26404\\4010597725.py:9: UserWarning: Boolean Series key will be reindexed to match DataFrame index.\n",
      "  if (len(t_sorted[((t_large['frame'] == cur_frame - step) & (t_large['particle'] == cur_p))]) != 1):\n",
      "C:\\Users\\kananovicha\\AppData\\Local\\Temp\\ipykernel_26404\\4010597725.py:9: UserWarning: Boolean Series key will be reindexed to match DataFrame index.\n",
      "  if (len(t_sorted[((t_large['frame'] == cur_frame - step) & (t_large['particle'] == cur_p))]) != 1):\n",
      "C:\\Users\\kananovicha\\AppData\\Local\\Temp\\ipykernel_26404\\4010597725.py:9: UserWarning: Boolean Series key will be reindexed to match DataFrame index.\n",
      "  if (len(t_sorted[((t_large['frame'] == cur_frame - step) & (t_large['particle'] == cur_p))]) != 1):\n",
      "C:\\Users\\kananovicha\\AppData\\Local\\Temp\\ipykernel_26404\\4010597725.py:9: UserWarning: Boolean Series key will be reindexed to match DataFrame index.\n",
      "  if (len(t_sorted[((t_large['frame'] == cur_frame - step) & (t_large['particle'] == cur_p))]) != 1):\n",
      "C:\\Users\\kananovicha\\AppData\\Local\\Temp\\ipykernel_26404\\4010597725.py:9: UserWarning: Boolean Series key will be reindexed to match DataFrame index.\n",
      "  if (len(t_sorted[((t_large['frame'] == cur_frame - step) & (t_large['particle'] == cur_p))]) != 1):\n",
      "C:\\Users\\kananovicha\\AppData\\Local\\Temp\\ipykernel_26404\\4010597725.py:9: UserWarning: Boolean Series key will be reindexed to match DataFrame index.\n",
      "  if (len(t_sorted[((t_large['frame'] == cur_frame - step) & (t_large['particle'] == cur_p))]) != 1):\n",
      "C:\\Users\\kananovicha\\AppData\\Local\\Temp\\ipykernel_26404\\4010597725.py:9: UserWarning: Boolean Series key will be reindexed to match DataFrame index.\n",
      "  if (len(t_sorted[((t_large['frame'] == cur_frame - step) & (t_large['particle'] == cur_p))]) != 1):\n",
      "C:\\Users\\kananovicha\\AppData\\Local\\Temp\\ipykernel_26404\\4010597725.py:9: UserWarning: Boolean Series key will be reindexed to match DataFrame index.\n",
      "  if (len(t_sorted[((t_large['frame'] == cur_frame - step) & (t_large['particle'] == cur_p))]) != 1):\n",
      "C:\\Users\\kananovicha\\AppData\\Local\\Temp\\ipykernel_26404\\4010597725.py:9: UserWarning: Boolean Series key will be reindexed to match DataFrame index.\n",
      "  if (len(t_sorted[((t_large['frame'] == cur_frame - step) & (t_large['particle'] == cur_p))]) != 1):\n",
      "C:\\Users\\kananovicha\\AppData\\Local\\Temp\\ipykernel_26404\\4010597725.py:9: UserWarning: Boolean Series key will be reindexed to match DataFrame index.\n",
      "  if (len(t_sorted[((t_large['frame'] == cur_frame - step) & (t_large['particle'] == cur_p))]) != 1):\n",
      "C:\\Users\\kananovicha\\AppData\\Local\\Temp\\ipykernel_26404\\4010597725.py:9: UserWarning: Boolean Series key will be reindexed to match DataFrame index.\n",
      "  if (len(t_sorted[((t_large['frame'] == cur_frame - step) & (t_large['particle'] == cur_p))]) != 1):\n",
      "C:\\Users\\kananovicha\\AppData\\Local\\Temp\\ipykernel_26404\\4010597725.py:9: UserWarning: Boolean Series key will be reindexed to match DataFrame index.\n",
      "  if (len(t_sorted[((t_large['frame'] == cur_frame - step) & (t_large['particle'] == cur_p))]) != 1):\n",
      "C:\\Users\\kananovicha\\AppData\\Local\\Temp\\ipykernel_26404\\4010597725.py:9: UserWarning: Boolean Series key will be reindexed to match DataFrame index.\n",
      "  if (len(t_sorted[((t_large['frame'] == cur_frame - step) & (t_large['particle'] == cur_p))]) != 1):\n",
      "C:\\Users\\kananovicha\\AppData\\Local\\Temp\\ipykernel_26404\\4010597725.py:9: UserWarning: Boolean Series key will be reindexed to match DataFrame index.\n",
      "  if (len(t_sorted[((t_large['frame'] == cur_frame - step) & (t_large['particle'] == cur_p))]) != 1):\n",
      "C:\\Users\\kananovicha\\AppData\\Local\\Temp\\ipykernel_26404\\4010597725.py:9: UserWarning: Boolean Series key will be reindexed to match DataFrame index.\n",
      "  if (len(t_sorted[((t_large['frame'] == cur_frame - step) & (t_large['particle'] == cur_p))]) != 1):\n",
      "C:\\Users\\kananovicha\\AppData\\Local\\Temp\\ipykernel_26404\\4010597725.py:9: UserWarning: Boolean Series key will be reindexed to match DataFrame index.\n",
      "  if (len(t_sorted[((t_large['frame'] == cur_frame - step) & (t_large['particle'] == cur_p))]) != 1):\n",
      "C:\\Users\\kananovicha\\AppData\\Local\\Temp\\ipykernel_26404\\4010597725.py:9: UserWarning: Boolean Series key will be reindexed to match DataFrame index.\n",
      "  if (len(t_sorted[((t_large['frame'] == cur_frame - step) & (t_large['particle'] == cur_p))]) != 1):\n",
      "C:\\Users\\kananovicha\\AppData\\Local\\Temp\\ipykernel_26404\\4010597725.py:9: UserWarning: Boolean Series key will be reindexed to match DataFrame index.\n",
      "  if (len(t_sorted[((t_large['frame'] == cur_frame - step) & (t_large['particle'] == cur_p))]) != 1):\n",
      "C:\\Users\\kananovicha\\AppData\\Local\\Temp\\ipykernel_26404\\4010597725.py:9: UserWarning: Boolean Series key will be reindexed to match DataFrame index.\n",
      "  if (len(t_sorted[((t_large['frame'] == cur_frame - step) & (t_large['particle'] == cur_p))]) != 1):\n",
      "C:\\Users\\kananovicha\\AppData\\Local\\Temp\\ipykernel_26404\\4010597725.py:9: UserWarning: Boolean Series key will be reindexed to match DataFrame index.\n",
      "  if (len(t_sorted[((t_large['frame'] == cur_frame - step) & (t_large['particle'] == cur_p))]) != 1):\n",
      "C:\\Users\\kananovicha\\AppData\\Local\\Temp\\ipykernel_26404\\4010597725.py:9: UserWarning: Boolean Series key will be reindexed to match DataFrame index.\n",
      "  if (len(t_sorted[((t_large['frame'] == cur_frame - step) & (t_large['particle'] == cur_p))]) != 1):\n",
      "C:\\Users\\kananovicha\\AppData\\Local\\Temp\\ipykernel_26404\\4010597725.py:9: UserWarning: Boolean Series key will be reindexed to match DataFrame index.\n",
      "  if (len(t_sorted[((t_large['frame'] == cur_frame - step) & (t_large['particle'] == cur_p))]) != 1):\n",
      "C:\\Users\\kananovicha\\AppData\\Local\\Temp\\ipykernel_26404\\4010597725.py:9: UserWarning: Boolean Series key will be reindexed to match DataFrame index.\n",
      "  if (len(t_sorted[((t_large['frame'] == cur_frame - step) & (t_large['particle'] == cur_p))]) != 1):\n"
     ]
    },
    {
     "name": "stderr",
     "output_type": "stream",
     "text": [
      "C:\\Users\\kananovicha\\AppData\\Local\\Temp\\ipykernel_26404\\4010597725.py:9: UserWarning: Boolean Series key will be reindexed to match DataFrame index.\n",
      "  if (len(t_sorted[((t_large['frame'] == cur_frame - step) & (t_large['particle'] == cur_p))]) != 1):\n",
      "C:\\Users\\kananovicha\\AppData\\Local\\Temp\\ipykernel_26404\\4010597725.py:9: UserWarning: Boolean Series key will be reindexed to match DataFrame index.\n",
      "  if (len(t_sorted[((t_large['frame'] == cur_frame - step) & (t_large['particle'] == cur_p))]) != 1):\n",
      "C:\\Users\\kananovicha\\AppData\\Local\\Temp\\ipykernel_26404\\4010597725.py:9: UserWarning: Boolean Series key will be reindexed to match DataFrame index.\n",
      "  if (len(t_sorted[((t_large['frame'] == cur_frame - step) & (t_large['particle'] == cur_p))]) != 1):\n",
      "C:\\Users\\kananovicha\\AppData\\Local\\Temp\\ipykernel_26404\\4010597725.py:9: UserWarning: Boolean Series key will be reindexed to match DataFrame index.\n",
      "  if (len(t_sorted[((t_large['frame'] == cur_frame - step) & (t_large['particle'] == cur_p))]) != 1):\n",
      "C:\\Users\\kananovicha\\AppData\\Local\\Temp\\ipykernel_26404\\4010597725.py:9: UserWarning: Boolean Series key will be reindexed to match DataFrame index.\n",
      "  if (len(t_sorted[((t_large['frame'] == cur_frame - step) & (t_large['particle'] == cur_p))]) != 1):\n",
      "C:\\Users\\kananovicha\\AppData\\Local\\Temp\\ipykernel_26404\\4010597725.py:9: UserWarning: Boolean Series key will be reindexed to match DataFrame index.\n",
      "  if (len(t_sorted[((t_large['frame'] == cur_frame - step) & (t_large['particle'] == cur_p))]) != 1):\n",
      "C:\\Users\\kananovicha\\AppData\\Local\\Temp\\ipykernel_26404\\4010597725.py:9: UserWarning: Boolean Series key will be reindexed to match DataFrame index.\n",
      "  if (len(t_sorted[((t_large['frame'] == cur_frame - step) & (t_large['particle'] == cur_p))]) != 1):\n",
      "C:\\Users\\kananovicha\\AppData\\Local\\Temp\\ipykernel_26404\\4010597725.py:9: UserWarning: Boolean Series key will be reindexed to match DataFrame index.\n",
      "  if (len(t_sorted[((t_large['frame'] == cur_frame - step) & (t_large['particle'] == cur_p))]) != 1):\n",
      "C:\\Users\\kananovicha\\AppData\\Local\\Temp\\ipykernel_26404\\4010597725.py:9: UserWarning: Boolean Series key will be reindexed to match DataFrame index.\n",
      "  if (len(t_sorted[((t_large['frame'] == cur_frame - step) & (t_large['particle'] == cur_p))]) != 1):\n",
      "C:\\Users\\kananovicha\\AppData\\Local\\Temp\\ipykernel_26404\\4010597725.py:9: UserWarning: Boolean Series key will be reindexed to match DataFrame index.\n",
      "  if (len(t_sorted[((t_large['frame'] == cur_frame - step) & (t_large['particle'] == cur_p))]) != 1):\n",
      "C:\\Users\\kananovicha\\AppData\\Local\\Temp\\ipykernel_26404\\4010597725.py:9: UserWarning: Boolean Series key will be reindexed to match DataFrame index.\n",
      "  if (len(t_sorted[((t_large['frame'] == cur_frame - step) & (t_large['particle'] == cur_p))]) != 1):\n",
      "C:\\Users\\kananovicha\\AppData\\Local\\Temp\\ipykernel_26404\\4010597725.py:9: UserWarning: Boolean Series key will be reindexed to match DataFrame index.\n",
      "  if (len(t_sorted[((t_large['frame'] == cur_frame - step) & (t_large['particle'] == cur_p))]) != 1):\n",
      "C:\\Users\\kananovicha\\AppData\\Local\\Temp\\ipykernel_26404\\4010597725.py:9: UserWarning: Boolean Series key will be reindexed to match DataFrame index.\n",
      "  if (len(t_sorted[((t_large['frame'] == cur_frame - step) & (t_large['particle'] == cur_p))]) != 1):\n",
      "C:\\Users\\kananovicha\\AppData\\Local\\Temp\\ipykernel_26404\\4010597725.py:9: UserWarning: Boolean Series key will be reindexed to match DataFrame index.\n",
      "  if (len(t_sorted[((t_large['frame'] == cur_frame - step) & (t_large['particle'] == cur_p))]) != 1):\n",
      "C:\\Users\\kananovicha\\AppData\\Local\\Temp\\ipykernel_26404\\4010597725.py:9: UserWarning: Boolean Series key will be reindexed to match DataFrame index.\n",
      "  if (len(t_sorted[((t_large['frame'] == cur_frame - step) & (t_large['particle'] == cur_p))]) != 1):\n",
      "C:\\Users\\kananovicha\\AppData\\Local\\Temp\\ipykernel_26404\\4010597725.py:9: UserWarning: Boolean Series key will be reindexed to match DataFrame index.\n",
      "  if (len(t_sorted[((t_large['frame'] == cur_frame - step) & (t_large['particle'] == cur_p))]) != 1):\n",
      "C:\\Users\\kananovicha\\AppData\\Local\\Temp\\ipykernel_26404\\4010597725.py:9: UserWarning: Boolean Series key will be reindexed to match DataFrame index.\n",
      "  if (len(t_sorted[((t_large['frame'] == cur_frame - step) & (t_large['particle'] == cur_p))]) != 1):\n",
      "C:\\Users\\kananovicha\\AppData\\Local\\Temp\\ipykernel_26404\\4010597725.py:9: UserWarning: Boolean Series key will be reindexed to match DataFrame index.\n",
      "  if (len(t_sorted[((t_large['frame'] == cur_frame - step) & (t_large['particle'] == cur_p))]) != 1):\n",
      "C:\\Users\\kananovicha\\AppData\\Local\\Temp\\ipykernel_26404\\4010597725.py:9: UserWarning: Boolean Series key will be reindexed to match DataFrame index.\n",
      "  if (len(t_sorted[((t_large['frame'] == cur_frame - step) & (t_large['particle'] == cur_p))]) != 1):\n",
      "C:\\Users\\kananovicha\\AppData\\Local\\Temp\\ipykernel_26404\\4010597725.py:9: UserWarning: Boolean Series key will be reindexed to match DataFrame index.\n",
      "  if (len(t_sorted[((t_large['frame'] == cur_frame - step) & (t_large['particle'] == cur_p))]) != 1):\n",
      "C:\\Users\\kananovicha\\AppData\\Local\\Temp\\ipykernel_26404\\4010597725.py:9: UserWarning: Boolean Series key will be reindexed to match DataFrame index.\n",
      "  if (len(t_sorted[((t_large['frame'] == cur_frame - step) & (t_large['particle'] == cur_p))]) != 1):\n",
      "C:\\Users\\kananovicha\\AppData\\Local\\Temp\\ipykernel_26404\\4010597725.py:9: UserWarning: Boolean Series key will be reindexed to match DataFrame index.\n",
      "  if (len(t_sorted[((t_large['frame'] == cur_frame - step) & (t_large['particle'] == cur_p))]) != 1):\n",
      "C:\\Users\\kananovicha\\AppData\\Local\\Temp\\ipykernel_26404\\4010597725.py:9: UserWarning: Boolean Series key will be reindexed to match DataFrame index.\n",
      "  if (len(t_sorted[((t_large['frame'] == cur_frame - step) & (t_large['particle'] == cur_p))]) != 1):\n",
      "C:\\Users\\kananovicha\\AppData\\Local\\Temp\\ipykernel_26404\\4010597725.py:9: UserWarning: Boolean Series key will be reindexed to match DataFrame index.\n",
      "  if (len(t_sorted[((t_large['frame'] == cur_frame - step) & (t_large['particle'] == cur_p))]) != 1):\n",
      "C:\\Users\\kananovicha\\AppData\\Local\\Temp\\ipykernel_26404\\4010597725.py:9: UserWarning: Boolean Series key will be reindexed to match DataFrame index.\n",
      "  if (len(t_sorted[((t_large['frame'] == cur_frame - step) & (t_large['particle'] == cur_p))]) != 1):\n",
      "C:\\Users\\kananovicha\\AppData\\Local\\Temp\\ipykernel_26404\\4010597725.py:9: UserWarning: Boolean Series key will be reindexed to match DataFrame index.\n",
      "  if (len(t_sorted[((t_large['frame'] == cur_frame - step) & (t_large['particle'] == cur_p))]) != 1):\n",
      "C:\\Users\\kananovicha\\AppData\\Local\\Temp\\ipykernel_26404\\4010597725.py:9: UserWarning: Boolean Series key will be reindexed to match DataFrame index.\n",
      "  if (len(t_sorted[((t_large['frame'] == cur_frame - step) & (t_large['particle'] == cur_p))]) != 1):\n",
      "C:\\Users\\kananovicha\\AppData\\Local\\Temp\\ipykernel_26404\\4010597725.py:9: UserWarning: Boolean Series key will be reindexed to match DataFrame index.\n",
      "  if (len(t_sorted[((t_large['frame'] == cur_frame - step) & (t_large['particle'] == cur_p))]) != 1):\n",
      "C:\\Users\\kananovicha\\AppData\\Local\\Temp\\ipykernel_26404\\4010597725.py:9: UserWarning: Boolean Series key will be reindexed to match DataFrame index.\n",
      "  if (len(t_sorted[((t_large['frame'] == cur_frame - step) & (t_large['particle'] == cur_p))]) != 1):\n",
      "C:\\Users\\kananovicha\\AppData\\Local\\Temp\\ipykernel_26404\\4010597725.py:9: UserWarning: Boolean Series key will be reindexed to match DataFrame index.\n",
      "  if (len(t_sorted[((t_large['frame'] == cur_frame - step) & (t_large['particle'] == cur_p))]) != 1):\n",
      "C:\\Users\\kananovicha\\AppData\\Local\\Temp\\ipykernel_26404\\4010597725.py:9: UserWarning: Boolean Series key will be reindexed to match DataFrame index.\n",
      "  if (len(t_sorted[((t_large['frame'] == cur_frame - step) & (t_large['particle'] == cur_p))]) != 1):\n",
      "C:\\Users\\kananovicha\\AppData\\Local\\Temp\\ipykernel_26404\\4010597725.py:9: UserWarning: Boolean Series key will be reindexed to match DataFrame index.\n",
      "  if (len(t_sorted[((t_large['frame'] == cur_frame - step) & (t_large['particle'] == cur_p))]) != 1):\n",
      "C:\\Users\\kananovicha\\AppData\\Local\\Temp\\ipykernel_26404\\4010597725.py:9: UserWarning: Boolean Series key will be reindexed to match DataFrame index.\n",
      "  if (len(t_sorted[((t_large['frame'] == cur_frame - step) & (t_large['particle'] == cur_p))]) != 1):\n",
      "C:\\Users\\kananovicha\\AppData\\Local\\Temp\\ipykernel_26404\\4010597725.py:9: UserWarning: Boolean Series key will be reindexed to match DataFrame index.\n",
      "  if (len(t_sorted[((t_large['frame'] == cur_frame - step) & (t_large['particle'] == cur_p))]) != 1):\n"
     ]
    },
    {
     "name": "stderr",
     "output_type": "stream",
     "text": [
      "C:\\Users\\kananovicha\\AppData\\Local\\Temp\\ipykernel_26404\\4010597725.py:9: UserWarning: Boolean Series key will be reindexed to match DataFrame index.\n",
      "  if (len(t_sorted[((t_large['frame'] == cur_frame - step) & (t_large['particle'] == cur_p))]) != 1):\n",
      "C:\\Users\\kananovicha\\AppData\\Local\\Temp\\ipykernel_26404\\4010597725.py:9: UserWarning: Boolean Series key will be reindexed to match DataFrame index.\n",
      "  if (len(t_sorted[((t_large['frame'] == cur_frame - step) & (t_large['particle'] == cur_p))]) != 1):\n",
      "C:\\Users\\kananovicha\\AppData\\Local\\Temp\\ipykernel_26404\\4010597725.py:9: UserWarning: Boolean Series key will be reindexed to match DataFrame index.\n",
      "  if (len(t_sorted[((t_large['frame'] == cur_frame - step) & (t_large['particle'] == cur_p))]) != 1):\n",
      "C:\\Users\\kananovicha\\AppData\\Local\\Temp\\ipykernel_26404\\4010597725.py:9: UserWarning: Boolean Series key will be reindexed to match DataFrame index.\n",
      "  if (len(t_sorted[((t_large['frame'] == cur_frame - step) & (t_large['particle'] == cur_p))]) != 1):\n",
      "C:\\Users\\kananovicha\\AppData\\Local\\Temp\\ipykernel_26404\\4010597725.py:9: UserWarning: Boolean Series key will be reindexed to match DataFrame index.\n",
      "  if (len(t_sorted[((t_large['frame'] == cur_frame - step) & (t_large['particle'] == cur_p))]) != 1):\n",
      "C:\\Users\\kananovicha\\AppData\\Local\\Temp\\ipykernel_26404\\4010597725.py:9: UserWarning: Boolean Series key will be reindexed to match DataFrame index.\n",
      "  if (len(t_sorted[((t_large['frame'] == cur_frame - step) & (t_large['particle'] == cur_p))]) != 1):\n"
     ]
    },
    {
     "ename": "KeyboardInterrupt",
     "evalue": "",
     "output_type": "error",
     "traceback": [
      "\u001b[1;31m---------------------------------------------------------------------------\u001b[0m",
      "\u001b[1;31mKeyboardInterrupt\u001b[0m                         Traceback (most recent call last)",
      "Cell \u001b[1;32mIn[99], line 9\u001b[0m\n\u001b[0;32m      6\u001b[0m     old_frame \u001b[38;5;241m=\u001b[39m cur_frame\n\u001b[0;32m      8\u001b[0m \u001b[38;5;66;03m#if that particle excisted back then, we will get exactly ONE row:\u001b[39;00m\n\u001b[1;32m----> 9\u001b[0m \u001b[38;5;28;01mif\u001b[39;00m (\u001b[38;5;28mlen\u001b[39m(t_sorted[((\u001b[43mt_large\u001b[49m\u001b[43m[\u001b[49m\u001b[38;5;124;43m'\u001b[39;49m\u001b[38;5;124;43mframe\u001b[39;49m\u001b[38;5;124;43m'\u001b[39;49m\u001b[43m]\u001b[49m\u001b[43m \u001b[49m\u001b[38;5;241;43m==\u001b[39;49m\u001b[43m \u001b[49m\u001b[43mcur_frame\u001b[49m\u001b[43m \u001b[49m\u001b[38;5;241;43m-\u001b[39;49m\u001b[43m \u001b[49m\u001b[43mstep\u001b[49m) \u001b[38;5;241m&\u001b[39m (t_large[\u001b[38;5;124m'\u001b[39m\u001b[38;5;124mparticle\u001b[39m\u001b[38;5;124m'\u001b[39m] \u001b[38;5;241m==\u001b[39m cur_p))]) \u001b[38;5;241m!=\u001b[39m \u001b[38;5;241m1\u001b[39m):\n\u001b[0;32m     10\u001b[0m     t_fitered \u001b[38;5;241m=\u001b[39m t_sorted\u001b[38;5;241m.\u001b[39mdrop(t_sorted\u001b[38;5;241m.\u001b[39mindex[i])\n",
      "File \u001b[1;32mC:\\ProgramData\\anaconda3\\lib\\site-packages\\pandas\\core\\ops\\common.py:72\u001b[0m, in \u001b[0;36m_unpack_zerodim_and_defer.<locals>.new_method\u001b[1;34m(self, other)\u001b[0m\n\u001b[0;32m     68\u001b[0m             \u001b[38;5;28;01mreturn\u001b[39;00m \u001b[38;5;28mNotImplemented\u001b[39m\n\u001b[0;32m     70\u001b[0m other \u001b[38;5;241m=\u001b[39m item_from_zerodim(other)\n\u001b[1;32m---> 72\u001b[0m \u001b[38;5;28;01mreturn\u001b[39;00m \u001b[43mmethod\u001b[49m\u001b[43m(\u001b[49m\u001b[38;5;28;43mself\u001b[39;49m\u001b[43m,\u001b[49m\u001b[43m \u001b[49m\u001b[43mother\u001b[49m\u001b[43m)\u001b[49m\n",
      "File \u001b[1;32mC:\\ProgramData\\anaconda3\\lib\\site-packages\\pandas\\core\\arraylike.py:42\u001b[0m, in \u001b[0;36mOpsMixin.__eq__\u001b[1;34m(self, other)\u001b[0m\n\u001b[0;32m     40\u001b[0m \u001b[38;5;129m@unpack_zerodim_and_defer\u001b[39m(\u001b[38;5;124m\"\u001b[39m\u001b[38;5;124m__eq__\u001b[39m\u001b[38;5;124m\"\u001b[39m)\n\u001b[0;32m     41\u001b[0m \u001b[38;5;28;01mdef\u001b[39;00m \u001b[38;5;21m__eq__\u001b[39m(\u001b[38;5;28mself\u001b[39m, other):\n\u001b[1;32m---> 42\u001b[0m     \u001b[38;5;28;01mreturn\u001b[39;00m \u001b[38;5;28;43mself\u001b[39;49m\u001b[38;5;241;43m.\u001b[39;49m\u001b[43m_cmp_method\u001b[49m\u001b[43m(\u001b[49m\u001b[43mother\u001b[49m\u001b[43m,\u001b[49m\u001b[43m \u001b[49m\u001b[43moperator\u001b[49m\u001b[38;5;241;43m.\u001b[39;49m\u001b[43meq\u001b[49m\u001b[43m)\u001b[49m\n",
      "File \u001b[1;32mC:\\ProgramData\\anaconda3\\lib\\site-packages\\pandas\\core\\series.py:6243\u001b[0m, in \u001b[0;36mSeries._cmp_method\u001b[1;34m(self, other, op)\u001b[0m\n\u001b[0;32m   6240\u001b[0m rvalues \u001b[38;5;241m=\u001b[39m extract_array(other, extract_numpy\u001b[38;5;241m=\u001b[39m\u001b[38;5;28;01mTrue\u001b[39;00m, extract_range\u001b[38;5;241m=\u001b[39m\u001b[38;5;28;01mTrue\u001b[39;00m)\n\u001b[0;32m   6242\u001b[0m \u001b[38;5;28;01mwith\u001b[39;00m np\u001b[38;5;241m.\u001b[39merrstate(\u001b[38;5;28mall\u001b[39m\u001b[38;5;241m=\u001b[39m\u001b[38;5;124m\"\u001b[39m\u001b[38;5;124mignore\u001b[39m\u001b[38;5;124m\"\u001b[39m):\n\u001b[1;32m-> 6243\u001b[0m     res_values \u001b[38;5;241m=\u001b[39m \u001b[43mops\u001b[49m\u001b[38;5;241;43m.\u001b[39;49m\u001b[43mcomparison_op\u001b[49m\u001b[43m(\u001b[49m\u001b[43mlvalues\u001b[49m\u001b[43m,\u001b[49m\u001b[43m \u001b[49m\u001b[43mrvalues\u001b[49m\u001b[43m,\u001b[49m\u001b[43m \u001b[49m\u001b[43mop\u001b[49m\u001b[43m)\u001b[49m\n\u001b[0;32m   6245\u001b[0m \u001b[38;5;28;01mreturn\u001b[39;00m \u001b[38;5;28mself\u001b[39m\u001b[38;5;241m.\u001b[39m_construct_result(res_values, name\u001b[38;5;241m=\u001b[39mres_name)\n",
      "File \u001b[1;32mC:\\ProgramData\\anaconda3\\lib\\site-packages\\pandas\\core\\ops\\array_ops.py:290\u001b[0m, in \u001b[0;36mcomparison_op\u001b[1;34m(left, right, op)\u001b[0m\n\u001b[0;32m    287\u001b[0m     res_values \u001b[38;5;241m=\u001b[39m comp_method_OBJECT_ARRAY(op, lvalues, rvalues)\n\u001b[0;32m    289\u001b[0m \u001b[38;5;28;01melse\u001b[39;00m:\n\u001b[1;32m--> 290\u001b[0m     res_values \u001b[38;5;241m=\u001b[39m \u001b[43m_na_arithmetic_op\u001b[49m\u001b[43m(\u001b[49m\u001b[43mlvalues\u001b[49m\u001b[43m,\u001b[49m\u001b[43m \u001b[49m\u001b[43mrvalues\u001b[49m\u001b[43m,\u001b[49m\u001b[43m \u001b[49m\u001b[43mop\u001b[49m\u001b[43m,\u001b[49m\u001b[43m \u001b[49m\u001b[43mis_cmp\u001b[49m\u001b[38;5;241;43m=\u001b[39;49m\u001b[38;5;28;43;01mTrue\u001b[39;49;00m\u001b[43m)\u001b[49m\n\u001b[0;32m    292\u001b[0m \u001b[38;5;28;01mreturn\u001b[39;00m res_values\n",
      "File \u001b[1;32mC:\\ProgramData\\anaconda3\\lib\\site-packages\\pandas\\core\\ops\\array_ops.py:165\u001b[0m, in \u001b[0;36m_na_arithmetic_op\u001b[1;34m(left, right, op, is_cmp)\u001b[0m\n\u001b[0;32m    162\u001b[0m     func \u001b[38;5;241m=\u001b[39m partial(expressions\u001b[38;5;241m.\u001b[39mevaluate, op)\n\u001b[0;32m    164\u001b[0m \u001b[38;5;28;01mtry\u001b[39;00m:\n\u001b[1;32m--> 165\u001b[0m     result \u001b[38;5;241m=\u001b[39m \u001b[43mfunc\u001b[49m\u001b[43m(\u001b[49m\u001b[43mleft\u001b[49m\u001b[43m,\u001b[49m\u001b[43m \u001b[49m\u001b[43mright\u001b[49m\u001b[43m)\u001b[49m\n\u001b[0;32m    166\u001b[0m \u001b[38;5;28;01mexcept\u001b[39;00m \u001b[38;5;167;01mTypeError\u001b[39;00m:\n\u001b[0;32m    167\u001b[0m     \u001b[38;5;28;01mif\u001b[39;00m \u001b[38;5;129;01mnot\u001b[39;00m is_cmp \u001b[38;5;129;01mand\u001b[39;00m (is_object_dtype(left\u001b[38;5;241m.\u001b[39mdtype) \u001b[38;5;129;01mor\u001b[39;00m is_object_dtype(right)):\n\u001b[0;32m    168\u001b[0m         \u001b[38;5;66;03m# For object dtype, fallback to a masked operation (only operating\u001b[39;00m\n\u001b[0;32m    169\u001b[0m         \u001b[38;5;66;03m#  on the non-missing values)\u001b[39;00m\n\u001b[0;32m    170\u001b[0m         \u001b[38;5;66;03m# Don't do this for comparisons, as that will handle complex numbers\u001b[39;00m\n\u001b[0;32m    171\u001b[0m         \u001b[38;5;66;03m#  incorrectly, see GH#32047\u001b[39;00m\n",
      "File \u001b[1;32mC:\\ProgramData\\anaconda3\\lib\\site-packages\\pandas\\core\\computation\\expressions.py:241\u001b[0m, in \u001b[0;36mevaluate\u001b[1;34m(op, a, b, use_numexpr)\u001b[0m\n\u001b[0;32m    238\u001b[0m \u001b[38;5;28;01mif\u001b[39;00m op_str \u001b[38;5;129;01mis\u001b[39;00m \u001b[38;5;129;01mnot\u001b[39;00m \u001b[38;5;28;01mNone\u001b[39;00m:\n\u001b[0;32m    239\u001b[0m     \u001b[38;5;28;01mif\u001b[39;00m use_numexpr:\n\u001b[0;32m    240\u001b[0m         \u001b[38;5;66;03m# error: \"None\" not callable\u001b[39;00m\n\u001b[1;32m--> 241\u001b[0m         \u001b[38;5;28;01mreturn\u001b[39;00m \u001b[43m_evaluate\u001b[49m\u001b[43m(\u001b[49m\u001b[43mop\u001b[49m\u001b[43m,\u001b[49m\u001b[43m \u001b[49m\u001b[43mop_str\u001b[49m\u001b[43m,\u001b[49m\u001b[43m \u001b[49m\u001b[43ma\u001b[49m\u001b[43m,\u001b[49m\u001b[43m \u001b[49m\u001b[43mb\u001b[49m\u001b[43m)\u001b[49m  \u001b[38;5;66;03m# type: ignore[misc]\u001b[39;00m\n\u001b[0;32m    242\u001b[0m \u001b[38;5;28;01mreturn\u001b[39;00m _evaluate_standard(op, op_str, a, b)\n",
      "File \u001b[1;32mC:\\ProgramData\\anaconda3\\lib\\site-packages\\pandas\\core\\computation\\expressions.py:106\u001b[0m, in \u001b[0;36m_evaluate_numexpr\u001b[1;34m(op, op_str, a, b)\u001b[0m\n\u001b[0;32m    103\u001b[0m b_value \u001b[38;5;241m=\u001b[39m b\n\u001b[0;32m    105\u001b[0m \u001b[38;5;28;01mtry\u001b[39;00m:\n\u001b[1;32m--> 106\u001b[0m     result \u001b[38;5;241m=\u001b[39m \u001b[43mne\u001b[49m\u001b[38;5;241;43m.\u001b[39;49m\u001b[43mevaluate\u001b[49m\u001b[43m(\u001b[49m\n\u001b[0;32m    107\u001b[0m \u001b[43m        \u001b[49m\u001b[38;5;124;43mf\u001b[39;49m\u001b[38;5;124;43m\"\u001b[39;49m\u001b[38;5;124;43ma_value \u001b[39;49m\u001b[38;5;132;43;01m{\u001b[39;49;00m\u001b[43mop_str\u001b[49m\u001b[38;5;132;43;01m}\u001b[39;49;00m\u001b[38;5;124;43m b_value\u001b[39;49m\u001b[38;5;124;43m\"\u001b[39;49m\u001b[43m,\u001b[49m\n\u001b[0;32m    108\u001b[0m \u001b[43m        \u001b[49m\u001b[43mlocal_dict\u001b[49m\u001b[38;5;241;43m=\u001b[39;49m\u001b[43m{\u001b[49m\u001b[38;5;124;43m\"\u001b[39;49m\u001b[38;5;124;43ma_value\u001b[39;49m\u001b[38;5;124;43m\"\u001b[39;49m\u001b[43m:\u001b[49m\u001b[43m \u001b[49m\u001b[43ma_value\u001b[49m\u001b[43m,\u001b[49m\u001b[43m \u001b[49m\u001b[38;5;124;43m\"\u001b[39;49m\u001b[38;5;124;43mb_value\u001b[39;49m\u001b[38;5;124;43m\"\u001b[39;49m\u001b[43m:\u001b[49m\u001b[43m \u001b[49m\u001b[43mb_value\u001b[49m\u001b[43m}\u001b[49m\u001b[43m,\u001b[49m\n\u001b[0;32m    109\u001b[0m \u001b[43m        \u001b[49m\u001b[43mcasting\u001b[49m\u001b[38;5;241;43m=\u001b[39;49m\u001b[38;5;124;43m\"\u001b[39;49m\u001b[38;5;124;43msafe\u001b[39;49m\u001b[38;5;124;43m\"\u001b[39;49m\u001b[43m,\u001b[49m\n\u001b[0;32m    110\u001b[0m \u001b[43m    \u001b[49m\u001b[43m)\u001b[49m\n\u001b[0;32m    111\u001b[0m \u001b[38;5;28;01mexcept\u001b[39;00m \u001b[38;5;167;01mTypeError\u001b[39;00m:\n\u001b[0;32m    112\u001b[0m     \u001b[38;5;66;03m# numexpr raises eg for array ** array with integers\u001b[39;00m\n\u001b[0;32m    113\u001b[0m     \u001b[38;5;66;03m# (https://github.com/pydata/numexpr/issues/379)\u001b[39;00m\n\u001b[0;32m    114\u001b[0m     \u001b[38;5;28;01mpass\u001b[39;00m\n",
      "File \u001b[1;32mC:\\ProgramData\\anaconda3\\lib\\site-packages\\numexpr\\necompiler.py:835\u001b[0m, in \u001b[0;36mevaluate\u001b[1;34m(ex, local_dict, global_dict, out, order, casting, **kwargs)\u001b[0m\n\u001b[0;32m    833\u001b[0m _numexpr_last \u001b[38;5;241m=\u001b[39m \u001b[38;5;28mdict\u001b[39m(ex\u001b[38;5;241m=\u001b[39mcompiled_ex, argnames\u001b[38;5;241m=\u001b[39mnames, kwargs\u001b[38;5;241m=\u001b[39mkwargs)\n\u001b[0;32m    834\u001b[0m \u001b[38;5;28;01mwith\u001b[39;00m evaluate_lock:\n\u001b[1;32m--> 835\u001b[0m     \u001b[38;5;28;01mreturn\u001b[39;00m compiled_ex(\u001b[38;5;241m*\u001b[39marguments, \u001b[38;5;241m*\u001b[39m\u001b[38;5;241m*\u001b[39mkwargs)\n",
      "\u001b[1;31mKeyboardInterrupt\u001b[0m: "
     ]
    }
   ],
   "source": [
    "for i in range(0, len(t_sorted)):\n",
    "    cur_p = t_sorted['particle'].iloc[i]\n",
    "    cur_frame = t_sorted['frame'].iloc[i]\n",
    "    if (old_frame != cur_frame):\n",
    "        print(cur_frame)\n",
    "        old_frame = cur_frame\n",
    "    \n",
    "    #if that particle excisted back then, we will get exactly ONE row:\n",
    "    bool_var = (t_sorted[((t_large['frame'] == cur_frame - step) & (t_large['particle'] == cur_p))])\n",
    "        t_fitered = t_sorted.drop(t_sorted.index[i])\n",
    "        \n",
    "    "
   ]
  },
  {
   "cell_type": "code",
   "execution_count": 100,
   "id": "b787e12b",
   "metadata": {},
   "outputs": [
    {
     "ename": "SyntaxError",
     "evalue": "invalid syntax (2789650970.py, line 1)",
     "output_type": "error",
     "traceback": [
      "\u001b[1;36m  Cell \u001b[1;32mIn[100], line 1\u001b[1;36m\u001b[0m\n\u001b[1;33m    bool_var = (t_sorted[((t_large['frame'] == cur_frame - step) & (t_large['particle'] == cur_p))]):\u001b[0m\n\u001b[1;37m                                                                                                    ^\u001b[0m\n\u001b[1;31mSyntaxError\u001b[0m\u001b[1;31m:\u001b[0m invalid syntax\n"
     ]
    }
   ],
   "source": [
    "bool_var = (t_sorted[((t_large['frame'] == cur_frame - step) & (t_large['particle'] == cur_p))]):"
   ]
  },
  {
   "cell_type": "code",
   "execution_count": 107,
   "id": "44fa19e8",
   "metadata": {},
   "outputs": [],
   "source": [
    "bool_var = (t_large['frame'] == (cur_frame - step) & (t_large['particle'] == cur_p))"
   ]
  },
  {
   "cell_type": "code",
   "execution_count": 105,
   "id": "cdab636d",
   "metadata": {},
   "outputs": [
    {
     "data": {
      "text/plain": [
       "0           True\n",
       "1           True\n",
       "2           True\n",
       "3           True\n",
       "4           True\n",
       "           ...  \n",
       "1872186    False\n",
       "1872187    False\n",
       "1872188    False\n",
       "1872189    False\n",
       "1872190    False\n",
       "Name: frame, Length: 1872191, dtype: bool"
      ]
     },
     "execution_count": 105,
     "metadata": {},
     "output_type": "execute_result"
    }
   ],
   "source": [
    "bool_var"
   ]
  },
  {
   "cell_type": "code",
   "execution_count": 108,
   "id": "ac19d454",
   "metadata": {},
   "outputs": [
    {
     "data": {
      "text/plain": [
       "1"
      ]
     },
     "execution_count": 108,
     "metadata": {},
     "output_type": "execute_result"
    }
   ],
   "source": [
    "cur_frame - step"
   ]
  },
  {
   "cell_type": "code",
   "execution_count": 110,
   "id": "14d654b4",
   "metadata": {},
   "outputs": [
    {
     "data": {
      "text/plain": [
       "109"
      ]
     },
     "execution_count": 110,
     "metadata": {},
     "output_type": "execute_result"
    }
   ],
   "source": [
    "cur_p"
   ]
  },
  {
   "cell_type": "code",
   "execution_count": 111,
   "id": "5fb15dc3",
   "metadata": {},
   "outputs": [],
   "source": [
    "t_check = t_large[bool_var]"
   ]
  },
  {
   "cell_type": "code",
   "execution_count": 112,
   "id": "329fa36f",
   "metadata": {},
   "outputs": [
    {
     "data": {
      "text/html": [
       "<div>\n",
       "<style scoped>\n",
       "    .dataframe tbody tr th:only-of-type {\n",
       "        vertical-align: middle;\n",
       "    }\n",
       "\n",
       "    .dataframe tbody tr th {\n",
       "        vertical-align: top;\n",
       "    }\n",
       "\n",
       "    .dataframe thead th {\n",
       "        text-align: right;\n",
       "    }\n",
       "</style>\n",
       "<table border=\"1\" class=\"dataframe\">\n",
       "  <thead>\n",
       "    <tr style=\"text-align: right;\">\n",
       "      <th></th>\n",
       "      <th>Unnamed: 0</th>\n",
       "      <th>x</th>\n",
       "      <th>y</th>\n",
       "      <th>frame</th>\n",
       "      <th>particle</th>\n",
       "    </tr>\n",
       "  </thead>\n",
       "  <tbody>\n",
       "    <tr>\n",
       "      <th>109</th>\n",
       "      <td>1251</td>\n",
       "      <td>364.83839</td>\n",
       "      <td>310.59328</td>\n",
       "      <td>1</td>\n",
       "      <td>109</td>\n",
       "    </tr>\n",
       "  </tbody>\n",
       "</table>\n",
       "</div>"
      ],
      "text/plain": [
       "     Unnamed: 0          x          y  frame  particle\n",
       "109        1251  364.83839  310.59328      1       109"
      ]
     },
     "execution_count": 112,
     "metadata": {},
     "output_type": "execute_result"
    }
   ],
   "source": [
    "t_check.head()"
   ]
  },
  {
   "cell_type": "code",
   "execution_count": 115,
   "id": "5118ddb9",
   "metadata": {},
   "outputs": [
    {
     "data": {
      "text/plain": [
       "False"
      ]
     },
     "execution_count": 115,
     "metadata": {},
     "output_type": "execute_result"
    }
   ],
   "source": [
    "bool_var[110]"
   ]
  },
  {
   "cell_type": "code",
   "execution_count": 32,
   "id": "b7e6d7d0",
   "metadata": {},
   "outputs": [],
   "source": [
    "valid_particles = np.unique(t_large[['particle', 'frame']].values - np.array([0, step]), axis=0)"
   ]
  },
  {
   "cell_type": "code",
   "execution_count": 33,
   "id": "f576f47f",
   "metadata": {},
   "outputs": [
    {
     "data": {
      "text/plain": [
       "1872191"
      ]
     },
     "execution_count": 33,
     "metadata": {},
     "output_type": "execute_result"
    }
   ],
   "source": [
    "len(valid_particles)"
   ]
  },
  {
   "cell_type": "code",
   "execution_count": 34,
   "id": "bf111fca",
   "metadata": {},
   "outputs": [],
   "source": [
    "particle_time = t_sorted[['particle', 'frame']].values"
   ]
  },
  {
   "cell_type": "code",
   "execution_count": 35,
   "id": "14b92cbf",
   "metadata": {},
   "outputs": [
    {
     "data": {
      "text/plain": [
       "1817475"
      ]
     },
     "execution_count": 35,
     "metadata": {},
     "output_type": "execute_result"
    }
   ],
   "source": [
    "len(particle_time)"
   ]
  },
  {
   "cell_type": "code",
   "execution_count": 36,
   "id": "ea3b001e",
   "metadata": {},
   "outputs": [],
   "source": [
    "mask = np.isin(particle_time, valid_particles).all(axis=1)"
   ]
  },
  {
   "cell_type": "code",
   "execution_count": 37,
   "id": "481c69b3",
   "metadata": {},
   "outputs": [
    {
     "data": {
      "text/plain": [
       "1817475"
      ]
     },
     "execution_count": 37,
     "metadata": {},
     "output_type": "execute_result"
    }
   ],
   "source": [
    "len(mask)"
   ]
  },
  {
   "cell_type": "code",
   "execution_count": 38,
   "id": "a88cc40e",
   "metadata": {},
   "outputs": [],
   "source": [
    "t_ultimate = t_sorted[mask]"
   ]
  },
  {
   "cell_type": "code",
   "execution_count": 39,
   "id": "6ab7548e",
   "metadata": {},
   "outputs": [
    {
     "data": {
      "text/plain": [
       "1817475"
      ]
     },
     "execution_count": 39,
     "metadata": {},
     "output_type": "execute_result"
    }
   ],
   "source": [
    "len(t_ultimate)"
   ]
  },
  {
   "cell_type": "code",
   "execution_count": 40,
   "id": "882f6b37",
   "metadata": {},
   "outputs": [
    {
     "data": {
      "text/html": [
       "<div>\n",
       "<style scoped>\n",
       "    .dataframe tbody tr th:only-of-type {\n",
       "        vertical-align: middle;\n",
       "    }\n",
       "\n",
       "    .dataframe tbody tr th {\n",
       "        vertical-align: top;\n",
       "    }\n",
       "\n",
       "    .dataframe thead th {\n",
       "        text-align: right;\n",
       "    }\n",
       "</style>\n",
       "<table border=\"1\" class=\"dataframe\">\n",
       "  <thead>\n",
       "    <tr style=\"text-align: right;\">\n",
       "      <th></th>\n",
       "      <th>x</th>\n",
       "      <th>y</th>\n",
       "      <th>frame</th>\n",
       "      <th>particle</th>\n",
       "      <th>vx</th>\n",
       "      <th>vy</th>\n",
       "    </tr>\n",
       "  </thead>\n",
       "  <tbody>\n",
       "    <tr>\n",
       "      <th>467376</th>\n",
       "      <td>657.38018</td>\n",
       "      <td>335.68433</td>\n",
       "      <td>242</td>\n",
       "      <td>124</td>\n",
       "      <td>-0.0945</td>\n",
       "      <td>-2.15111</td>\n",
       "    </tr>\n",
       "  </tbody>\n",
       "</table>\n",
       "</div>"
      ],
      "text/plain": [
       "                x          y  frame  particle      vx       vy\n",
       "467376  657.38018  335.68433    242       124 -0.0945 -2.15111"
      ]
     },
     "execution_count": 40,
     "metadata": {},
     "output_type": "execute_result"
    }
   ],
   "source": [
    "get_suku = t_ultimate[(t_ultimate['particle'] == 124) & (t_ultimate['frame'] == 242)]\n",
    "get_suku.head()"
   ]
  },
  {
   "cell_type": "code",
   "execution_count": 43,
   "id": "4176a663",
   "metadata": {},
   "outputs": [
    {
     "data": {
      "text/html": [
       "<div>\n",
       "<style scoped>\n",
       "    .dataframe tbody tr th:only-of-type {\n",
       "        vertical-align: middle;\n",
       "    }\n",
       "\n",
       "    .dataframe tbody tr th {\n",
       "        vertical-align: top;\n",
       "    }\n",
       "\n",
       "    .dataframe thead th {\n",
       "        text-align: right;\n",
       "    }\n",
       "</style>\n",
       "<table border=\"1\" class=\"dataframe\">\n",
       "  <thead>\n",
       "    <tr style=\"text-align: right;\">\n",
       "      <th></th>\n",
       "      <th>Unnamed: 0</th>\n",
       "      <th>x</th>\n",
       "      <th>y</th>\n",
       "      <th>frame</th>\n",
       "      <th>particle</th>\n",
       "    </tr>\n",
       "  </thead>\n",
       "  <tbody>\n",
       "    <tr>\n",
       "      <th>417024</th>\n",
       "      <td>418178</td>\n",
       "      <td>657.47468</td>\n",
       "      <td>337.83544</td>\n",
       "      <td>216</td>\n",
       "      <td>124</td>\n",
       "    </tr>\n",
       "  </tbody>\n",
       "</table>\n",
       "</div>"
      ],
      "text/plain": [
       "        Unnamed: 0          x          y  frame  particle\n",
       "417024      418178  657.47468  337.83544    216       124"
      ]
     },
     "execution_count": 43,
     "metadata": {},
     "output_type": "execute_result"
    }
   ],
   "source": [
    "get_suku_prev = t_large[(t_large['particle'] == 124) & (t_large['frame'] == (216))]\n",
    "get_suku_prev.head()"
   ]
  },
  {
   "cell_type": "code",
   "execution_count": null,
   "id": "7df09cca",
   "metadata": {},
   "outputs": [],
   "source": []
  }
 ],
 "metadata": {
  "kernelspec": {
   "display_name": "Python 3 (ipykernel)",
   "language": "python",
   "name": "python3"
  },
  "language_info": {
   "codemirror_mode": {
    "name": "ipython",
    "version": 3
   },
   "file_extension": ".py",
   "mimetype": "text/x-python",
   "name": "python",
   "nbconvert_exporter": "python",
   "pygments_lexer": "ipython3",
   "version": "3.10.9"
  }
 },
 "nbformat": 4,
 "nbformat_minor": 5
}
