{
 "cells": [
  {
   "cell_type": "markdown",
   "id": "70203c2c",
   "metadata": {},
   "source": [
    "# Checking the Velocity Distribution\n",
    "## particles coordinates obtained from imageJ"
   ]
  },
  {
   "cell_type": "code",
   "execution_count": 30,
   "id": "a943ddeb",
   "metadata": {},
   "outputs": [],
   "source": [
    "import numpy as np\n",
    "import matplotlib.pyplot as plt\n",
    "import trackpy as tp\n",
    "import pandas as pd\n",
    "import os\n",
    "from scipy.interpolate import interp1d\n",
    "from scipy.optimize import curve_fit\n",
    "import scipy.stats as sts\n",
    "import scipy.constants as constants"
   ]
  },
  {
   "cell_type": "code",
   "execution_count": 2,
   "id": "67ad0149",
   "metadata": {},
   "outputs": [],
   "source": [
    "folderPath = r'g:\\My Drive\\workAppState\\prj_shocks\\expData\\data20230530velDistribTest_ImageJ_Connor'"
   ]
  },
  {
   "cell_type": "code",
   "execution_count": 3,
   "id": "0aa9b3a5",
   "metadata": {},
   "outputs": [],
   "source": [
    "inputsPath = folderPath + r'\\inputs'\n",
    "infilename = r'\\360v_1mA_9sccm_91mtorr'"
   ]
  },
  {
   "cell_type": "code",
   "execution_count": 4,
   "id": "5f4946bb",
   "metadata": {},
   "outputs": [],
   "source": [
    "colnames=['x','y','frame']\n",
    "indf = pd.read_csv(inputsPath + infilename  + r'.csv', usecols=[3,4,8],names=colnames, skiprows=1)\n"
   ]
  },
  {
   "cell_type": "code",
   "execution_count": 5,
   "id": "488bee0b",
   "metadata": {},
   "outputs": [
    {
     "data": {
      "text/html": [
       "<div>\n",
       "<style scoped>\n",
       "    .dataframe tbody tr th:only-of-type {\n",
       "        vertical-align: middle;\n",
       "    }\n",
       "\n",
       "    .dataframe tbody tr th {\n",
       "        vertical-align: top;\n",
       "    }\n",
       "\n",
       "    .dataframe thead th {\n",
       "        text-align: right;\n",
       "    }\n",
       "</style>\n",
       "<table border=\"1\" class=\"dataframe\">\n",
       "  <thead>\n",
       "    <tr style=\"text-align: right;\">\n",
       "      <th></th>\n",
       "      <th>x</th>\n",
       "      <th>y</th>\n",
       "      <th>frame</th>\n",
       "    </tr>\n",
       "  </thead>\n",
       "  <tbody>\n",
       "    <tr>\n",
       "      <th>0</th>\n",
       "      <td>345.78586</td>\n",
       "      <td>13.41291</td>\n",
       "      <td>1</td>\n",
       "    </tr>\n",
       "    <tr>\n",
       "      <th>1</th>\n",
       "      <td>306.32614</td>\n",
       "      <td>14.01396</td>\n",
       "      <td>1</td>\n",
       "    </tr>\n",
       "    <tr>\n",
       "      <th>2</th>\n",
       "      <td>332.94084</td>\n",
       "      <td>13.89708</td>\n",
       "      <td>1</td>\n",
       "    </tr>\n",
       "    <tr>\n",
       "      <th>3</th>\n",
       "      <td>319.62251</td>\n",
       "      <td>14.91738</td>\n",
       "      <td>1</td>\n",
       "    </tr>\n",
       "    <tr>\n",
       "      <th>4</th>\n",
       "      <td>371.09624</td>\n",
       "      <td>14.78872</td>\n",
       "      <td>1</td>\n",
       "    </tr>\n",
       "  </tbody>\n",
       "</table>\n",
       "</div>"
      ],
      "text/plain": [
       "           x         y  frame\n",
       "0  345.78586  13.41291      1\n",
       "1  306.32614  14.01396      1\n",
       "2  332.94084  13.89708      1\n",
       "3  319.62251  14.91738      1\n",
       "4  371.09624  14.78872      1"
      ]
     },
     "execution_count": 5,
     "metadata": {},
     "output_type": "execute_result"
    }
   ],
   "source": [
    "indf.head()"
   ]
  },
  {
   "cell_type": "code",
   "execution_count": 6,
   "id": "7c6d6878",
   "metadata": {},
   "outputs": [
    {
     "data": {
      "text/html": [
       "<div>\n",
       "<style scoped>\n",
       "    .dataframe tbody tr th:only-of-type {\n",
       "        vertical-align: middle;\n",
       "    }\n",
       "\n",
       "    .dataframe tbody tr th {\n",
       "        vertical-align: top;\n",
       "    }\n",
       "\n",
       "    .dataframe thead th {\n",
       "        text-align: right;\n",
       "    }\n",
       "</style>\n",
       "<table border=\"1\" class=\"dataframe\">\n",
       "  <thead>\n",
       "    <tr style=\"text-align: right;\">\n",
       "      <th></th>\n",
       "      <th>Unnamed: 0</th>\n",
       "      <th>x</th>\n",
       "      <th>y</th>\n",
       "      <th>frame</th>\n",
       "      <th>particle</th>\n",
       "    </tr>\n",
       "  </thead>\n",
       "  <tbody>\n",
       "    <tr>\n",
       "      <th>0</th>\n",
       "      <td>0</td>\n",
       "      <td>345.78586</td>\n",
       "      <td>13.41291</td>\n",
       "      <td>1</td>\n",
       "      <td>0</td>\n",
       "    </tr>\n",
       "    <tr>\n",
       "      <th>1</th>\n",
       "      <td>1299</td>\n",
       "      <td>563.45040</td>\n",
       "      <td>319.49206</td>\n",
       "      <td>1</td>\n",
       "      <td>1</td>\n",
       "    </tr>\n",
       "    <tr>\n",
       "      <th>2</th>\n",
       "      <td>1298</td>\n",
       "      <td>513.90593</td>\n",
       "      <td>319.84384</td>\n",
       "      <td>1</td>\n",
       "      <td>2</td>\n",
       "    </tr>\n",
       "    <tr>\n",
       "      <th>3</th>\n",
       "      <td>1297</td>\n",
       "      <td>284.83552</td>\n",
       "      <td>319.66066</td>\n",
       "      <td>1</td>\n",
       "      <td>3</td>\n",
       "    </tr>\n",
       "    <tr>\n",
       "      <th>4</th>\n",
       "      <td>1296</td>\n",
       "      <td>206.13283</td>\n",
       "      <td>319.97588</td>\n",
       "      <td>1</td>\n",
       "      <td>4</td>\n",
       "    </tr>\n",
       "    <tr>\n",
       "      <th>...</th>\n",
       "      <td>...</td>\n",
       "      <td>...</td>\n",
       "      <td>...</td>\n",
       "      <td>...</td>\n",
       "      <td>...</td>\n",
       "    </tr>\n",
       "    <tr>\n",
       "      <th>1872186</th>\n",
       "      <td>1870898</td>\n",
       "      <td>210.52854</td>\n",
       "      <td>191.02396</td>\n",
       "      <td>968</td>\n",
       "      <td>1920</td>\n",
       "    </tr>\n",
       "    <tr>\n",
       "      <th>1872187</th>\n",
       "      <td>1870897</td>\n",
       "      <td>612.83741</td>\n",
       "      <td>188.58557</td>\n",
       "      <td>968</td>\n",
       "      <td>1541</td>\n",
       "    </tr>\n",
       "    <tr>\n",
       "      <th>1872188</th>\n",
       "      <td>1870896</td>\n",
       "      <td>494.81270</td>\n",
       "      <td>189.19780</td>\n",
       "      <td>968</td>\n",
       "      <td>1895</td>\n",
       "    </tr>\n",
       "    <tr>\n",
       "      <th>1872189</th>\n",
       "      <td>1870864</td>\n",
       "      <td>114.40066</td>\n",
       "      <td>184.15846</td>\n",
       "      <td>968</td>\n",
       "      <td>1864</td>\n",
       "    </tr>\n",
       "    <tr>\n",
       "      <th>1872190</th>\n",
       "      <td>1872190</td>\n",
       "      <td>233.29747</td>\n",
       "      <td>493.80802</td>\n",
       "      <td>968</td>\n",
       "      <td>638</td>\n",
       "    </tr>\n",
       "  </tbody>\n",
       "</table>\n",
       "<p>1872191 rows × 5 columns</p>\n",
       "</div>"
      ],
      "text/plain": [
       "         Unnamed: 0          x          y  frame  particle\n",
       "0                 0  345.78586   13.41291      1         0\n",
       "1              1299  563.45040  319.49206      1         1\n",
       "2              1298  513.90593  319.84384      1         2\n",
       "3              1297  284.83552  319.66066      1         3\n",
       "4              1296  206.13283  319.97588      1         4\n",
       "...             ...        ...        ...    ...       ...\n",
       "1872186     1870898  210.52854  191.02396    968      1920\n",
       "1872187     1870897  612.83741  188.58557    968      1541\n",
       "1872188     1870896  494.81270  189.19780    968      1895\n",
       "1872189     1870864  114.40066  184.15846    968      1864\n",
       "1872190     1872190  233.29747  493.80802    968       638\n",
       "\n",
       "[1872191 rows x 5 columns]"
      ]
     },
     "execution_count": 6,
     "metadata": {},
     "output_type": "execute_result"
    }
   ],
   "source": [
    "tracked_csv_dir = folderPath + r'\\outputs' + r'\\tracked' \n",
    "tracked_csv_filepath = tracked_csv_dir + infilename + r'_tracked.csv'\n",
    "if not os.path.exists(tracked_csv_dir):\n",
    "    os.makedirs(tracked_csv_dir)\n",
    "    t_large = tp.link(indf,3,memory=1)\n",
    "    t_large.to_csv(tracked_csv_filepath)    \n",
    "else:\n",
    "    t_large = pd.read_csv(tracked_csv_filepath)\n",
    "t_large\n"
   ]
  },
  {
   "cell_type": "code",
   "execution_count": 7,
   "id": "e354958f",
   "metadata": {},
   "outputs": [],
   "source": [
    "#function get_velocities(df, step) calculates velocites of particles\n",
    "# with a given step step.\n",
    "def get_velocities(df, step):\n",
    "#initialize empy arrays to store data:\n",
    "    arr_particle = np.array([])\n",
    "    arr_x = np.array([])\n",
    "    arr_y = np.array([])\n",
    "    arr_vx = np.array([])\n",
    "    arr_vy = np.array([])\n",
    "    arr_frame = np.array([])\n",
    "    # get an array containing all frame numbers in the input dataframe:\n",
    "    frames_listing = np.unique(np.array(df['frame']))\n",
    "    #cycle throught all those frames:\n",
    "    for iFrame in range(step, len(frames_listing)):\n",
    "        #get current frame:\n",
    "        cur_frame = frames_listing[iFrame]\n",
    "        #select a dataframe containing data ONLY for that frame:\n",
    "        df_front_frame = df[(df['frame'] == cur_frame)]\n",
    "        print(iFrame)\n",
    "        #cycle throught all particles in the frame and find their velocities as\n",
    "        # position of the particle in that frame minus position of the same particles\n",
    "        # step frames ago:\n",
    "        for i in range(0, len(df_front_frame)):\n",
    "            #take i-th particle in a frame\n",
    "            cur_p = df_front_frame['particle'].iloc[i]\n",
    "            cur_x = df_front_frame['x'].iloc[i]\n",
    "            cur_y = df_front_frame['y'].iloc[i]\n",
    "            #find a row with the same particle in a frame step frames ago:\n",
    "            prev_frame_cur_row = df[((df['frame'] == cur_frame - step) & (df['particle'] == cur_p))]\n",
    "            #if that particle excisted back then, we will get exactly ONE row:\n",
    "            if (len(prev_frame_cur_row) == 1):\n",
    "                #if this row exists, we can take position of that particle in that, previous, frame:\n",
    "                prev_x = prev_frame_cur_row['x'].iloc[0]\n",
    "                prev_y = prev_frame_cur_row['y'].iloc[0]\n",
    "                # so we can calculate velocities:\n",
    "                cur_vx = cur_x - prev_x\n",
    "                cur_vy = cur_y - prev_y\n",
    "                cur_particle = df_front_frame['particle'].iloc[i]\n",
    "                #and append all parameters of that particle to our data arrays\n",
    "                arr_vx = np.append(arr_vx, cur_vx)\n",
    "                arr_vy = np.append(arr_vy, cur_vy)\n",
    "                arr_particle = np.append(arr_particle, cur_particle)\n",
    "                arr_x = np.append(arr_x, cur_x)\n",
    "                arr_y = np.append(arr_y, cur_y)\n",
    "                arr_frame = np.append(arr_frame, cur_frame)\n",
    "    #save output as a dataframe containing all the info we need:\n",
    "    data = {'frame':arr_frame, 'particle':arr_particle, 'x': arr_x, 'y': arr_y, 'vx': arr_vx, 'vy':arr_vy}\n",
    "    ret_df = pd.DataFrame(data)\n",
    "                \n",
    "    return ret_df"
   ]
  },
  {
   "cell_type": "code",
   "execution_count": 8,
   "id": "4df54c71",
   "metadata": {},
   "outputs": [],
   "source": [
    "# function get_velocities_fast(df, step) does the same thing as\n",
    "# get_velocities(df, step), but very fast (by avoiding cycles and append())"
   ]
  },
  {
   "cell_type": "code",
   "execution_count": 9,
   "id": "3d32dc96",
   "metadata": {},
   "outputs": [],
   "source": [
    "def get_velocities_fast(df, step):\n",
    "    df_sorted = df.sort_values(by = ['particle', 'frame'])\n",
    "    grouped = df_sorted.groupby('particle')\n",
    "    df_sorted['vx'] = grouped['x'].diff(periods = step)\n",
    "    df_sorted['vy'] = grouped['y'].diff(periods = step)\n",
    "    df_sorted = df_sorted.dropna()\n",
    "    df_sorted = df_sorted.sort_values(by = ['frame', 'particle'])    \n",
    "    return df_sorted"
   ]
  },
  {
   "cell_type": "markdown",
   "id": "5bc6dc78",
   "metadata": {},
   "source": [
    "## Getting the Temperature Profiles"
   ]
  },
  {
   "cell_type": "markdown",
   "id": "b37eb902",
   "metadata": {},
   "source": [
    "#### constants:"
   ]
  },
  {
   "cell_type": "code",
   "execution_count": 10,
   "id": "06d2cb52",
   "metadata": {},
   "outputs": [],
   "source": [
    "step = 1 # number of frames between the frames for calculating velocities\n",
    "dust_mass = 4.0 / 3.0 * np.pi * (7.14E-6 / 2.0)**3 * 1510.0 #mass of the dust particles\n",
    "N_points = 15 # number of points in the temperature profile\n",
    "rate_for_vel = 99.0 / step # frequency for calculating particle speeds\n",
    "mm_per_px = 1.0/40.3 # camera resolution\n",
    "N_bins = 100\n",
    "left_bins_border = -3.0\n",
    "right_bins_border = 3.0"
   ]
  },
  {
   "cell_type": "markdown",
   "id": "8786570d",
   "metadata": {},
   "source": [
    "#### first, get velocities. May take some time:\n",
    "#### Velocities obtained with step = 1:"
   ]
  },
  {
   "cell_type": "code",
   "execution_count": 11,
   "id": "070f49b5",
   "metadata": {},
   "outputs": [
    {
     "data": {
      "text/html": [
       "<div>\n",
       "<style scoped>\n",
       "    .dataframe tbody tr th:only-of-type {\n",
       "        vertical-align: middle;\n",
       "    }\n",
       "\n",
       "    .dataframe tbody tr th {\n",
       "        vertical-align: top;\n",
       "    }\n",
       "\n",
       "    .dataframe thead th {\n",
       "        text-align: right;\n",
       "    }\n",
       "</style>\n",
       "<table border=\"1\" class=\"dataframe\">\n",
       "  <thead>\n",
       "    <tr style=\"text-align: right;\">\n",
       "      <th></th>\n",
       "      <th>Unnamed: 0</th>\n",
       "      <th>frame</th>\n",
       "      <th>particle</th>\n",
       "      <th>x</th>\n",
       "      <th>y</th>\n",
       "      <th>vx</th>\n",
       "      <th>vy</th>\n",
       "    </tr>\n",
       "  </thead>\n",
       "  <tbody>\n",
       "    <tr>\n",
       "      <th>0</th>\n",
       "      <td>0</td>\n",
       "      <td>2.0</td>\n",
       "      <td>9.0</td>\n",
       "      <td>250.48543</td>\n",
       "      <td>318.43861</td>\n",
       "      <td>0.01522</td>\n",
       "      <td>0.17691</td>\n",
       "    </tr>\n",
       "    <tr>\n",
       "      <th>1</th>\n",
       "      <td>1</td>\n",
       "      <td>2.0</td>\n",
       "      <td>12.0</td>\n",
       "      <td>173.12657</td>\n",
       "      <td>318.39599</td>\n",
       "      <td>-0.02031</td>\n",
       "      <td>0.06335</td>\n",
       "    </tr>\n",
       "    <tr>\n",
       "      <th>2</th>\n",
       "      <td>2</td>\n",
       "      <td>2.0</td>\n",
       "      <td>11.0</td>\n",
       "      <td>390.37302</td>\n",
       "      <td>317.69753</td>\n",
       "      <td>-0.28955</td>\n",
       "      <td>0.32418</td>\n",
       "    </tr>\n",
       "    <tr>\n",
       "      <th>3</th>\n",
       "      <td>3</td>\n",
       "      <td>2.0</td>\n",
       "      <td>27.0</td>\n",
       "      <td>500.84187</td>\n",
       "      <td>316.95665</td>\n",
       "      <td>0.07655</td>\n",
       "      <td>0.05680</td>\n",
       "    </tr>\n",
       "    <tr>\n",
       "      <th>4</th>\n",
       "      <td>4</td>\n",
       "      <td>2.0</td>\n",
       "      <td>7.0</td>\n",
       "      <td>437.83949</td>\n",
       "      <td>318.62216</td>\n",
       "      <td>-0.12883</td>\n",
       "      <td>0.07270</td>\n",
       "    </tr>\n",
       "  </tbody>\n",
       "</table>\n",
       "</div>"
      ],
      "text/plain": [
       "   Unnamed: 0  frame  particle          x          y       vx       vy\n",
       "0           0    2.0       9.0  250.48543  318.43861  0.01522  0.17691\n",
       "1           1    2.0      12.0  173.12657  318.39599 -0.02031  0.06335\n",
       "2           2    2.0      11.0  390.37302  317.69753 -0.28955  0.32418\n",
       "3           3    2.0      27.0  500.84187  316.95665  0.07655  0.05680\n",
       "4           4    2.0       7.0  437.83949  318.62216 -0.12883  0.07270"
      ]
     },
     "execution_count": 11,
     "metadata": {},
     "output_type": "execute_result"
    }
   ],
   "source": [
    "vel_csv_dir = folderPath + r'\\outputs\\csvData\\velocities_step01'\n",
    "vel_csv_csv_filepath = vel_csv_dir + infilename + r'_velocities_step01.csv'\n",
    "if not os.path.exists(vel_csv_dir):\n",
    "    os.makedirs(vel_csv_dir)\n",
    "    df_vel_step01 = get_velocities(t_large, step)\n",
    "    df_vel_step01.to_csv(vel_csv_csv_filepath)    \n",
    "else:\n",
    "    df_vel_step01 = pd.read_csv(vel_csv_csv_filepath)\n",
    "df_vel_step01.head()"
   ]
  },
  {
   "cell_type": "markdown",
   "id": "5752a283",
   "metadata": {},
   "source": [
    "## Comparting FWHM Method, Direct Method and Fitting method"
   ]
  },
  {
   "cell_type": "markdown",
   "id": "95d32bec",
   "metadata": {},
   "source": [
    "#### subtracting global cloud drift:"
   ]
  },
  {
   "cell_type": "code",
   "execution_count": 12,
   "id": "8e5bc78a",
   "metadata": {},
   "outputs": [],
   "source": [
    "meanVx = np.mean(df_vel_step01['vx'])\n",
    "meanVy = np.mean(df_vel_step01['vy'])\n",
    "arr_vx_noDrift = np.array(df_vel_step01['vx']) - meanVx\n",
    "arr_vy_noDrift = np.array(df_vel_step01['vy']) - meanVy"
   ]
  },
  {
   "cell_type": "markdown",
   "id": "c5ad2a0c",
   "metadata": {},
   "source": [
    "##### calculating histogram"
   ]
  },
  {
   "cell_type": "code",
   "execution_count": 13,
   "id": "1016aab2",
   "metadata": {},
   "outputs": [],
   "source": [
    "my_bins = np.linspace(left_bins_border, right_bins_border, N_bins)\n",
    "total_vx_samples = len(arr_vx_noDrift)\n",
    "counts_x, bins_x = np.histogram(arr_vx_noDrift, bins = my_bins)\n",
    "arr_bins_x_centers = 0.5 * (bins_x[1:] + bins_x[:-1]) # array of the bin centers\n",
    "bin_wid = np.abs(arr_bins_x_centers[1] - arr_bins_x_centers[0])\n",
    "arr_vx_freqs = counts_x / total_vx_samples / bin_wid # histogram frequencies"
   ]
  },
  {
   "cell_type": "code",
   "execution_count": 14,
   "id": "d726e4b4",
   "metadata": {},
   "outputs": [
    {
     "data": {
      "text/plain": [
       "(-1.0, 1.0)"
      ]
     },
     "execution_count": 14,
     "metadata": {},
     "output_type": "execute_result"
    },
    {
     "data": {
      "image/png": "[encoded data removed]",
      "text/plain": [
       "<Figure size 640x480 with 1 Axes>"
      ]
     },
     "metadata": {},
     "output_type": "display_data"
    }
   ],
   "source": [
    "#plotting the histogram\n",
    "fig_hist_x, ax_hist_x = plt.subplots()\n",
    "ax_hist_x.bar(arr_bins_x_centers, arr_vx_freqs, width = bin_wid)\n",
    "ax_hist_x.set_xlim([-1, 1])"
   ]
  },
  {
   "cell_type": "markdown",
   "id": "34cdff78",
   "metadata": {},
   "source": [
    "#### Since the datapoints are sparse, do a cubic splines interpolation:"
   ]
  },
  {
   "cell_type": "code",
   "execution_count": 15,
   "id": "eb27c48a",
   "metadata": {},
   "outputs": [],
   "source": [
    "# ten times more dense bins:\n",
    "arr_bins_dense = np.linspace(np.min(arr_bins_x_centers), np.max(arr_bins_x_centers), num = N_bins * 10)\n",
    "#interpolating function made of cubic splines:\n",
    "fx = interp1d(arr_bins_x_centers, arr_vx_freqs, kind = 'cubic')\n",
    "#interpolate the data:\n",
    "arr_f_x_interp = fx(arr_bins_dense)\n",
    "#plot\n",
    "#ax_hist_x.plot(arr_bins_dense, arr_f_x_interp, color = 'red', label = 'cubic spline interpolation')\n",
    "#fig_hist_x"
   ]
  },
  {
   "cell_type": "markdown",
   "id": "0560e852",
   "metadata": {},
   "source": [
    "#### FWHM method:"
   ]
  },
  {
   "cell_type": "code",
   "execution_count": 16,
   "id": "5df4e6e8",
   "metadata": {},
   "outputs": [
    {
     "data": {
      "text/plain": [
       "0.13674280340946998"
      ]
     },
     "execution_count": 16,
     "metadata": {},
     "output_type": "execute_result"
    }
   ],
   "source": [
    "f_vx_halfmax = np.max(arr_f_x_interp) / 2.0 #calculate the halfmaximum of the interpolated data\n",
    "#find all x-values corresponding to y-valies laying ABOVE the halfmaximum\n",
    "arr_vx_above_halfmax = arr_bins_dense[(arr_f_x_interp > f_vx_halfmax)]\n",
    "#minimum of the x-values will be the left boundary\n",
    "left_bound_vx = np.min(arr_vx_above_halfmax)\n",
    "# maximum is the right boundary\n",
    "right_bound_vx = np.max(arr_vx_above_halfmax)\n",
    "#FWHM is rgith boundary minus left boundary\n",
    "FWHM_vx = right_bound_vx - left_bound_vx\n",
    "FWHM_vx"
   ]
  },
  {
   "cell_type": "code",
   "execution_count": 17,
   "id": "2bff419c",
   "metadata": {},
   "outputs": [
    {
     "data": {
      "text/plain": [
       "0.05806932198408086"
      ]
     },
     "execution_count": 17,
     "metadata": {},
     "output_type": "execute_result"
    }
   ],
   "source": [
    "sigma_vx_fromFWHM = FWHM_vx / 2.0 / np.sqrt(2 * np.log(2))\n",
    "sigma_vx_fromFWHM"
   ]
  },
  {
   "cell_type": "code",
   "execution_count": 19,
   "id": "5ac6a90a",
   "metadata": {
    "scrolled": true
   },
   "outputs": [
    {
     "data": {
      "image/png": "[encoded data removed]",
      "text/plain": [
       "<Figure size 640x480 with 1 Axes>"
      ]
     },
     "execution_count": 19,
     "metadata": {},
     "output_type": "execute_result"
    }
   ],
   "source": [
    "ax_hist_x.plot(arr_bins_dense, 1 / np.sqrt(2 * np.pi) / sigma_vx_fromFWHM * np.exp(-(0 - arr_bins_dense)**2 / 2 / sigma_vx_fromFWHM**2), color = 'orange',\n",
    "        label = r'Gaussian from FWHM')\n",
    "legend = ax_hist_x.legend()\n",
    "fig_hist_x"
   ]
  },
  {
   "cell_type": "markdown",
   "id": "a3e7af7d",
   "metadata": {},
   "source": [
    "#### Direct Method:"
   ]
  },
  {
   "cell_type": "code",
   "execution_count": 20,
   "id": "8db07ee3",
   "metadata": {},
   "outputs": [
    {
     "data": {
      "text/plain": [
       "-9.166305561330021e-19"
      ]
     },
     "execution_count": 20,
     "metadata": {},
     "output_type": "execute_result"
    }
   ],
   "source": [
    "sigma_vx = np.std(arr_vx_noDrift)\n",
    "sigma_vx\n",
    "mu_vx = np.mean(arr_vx_noDrift)\n",
    "mu_vx"
   ]
  },
  {
   "cell_type": "code",
   "execution_count": 21,
   "id": "60045c37",
   "metadata": {},
   "outputs": [],
   "source": [
    "ax_hist_x.plot(arr_bins_dense, 1 / np.sqrt(2 * np.pi) / sigma_vx * np.exp(-(mu_vx - arr_bins_dense)**2 / 2 / sigma_vx**2), color = 'black',\n",
    "        label = r'direct method Gaussian')\n",
    "legend = ax_hist_x.legend()"
   ]
  },
  {
   "cell_type": "markdown",
   "id": "9982a754",
   "metadata": {},
   "source": [
    "#### Fitting the histogram with Gaussian"
   ]
  },
  {
   "cell_type": "code",
   "execution_count": 22,
   "id": "7de388f8",
   "metadata": {},
   "outputs": [],
   "source": [
    "def my_gauss(x, mu, sigma):\n",
    "    return 1 / np.sqrt(2 * np.pi) / sigma * np.exp(-(mu - x)**2 / 2 / sigma**2)\n",
    "\n",
    "params, params_cov = curve_fit(my_gauss, arr_bins_x_centers, arr_vx_freqs,  bounds=(0, [0.000001, 10.]))"
   ]
  },
  {
   "cell_type": "code",
   "execution_count": 23,
   "id": "f5130a7c",
   "metadata": {},
   "outputs": [
    {
     "data": {
      "text/plain": [
       "array([4.94065646e-324, 7.32687539e-002])"
      ]
     },
     "execution_count": 23,
     "metadata": {},
     "output_type": "execute_result"
    }
   ],
   "source": [
    "params"
   ]
  },
  {
   "cell_type": "code",
   "execution_count": 24,
   "id": "1a10ce13",
   "metadata": {},
   "outputs": [
    {
     "data": {
      "image/png": "[encoded data removed]",
      "text/plain": [
       "<Figure size 640x480 with 1 Axes>"
      ]
     },
     "execution_count": 24,
     "metadata": {},
     "output_type": "execute_result"
    }
   ],
   "source": [
    "ax_hist_x.plot(arr_bins_dense, 1 / np.sqrt(2 * np.pi) / params[1] * np.exp(-(params[0] - arr_bins_dense)**2 / 2 / params[1]**2), color = 'green',\n",
    "        label = r'Gaussian fit')\n",
    "legend = ax_hist_x.legend()\n",
    "fig_hist_x"
   ]
  },
  {
   "cell_type": "markdown",
   "id": "0aba9653",
   "metadata": {},
   "source": [
    "## Getting the Temperature Profiles. "
   ]
  },
  {
   "cell_type": "markdown",
   "id": "207c7506",
   "metadata": {},
   "source": [
    "### Direct Standard Deviation Method"
   ]
  },
  {
   "cell_type": "code",
   "execution_count": 119,
   "id": "a0286856",
   "metadata": {},
   "outputs": [],
   "source": [
    "def get_temper_profile_direct(df_vel, coord_axis, vel_component, N_points):\n",
    "    left_x = np.min(df_vel[coord_axis])\n",
    "    right_x = np.max(df_vel[coord_axis])\n",
    "    x_grid = np.linspace(left_x, right_x, num = N_points)\n",
    "    delta_x = x_grid[1] - x_grid[0]\n",
    "    x_grid = x_grid + delta_x/2\n",
    "    x_grid = x_grid[:-1]\n",
    "    arr_temper_frosigmas = np.array([])\n",
    "    arr_errors = np.array([])\n",
    "    for el_x in x_grid:\n",
    "        sub_df = df_vel[(df_vel[coord_axis] > el_x - delta_x / 2) & (df_vel[coord_axis] < el_x + delta_x / 2)]\n",
    "        sub_df.head()\n",
    "        cur_sigma = np.std(np.array(sub_df[vel_component]))\n",
    "        sigma_SI = cur_sigma * mm_per_px / 1000.0 * rate_for_vel\n",
    "        err_sigma_SI = sigma_SI / np.sqrt( 2.0 * (len(sub_df[vel_component]) - 1.0))\n",
    "        temper_eV = dust_mass * sigma_SI**2 / constants.elementary_charge\n",
    "        err_eV = 2 * sigma_SI * err_sigma_SI * dust_mass / constants.elementary_charge\n",
    "        arr_temper_frosigmas = np.append(arr_temper_frosigmas, temper_eV)\n",
    "        arr_errors = np.append(arr_errors, err_eV)\n",
    "    return x_grid, arr_temper_frosigmas, arr_errors"
   ]
  },
  {
   "cell_type": "code",
   "execution_count": 166,
   "id": "a16a346e",
   "metadata": {},
   "outputs": [
    {
     "data": {
      "text/html": [
       "<div>\n",
       "<style scoped>\n",
       "    .dataframe tbody tr th:only-of-type {\n",
       "        vertical-align: middle;\n",
       "    }\n",
       "\n",
       "    .dataframe tbody tr th {\n",
       "        vertical-align: top;\n",
       "    }\n",
       "\n",
       "    .dataframe thead th {\n",
       "        text-align: right;\n",
       "    }\n",
       "</style>\n",
       "<table border=\"1\" class=\"dataframe\">\n",
       "  <thead>\n",
       "    <tr style=\"text-align: right;\">\n",
       "      <th></th>\n",
       "      <th>x_px</th>\n",
       "      <th>T_x_eV</th>\n",
       "      <th>err_T_x_eV</th>\n",
       "      <th>T_y_eV</th>\n",
       "      <th>err_T_y</th>\n",
       "    </tr>\n",
       "  </thead>\n",
       "  <tbody>\n",
       "    <tr>\n",
       "      <th>0</th>\n",
       "      <td>37.077385</td>\n",
       "      <td>0.081557</td>\n",
       "      <td>0.000407</td>\n",
       "      <td>0.081381</td>\n",
       "      <td>0.000406</td>\n",
       "    </tr>\n",
       "    <tr>\n",
       "      <th>1</th>\n",
       "      <td>85.931735</td>\n",
       "      <td>0.073411</td>\n",
       "      <td>0.000288</td>\n",
       "      <td>0.070126</td>\n",
       "      <td>0.000275</td>\n",
       "    </tr>\n",
       "    <tr>\n",
       "      <th>2</th>\n",
       "      <td>134.786085</td>\n",
       "      <td>0.070843</td>\n",
       "      <td>0.000254</td>\n",
       "      <td>0.072290</td>\n",
       "      <td>0.000260</td>\n",
       "    </tr>\n",
       "    <tr>\n",
       "      <th>3</th>\n",
       "      <td>183.640435</td>\n",
       "      <td>0.072268</td>\n",
       "      <td>0.000252</td>\n",
       "      <td>0.071652</td>\n",
       "      <td>0.000250</td>\n",
       "    </tr>\n",
       "    <tr>\n",
       "      <th>4</th>\n",
       "      <td>232.494785</td>\n",
       "      <td>0.071770</td>\n",
       "      <td>0.000248</td>\n",
       "      <td>0.072761</td>\n",
       "      <td>0.000251</td>\n",
       "    </tr>\n",
       "  </tbody>\n",
       "</table>\n",
       "</div>"
      ],
      "text/plain": [
       "         x_px    T_x_eV  err_T_x_eV    T_y_eV   err_T_y\n",
       "0   37.077385  0.081557    0.000407  0.081381  0.000406\n",
       "1   85.931735  0.073411    0.000288  0.070126  0.000275\n",
       "2  134.786085  0.070843    0.000254  0.072290  0.000260\n",
       "3  183.640435  0.072268    0.000252  0.071652  0.000250\n",
       "4  232.494785  0.071770    0.000248  0.072761  0.000251"
      ]
     },
     "execution_count": 166,
     "metadata": {},
     "output_type": "execute_result"
    }
   ],
   "source": [
    "x_grid, arr_temper_x_dir, arr_err_temper_x = get_temper_profile_direct(df_vel_step01, 'x', 'vx',  N_points)\n",
    "x_grid, arr_temper_y_dir, arr_err_temper_y = get_temper_profile_direct(df_vel_step01, 'x', 'vy',  N_points)\n",
    "df_temper = pd.DataFrame({'x_px':x_grid, 'T_x_eV':arr_temper_x_dir, 'err_T_x_eV':arr_err_temper_x, 'T_y_eV':arr_temper_y_dir, 'err_T_y':arr_err_temper_y})\n",
    "df_temper.head()\n",
    "temper_csv_path = folderPath + r'\\outputs\\csvData\\temperatures_step01'\n",
    "temper_csv_filepath = temper_csv_path + infilename + r'_temper_direct_step01.csv'\n",
    "if not os.path.exists(temper_csv_path):\n",
    "    os.makedirs(temper_csv_path)\n",
    "    \n",
    "df_temper.to_csv(temper_csv_filepath)\n",
    "\n",
    "df_temper.head()"
   ]
  },
  {
   "cell_type": "code",
   "execution_count": 167,
   "id": "ea2e794e",
   "metadata": {},
   "outputs": [
    {
     "data": {
      "text/plain": [
       "Text(0, 0.5, '$T$ (eV)')"
      ]
     },
     "execution_count": 167,
     "metadata": {},
     "output_type": "execute_result"
    },
    {
     "data": {
      "image/png": "[encoded data removed]",
      "text/plain": [
       "<Figure size 640x480 with 1 Axes>"
      ]
     },
     "metadata": {},
     "output_type": "display_data"
    }
   ],
   "source": [
    "fig, ax = plt.subplots()\n",
    "ax.errorbar(x_grid, arr_temper_x_dir, yerr = arr_err_temper_x, fmt = 'o', label = '$T_x$, direct method')\n",
    "#ax.errorbar(x_grid, arr_temper_y_dir, yerr = arr_err_temper_y, fmt = 'o', label = '$T_y$, direct method')\n",
    "#ax.set_xlim(0, 400)\n",
    "#ax.set_ylim(0,0.05)\n",
    "ax.set_xlabel('distance (px)')\n",
    "ax.set_ylabel('$T$ (eV)')\n",
    "#ax.legend()"
   ]
  },
  {
   "cell_type": "markdown",
   "id": "1b754fc4",
   "metadata": {},
   "source": [
    "### Fitting Method\n"
   ]
  },
  {
   "cell_type": "code",
   "execution_count": 168,
   "id": "ff056136",
   "metadata": {},
   "outputs": [],
   "source": [
    "def get_temper_profile_fit(df_vel, coord_axis, vel_component, N_points):\n",
    "    left_x = np.min(df_vel_step01[coord_axis])\n",
    "    right_x = np.max(df_vel_step01[coord_axis])\n",
    "    x_grid = np.linspace(left_x, right_x, num = N_points)\n",
    "    delta_x = x_grid[1] - x_grid[0]\n",
    "    x_grid = x_grid + delta_x/2\n",
    "    x_grid = x_grid[:-1]\n",
    "    arr_temper_frosigmas = np.array([])\n",
    "    arr_errors = np.array([])\n",
    "    for el_x in x_grid:\n",
    "        sub_df = df_vel[(df_vel[coord_axis] > el_x - delta_x / 2) & (df_vel[coord_axis] < el_x + delta_x / 2)]\n",
    "        total_samples = len(sub_df)\n",
    "        mean_v = np.mean(sub_df[vel_component])\n",
    "        arr_1dvel_noDrift = np.array(sub_df[vel_component]) - mean_v\n",
    "        counts, bins = np.histogram(arr_1dvel_noDrift, bins = N_bins)\n",
    "        arr_bins_centers = 0.5 * (bins[1:] + bins[:-1])\n",
    "        bin_wid = np.abs(arr_bins_x_centers[1] - arr_bins_x_centers[0])\n",
    "        arr_freqs = counts / total_samples / bin_wid\n",
    "        ini_guess = [0.0, np.std(np.array(sub_df[vel_component]))]\n",
    "        params, params_cov = curve_fit(my_gauss, arr_bins_centers, arr_freqs, p0 = ini_guess, bounds=(0, [0.000001, ini_guess[1] * 1.2 ]))\n",
    "        sigma_SI = params[1] * mm_per_px / 1000.0 * rate_for_vel\n",
    "        temper_eV = dust_mass * sigma_SI**2 / constants.elementary_charge\n",
    "        err_sigma_SI = np.sqrt(params_cov[1,1]) * mm_per_px / 1000.0 * rate_for_vel\n",
    "        err_eV = 2 * sigma_SI * err_sigma_SI * dust_mass / constants.elementary_charge\n",
    "        arr_temper_frosigmas = np.append(arr_temper_frosigmas, temper_eV)\n",
    "        arr_errors = np.append(arr_errors, err_eV)\n",
    "    return x_grid, arr_temper_frosigmas, arr_errors"
   ]
  },
  {
   "cell_type": "code",
   "execution_count": 169,
   "id": "3dd8da15",
   "metadata": {},
   "outputs": [
    {
     "data": {
      "text/html": [
       "<div>\n",
       "<style scoped>\n",
       "    .dataframe tbody tr th:only-of-type {\n",
       "        vertical-align: middle;\n",
       "    }\n",
       "\n",
       "    .dataframe tbody tr th {\n",
       "        vertical-align: top;\n",
       "    }\n",
       "\n",
       "    .dataframe thead th {\n",
       "        text-align: right;\n",
       "    }\n",
       "</style>\n",
       "<table border=\"1\" class=\"dataframe\">\n",
       "  <thead>\n",
       "    <tr style=\"text-align: right;\">\n",
       "      <th></th>\n",
       "      <th>x_px</th>\n",
       "      <th>T_x_eV</th>\n",
       "      <th>err_T_x_eV</th>\n",
       "      <th>T_y_eV</th>\n",
       "      <th>err_T_y</th>\n",
       "    </tr>\n",
       "  </thead>\n",
       "  <tbody>\n",
       "    <tr>\n",
       "      <th>0</th>\n",
       "      <td>37.077385</td>\n",
       "      <td>0.060278</td>\n",
       "      <td>0.001951</td>\n",
       "      <td>0.081041</td>\n",
       "      <td>0.003936</td>\n",
       "    </tr>\n",
       "    <tr>\n",
       "      <th>1</th>\n",
       "      <td>85.931735</td>\n",
       "      <td>0.105711</td>\n",
       "      <td>0.008876</td>\n",
       "      <td>0.077640</td>\n",
       "      <td>0.003364</td>\n",
       "    </tr>\n",
       "    <tr>\n",
       "      <th>2</th>\n",
       "      <td>134.786085</td>\n",
       "      <td>0.102014</td>\n",
       "      <td>0.012623</td>\n",
       "      <td>0.088693</td>\n",
       "      <td>0.004472</td>\n",
       "    </tr>\n",
       "    <tr>\n",
       "      <th>3</th>\n",
       "      <td>183.640435</td>\n",
       "      <td>0.104066</td>\n",
       "      <td>0.010860</td>\n",
       "      <td>0.103179</td>\n",
       "      <td>0.007569</td>\n",
       "    </tr>\n",
       "    <tr>\n",
       "      <th>4</th>\n",
       "      <td>232.494785</td>\n",
       "      <td>0.103349</td>\n",
       "      <td>0.010786</td>\n",
       "      <td>0.085092</td>\n",
       "      <td>0.004409</td>\n",
       "    </tr>\n",
       "  </tbody>\n",
       "</table>\n",
       "</div>"
      ],
      "text/plain": [
       "         x_px    T_x_eV  err_T_x_eV    T_y_eV   err_T_y\n",
       "0   37.077385  0.060278    0.001951  0.081041  0.003936\n",
       "1   85.931735  0.105711    0.008876  0.077640  0.003364\n",
       "2  134.786085  0.102014    0.012623  0.088693  0.004472\n",
       "3  183.640435  0.104066    0.010860  0.103179  0.007569\n",
       "4  232.494785  0.103349    0.010786  0.085092  0.004409"
      ]
     },
     "execution_count": 169,
     "metadata": {},
     "output_type": "execute_result"
    }
   ],
   "source": [
    "x_grid, arr_temper_x_fit, arr_err_temper_x = get_temper_profile_fit(df_vel_step01, 'x', 'vx',  N_points)\n",
    "x_grid, arr_temper_y_fit, arr_err_temper_y = get_temper_profile_fit(df_vel_step01, 'x', 'vy',  N_points)\n",
    "df_temper = pd.DataFrame({'x_px':x_grid, 'T_x_eV':arr_temper_x_fit, 'err_T_x_eV':arr_err_temper_x, 'T_y_eV':arr_temper_y_fit, 'err_T_y':arr_err_temper_y})\n",
    "temper_csv_path = folderPath + r'\\outputs\\csvData\\temperatures_step01'\n",
    "temper_csv_filepath = temper_csv_path + infilename + r'_temper_fit_step01.csv'\n",
    "if not os.path.exists(temper_csv_path):\n",
    "    os.makedirs(temper_csv_path)\n",
    "    \n",
    "df_temper.to_csv(temper_csv_filepath)\n",
    "\n",
    "df_temper.head()"
   ]
  },
  {
   "cell_type": "code",
   "execution_count": 170,
   "id": "edf4030f",
   "metadata": {},
   "outputs": [
    {
     "data": {
      "text/plain": [
       "<matplotlib.legend.Legend at 0x2b3d9f5f190>"
      ]
     },
     "execution_count": 170,
     "metadata": {},
     "output_type": "execute_result"
    }
   ],
   "source": [
    "#fig, ax = plt.subplots()\n",
    "ax.errorbar(x_grid, arr_temper_x_fit, yerr = arr_err_temper_x, fmt = 'o', label = '$T_x$, fit method')\n",
    "#ax.errorbar(x_grid, arr_temper_frosigmas, yerr = arr_err_temper_y, fmt = 'o', label = '$T_y$, fit method')\n",
    "#ax.set_xlim(0, 400)\n",
    "#ax.set_ylim(0,0.05)\n",
    "ax.set_xlabel('distance (px)')\n",
    "ax.set_ylabel('$T$ (eV)')\n",
    "ax.legend()"
   ]
  },
  {
   "cell_type": "code",
   "execution_count": null,
   "id": "b8b3dee7",
   "metadata": {},
   "outputs": [],
   "source": []
  },
  {
   "cell_type": "code",
   "execution_count": 171,
   "id": "3c9e5c49",
   "metadata": {},
   "outputs": [
    {
     "data": {
      "image/png": "[encoded data removed]",
      "text/plain": [
       "<Figure size 640x480 with 1 Axes>"
      ]
     },
     "execution_count": 171,
     "metadata": {},
     "output_type": "execute_result"
    }
   ],
   "source": [
    "fig"
   ]
  },
  {
   "cell_type": "markdown",
   "id": "78b49502",
   "metadata": {},
   "source": [
    "### FWHM Method\n"
   ]
  },
  {
   "cell_type": "code",
   "execution_count": 172,
   "id": "fa22f8d0",
   "metadata": {},
   "outputs": [],
   "source": [
    "def get_FWHM(arr_1dvel, N_bins):\n",
    "    FWHM = False\n",
    "    mean_v =  np.mean(arr_1dvel)\n",
    "    arr_1dvel_noDrift = arr_1dvel - mean_v\n",
    "    counts, bins = np.histogram(arr_1dvel_noDrift, bins = N_bins)\n",
    "    arr_bins_centers = 0.5 * (bins[1:] + bins[:-1])\n",
    "    arr_freqs = counts / len(arr_1dvel_noDrift)\n",
    "    arr_bins_dense = np.linspace(np.min(arr_bins_centers), np.max(arr_bins_centers), num = N_bins * 100)\n",
    "    f = interp1d(arr_bins_centers, arr_freqs, kind = 'cubic')\n",
    "    arr_f_interp = f(arr_bins_dense)\n",
    "    f_halfmax = np.max(arr_f_interp) / 2.0\n",
    "    arr_bins_above_halfmax = arr_bins_dense[(arr_f_interp > f_halfmax)]\n",
    "    left_bound = np.min(arr_bins_above_halfmax)\n",
    "    right_bound = np.max(arr_bins_above_halfmax)\n",
    "    FWHM = right_bound - left_bound\n",
    "    err_FWHM = np.abs(arr_bins_centers[1] - arr_bins_centers[0])\n",
    "    return FWHM, err_FWHM"
   ]
  },
  {
   "cell_type": "code",
   "execution_count": 173,
   "id": "3d909884",
   "metadata": {},
   "outputs": [],
   "source": [
    "def get_temper_eV(FWHM, rate_betw_pos, mm_per_pix, part_mass):\n",
    "    sigma = FWHM / 2.0 / np.sqrt(2.0 * np.log(2.0))\n",
    "    \n",
    "    sigma_SI = sigma * mm_per_px / 1000.0 * rate_for_vel\n",
    "    \n",
    "    temper_eV = part_mass * sigma_SI**2 / constants.elementary_charge \n",
    "    \n",
    "    return temper_eV"
   ]
  },
  {
   "cell_type": "code",
   "execution_count": 174,
   "id": "82b900cc",
   "metadata": {},
   "outputs": [],
   "source": [
    "def get_temper_profile_FWHM(df_vel, coord_axis, vel_component, N_points):\n",
    "    left_x = np.min(df_vel[coord_axis])\n",
    "    right_x = np.max(df_vel[coord_axis])\n",
    "    x_grid = np.linspace(left_x, right_x, num = N_points)\n",
    "    delta_x = x_grid[1] - x_grid[0]\n",
    "    x_grid = x_grid + delta_x/2\n",
    "    x_grid = x_grid[:-1]\n",
    "    arr_temper = np.array([])\n",
    "    arr_err = np.array([])\n",
    "    for el_x in x_grid:\n",
    "        sub_df = df_vel[(df_vel[coord_axis] > el_x - delta_x / 2) & (df_vel[coord_axis] < el_x + delta_x / 2)]\n",
    "        cur_fwhm, err_fwhm = get_FWHM(np.array(sub_df[vel_component]), N_bins)\n",
    "        cur_temper = get_temper_eV(cur_fwhm, rate_for_vel, mm_per_px, dust_mass)\n",
    "        sigma = cur_fwhm / 2.0 / np.sqrt(2.0 * np.log(2.0))\n",
    "        sigma_SI = sigma * mm_per_px / 1000.0 * rate_for_vel\n",
    "        err = err_fwhm / 2.0 / np.sqrt(2.0 * np.log(2.0))\n",
    "        err_SI = err * mm_per_px / 1000.0 * rate_for_vel\n",
    "        temper_eV = dust_mass * sigma_SI**2 / constants.elementary_charge \n",
    "        err_eV = 2 * sigma_SI * err_SI * dust_mass / constants.elementary_charge\n",
    "        arr_temper = np.append(arr_temper, temper_eV)\n",
    "        arr_err = np.append(arr_err, err_eV)\n",
    "    return x_grid, arr_temper, err_eV"
   ]
  },
  {
   "cell_type": "code",
   "execution_count": 175,
   "id": "7a28b02c",
   "metadata": {},
   "outputs": [
    {
     "data": {
      "text/html": [
       "<div>\n",
       "<style scoped>\n",
       "    .dataframe tbody tr th:only-of-type {\n",
       "        vertical-align: middle;\n",
       "    }\n",
       "\n",
       "    .dataframe tbody tr th {\n",
       "        vertical-align: top;\n",
       "    }\n",
       "\n",
       "    .dataframe thead th {\n",
       "        text-align: right;\n",
       "    }\n",
       "</style>\n",
       "<table border=\"1\" class=\"dataframe\">\n",
       "  <thead>\n",
       "    <tr style=\"text-align: right;\">\n",
       "      <th></th>\n",
       "      <th>x_px</th>\n",
       "      <th>T_x_eV</th>\n",
       "      <th>err_T_x_eV</th>\n",
       "      <th>T_y_eV</th>\n",
       "      <th>err_T_y</th>\n",
       "    </tr>\n",
       "  </thead>\n",
       "  <tbody>\n",
       "    <tr>\n",
       "      <th>0</th>\n",
       "      <td>37.077385</td>\n",
       "      <td>0.038659</td>\n",
       "      <td>0.004613</td>\n",
       "      <td>0.041927</td>\n",
       "      <td>0.002485</td>\n",
       "    </tr>\n",
       "    <tr>\n",
       "      <th>1</th>\n",
       "      <td>85.931735</td>\n",
       "      <td>0.033690</td>\n",
       "      <td>0.004613</td>\n",
       "      <td>0.043654</td>\n",
       "      <td>0.002485</td>\n",
       "    </tr>\n",
       "    <tr>\n",
       "      <th>2</th>\n",
       "      <td>134.786085</td>\n",
       "      <td>0.038197</td>\n",
       "      <td>0.004613</td>\n",
       "      <td>0.046898</td>\n",
       "      <td>0.002485</td>\n",
       "    </tr>\n",
       "    <tr>\n",
       "      <th>3</th>\n",
       "      <td>183.640435</td>\n",
       "      <td>0.038031</td>\n",
       "      <td>0.004613</td>\n",
       "      <td>0.042955</td>\n",
       "      <td>0.002485</td>\n",
       "    </tr>\n",
       "    <tr>\n",
       "      <th>4</th>\n",
       "      <td>232.494785</td>\n",
       "      <td>0.036661</td>\n",
       "      <td>0.004613</td>\n",
       "      <td>0.039564</td>\n",
       "      <td>0.002485</td>\n",
       "    </tr>\n",
       "  </tbody>\n",
       "</table>\n",
       "</div>"
      ],
      "text/plain": [
       "         x_px    T_x_eV  err_T_x_eV    T_y_eV   err_T_y\n",
       "0   37.077385  0.038659    0.004613  0.041927  0.002485\n",
       "1   85.931735  0.033690    0.004613  0.043654  0.002485\n",
       "2  134.786085  0.038197    0.004613  0.046898  0.002485\n",
       "3  183.640435  0.038031    0.004613  0.042955  0.002485\n",
       "4  232.494785  0.036661    0.004613  0.039564  0.002485"
      ]
     },
     "execution_count": 175,
     "metadata": {},
     "output_type": "execute_result"
    }
   ],
   "source": [
    "x_grid, arr_temper_x_FWHM, arr_err_temper_x = get_temper_profile_FWHM(df_vel_step01, 'x', 'vx',  N_points)\n",
    "x_grid, arr_temper_y_FWHM, arr_err_temper_y = get_temper_profile_FWHM(df_vel_step01, 'x', 'vy',  N_points)\n",
    "df_temper = pd.DataFrame({'x_px':x_grid, 'T_x_eV':arr_temper_x_FWHM, 'err_T_x_eV':arr_err_temper_x, 'T_y_eV':arr_temper_y_FWHM, 'err_T_y':arr_err_temper_y})\n",
    "temper_csv_path = folderPath + r'\\outputs\\csvData\\temperatures_step01'\n",
    "temper_csv_filepath = temper_csv_path + infilename + r'_temper_FWHM_step01.csv'\n",
    "if not os.path.exists(temper_csv_path):\n",
    "    os.makedirs(temper_csv_path)\n",
    "    \n",
    "df_temper.to_csv(temper_csv_filepath)\n",
    "\n",
    "df_temper.head()"
   ]
  },
  {
   "cell_type": "code",
   "execution_count": 176,
   "id": "dfe03788",
   "metadata": {},
   "outputs": [
    {
     "data": {
      "text/plain": [
       "<matplotlib.legend.Legend at 0x2b3d9f5ebc0>"
      ]
     },
     "execution_count": 176,
     "metadata": {},
     "output_type": "execute_result"
    }
   ],
   "source": [
    "#fig, ax = plt.subplots()\n",
    "ax.errorbar(x_grid, arr_temper_x_FWHM, yerr = arr_err_temper_x, fmt = 'o', label = '$T_x$, FWHM method')\n",
    "#ax.errorbar(x_grid, arr_temper_frosigmas, yerr = arr_err_temper_y, fmt = 'o', label = '$T_y$, fit method')\n",
    "#ax.set_xlim(0, 400)\n",
    "#ax.set_ylim(0,0.05)\n",
    "ax.set_xlabel('distance (px)')\n",
    "ax.set_ylabel('$T$ (eV)')\n",
    "ax.legend()"
   ]
  },
  {
   "cell_type": "code",
   "execution_count": 177,
   "id": "ab89a35c",
   "metadata": {},
   "outputs": [
    {
     "data": {
      "image/png": "[encoded data removed]",
      "text/plain": [
       "<Figure size 640x480 with 1 Axes>"
      ]
     },
     "execution_count": 177,
     "metadata": {},
     "output_type": "execute_result"
    }
   ],
   "source": [
    "fig"
   ]
  },
  {
   "cell_type": "code",
   "execution_count": null,
   "id": "1638b351",
   "metadata": {},
   "outputs": [],
   "source": []
  }
 ],
 "metadata": {
  "kernelspec": {
   "display_name": "Python 3 (ipykernel)",
   "language": "python",
   "name": "python3"
  },
  "language_info": {
   "codemirror_mode": {
    "name": "ipython",
    "version": 3
   },
   "file_extension": ".py",
   "mimetype": "text/x-python",
   "name": "python",
   "nbconvert_exporter": "python",
   "pygments_lexer": "ipython3",
   "version": "3.10.9"
  }
 },
 "nbformat": 4,
 "nbformat_minor": 5
}
