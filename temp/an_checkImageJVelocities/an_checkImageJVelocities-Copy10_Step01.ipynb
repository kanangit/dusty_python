{
 "cells": [
  {
   "cell_type": "markdown",
   "id": "70203c2c",
   "metadata": {},
   "source": [
    "# Checking the Velocity Distribution\n",
    "## particles coordinates obtained from imageJ"
   ]
  },
  {
   "cell_type": "code",
   "execution_count": 2,
   "id": "a943ddeb",
   "metadata": {},
   "outputs": [],
   "source": [
    "import numpy as np\n",
    "import matplotlib.pyplot as plt\n",
    "import trackpy as tp\n",
    "import pandas as pd\n",
    "import os"
   ]
  },
  {
   "cell_type": "code",
   "execution_count": 3,
   "id": "67ad0149",
   "metadata": {},
   "outputs": [],
   "source": [
    "folderPath = r'g:\\My Drive\\workAppState\\prj_shocks\\expData\\data20230530velDistribTest_ImageJ_Connor'"
   ]
  },
  {
   "cell_type": "code",
   "execution_count": 4,
   "id": "0aa9b3a5",
   "metadata": {},
   "outputs": [],
   "source": [
    "inputsPath = folderPath + r'\\inputs'\n",
    "infilename = r'\\360v_1mA_9sccm_91mtorr'"
   ]
  },
  {
   "cell_type": "code",
   "execution_count": 5,
   "id": "5f4946bb",
   "metadata": {},
   "outputs": [],
   "source": [
    "colnames=['x','y','frame']\n",
    "indf = pd.read_csv(inputsPath + infilename  + r'.csv', usecols=[3,4,8],names=colnames, skiprows=1)\n"
   ]
  },
  {
   "cell_type": "code",
   "execution_count": 6,
   "id": "488bee0b",
   "metadata": {},
   "outputs": [
    {
     "data": {
      "text/html": [
       "<div>\n",
       "<style scoped>\n",
       "    .dataframe tbody tr th:only-of-type {\n",
       "        vertical-align: middle;\n",
       "    }\n",
       "\n",
       "    .dataframe tbody tr th {\n",
       "        vertical-align: top;\n",
       "    }\n",
       "\n",
       "    .dataframe thead th {\n",
       "        text-align: right;\n",
       "    }\n",
       "</style>\n",
       "<table border=\"1\" class=\"dataframe\">\n",
       "  <thead>\n",
       "    <tr style=\"text-align: right;\">\n",
       "      <th></th>\n",
       "      <th>x</th>\n",
       "      <th>y</th>\n",
       "      <th>frame</th>\n",
       "    </tr>\n",
       "  </thead>\n",
       "  <tbody>\n",
       "    <tr>\n",
       "      <th>0</th>\n",
       "      <td>345.78586</td>\n",
       "      <td>13.41291</td>\n",
       "      <td>1</td>\n",
       "    </tr>\n",
       "    <tr>\n",
       "      <th>1</th>\n",
       "      <td>306.32614</td>\n",
       "      <td>14.01396</td>\n",
       "      <td>1</td>\n",
       "    </tr>\n",
       "    <tr>\n",
       "      <th>2</th>\n",
       "      <td>332.94084</td>\n",
       "      <td>13.89708</td>\n",
       "      <td>1</td>\n",
       "    </tr>\n",
       "    <tr>\n",
       "      <th>3</th>\n",
       "      <td>319.62251</td>\n",
       "      <td>14.91738</td>\n",
       "      <td>1</td>\n",
       "    </tr>\n",
       "    <tr>\n",
       "      <th>4</th>\n",
       "      <td>371.09624</td>\n",
       "      <td>14.78872</td>\n",
       "      <td>1</td>\n",
       "    </tr>\n",
       "  </tbody>\n",
       "</table>\n",
       "</div>"
      ],
      "text/plain": [
       "           x         y  frame\n",
       "0  345.78586  13.41291      1\n",
       "1  306.32614  14.01396      1\n",
       "2  332.94084  13.89708      1\n",
       "3  319.62251  14.91738      1\n",
       "4  371.09624  14.78872      1"
      ]
     },
     "execution_count": 6,
     "metadata": {},
     "output_type": "execute_result"
    }
   ],
   "source": [
    "indf.head()"
   ]
  },
  {
   "cell_type": "code",
   "execution_count": 7,
   "id": "7c6d6878",
   "metadata": {},
   "outputs": [
    {
     "data": {
      "text/html": [
       "<div>\n",
       "<style scoped>\n",
       "    .dataframe tbody tr th:only-of-type {\n",
       "        vertical-align: middle;\n",
       "    }\n",
       "\n",
       "    .dataframe tbody tr th {\n",
       "        vertical-align: top;\n",
       "    }\n",
       "\n",
       "    .dataframe thead th {\n",
       "        text-align: right;\n",
       "    }\n",
       "</style>\n",
       "<table border=\"1\" class=\"dataframe\">\n",
       "  <thead>\n",
       "    <tr style=\"text-align: right;\">\n",
       "      <th></th>\n",
       "      <th>Unnamed: 0</th>\n",
       "      <th>x</th>\n",
       "      <th>y</th>\n",
       "      <th>frame</th>\n",
       "      <th>particle</th>\n",
       "    </tr>\n",
       "  </thead>\n",
       "  <tbody>\n",
       "    <tr>\n",
       "      <th>0</th>\n",
       "      <td>0</td>\n",
       "      <td>345.78586</td>\n",
       "      <td>13.41291</td>\n",
       "      <td>1</td>\n",
       "      <td>0</td>\n",
       "    </tr>\n",
       "    <tr>\n",
       "      <th>1</th>\n",
       "      <td>1299</td>\n",
       "      <td>563.45040</td>\n",
       "      <td>319.49206</td>\n",
       "      <td>1</td>\n",
       "      <td>1</td>\n",
       "    </tr>\n",
       "    <tr>\n",
       "      <th>2</th>\n",
       "      <td>1298</td>\n",
       "      <td>513.90593</td>\n",
       "      <td>319.84384</td>\n",
       "      <td>1</td>\n",
       "      <td>2</td>\n",
       "    </tr>\n",
       "    <tr>\n",
       "      <th>3</th>\n",
       "      <td>1297</td>\n",
       "      <td>284.83552</td>\n",
       "      <td>319.66066</td>\n",
       "      <td>1</td>\n",
       "      <td>3</td>\n",
       "    </tr>\n",
       "    <tr>\n",
       "      <th>4</th>\n",
       "      <td>1296</td>\n",
       "      <td>206.13283</td>\n",
       "      <td>319.97588</td>\n",
       "      <td>1</td>\n",
       "      <td>4</td>\n",
       "    </tr>\n",
       "    <tr>\n",
       "      <th>...</th>\n",
       "      <td>...</td>\n",
       "      <td>...</td>\n",
       "      <td>...</td>\n",
       "      <td>...</td>\n",
       "      <td>...</td>\n",
       "    </tr>\n",
       "    <tr>\n",
       "      <th>1872186</th>\n",
       "      <td>1870898</td>\n",
       "      <td>210.52854</td>\n",
       "      <td>191.02396</td>\n",
       "      <td>968</td>\n",
       "      <td>1920</td>\n",
       "    </tr>\n",
       "    <tr>\n",
       "      <th>1872187</th>\n",
       "      <td>1870897</td>\n",
       "      <td>612.83741</td>\n",
       "      <td>188.58557</td>\n",
       "      <td>968</td>\n",
       "      <td>1541</td>\n",
       "    </tr>\n",
       "    <tr>\n",
       "      <th>1872188</th>\n",
       "      <td>1870896</td>\n",
       "      <td>494.81270</td>\n",
       "      <td>189.19780</td>\n",
       "      <td>968</td>\n",
       "      <td>1895</td>\n",
       "    </tr>\n",
       "    <tr>\n",
       "      <th>1872189</th>\n",
       "      <td>1870864</td>\n",
       "      <td>114.40066</td>\n",
       "      <td>184.15846</td>\n",
       "      <td>968</td>\n",
       "      <td>1864</td>\n",
       "    </tr>\n",
       "    <tr>\n",
       "      <th>1872190</th>\n",
       "      <td>1872190</td>\n",
       "      <td>233.29747</td>\n",
       "      <td>493.80802</td>\n",
       "      <td>968</td>\n",
       "      <td>638</td>\n",
       "    </tr>\n",
       "  </tbody>\n",
       "</table>\n",
       "<p>1872191 rows × 5 columns</p>\n",
       "</div>"
      ],
      "text/plain": [
       "         Unnamed: 0          x          y  frame  particle\n",
       "0                 0  345.78586   13.41291      1         0\n",
       "1              1299  563.45040  319.49206      1         1\n",
       "2              1298  513.90593  319.84384      1         2\n",
       "3              1297  284.83552  319.66066      1         3\n",
       "4              1296  206.13283  319.97588      1         4\n",
       "...             ...        ...        ...    ...       ...\n",
       "1872186     1870898  210.52854  191.02396    968      1920\n",
       "1872187     1870897  612.83741  188.58557    968      1541\n",
       "1872188     1870896  494.81270  189.19780    968      1895\n",
       "1872189     1870864  114.40066  184.15846    968      1864\n",
       "1872190     1872190  233.29747  493.80802    968       638\n",
       "\n",
       "[1872191 rows x 5 columns]"
      ]
     },
     "execution_count": 7,
     "metadata": {},
     "output_type": "execute_result"
    }
   ],
   "source": [
    "tracked_csv_dir = folderPath + r'\\outputs' + r'\\tracked' \n",
    "tracked_csv_filepath = tracked_csv_dir + infilename + r'_tracked.csv'\n",
    "if not os.path.exists(tracked_csv_dir):\n",
    "    os.makedirs(tracked_csv_dir)\n",
    "    t_large = tp.link(t_csv,3,memory=1)\n",
    "    t_large.to_csv(tracked_csv_filepath)    \n",
    "else:\n",
    "    t_large = pd.read_csv(tracked_csv_filepath)\n",
    "t_large\n"
   ]
  },
  {
   "cell_type": "code",
   "execution_count": 8,
   "id": "e354958f",
   "metadata": {},
   "outputs": [],
   "source": [
    "#function get_velocities(df, step) calculates velocites of particles\n",
    "# with a given step step.\n",
    "def get_velocities(df, step):\n",
    "#initialize empy arrays to store data:\n",
    "    arr_particle = np.array([])\n",
    "    arr_x = np.array([])\n",
    "    arr_y = np.array([])\n",
    "    arr_vx = np.array([])\n",
    "    arr_vy = np.array([])\n",
    "    arr_frame = np.array([])\n",
    "    # get an array containing all frame numbers in the input dataframe:\n",
    "    frames_listing = np.unique(np.array(df['frame']))\n",
    "    #cycle throught all those frames:\n",
    "    for iFrame in range(step, len(frames_listing)):\n",
    "        #get current frame:\n",
    "        cur_frame = frames_listing[iFrame]\n",
    "        #select a dataframe containing data ONLY for that frame:\n",
    "        df_front_frame = df[(df['frame'] == cur_frame)]\n",
    "        print(iFrame)\n",
    "        #cycle throught all particles in the frame and find their velocities as\n",
    "        # position of the particle in that frame minus position of the same particles\n",
    "        # step frames ago:\n",
    "        for i in range(0, len(df_front_frame)):\n",
    "            #take i-th particle in a frame\n",
    "            cur_p = df_front_frame['particle'].iloc[i]\n",
    "            cur_x = df_front_frame['x'].iloc[i]\n",
    "            cur_y = df_front_frame['y'].iloc[i]\n",
    "            #find a row with the same particle in a frame step frames ago:\n",
    "            prev_frame_cur_row = df[((df['frame'] == cur_frame - step) & (df['particle'] == cur_p))]\n",
    "            #if that particle excisted back then, we will get exactly ONE row:\n",
    "            if (len(prev_frame_cur_row) == 1):\n",
    "                #if this row exists, we can take position of that particle in that, previous, frame:\n",
    "                prev_x = prev_frame_cur_row['x'].iloc[0]\n",
    "                prev_y = prev_frame_cur_row['y'].iloc[0]\n",
    "                # so we can calculate velocities:\n",
    "                cur_vx = cur_x - prev_x\n",
    "                cur_vy = cur_y - prev_y\n",
    "                cur_particle = df_front_frame['particle'].iloc[i]\n",
    "                #and append all parameters of that particle to our data arrays\n",
    "                arr_vx = np.append(arr_vx, cur_vx)\n",
    "                arr_vy = np.append(arr_vy, cur_vy)\n",
    "                arr_particle = np.append(arr_particle, cur_particle)\n",
    "                arr_x = np.append(arr_x, cur_x)\n",
    "                arr_y = np.append(arr_y, cur_y)\n",
    "                arr_frame = np.append(arr_frame, cur_frame)\n",
    "    #save output as a dataframe containing all the info we need:\n",
    "    data = {'frame':arr_frame, 'particle':arr_particle, 'x': arr_x, 'y': arr_y, 'vx': arr_vx, 'vy':arr_vy}\n",
    "    ret_df = pd.DataFrame(data)\n",
    "                \n",
    "    return ret_df"
   ]
  },
  {
   "cell_type": "markdown",
   "id": "5bc6dc78",
   "metadata": {},
   "source": [
    "## Getting the Temperature Profiles"
   ]
  },
  {
   "cell_type": "markdown",
   "id": "b37eb902",
   "metadata": {},
   "source": [
    "#### constants:"
   ]
  },
  {
   "cell_type": "code",
   "execution_count": 9,
   "id": "06d2cb52",
   "metadata": {},
   "outputs": [],
   "source": [
    "step = 1 # number of frames between the frames for calculating velocities\n",
    "dust_mass = 4.0 / 3.0 * np.pi * (7.14E-6 / 2.0)**3 * 1510.0 #mass of the dust particles\n",
    "N_points = 15 # number of points in the temperature profile\n",
    "rate_for_vel = 99.0 / step # frequency for calculating particle speeds\n",
    "mm_per_px = 1.0/121.8 # camera resolution\n",
    "N_bins = 20 #number of bins in the hystograms"
   ]
  },
  {
   "cell_type": "markdown",
   "id": "8786570d",
   "metadata": {},
   "source": [
    "#### first, get velocities. May take some time:"
   ]
  },
  {
   "cell_type": "code",
   "execution_count": null,
   "id": "070f49b5",
   "metadata": {},
   "outputs": [
    {
     "name": "stdout",
     "output_type": "stream",
     "text": [
      "1\n",
      "2\n",
      "3\n",
      "4\n",
      "5\n",
      "6\n",
      "7\n",
      "8\n",
      "9\n",
      "10\n",
      "11\n",
      "12\n",
      "13\n",
      "14\n",
      "15\n",
      "16\n",
      "17\n",
      "18\n",
      "19\n",
      "20\n",
      "21\n",
      "22\n",
      "23\n",
      "24\n",
      "25\n",
      "26\n",
      "27\n",
      "28\n",
      "29\n",
      "30\n",
      "31\n",
      "32\n",
      "33\n",
      "34\n",
      "35\n",
      "36\n",
      "37\n",
      "38\n",
      "39\n",
      "40\n",
      "41\n",
      "42\n",
      "43\n",
      "44\n",
      "45\n",
      "46\n",
      "47\n",
      "48\n",
      "49\n",
      "50\n",
      "51\n",
      "52\n",
      "53\n",
      "54\n",
      "55\n",
      "56\n",
      "57\n",
      "58\n",
      "59\n",
      "60\n",
      "61\n"
     ]
    }
   ],
   "source": [
    "vel_csv_dir = folderPath + r'\\outputs\\csvData\\velocities_step01'\n",
    "vel_csv_csv_filepath = vel_csv_dir + infilename + r'_velocities_step01.csv'\n",
    "if not os.path.exists(vel_csv_dir):\n",
    "    os.makedirs(vel_csv_dir)\n",
    "    df_vel = get_velocities(t_large, step)\n",
    "    df_vel.to_csv(vel_csv_csv_filepath)    \n",
    "else:\n",
    "    df_vel = pd.read_csv(vel_csv_csv_filepath)\n",
    "df_vel.head()"
   ]
  },
  {
   "cell_type": "code",
   "execution_count": null,
   "id": "556886d5",
   "metadata": {},
   "outputs": [],
   "source": [
    "t_sorted = t_large.sort_values(by = ['particle', 'frame'])"
   ]
  },
  {
   "cell_type": "code",
   "execution_count": null,
   "id": "39ef6290",
   "metadata": {},
   "outputs": [],
   "source": [
    "t_sorted.head()"
   ]
  },
  {
   "cell_type": "code",
   "execution_count": null,
   "id": "3865acca",
   "metadata": {},
   "outputs": [],
   "source": [
    "grouped = t_sorted.groupby('particle')\n",
    "grouped.head()"
   ]
  },
  {
   "cell_type": "code",
   "execution_count": null,
   "id": "69d06cc0",
   "metadata": {},
   "outputs": [],
   "source": [
    "t_sorted['vx'] = grouped['x'].diff(periods = step)\n",
    "t_sorted['vy'] = grouped['y'].diff(periods = step)\n",
    "t_sorted = t_sorted.dropna()\n",
    "t_sorted.head()"
   ]
  },
  {
   "cell_type": "code",
   "execution_count": null,
   "id": "ac843705",
   "metadata": {},
   "outputs": [],
   "source": [
    "t_sorted = t_sorted.sort_values(by = ['frame', 'particle'])\n",
    "t_sorted.head()"
   ]
  },
  {
   "cell_type": "code",
   "execution_count": null,
   "id": "530d4099",
   "metadata": {},
   "outputs": [],
   "source": [
    "len(t_sorted)"
   ]
  },
  {
   "cell_type": "code",
   "execution_count": null,
   "id": "d5da12f3",
   "metadata": {},
   "outputs": [],
   "source": [
    "len(df_vel)"
   ]
  },
  {
   "cell_type": "code",
   "execution_count": null,
   "id": "d6b7caa2",
   "metadata": {},
   "outputs": [],
   "source": [
    "df_vel = df_vel.sort_values(by = ['frame', 'particle'])\n",
    "df_vel['particle'] = df_vel['particle'].astype('int')\n",
    "df_vel['frame'] = df_vel['frame'].astype('int')\n",
    "df_vel.head()"
   ]
  },
  {
   "cell_type": "code",
   "execution_count": null,
   "id": "8b34e9af",
   "metadata": {},
   "outputs": [],
   "source": [
    "df_vel.tail(10)\n"
   ]
  },
  {
   "cell_type": "code",
   "execution_count": null,
   "id": "ec39f1af",
   "metadata": {},
   "outputs": [],
   "source": [
    "firstColName = t_sorted.columns[0]\n",
    "#t_sorted = t_sorted.drop(columns = firstColName)\n",
    "t_sorted.tail(10)\n"
   ]
  },
  {
   "cell_type": "code",
   "execution_count": null,
   "id": "a6c6f39b",
   "metadata": {},
   "outputs": [],
   "source": [
    "len(t_sorted)"
   ]
  },
  {
   "cell_type": "code",
   "execution_count": null,
   "id": "58650117",
   "metadata": {},
   "outputs": [],
   "source": [
    "len(df_vel)"
   ]
  },
  {
   "cell_type": "code",
   "execution_count": null,
   "id": "19feef6a",
   "metadata": {},
   "outputs": [],
   "source": [
    "t_sorted_temp = t_sorted[['frame', 'particle', 'x']].apply(tuple, axis=1)\n",
    "df_vel_temp = df_vel[['frame', 'particle', 'x']].apply(tuple, axis=1)"
   ]
  },
  {
   "cell_type": "code",
   "execution_count": null,
   "id": "51dda008",
   "metadata": {},
   "outputs": [],
   "source": [
    "extra_rows = t_sorted[~t_sorted_temp.isin(df_vel_temp)]"
   ]
  },
  {
   "cell_type": "code",
   "execution_count": null,
   "id": "99cd3211",
   "metadata": {},
   "outputs": [],
   "source": [
    "extra_rows = extra_rows.sort_values(by = ['particle', 'frame'])\n",
    "extra_rows.head(20)"
   ]
  },
  {
   "cell_type": "code",
   "execution_count": null,
   "id": "2b8ce756",
   "metadata": {},
   "outputs": [],
   "source": [
    "len(extra_rows)"
   ]
  },
  {
   "cell_type": "code",
   "execution_count": null,
   "id": "d5c9ff51",
   "metadata": {},
   "outputs": [],
   "source": [
    "get_suku = t_large[(t_large['particle'] == 124) & (t_large['frame'] == 242)]\n",
    "get_suku.head()"
   ]
  },
  {
   "cell_type": "code",
   "execution_count": null,
   "id": "0b96ec30",
   "metadata": {},
   "outputs": [],
   "source": [
    "get_suku_prev = t_large[(t_large['particle'] == 124) & (t_large['frame'] == (242 - step))]\n",
    "get_suku_prev.head()"
   ]
  },
  {
   "cell_type": "code",
   "execution_count": null,
   "id": "b7e6d7d0",
   "metadata": {},
   "outputs": [],
   "source": [
    "valid_particles = np.unique(t_large[['particle', 'frame']].values - np.array([0, step]), axis=0)"
   ]
  },
  {
   "cell_type": "code",
   "execution_count": null,
   "id": "28c9c8c0",
   "metadata": {},
   "outputs": [],
   "source": [
    "len(valid_particles)"
   ]
  },
  {
   "cell_type": "code",
   "execution_count": null,
   "id": "5d214ddf",
   "metadata": {},
   "outputs": [],
   "source": [
    "particle_time = t_sorted[['particle', 'frame']].values"
   ]
  },
  {
   "cell_type": "code",
   "execution_count": null,
   "id": "05c597d3",
   "metadata": {},
   "outputs": [],
   "source": [
    "len(particle_time)"
   ]
  },
  {
   "cell_type": "code",
   "execution_count": null,
   "id": "b6257905",
   "metadata": {},
   "outputs": [],
   "source": [
    "mask = np.isin(particle_time, valid_particles).all(axis=1)"
   ]
  },
  {
   "cell_type": "code",
   "execution_count": null,
   "id": "7f2a16e1",
   "metadata": {},
   "outputs": [],
   "source": [
    "len(mask)"
   ]
  },
  {
   "cell_type": "code",
   "execution_count": null,
   "id": "83fd83ea",
   "metadata": {},
   "outputs": [],
   "source": [
    "t_ultimate = t_sorted[mask]"
   ]
  },
  {
   "cell_type": "code",
   "execution_count": null,
   "id": "0742b77c",
   "metadata": {},
   "outputs": [],
   "source": [
    "len(t_ultimate)"
   ]
  },
  {
   "cell_type": "code",
   "execution_count": null,
   "id": "c02eca55",
   "metadata": {},
   "outputs": [],
   "source": [
    "get_suku = t_ultimate[(t_ultimate['particle'] == 171) & (t_ultimate['frame'] == 242)]\n",
    "get_suku.head()"
   ]
  },
  {
   "cell_type": "code",
   "execution_count": null,
   "id": "42809490",
   "metadata": {},
   "outputs": [],
   "source": [
    "get_suku_prev = t_large[(t_large['particle'] == 124) & (t_large['frame'] == (216))]\n",
    "get_suku_prev.head()"
   ]
  },
  {
   "cell_type": "code",
   "execution_count": null,
   "id": "b1525cde",
   "metadata": {},
   "outputs": [],
   "source": [
    "ind_particle = t_sorted[(t_sorted['particle'] == 124)]\n",
    "ind_particle.head(10)"
   ]
  },
  {
   "cell_type": "code",
   "execution_count": null,
   "id": "67dc8998",
   "metadata": {},
   "outputs": [],
   "source": [
    "np.max(ind_particle['frame'])"
   ]
  },
  {
   "cell_type": "code",
   "execution_count": null,
   "id": "a5fbc2ed",
   "metadata": {},
   "outputs": [],
   "source": [
    "ind_particle.tail(10)"
   ]
  },
  {
   "cell_type": "code",
   "execution_count": null,
   "id": "a46c75d9",
   "metadata": {},
   "outputs": [],
   "source": [
    "indiv_frames = np.array(ind_particle['frame'])\n",
    "indiv_frames"
   ]
  },
  {
   "cell_type": "code",
   "execution_count": null,
   "id": "505e0c7e",
   "metadata": {},
   "outputs": [],
   "source": [
    "len(indiv_frames)"
   ]
  },
  {
   "cell_type": "code",
   "execution_count": null,
   "id": "06ae26e3",
   "metadata": {},
   "outputs": [],
   "source": []
  }
 ],
 "metadata": {
  "kernelspec": {
   "display_name": "Python 3 (ipykernel)",
   "language": "python",
   "name": "python3"
  },
  "language_info": {
   "codemirror_mode": {
    "name": "ipython",
    "version": 3
   },
   "file_extension": ".py",
   "mimetype": "text/x-python",
   "name": "python",
   "nbconvert_exporter": "python",
   "pygments_lexer": "ipython3",
   "version": "3.10.9"
  }
 },
 "nbformat": 4,
 "nbformat_minor": 5
}
