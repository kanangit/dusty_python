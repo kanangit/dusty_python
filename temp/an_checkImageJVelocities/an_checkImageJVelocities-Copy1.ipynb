{
 "cells": [
  {
   "cell_type": "markdown",
   "id": "b668e2d4",
   "metadata": {},
   "source": []
  },
  {
   "cell_type": "code",
   "execution_count": 1,
   "id": "04ec9379",
   "metadata": {},
   "outputs": [],
   "source": [
    "import numpy as np\n",
    "import matplotlib.pyplot as plt\n",
    "import trackpy as tp"
   ]
  },
  {
   "cell_type": "code",
   "execution_count": 2,
   "id": "4d2c81dd",
   "metadata": {},
   "outputs": [],
   "source": [
    "folderPath = r'g:\\My Drive\\workAppState\\prj_shocks\\expData\\data20230530velDistribTest_ImageJ_Connor'"
   ]
  },
  {
   "cell_type": "code",
   "execution_count": null,
   "id": "c71eb8a0",
   "metadata": {},
   "outputs": [],
   "source": [
    "inputsPath = folderPath + r'\\inputs'\n",
    "incsvfilename = r'\\360v_1mA_9sccm_91mtorr.csv'"
   ]
  },
  {
   "cell_type": "code",
   "execution_count": null,
   "id": "3b5d806e",
   "metadata": {},
   "outputs": [],
   "source": [
    "colnames=['x','y','frame']\n",
    "t_csv = pd.read_csv(folderPath + inputsPath + incsvfilename, usecols=[3,4,8],names=colnames, skiprows=1)\n",
    "t_large = tp.link(t_csv,3,memory=1) #!!!INPUT"
   ]
  }
 ],
 "metadata": {
  "kernelspec": {
   "display_name": "Python 3 (ipykernel)",
   "language": "python",
   "name": "python3"
  },
  "language_info": {
   "codemirror_mode": {
    "name": "ipython",
    "version": 3
   },
   "file_extension": ".py",
   "mimetype": "text/x-python",
   "name": "python",
   "nbconvert_exporter": "python",
   "pygments_lexer": "ipython3",
   "version": "3.10.9"
  }
 },
 "nbformat": 4,
 "nbformat_minor": 5
}
