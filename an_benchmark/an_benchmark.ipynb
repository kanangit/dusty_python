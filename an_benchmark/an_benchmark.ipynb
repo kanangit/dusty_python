{
 "cells": [
  {
   "cell_type": "markdown",
   "id": "094dd6c2-9921-404e-a4b6-6fe99030dadb",
   "metadata": {},
   "source": [
    "# Benchmarking the code for analysis with artificial data"
   ]
  },
  {
   "cell_type": "markdown",
   "id": "11ff4402-a8a6-4e6d-8e2f-27cf07609278",
   "metadata": {},
   "source": [
    "2025-03-26, by Kananovich:"
   ]
  },
  {
   "cell_type": "code",
   "execution_count": null,
   "id": "9125625c-904a-463e-b25a-13b24f9859f4",
   "metadata": {},
   "outputs": [],
   "source": []
  }
 ],
 "metadata": {
  "kernelspec": {
   "display_name": "Python 3 (ipykernel)",
   "language": "python",
   "name": "python3"
  },
  "language_info": {
   "codemirror_mode": {
    "name": "ipython",
    "version": 3
   },
   "file_extension": ".py",
   "mimetype": "text/x-python",
   "name": "python",
   "nbconvert_exporter": "python",
   "pygments_lexer": "ipython3",
   "version": "3.12.7"
  }
 },
 "nbformat": 4,
 "nbformat_minor": 5
}
