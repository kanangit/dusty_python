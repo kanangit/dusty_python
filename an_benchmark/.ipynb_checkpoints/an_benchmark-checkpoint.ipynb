{
 "cells": [
  {
   "cell_type": "markdown",
   "id": "094dd6c2-9921-404e-a4b6-6fe99030dadb",
   "metadata": {},
   "source": [
    "# Benchmarking the code for analysis with artificial data"
   ]
  },
  {
   "cell_type": "markdown",
   "id": "11ff4402-a8a6-4e6d-8e2f-27cf07609278",
   "metadata": {},
   "source": [
    "2025-03-26, by Kananovich:"
   ]
  },
  {
   "cell_type": "code",
   "execution_count": 9,
   "id": "48b497a8-bad5-4a7a-ac08-f6f81e4824c3",
   "metadata": {},
   "outputs": [],
   "source": [
    "import numpy as np\n",
    "import scipy.stats as sts\n",
    "from scipy import constants as cnst"
   ]
  },
  {
   "cell_type": "markdown",
   "id": "d45df2c5-72d6-4272-97b8-75688a53ebf2",
   "metadata": {},
   "source": [
    "general parameters:"
   ]
  },
  {
   "cell_type": "code",
   "execution_count": 10,
   "id": "d2867fc4-8762-45c0-9990-86dea98f81b3",
   "metadata": {},
   "outputs": [],
   "source": [
    "nP = 1000 #number of particles\n",
    "rho = 1510.0\n",
    "dust_diam = 7.14E-6\n",
    "resol = 30.0 #camera resolution in px/mm\n",
    "resol_SI = resol * 1000.0 # camera resolution in px/meters\n",
    "dust_mass = 4.0 / 3.0 * np.pi * (dust_diam / 2.0)**3 * rho #mass of the dust particles\n",
    "kin_Tx = 10000.0 #kinetic temperature (in Kelvins) along the x axis\n",
    "drift_x = 0\n",
    "left_x_bord = 0\n",
    "right_x_bord = 1752 # right border of the field of view in pixels\n",
    "left_x_bord_SI = left_x_bord * 10**-6\n",
    "right_x_bord_SI = right_x_bord * 10**-6 #coordinated of the right border\n",
    "    #of the filed of view in meters\n"
   ]
  },
  {
   "cell_type": "markdown",
   "id": "43908d1c-51ce-4f42-b839-6e529c295ec8",
   "metadata": {},
   "source": [
    "## Step 1. Creating an array of artificial velocities"
   ]
  },
  {
   "cell_type": "code",
   "execution_count": 11,
   "id": "05f47bb2-55ca-4447-9097-626488869ee1",
   "metadata": {},
   "outputs": [],
   "source": [
    "arr_ind = np.arange(0,nP,1,dtype = 'int') # array of particles ID numbers"
   ]
  },
  {
   "cell_type": "code",
   "execution_count": 12,
   "id": "4cf003a9-2080-4f8f-8522-c9d0fb314c53",
   "metadata": {},
   "outputs": [],
   "source": [
    "sigma_x = np.sqrt(cnst.k * kin_Tx / dust_mass)"
   ]
  },
  {
   "cell_type": "code",
   "execution_count": 13,
   "id": "4b9f2d1c-a26b-4bbc-a856-11641e4d9564",
   "metadata": {},
   "outputs": [
    {
     "data": {
      "text/plain": [
       "0.0006926383579377664"
      ]
     },
     "execution_count": 13,
     "metadata": {},
     "output_type": "execute_result"
    }
   ],
   "source": [
    "sigma_x"
   ]
  },
  {
   "cell_type": "code",
   "execution_count": 14,
   "id": "396004af-6823-48ea-900b-86de750399e0",
   "metadata": {},
   "outputs": [],
   "source": [
    "art_vx_rv = sts.norm(drift_x,sigma_x)\n",
    "arr_sample_vx = art_vx_rv.rvs(nP)"
   ]
  },
  {
   "cell_type": "markdown",
   "id": "9053c464-7f45-4b49-a895-faa57382e64c",
   "metadata": {},
   "source": [
    "## Step 2. Creating an array of artificial coordinates"
   ]
  },
  {
   "cell_type": "code",
   "execution_count": 15,
   "id": "82abe852-8cf3-4d43-9d92-66ff022c70b4",
   "metadata": {},
   "outputs": [],
   "source": [
    "art_x_prev_rv = sts.uniform(left_x_bord_SI, right_x_bord_SI - left_x_bord_SI)\n",
    "arr_sample_prev_x = art_x_prev_rv.rvs(nP)\n"
   ]
  },
  {
   "cell_type": "code",
   "execution_count": 17,
   "id": "8b43dc83-c90b-4bc0-aa7f-dc68150660f4",
   "metadata": {},
   "outputs": [],
   "source": [
    "arr_prev_x_inResolChunks = arr_sample_prev_x * resol_SI"
   ]
  },
  {
   "cell_type": "code",
   "execution_count": 19,
   "id": "c413b3d6-3d6d-4d26-9c60-14ce367d3e02",
   "metadata": {},
   "outputs": [],
   "source": [
    "arr_prev_x_inResolChunks_int = arr_prev_x_inResolChunks.astype(int)"
   ]
  },
  {
   "cell_type": "code",
   "execution_count": 22,
   "id": "7ff8d821-9eac-44ff-8327-def50e529d39",
   "metadata": {},
   "outputs": [],
   "source": [
    "arr_rough_prev_x = arr_prev_x_inResolChunks_int.astype(float) / resol_SI\n"
   ]
  },
  {
   "cell_type": "code",
   "execution_count": null,
   "id": "11a69a35-87c6-4df0-8342-e029188797a7",
   "metadata": {},
   "outputs": [],
   "source": []
  }
 ],
 "metadata": {
  "kernelspec": {
   "display_name": "Python 3 (ipykernel)",
   "language": "python",
   "name": "python3"
  },
  "language_info": {
   "codemirror_mode": {
    "name": "ipython",
    "version": 3
   },
   "file_extension": ".py",
   "mimetype": "text/x-python",
   "name": "python",
   "nbconvert_exporter": "python",
   "pygments_lexer": "ipython3",
   "version": "3.12.7"
  }
 },
 "nbformat": 4,
 "nbformat_minor": 5
}
